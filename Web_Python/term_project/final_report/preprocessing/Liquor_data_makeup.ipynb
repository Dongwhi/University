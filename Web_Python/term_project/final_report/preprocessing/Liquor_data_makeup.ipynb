{
 "cells": [
  {
   "cell_type": "code",
   "execution_count": 1,
   "id": "0599b8c1",
   "metadata": {},
   "outputs": [],
   "source": [
    "import pandas as pd"
   ]
  },
  {
   "cell_type": "code",
   "execution_count": 2,
   "id": "d8713dce",
   "metadata": {},
   "outputs": [],
   "source": [
    "liq = pd.read_csv(\"//Liqour.csv\")"
   ]
  },
  {
   "cell_type": "code",
   "execution_count": 3,
   "id": "4894f189",
   "metadata": {},
   "outputs": [
    {
     "data": {
      "text/html": [
       "<div>\n",
       "<style scoped>\n",
       "    .dataframe tbody tr th:only-of-type {\n",
       "        vertical-align: middle;\n",
       "    }\n",
       "\n",
       "    .dataframe tbody tr th {\n",
       "        vertical-align: top;\n",
       "    }\n",
       "\n",
       "    .dataframe thead th {\n",
       "        text-align: right;\n",
       "    }\n",
       "</style>\n",
       "<table border=\"1\" class=\"dataframe\">\n",
       "  <thead>\n",
       "    <tr style=\"text-align: right;\">\n",
       "      <th></th>\n",
       "      <th>Name</th>\n",
       "      <th>Ingredients</th>\n",
       "      <th>Making</th>\n",
       "      <th>Link</th>\n",
       "      <th>Base</th>\n",
       "    </tr>\n",
       "  </thead>\n",
       "  <tbody>\n",
       "    <tr>\n",
       "      <th>0</th>\n",
       "      <td>Left Hand</td>\n",
       "      <td>['1 1/2 ounces bourbon', '3/4 ounce Campari', ...</td>\n",
       "      <td>Add all ingredients into a mixing glass with i...</td>\n",
       "      <td>https://www.liquor.com/left-hand-cocktail-reci...</td>\n",
       "      <td>Bourbon Cocktails</td>\n",
       "    </tr>\n",
       "    <tr>\n",
       "      <th>1</th>\n",
       "      <td>Kentucky Buck</td>\n",
       "      <td>['2 small strawberries, hulled', '3/4 ounce ri...</td>\n",
       "      <td>In a shaker, muddle the strawberries with the ...</td>\n",
       "      <td>https://www.liquor.com/kentucky-buck-cocktail-...</td>\n",
       "      <td>Bourbon Cocktails</td>\n",
       "    </tr>\n",
       "    <tr>\n",
       "      <th>2</th>\n",
       "      <td>Kentucky Maid</td>\n",
       "      <td>['8 mint leaves', '2 thin cucumber slices', '3...</td>\n",
       "      <td>Place the mint leaves in a shaker and top with...</td>\n",
       "      <td>https://www.liquor.com/kentucky-maid-cocktail-...</td>\n",
       "      <td>Bourbon Cocktails</td>\n",
       "    </tr>\n",
       "    <tr>\n",
       "      <th>3</th>\n",
       "      <td>Improved Whiskey Cocktail</td>\n",
       "      <td>['2 ounces bourbon or rye whiskey', '1 barspoo...</td>\n",
       "      <td>Add all ingredients into a mixing glass with i...</td>\n",
       "      <td>https://www.liquor.com/improved-whiskey-cockta...</td>\n",
       "      <td>Bourbon Cocktails</td>\n",
       "    </tr>\n",
       "    <tr>\n",
       "      <th>4</th>\n",
       "      <td>Mint Julep</td>\n",
       "      <td>['8 mint leaves', '1/4 ounce simple syrup', '2...</td>\n",
       "      <td>In a Julep cup or rocks glass, lightly muddle ...</td>\n",
       "      <td>https://www.liquor.com/recipes/mint-julep/</td>\n",
       "      <td>NaN</td>\n",
       "    </tr>\n",
       "  </tbody>\n",
       "</table>\n",
       "</div>"
      ],
      "text/plain": [
       "                        Name  \\\n",
       "0                  Left Hand   \n",
       "1              Kentucky Buck   \n",
       "2              Kentucky Maid   \n",
       "3  Improved Whiskey Cocktail   \n",
       "4                 Mint Julep   \n",
       "\n",
       "                                         Ingredients  \\\n",
       "0  ['1 1/2 ounces bourbon', '3/4 ounce Campari', ...   \n",
       "1  ['2 small strawberries, hulled', '3/4 ounce ri...   \n",
       "2  ['8 mint leaves', '2 thin cucumber slices', '3...   \n",
       "3  ['2 ounces bourbon or rye whiskey', '1 barspoo...   \n",
       "4  ['8 mint leaves', '1/4 ounce simple syrup', '2...   \n",
       "\n",
       "                                              Making  \\\n",
       "0  Add all ingredients into a mixing glass with i...   \n",
       "1  In a shaker, muddle the strawberries with the ...   \n",
       "2  Place the mint leaves in a shaker and top with...   \n",
       "3  Add all ingredients into a mixing glass with i...   \n",
       "4  In a Julep cup or rocks glass, lightly muddle ...   \n",
       "\n",
       "                                                Link               Base  \n",
       "0  https://www.liquor.com/left-hand-cocktail-reci...  Bourbon Cocktails  \n",
       "1  https://www.liquor.com/kentucky-buck-cocktail-...  Bourbon Cocktails  \n",
       "2  https://www.liquor.com/kentucky-maid-cocktail-...  Bourbon Cocktails  \n",
       "3  https://www.liquor.com/improved-whiskey-cockta...  Bourbon Cocktails  \n",
       "4         https://www.liquor.com/recipes/mint-julep/                NaN  "
      ]
     },
     "execution_count": 3,
     "metadata": {},
     "output_type": "execute_result"
    }
   ],
   "source": [
    "liq.head()"
   ]
  },
  {
   "cell_type": "code",
   "execution_count": 4,
   "id": "d04d2590",
   "metadata": {},
   "outputs": [
    {
     "data": {
      "text/html": [
       "<div>\n",
       "<style scoped>\n",
       "    .dataframe tbody tr th:only-of-type {\n",
       "        vertical-align: middle;\n",
       "    }\n",
       "\n",
       "    .dataframe tbody tr th {\n",
       "        vertical-align: top;\n",
       "    }\n",
       "\n",
       "    .dataframe thead th {\n",
       "        text-align: right;\n",
       "    }\n",
       "</style>\n",
       "<table border=\"1\" class=\"dataframe\">\n",
       "  <thead>\n",
       "    <tr style=\"text-align: right;\">\n",
       "      <th></th>\n",
       "      <th>Name</th>\n",
       "      <th>Ingredients</th>\n",
       "      <th>Making</th>\n",
       "      <th>Link</th>\n",
       "      <th>Base</th>\n",
       "    </tr>\n",
       "  </thead>\n",
       "  <tbody>\n",
       "    <tr>\n",
       "      <th>count</th>\n",
       "      <td>849</td>\n",
       "      <td>843</td>\n",
       "      <td>843</td>\n",
       "      <td>843</td>\n",
       "      <td>312</td>\n",
       "    </tr>\n",
       "    <tr>\n",
       "      <th>unique</th>\n",
       "      <td>552</td>\n",
       "      <td>545</td>\n",
       "      <td>540</td>\n",
       "      <td>546</td>\n",
       "      <td>10</td>\n",
       "    </tr>\n",
       "    <tr>\n",
       "      <th>top</th>\n",
       "      <td>Gold Rush</td>\n",
       "      <td>['2 ounces bourbon', '3/4 ounce lemon juice', ...</td>\n",
       "      <td>Add the bourbon, honey syrup, and lemon juice ...</td>\n",
       "      <td>https://www.liquor.com/recipes/gold-rush/</td>\n",
       "      <td>Other Cocktails</td>\n",
       "    </tr>\n",
       "    <tr>\n",
       "      <th>freq</th>\n",
       "      <td>10</td>\n",
       "      <td>10</td>\n",
       "      <td>10</td>\n",
       "      <td>10</td>\n",
       "      <td>41</td>\n",
       "    </tr>\n",
       "  </tbody>\n",
       "</table>\n",
       "</div>"
      ],
      "text/plain": [
       "             Name                                        Ingredients  \\\n",
       "count         849                                                843   \n",
       "unique        552                                                545   \n",
       "top     Gold Rush  ['2 ounces bourbon', '3/4 ounce lemon juice', ...   \n",
       "freq           10                                                 10   \n",
       "\n",
       "                                                   Making  \\\n",
       "count                                                 843   \n",
       "unique                                                540   \n",
       "top     Add the bourbon, honey syrup, and lemon juice ...   \n",
       "freq                                                   10   \n",
       "\n",
       "                                             Link             Base  \n",
       "count                                         843              312  \n",
       "unique                                        546               10  \n",
       "top     https://www.liquor.com/recipes/gold-rush/  Other Cocktails  \n",
       "freq                                           10               41  "
      ]
     },
     "execution_count": 4,
     "metadata": {},
     "output_type": "execute_result"
    }
   ],
   "source": [
    "liq.describe()"
   ]
  },
  {
   "cell_type": "code",
   "execution_count": 320,
   "id": "529c24c6",
   "metadata": {},
   "outputs": [],
   "source": [
    "liqcopy = liq.copy()"
   ]
  },
  {
   "cell_type": "markdown",
   "id": "0fa3b0f5",
   "metadata": {},
   "source": [
    "### 중복 확인 및 제거"
   ]
  },
  {
   "cell_type": "markdown",
   "id": "1163009b",
   "metadata": {},
   "source": [
    "전체 중복 확인"
   ]
  },
  {
   "cell_type": "code",
   "execution_count": 321,
   "id": "6aad42ce",
   "metadata": {},
   "outputs": [
    {
     "data": {
      "text/plain": [
       "304"
      ]
     },
     "execution_count": 321,
     "metadata": {},
     "output_type": "execute_result"
    }
   ],
   "source": [
    "liq_ent_dup = liqcopy.duplicated(subset=None, keep=False)\n",
    "len(liq_ent_dup[liq_ent_dup==True])"
   ]
  },
  {
   "cell_type": "markdown",
   "id": "5e113621",
   "metadata": {},
   "source": [
    "이름+재료만 중복 확인"
   ]
  },
  {
   "cell_type": "code",
   "execution_count": 322,
   "id": "ffacd2d9",
   "metadata": {},
   "outputs": [
    {
     "data": {
      "text/plain": [
       "458"
      ]
     },
     "execution_count": 322,
     "metadata": {},
     "output_type": "execute_result"
    }
   ],
   "source": [
    "liq_2_dup = liqcopy.duplicated([\"Name\", \"Ingredients\"], keep=False)\n",
    "len(liq_2_dup[liq_2_dup==True])"
   ]
  },
  {
   "cell_type": "markdown",
   "id": "ea81028b",
   "metadata": {},
   "source": [
    "이름 정보만 있고 다른 정보는 없는 칵테일 확인, 리스트 형태로 따로 모아놓기."
   ]
  },
  {
   "cell_type": "code",
   "execution_count": 323,
   "id": "50499d42",
   "metadata": {},
   "outputs": [
    {
     "name": "stdout",
     "output_type": "stream",
     "text": [
      "['1. Cinnamon Toast Crunch Shot', '2. Foolproof Fall Cocktail', '3. Apple Pie on the Rocks', '4. Fireball Pumpkin Spice Coffee', '5. Chai Fireball Whiskey Tea', '6. Cinnamon Old Fashioned']\n",
      "[489, 490, 491, 492, 493, 494]\n"
     ]
    }
   ],
   "source": [
    "only_name = []\n",
    "only_name_ind = []\n",
    "for i in range(len(liqcopy)):\n",
    "    if str(liqcopy[\"Link\"][i])=='nan':\n",
    "        only_name.append(liqcopy[\"Name\"][i])\n",
    "        only_name_ind.append(i)\n",
    "print(only_name)\n",
    "print(only_name_ind)"
   ]
  },
  {
   "cell_type": "markdown",
   "id": "2de2f5a7",
   "metadata": {},
   "source": [
    "링크가 같은 칵테일은 같은 칵테일이므로 링크가 같은 칵테일들을 링크별로 딕셔너리 형태로 만들기<br>\n",
    "그리고 링크가 같은 레시피들의 유니크한 링크를 Base 값이 없는 그룹, Base 값이 하나라도 있는 그룹으로 구분하기"
   ]
  },
  {
   "cell_type": "code",
   "execution_count": 324,
   "id": "7483b911",
   "metadata": {},
   "outputs": [
    {
     "data": {
      "text/plain": [
       "465"
      ]
     },
     "execution_count": 324,
     "metadata": {},
     "output_type": "execute_result"
    }
   ],
   "source": [
    "liq_link_dup = liqcopy.duplicated([\"Link\"], keep=False)\n",
    "len(liq_link_dup[liq_link_dup==True])"
   ]
  },
  {
   "cell_type": "markdown",
   "id": "e1f03081",
   "metadata": {},
   "source": [
    "중복 링크를 가진 칵테일의 인덱스 모아주기"
   ]
  },
  {
   "cell_type": "code",
   "execution_count": 325,
   "id": "328ee919",
   "metadata": {},
   "outputs": [],
   "source": [
    "link_dup_ind = []\n",
    "for i in range(len(liqcopy)):\n",
    "    if liq_link_dup[i]==True:\n",
    "        link_dup_ind.append(i)"
   ]
  },
  {
   "cell_type": "markdown",
   "id": "bf4266d0",
   "metadata": {},
   "source": [
    "그중 이름만 있는 칵테일의 인덱스는 빼주기"
   ]
  },
  {
   "cell_type": "code",
   "execution_count": 326,
   "id": "848f67ec",
   "metadata": {},
   "outputs": [],
   "source": [
    "for i in only_name_ind:\n",
    "    if i in link_dup_ind:\n",
    "        link_dup_ind.remove(i)\n",
    "    else:\n",
    "        print(\"something wrong\")"
   ]
  },
  {
   "cell_type": "markdown",
   "id": "2df7c909",
   "metadata": {},
   "source": [
    "중복 링크 칵테일들의 실제 링크들을 모아주기"
   ]
  },
  {
   "cell_type": "code",
   "execution_count": 327,
   "id": "d1f95b89",
   "metadata": {},
   "outputs": [],
   "source": [
    "link_unique = []\n",
    "for i in link_dup_ind:\n",
    "    if liqcopy[\"Link\"][i] not in link_unique:\n",
    "        link_unique.append(liqcopy[\"Link\"][i])"
   ]
  },
  {
   "cell_type": "code",
   "execution_count": 328,
   "id": "9d21dccc",
   "metadata": {},
   "outputs": [
    {
     "data": {
      "text/plain": [
       "162"
      ]
     },
     "execution_count": 328,
     "metadata": {},
     "output_type": "execute_result"
    }
   ],
   "source": [
    "len(link_unique)"
   ]
  },
  {
   "cell_type": "markdown",
   "id": "5d7e44c1",
   "metadata": {},
   "source": [
    "링크가 key이고 Base가 value인 딕셔너리 만들기 "
   ]
  },
  {
   "cell_type": "code",
   "execution_count": 329,
   "id": "ecb39bef",
   "metadata": {},
   "outputs": [],
   "source": [
    "link_base_dict = {}\n",
    "for i in range(len(liqcopy)):\n",
    "    for j in range(len(link_unique)):\n",
    "        if liqcopy[\"Link\"][i]==link_unique[j]:\n",
    "            if str(liqcopy[\"Base\"][i])!='nan':\n",
    "                if link_unique[j] in list(link_base_dict.keys()):\n",
    "                    link_base_dict[link_unique[j]].append(liqcopy[\"Base\"][i])\n",
    "                else:\n",
    "                    link_base_dict[link_unique[j]] = [liqcopy[\"Base\"][i]]\n",
    "            else:\n",
    "                link_base_dict[link_unique[j]] = []"
   ]
  },
  {
   "cell_type": "markdown",
   "id": "07bd9955",
   "metadata": {},
   "source": [
    "딕셔너리의 링크(key)들을 Base(value) 유무에 따라 나눠주기"
   ]
  },
  {
   "cell_type": "code",
   "execution_count": 330,
   "id": "91f6533e",
   "metadata": {},
   "outputs": [],
   "source": [
    "yes_base_dup_links = []\n",
    "no_base_dup_links = []\n",
    "for link in list(link_base_dict.keys()):\n",
    "    if len(link_base_dict[link])!=0:\n",
    "        yes_base_dup_links.append(link)\n",
    "    else:\n",
    "        no_base_dup_links.append(link)"
   ]
  },
  {
   "cell_type": "code",
   "execution_count": 331,
   "id": "a1d72f82",
   "metadata": {},
   "outputs": [
    {
     "data": {
      "text/plain": [
       "40"
      ]
     },
     "execution_count": 331,
     "metadata": {},
     "output_type": "execute_result"
    }
   ],
   "source": [
    "len(yes_base_dup_links)"
   ]
  },
  {
   "cell_type": "code",
   "execution_count": 332,
   "id": "22a27dc6",
   "metadata": {},
   "outputs": [
    {
     "data": {
      "text/plain": [
       "122"
      ]
     },
     "execution_count": 332,
     "metadata": {},
     "output_type": "execute_result"
    }
   ],
   "source": [
    "len(no_base_dup_links)"
   ]
  },
  {
   "cell_type": "code",
   "execution_count": 333,
   "id": "fe0d5e58",
   "metadata": {},
   "outputs": [
    {
     "data": {
      "text/plain": [
       "array(['Bourbon Cocktails', nan, 'Vodka Cocktails', 'Rum Cocktails',\n",
       "       'Scotch Cocktails', 'Rye Whiskey Cocktails',\n",
       "       'Other Whiskey Cocktails', 'Tequila & Mezcal Cocktails',\n",
       "       'Cognac & Other Brandy Cocktails', 'Other Cocktails',\n",
       "       'Gin Cocktails'], dtype=object)"
      ]
     },
     "execution_count": 333,
     "metadata": {},
     "output_type": "execute_result"
    }
   ],
   "source": [
    "liqcopy[\"Base\"].unique()"
   ]
  },
  {
   "cell_type": "markdown",
   "id": "9fa77227",
   "metadata": {},
   "source": [
    "Base가 하나라도 있는 중복 레시피들로부터 각각의 Base를 모은 것을 다시 각 레시피의 Base에 넣어주기"
   ]
  },
  {
   "cell_type": "code",
   "execution_count": 334,
   "id": "3f1ad3d6",
   "metadata": {},
   "outputs": [],
   "source": [
    "for i in range(len(liqcopy)):\n",
    "    for link in yes_base_dup_links:\n",
    "        if liqcopy[\"Link\"][i]==link:\n",
    "            liqcopy[\"Base\"][i] = \", \".join(link_base_dict[link])"
   ]
  },
  {
   "cell_type": "markdown",
   "id": "61526a64",
   "metadata": {},
   "source": [
    "이제 link를 기준으로 중복 레시피를 제거하기 위해 링크 중복 레시피의 인덱스 모아주기"
   ]
  },
  {
   "cell_type": "code",
   "execution_count": 335,
   "id": "80a62d3b",
   "metadata": {},
   "outputs": [],
   "source": [
    "liq_link_dup_first = liqcopy.duplicated(subset=\"Link\", keep=\"first\")"
   ]
  },
  {
   "cell_type": "code",
   "execution_count": 336,
   "id": "2177c426",
   "metadata": {},
   "outputs": [],
   "source": [
    "liq_link_dup_first_ind = []\n",
    "for i in range(len(liqcopy)):\n",
    "    if liq_link_dup_first[i]==True:\n",
    "        liq_link_dup_first_ind.append(i)"
   ]
  },
  {
   "cell_type": "markdown",
   "id": "78682c12",
   "metadata": {},
   "source": [
    "이름만 있는 칵테일의 인덱스는 빼주기"
   ]
  },
  {
   "cell_type": "code",
   "execution_count": 337,
   "id": "91e36644",
   "metadata": {},
   "outputs": [],
   "source": [
    "for i in only_name_ind:\n",
    "    if i in liq_link_dup_first_ind:\n",
    "        liq_link_dup_first_ind.remove(i)\n",
    "    else:\n",
    "        if i==489:\n",
    "            pass\n",
    "        else:\n",
    "            print(\"something wrong\")"
   ]
  },
  {
   "cell_type": "markdown",
   "id": "a70b05a7",
   "metadata": {},
   "source": [
    "링크 중복 제거하기"
   ]
  },
  {
   "cell_type": "code",
   "execution_count": 338,
   "id": "247677fc",
   "metadata": {},
   "outputs": [],
   "source": [
    "liqcopy.drop(liq_link_dup_first_ind, inplace=True)"
   ]
  },
  {
   "cell_type": "code",
   "execution_count": 339,
   "id": "ba1dfc38",
   "metadata": {},
   "outputs": [
    {
     "data": {
      "text/plain": [
       "6"
      ]
     },
     "execution_count": 339,
     "metadata": {},
     "output_type": "execute_result"
    }
   ],
   "source": [
    "# 확인. 6이 출력되야 정상(이름만 있는 칵테일이 6개 이므로)\n",
    "liq_link_dup_after = liqcopy.duplicated([\"Link\"], keep=False)\n",
    "len(liq_link_dup_after[liq_link_dup_after==True])"
   ]
  },
  {
   "cell_type": "markdown",
   "id": "ca29cbef",
   "metadata": {},
   "source": [
    "인덱스 재정렬"
   ]
  },
  {
   "cell_type": "code",
   "execution_count": 340,
   "id": "c36398c6",
   "metadata": {},
   "outputs": [
    {
     "data": {
      "text/html": [
       "<div>\n",
       "<style scoped>\n",
       "    .dataframe tbody tr th:only-of-type {\n",
       "        vertical-align: middle;\n",
       "    }\n",
       "\n",
       "    .dataframe tbody tr th {\n",
       "        vertical-align: top;\n",
       "    }\n",
       "\n",
       "    .dataframe thead th {\n",
       "        text-align: right;\n",
       "    }\n",
       "</style>\n",
       "<table border=\"1\" class=\"dataframe\">\n",
       "  <thead>\n",
       "    <tr style=\"text-align: right;\">\n",
       "      <th></th>\n",
       "      <th>Name</th>\n",
       "      <th>Ingredients</th>\n",
       "      <th>Making</th>\n",
       "      <th>Link</th>\n",
       "      <th>Base</th>\n",
       "    </tr>\n",
       "  </thead>\n",
       "  <tbody>\n",
       "    <tr>\n",
       "      <th>0</th>\n",
       "      <td>Left Hand</td>\n",
       "      <td>['1 1/2 ounces bourbon', '3/4 ounce Campari', ...</td>\n",
       "      <td>Add all ingredients into a mixing glass with i...</td>\n",
       "      <td>https://www.liquor.com/left-hand-cocktail-reci...</td>\n",
       "      <td>Bourbon Cocktails</td>\n",
       "    </tr>\n",
       "    <tr>\n",
       "      <th>1</th>\n",
       "      <td>Kentucky Buck</td>\n",
       "      <td>['2 small strawberries, hulled', '3/4 ounce ri...</td>\n",
       "      <td>In a shaker, muddle the strawberries with the ...</td>\n",
       "      <td>https://www.liquor.com/kentucky-buck-cocktail-...</td>\n",
       "      <td>Bourbon Cocktails</td>\n",
       "    </tr>\n",
       "    <tr>\n",
       "      <th>2</th>\n",
       "      <td>Kentucky Maid</td>\n",
       "      <td>['8 mint leaves', '2 thin cucumber slices', '3...</td>\n",
       "      <td>Place the mint leaves in a shaker and top with...</td>\n",
       "      <td>https://www.liquor.com/kentucky-maid-cocktail-...</td>\n",
       "      <td>Bourbon Cocktails</td>\n",
       "    </tr>\n",
       "    <tr>\n",
       "      <th>3</th>\n",
       "      <td>Improved Whiskey Cocktail</td>\n",
       "      <td>['2 ounces bourbon or rye whiskey', '1 barspoo...</td>\n",
       "      <td>Add all ingredients into a mixing glass with i...</td>\n",
       "      <td>https://www.liquor.com/improved-whiskey-cockta...</td>\n",
       "      <td>Bourbon Cocktails, Rye Whiskey Cocktails</td>\n",
       "    </tr>\n",
       "    <tr>\n",
       "      <th>4</th>\n",
       "      <td>Mint Julep</td>\n",
       "      <td>['8 mint leaves', '1/4 ounce simple syrup', '2...</td>\n",
       "      <td>In a Julep cup or rocks glass, lightly muddle ...</td>\n",
       "      <td>https://www.liquor.com/recipes/mint-julep/</td>\n",
       "      <td>NaN</td>\n",
       "    </tr>\n",
       "    <tr>\n",
       "      <th>...</th>\n",
       "      <td>...</td>\n",
       "      <td>...</td>\n",
       "      <td>...</td>\n",
       "      <td>...</td>\n",
       "      <td>...</td>\n",
       "    </tr>\n",
       "    <tr>\n",
       "      <th>547</th>\n",
       "      <td>Corpse Reviver No. 2</td>\n",
       "      <td>['Absinthe', '3/4 ounce gin', '3/4 ounce Lille...</td>\n",
       "      <td>Rinse the inside of a chilled coupe or cocktai...</td>\n",
       "      <td>https://www.liquor.com/recipes/corpse-reviver-...</td>\n",
       "      <td>NaN</td>\n",
       "    </tr>\n",
       "    <tr>\n",
       "      <th>548</th>\n",
       "      <td>Aviation</td>\n",
       "      <td>['2 ounces gin', '1/2 ounce maraschino liqueur...</td>\n",
       "      <td>Add the gin, maraschino liqueur, creme de viol...</td>\n",
       "      <td>https://www.liquor.com/recipes/aviation/</td>\n",
       "      <td>NaN</td>\n",
       "    </tr>\n",
       "    <tr>\n",
       "      <th>549</th>\n",
       "      <td>Tom Collins</td>\n",
       "      <td>['2 ounces gin', '1 ounce lemon juice', '1/2 o...</td>\n",
       "      <td>Add the gin, lemon juice and simple syrup to a...</td>\n",
       "      <td>https://www.liquor.com/recipes/tom-collins-2/</td>\n",
       "      <td>NaN</td>\n",
       "    </tr>\n",
       "    <tr>\n",
       "      <th>550</th>\n",
       "      <td>Clover Club</td>\n",
       "      <td>['2 ounces gin', '1/2 ounce lemon juice', '1/2...</td>\n",
       "      <td>Add the gin, lemon juice, raspberry syrup and ...</td>\n",
       "      <td>https://www.liquor.com/recipes/clover-club/</td>\n",
       "      <td>NaN</td>\n",
       "    </tr>\n",
       "    <tr>\n",
       "      <th>551</th>\n",
       "      <td>Last Word</td>\n",
       "      <td>['3/4 ounce gin', '3/4 ounce green Chartreuse'...</td>\n",
       "      <td>Add the gin, green Chartreuse, maraschino liqu...</td>\n",
       "      <td>https://www.liquor.com/recipes/the-last-word/</td>\n",
       "      <td>NaN</td>\n",
       "    </tr>\n",
       "  </tbody>\n",
       "</table>\n",
       "<p>552 rows × 5 columns</p>\n",
       "</div>"
      ],
      "text/plain": [
       "                          Name  \\\n",
       "0                    Left Hand   \n",
       "1                Kentucky Buck   \n",
       "2                Kentucky Maid   \n",
       "3    Improved Whiskey Cocktail   \n",
       "4                   Mint Julep   \n",
       "..                         ...   \n",
       "547       Corpse Reviver No. 2   \n",
       "548                   Aviation   \n",
       "549                Tom Collins   \n",
       "550                Clover Club   \n",
       "551                  Last Word   \n",
       "\n",
       "                                           Ingredients  \\\n",
       "0    ['1 1/2 ounces bourbon', '3/4 ounce Campari', ...   \n",
       "1    ['2 small strawberries, hulled', '3/4 ounce ri...   \n",
       "2    ['8 mint leaves', '2 thin cucumber slices', '3...   \n",
       "3    ['2 ounces bourbon or rye whiskey', '1 barspoo...   \n",
       "4    ['8 mint leaves', '1/4 ounce simple syrup', '2...   \n",
       "..                                                 ...   \n",
       "547  ['Absinthe', '3/4 ounce gin', '3/4 ounce Lille...   \n",
       "548  ['2 ounces gin', '1/2 ounce maraschino liqueur...   \n",
       "549  ['2 ounces gin', '1 ounce lemon juice', '1/2 o...   \n",
       "550  ['2 ounces gin', '1/2 ounce lemon juice', '1/2...   \n",
       "551  ['3/4 ounce gin', '3/4 ounce green Chartreuse'...   \n",
       "\n",
       "                                                Making  \\\n",
       "0    Add all ingredients into a mixing glass with i...   \n",
       "1    In a shaker, muddle the strawberries with the ...   \n",
       "2    Place the mint leaves in a shaker and top with...   \n",
       "3    Add all ingredients into a mixing glass with i...   \n",
       "4    In a Julep cup or rocks glass, lightly muddle ...   \n",
       "..                                                 ...   \n",
       "547  Rinse the inside of a chilled coupe or cocktai...   \n",
       "548  Add the gin, maraschino liqueur, creme de viol...   \n",
       "549  Add the gin, lemon juice and simple syrup to a...   \n",
       "550  Add the gin, lemon juice, raspberry syrup and ...   \n",
       "551  Add the gin, green Chartreuse, maraschino liqu...   \n",
       "\n",
       "                                                  Link  \\\n",
       "0    https://www.liquor.com/left-hand-cocktail-reci...   \n",
       "1    https://www.liquor.com/kentucky-buck-cocktail-...   \n",
       "2    https://www.liquor.com/kentucky-maid-cocktail-...   \n",
       "3    https://www.liquor.com/improved-whiskey-cockta...   \n",
       "4           https://www.liquor.com/recipes/mint-julep/   \n",
       "..                                                 ...   \n",
       "547  https://www.liquor.com/recipes/corpse-reviver-...   \n",
       "548           https://www.liquor.com/recipes/aviation/   \n",
       "549      https://www.liquor.com/recipes/tom-collins-2/   \n",
       "550        https://www.liquor.com/recipes/clover-club/   \n",
       "551      https://www.liquor.com/recipes/the-last-word/   \n",
       "\n",
       "                                         Base  \n",
       "0                           Bourbon Cocktails  \n",
       "1                           Bourbon Cocktails  \n",
       "2                           Bourbon Cocktails  \n",
       "3    Bourbon Cocktails, Rye Whiskey Cocktails  \n",
       "4                                         NaN  \n",
       "..                                        ...  \n",
       "547                                       NaN  \n",
       "548                                       NaN  \n",
       "549                                       NaN  \n",
       "550                                       NaN  \n",
       "551                                       NaN  \n",
       "\n",
       "[552 rows x 5 columns]"
      ]
     },
     "execution_count": 340,
     "metadata": {},
     "output_type": "execute_result"
    }
   ],
   "source": [
    "liqcopy.reset_index(drop=True, inplace=True)\n",
    "liqcopy"
   ]
  },
  {
   "cell_type": "markdown",
   "id": "b52a5737",
   "metadata": {},
   "source": [
    "다시 중복 확인 및 제거<br>\n",
    "이름+재료 중복 확인"
   ]
  },
  {
   "cell_type": "code",
   "execution_count": 341,
   "id": "6dc49f5b",
   "metadata": {},
   "outputs": [
    {
     "data": {
      "text/plain": [
       "2"
      ]
     },
     "execution_count": 341,
     "metadata": {},
     "output_type": "execute_result"
    }
   ],
   "source": [
    "liq_2_dup_after = liqcopy.duplicated([\"Name\", \"Ingredients\"], keep=False)\n",
    "len(liq_2_dup_after[liq_2_dup_after==True])"
   ]
  },
  {
   "cell_type": "markdown",
   "id": "da847846",
   "metadata": {},
   "source": [
    "이름만 중복 확인"
   ]
  },
  {
   "cell_type": "code",
   "execution_count": 342,
   "id": "41361504",
   "metadata": {},
   "outputs": [
    {
     "data": {
      "text/plain": [
       "2"
      ]
     },
     "execution_count": 342,
     "metadata": {},
     "output_type": "execute_result"
    }
   ],
   "source": [
    "liq_name_dup = liqcopy.duplicated([\"Name\"], keep=False)\n",
    "len(liq_name_dup[liq_name_dup==True])"
   ]
  },
  {
   "cell_type": "markdown",
   "id": "4d1294f6",
   "metadata": {},
   "source": [
    "해당 칵테일 링크 출력하기"
   ]
  },
  {
   "cell_type": "code",
   "execution_count": 343,
   "id": "07fed00d",
   "metadata": {},
   "outputs": [
    {
     "name": "stdout",
     "output_type": "stream",
     "text": [
      "166\n",
      "https://www.liquor.com/angostura-colada-cocktail-recipe-6361371\n",
      "186\n",
      "https://www.liquor.com/angostura-colada-cocktail-recipe-6361371?state=PREVIEW&et=1659125655486&kw=fakeAds\n"
     ]
    }
   ],
   "source": [
    "for i in range(len(liqcopy)):\n",
    "    if liq_name_dup[i]==True:\n",
    "        print(i)\n",
    "        print(liqcopy[\"Link\"][i])"
   ]
  },
  {
   "cell_type": "markdown",
   "id": "4cd4478b",
   "metadata": {},
   "source": [
    "둘은 같은 칵테일이므로 하나를 제거하고 인덱스 재정렬하기"
   ]
  },
  {
   "cell_type": "code",
   "execution_count": 344,
   "id": "7903512e",
   "metadata": {},
   "outputs": [
    {
     "data": {
      "text/html": [
       "<div>\n",
       "<style scoped>\n",
       "    .dataframe tbody tr th:only-of-type {\n",
       "        vertical-align: middle;\n",
       "    }\n",
       "\n",
       "    .dataframe tbody tr th {\n",
       "        vertical-align: top;\n",
       "    }\n",
       "\n",
       "    .dataframe thead th {\n",
       "        text-align: right;\n",
       "    }\n",
       "</style>\n",
       "<table border=\"1\" class=\"dataframe\">\n",
       "  <thead>\n",
       "    <tr style=\"text-align: right;\">\n",
       "      <th></th>\n",
       "      <th>Name</th>\n",
       "      <th>Ingredients</th>\n",
       "      <th>Making</th>\n",
       "      <th>Link</th>\n",
       "      <th>Base</th>\n",
       "    </tr>\n",
       "  </thead>\n",
       "  <tbody>\n",
       "    <tr>\n",
       "      <th>0</th>\n",
       "      <td>Left Hand</td>\n",
       "      <td>['1 1/2 ounces bourbon', '3/4 ounce Campari', ...</td>\n",
       "      <td>Add all ingredients into a mixing glass with i...</td>\n",
       "      <td>https://www.liquor.com/left-hand-cocktail-reci...</td>\n",
       "      <td>Bourbon Cocktails</td>\n",
       "    </tr>\n",
       "    <tr>\n",
       "      <th>1</th>\n",
       "      <td>Kentucky Buck</td>\n",
       "      <td>['2 small strawberries, hulled', '3/4 ounce ri...</td>\n",
       "      <td>In a shaker, muddle the strawberries with the ...</td>\n",
       "      <td>https://www.liquor.com/kentucky-buck-cocktail-...</td>\n",
       "      <td>Bourbon Cocktails</td>\n",
       "    </tr>\n",
       "    <tr>\n",
       "      <th>2</th>\n",
       "      <td>Kentucky Maid</td>\n",
       "      <td>['8 mint leaves', '2 thin cucumber slices', '3...</td>\n",
       "      <td>Place the mint leaves in a shaker and top with...</td>\n",
       "      <td>https://www.liquor.com/kentucky-maid-cocktail-...</td>\n",
       "      <td>Bourbon Cocktails</td>\n",
       "    </tr>\n",
       "    <tr>\n",
       "      <th>3</th>\n",
       "      <td>Improved Whiskey Cocktail</td>\n",
       "      <td>['2 ounces bourbon or rye whiskey', '1 barspoo...</td>\n",
       "      <td>Add all ingredients into a mixing glass with i...</td>\n",
       "      <td>https://www.liquor.com/improved-whiskey-cockta...</td>\n",
       "      <td>Bourbon Cocktails, Rye Whiskey Cocktails</td>\n",
       "    </tr>\n",
       "    <tr>\n",
       "      <th>4</th>\n",
       "      <td>Mint Julep</td>\n",
       "      <td>['8 mint leaves', '1/4 ounce simple syrup', '2...</td>\n",
       "      <td>In a Julep cup or rocks glass, lightly muddle ...</td>\n",
       "      <td>https://www.liquor.com/recipes/mint-julep/</td>\n",
       "      <td>NaN</td>\n",
       "    </tr>\n",
       "    <tr>\n",
       "      <th>...</th>\n",
       "      <td>...</td>\n",
       "      <td>...</td>\n",
       "      <td>...</td>\n",
       "      <td>...</td>\n",
       "      <td>...</td>\n",
       "    </tr>\n",
       "    <tr>\n",
       "      <th>546</th>\n",
       "      <td>Corpse Reviver No. 2</td>\n",
       "      <td>['Absinthe', '3/4 ounce gin', '3/4 ounce Lille...</td>\n",
       "      <td>Rinse the inside of a chilled coupe or cocktai...</td>\n",
       "      <td>https://www.liquor.com/recipes/corpse-reviver-...</td>\n",
       "      <td>NaN</td>\n",
       "    </tr>\n",
       "    <tr>\n",
       "      <th>547</th>\n",
       "      <td>Aviation</td>\n",
       "      <td>['2 ounces gin', '1/2 ounce maraschino liqueur...</td>\n",
       "      <td>Add the gin, maraschino liqueur, creme de viol...</td>\n",
       "      <td>https://www.liquor.com/recipes/aviation/</td>\n",
       "      <td>NaN</td>\n",
       "    </tr>\n",
       "    <tr>\n",
       "      <th>548</th>\n",
       "      <td>Tom Collins</td>\n",
       "      <td>['2 ounces gin', '1 ounce lemon juice', '1/2 o...</td>\n",
       "      <td>Add the gin, lemon juice and simple syrup to a...</td>\n",
       "      <td>https://www.liquor.com/recipes/tom-collins-2/</td>\n",
       "      <td>NaN</td>\n",
       "    </tr>\n",
       "    <tr>\n",
       "      <th>549</th>\n",
       "      <td>Clover Club</td>\n",
       "      <td>['2 ounces gin', '1/2 ounce lemon juice', '1/2...</td>\n",
       "      <td>Add the gin, lemon juice, raspberry syrup and ...</td>\n",
       "      <td>https://www.liquor.com/recipes/clover-club/</td>\n",
       "      <td>NaN</td>\n",
       "    </tr>\n",
       "    <tr>\n",
       "      <th>550</th>\n",
       "      <td>Last Word</td>\n",
       "      <td>['3/4 ounce gin', '3/4 ounce green Chartreuse'...</td>\n",
       "      <td>Add the gin, green Chartreuse, maraschino liqu...</td>\n",
       "      <td>https://www.liquor.com/recipes/the-last-word/</td>\n",
       "      <td>NaN</td>\n",
       "    </tr>\n",
       "  </tbody>\n",
       "</table>\n",
       "<p>551 rows × 5 columns</p>\n",
       "</div>"
      ],
      "text/plain": [
       "                          Name  \\\n",
       "0                    Left Hand   \n",
       "1                Kentucky Buck   \n",
       "2                Kentucky Maid   \n",
       "3    Improved Whiskey Cocktail   \n",
       "4                   Mint Julep   \n",
       "..                         ...   \n",
       "546       Corpse Reviver No. 2   \n",
       "547                   Aviation   \n",
       "548                Tom Collins   \n",
       "549                Clover Club   \n",
       "550                  Last Word   \n",
       "\n",
       "                                           Ingredients  \\\n",
       "0    ['1 1/2 ounces bourbon', '3/4 ounce Campari', ...   \n",
       "1    ['2 small strawberries, hulled', '3/4 ounce ri...   \n",
       "2    ['8 mint leaves', '2 thin cucumber slices', '3...   \n",
       "3    ['2 ounces bourbon or rye whiskey', '1 barspoo...   \n",
       "4    ['8 mint leaves', '1/4 ounce simple syrup', '2...   \n",
       "..                                                 ...   \n",
       "546  ['Absinthe', '3/4 ounce gin', '3/4 ounce Lille...   \n",
       "547  ['2 ounces gin', '1/2 ounce maraschino liqueur...   \n",
       "548  ['2 ounces gin', '1 ounce lemon juice', '1/2 o...   \n",
       "549  ['2 ounces gin', '1/2 ounce lemon juice', '1/2...   \n",
       "550  ['3/4 ounce gin', '3/4 ounce green Chartreuse'...   \n",
       "\n",
       "                                                Making  \\\n",
       "0    Add all ingredients into a mixing glass with i...   \n",
       "1    In a shaker, muddle the strawberries with the ...   \n",
       "2    Place the mint leaves in a shaker and top with...   \n",
       "3    Add all ingredients into a mixing glass with i...   \n",
       "4    In a Julep cup or rocks glass, lightly muddle ...   \n",
       "..                                                 ...   \n",
       "546  Rinse the inside of a chilled coupe or cocktai...   \n",
       "547  Add the gin, maraschino liqueur, creme de viol...   \n",
       "548  Add the gin, lemon juice and simple syrup to a...   \n",
       "549  Add the gin, lemon juice, raspberry syrup and ...   \n",
       "550  Add the gin, green Chartreuse, maraschino liqu...   \n",
       "\n",
       "                                                  Link  \\\n",
       "0    https://www.liquor.com/left-hand-cocktail-reci...   \n",
       "1    https://www.liquor.com/kentucky-buck-cocktail-...   \n",
       "2    https://www.liquor.com/kentucky-maid-cocktail-...   \n",
       "3    https://www.liquor.com/improved-whiskey-cockta...   \n",
       "4           https://www.liquor.com/recipes/mint-julep/   \n",
       "..                                                 ...   \n",
       "546  https://www.liquor.com/recipes/corpse-reviver-...   \n",
       "547           https://www.liquor.com/recipes/aviation/   \n",
       "548      https://www.liquor.com/recipes/tom-collins-2/   \n",
       "549        https://www.liquor.com/recipes/clover-club/   \n",
       "550      https://www.liquor.com/recipes/the-last-word/   \n",
       "\n",
       "                                         Base  \n",
       "0                           Bourbon Cocktails  \n",
       "1                           Bourbon Cocktails  \n",
       "2                           Bourbon Cocktails  \n",
       "3    Bourbon Cocktails, Rye Whiskey Cocktails  \n",
       "4                                         NaN  \n",
       "..                                        ...  \n",
       "546                                       NaN  \n",
       "547                                       NaN  \n",
       "548                                       NaN  \n",
       "549                                       NaN  \n",
       "550                                       NaN  \n",
       "\n",
       "[551 rows x 5 columns]"
      ]
     },
     "execution_count": 344,
     "metadata": {},
     "output_type": "execute_result"
    }
   ],
   "source": [
    "liqcopy.drop(186, inplace=True)\n",
    "liqcopy.reset_index(drop=True, inplace=True)\n",
    "liqcopy"
   ]
  },
  {
   "cell_type": "markdown",
   "id": "86483602",
   "metadata": {},
   "source": [
    "다시 중복 확인 및 제거"
   ]
  },
  {
   "cell_type": "code",
   "execution_count": 345,
   "id": "c24ac8ae",
   "metadata": {},
   "outputs": [
    {
     "data": {
      "text/plain": [
       "0"
      ]
     },
     "execution_count": 345,
     "metadata": {},
     "output_type": "execute_result"
    }
   ],
   "source": [
    "liq_name_dup_after = liqcopy.duplicated([\"Name\"], keep=False)\n",
    "len(liq_name_dup_after[liq_name_dup_after==True])"
   ]
  },
  {
   "cell_type": "markdown",
   "id": "a3eb46b6",
   "metadata": {},
   "source": [
    "따로 모아놓았던 이름만있는 칵테일들에 데이터 손수 넣어주기<br>\n",
    "(이름만 있는 이유: 해당 칵테일들의 레시피 정보는 다른 칵테일들과 페이지 형식이 다른 외부 링크로 넘어가야 있어서 스크래핑하지 않았음.)"
   ]
  },
  {
   "cell_type": "code",
   "execution_count": 346,
   "id": "111ce578",
   "metadata": {},
   "outputs": [
    {
     "name": "stdout",
     "output_type": "stream",
     "text": [
      "321\n",
      "1. Cinnamon Toast Crunch Shot\n",
      "322\n",
      "2. Foolproof Fall Cocktail\n",
      "323\n",
      "3. Apple Pie on the Rocks\n",
      "324\n",
      "4. Fireball Pumpkin Spice Coffee\n",
      "325\n",
      "5. Chai Fireball Whiskey Tea\n",
      "326\n",
      "6. Cinnamon Old Fashioned\n"
     ]
    }
   ],
   "source": [
    "for i in range(len(liqcopy)):\n",
    "    if liqcopy[\"Name\"][i] in only_name:\n",
    "        print(i)\n",
    "        print(liqcopy[\"Name\"][i])"
   ]
  },
  {
   "cell_type": "code",
   "execution_count": 347,
   "id": "aceb4c9c",
   "metadata": {},
   "outputs": [
    {
     "data": {
      "text/html": [
       "<div>\n",
       "<style scoped>\n",
       "    .dataframe tbody tr th:only-of-type {\n",
       "        vertical-align: middle;\n",
       "    }\n",
       "\n",
       "    .dataframe tbody tr th {\n",
       "        vertical-align: top;\n",
       "    }\n",
       "\n",
       "    .dataframe thead th {\n",
       "        text-align: right;\n",
       "    }\n",
       "</style>\n",
       "<table border=\"1\" class=\"dataframe\">\n",
       "  <thead>\n",
       "    <tr style=\"text-align: right;\">\n",
       "      <th></th>\n",
       "      <th>Name</th>\n",
       "      <th>Ingredients</th>\n",
       "      <th>Making</th>\n",
       "      <th>Link</th>\n",
       "      <th>Base</th>\n",
       "    </tr>\n",
       "  </thead>\n",
       "  <tbody>\n",
       "    <tr>\n",
       "      <th>0</th>\n",
       "      <td>Left Hand</td>\n",
       "      <td>['1 1/2 ounces bourbon', '3/4 ounce Campari', ...</td>\n",
       "      <td>Add all ingredients into a mixing glass with i...</td>\n",
       "      <td>https://www.liquor.com/left-hand-cocktail-reci...</td>\n",
       "      <td>Bourbon Cocktails</td>\n",
       "    </tr>\n",
       "    <tr>\n",
       "      <th>1</th>\n",
       "      <td>Kentucky Buck</td>\n",
       "      <td>['2 small strawberries, hulled', '3/4 ounce ri...</td>\n",
       "      <td>In a shaker, muddle the strawberries with the ...</td>\n",
       "      <td>https://www.liquor.com/kentucky-buck-cocktail-...</td>\n",
       "      <td>Bourbon Cocktails</td>\n",
       "    </tr>\n",
       "    <tr>\n",
       "      <th>2</th>\n",
       "      <td>Kentucky Maid</td>\n",
       "      <td>['8 mint leaves', '2 thin cucumber slices', '3...</td>\n",
       "      <td>Place the mint leaves in a shaker and top with...</td>\n",
       "      <td>https://www.liquor.com/kentucky-maid-cocktail-...</td>\n",
       "      <td>Bourbon Cocktails</td>\n",
       "    </tr>\n",
       "    <tr>\n",
       "      <th>3</th>\n",
       "      <td>Improved Whiskey Cocktail</td>\n",
       "      <td>['2 ounces bourbon or rye whiskey', '1 barspoo...</td>\n",
       "      <td>Add all ingredients into a mixing glass with i...</td>\n",
       "      <td>https://www.liquor.com/improved-whiskey-cockta...</td>\n",
       "      <td>Bourbon Cocktails, Rye Whiskey Cocktails</td>\n",
       "    </tr>\n",
       "    <tr>\n",
       "      <th>4</th>\n",
       "      <td>Mint Julep</td>\n",
       "      <td>['8 mint leaves', '1/4 ounce simple syrup', '2...</td>\n",
       "      <td>In a Julep cup or rocks glass, lightly muddle ...</td>\n",
       "      <td>https://www.liquor.com/recipes/mint-julep/</td>\n",
       "      <td>NaN</td>\n",
       "    </tr>\n",
       "    <tr>\n",
       "      <th>...</th>\n",
       "      <td>...</td>\n",
       "      <td>...</td>\n",
       "      <td>...</td>\n",
       "      <td>...</td>\n",
       "      <td>...</td>\n",
       "    </tr>\n",
       "    <tr>\n",
       "      <th>543</th>\n",
       "      <td>Corpse Reviver No. 2</td>\n",
       "      <td>['Absinthe', '3/4 ounce gin', '3/4 ounce Lille...</td>\n",
       "      <td>Rinse the inside of a chilled coupe or cocktai...</td>\n",
       "      <td>https://www.liquor.com/recipes/corpse-reviver-...</td>\n",
       "      <td>NaN</td>\n",
       "    </tr>\n",
       "    <tr>\n",
       "      <th>544</th>\n",
       "      <td>Aviation</td>\n",
       "      <td>['2 ounces gin', '1/2 ounce maraschino liqueur...</td>\n",
       "      <td>Add the gin, maraschino liqueur, creme de viol...</td>\n",
       "      <td>https://www.liquor.com/recipes/aviation/</td>\n",
       "      <td>NaN</td>\n",
       "    </tr>\n",
       "    <tr>\n",
       "      <th>545</th>\n",
       "      <td>Tom Collins</td>\n",
       "      <td>['2 ounces gin', '1 ounce lemon juice', '1/2 o...</td>\n",
       "      <td>Add the gin, lemon juice and simple syrup to a...</td>\n",
       "      <td>https://www.liquor.com/recipes/tom-collins-2/</td>\n",
       "      <td>NaN</td>\n",
       "    </tr>\n",
       "    <tr>\n",
       "      <th>546</th>\n",
       "      <td>Clover Club</td>\n",
       "      <td>['2 ounces gin', '1/2 ounce lemon juice', '1/2...</td>\n",
       "      <td>Add the gin, lemon juice, raspberry syrup and ...</td>\n",
       "      <td>https://www.liquor.com/recipes/clover-club/</td>\n",
       "      <td>NaN</td>\n",
       "    </tr>\n",
       "    <tr>\n",
       "      <th>547</th>\n",
       "      <td>Last Word</td>\n",
       "      <td>['3/4 ounce gin', '3/4 ounce green Chartreuse'...</td>\n",
       "      <td>Add the gin, green Chartreuse, maraschino liqu...</td>\n",
       "      <td>https://www.liquor.com/recipes/the-last-word/</td>\n",
       "      <td>NaN</td>\n",
       "    </tr>\n",
       "  </tbody>\n",
       "</table>\n",
       "<p>548 rows × 5 columns</p>\n",
       "</div>"
      ],
      "text/plain": [
       "                          Name  \\\n",
       "0                    Left Hand   \n",
       "1                Kentucky Buck   \n",
       "2                Kentucky Maid   \n",
       "3    Improved Whiskey Cocktail   \n",
       "4                   Mint Julep   \n",
       "..                         ...   \n",
       "543       Corpse Reviver No. 2   \n",
       "544                   Aviation   \n",
       "545                Tom Collins   \n",
       "546                Clover Club   \n",
       "547                  Last Word   \n",
       "\n",
       "                                           Ingredients  \\\n",
       "0    ['1 1/2 ounces bourbon', '3/4 ounce Campari', ...   \n",
       "1    ['2 small strawberries, hulled', '3/4 ounce ri...   \n",
       "2    ['8 mint leaves', '2 thin cucumber slices', '3...   \n",
       "3    ['2 ounces bourbon or rye whiskey', '1 barspoo...   \n",
       "4    ['8 mint leaves', '1/4 ounce simple syrup', '2...   \n",
       "..                                                 ...   \n",
       "543  ['Absinthe', '3/4 ounce gin', '3/4 ounce Lille...   \n",
       "544  ['2 ounces gin', '1/2 ounce maraschino liqueur...   \n",
       "545  ['2 ounces gin', '1 ounce lemon juice', '1/2 o...   \n",
       "546  ['2 ounces gin', '1/2 ounce lemon juice', '1/2...   \n",
       "547  ['3/4 ounce gin', '3/4 ounce green Chartreuse'...   \n",
       "\n",
       "                                                Making  \\\n",
       "0    Add all ingredients into a mixing glass with i...   \n",
       "1    In a shaker, muddle the strawberries with the ...   \n",
       "2    Place the mint leaves in a shaker and top with...   \n",
       "3    Add all ingredients into a mixing glass with i...   \n",
       "4    In a Julep cup or rocks glass, lightly muddle ...   \n",
       "..                                                 ...   \n",
       "543  Rinse the inside of a chilled coupe or cocktai...   \n",
       "544  Add the gin, maraschino liqueur, creme de viol...   \n",
       "545  Add the gin, lemon juice and simple syrup to a...   \n",
       "546  Add the gin, lemon juice, raspberry syrup and ...   \n",
       "547  Add the gin, green Chartreuse, maraschino liqu...   \n",
       "\n",
       "                                                  Link  \\\n",
       "0    https://www.liquor.com/left-hand-cocktail-reci...   \n",
       "1    https://www.liquor.com/kentucky-buck-cocktail-...   \n",
       "2    https://www.liquor.com/kentucky-maid-cocktail-...   \n",
       "3    https://www.liquor.com/improved-whiskey-cockta...   \n",
       "4           https://www.liquor.com/recipes/mint-julep/   \n",
       "..                                                 ...   \n",
       "543  https://www.liquor.com/recipes/corpse-reviver-...   \n",
       "544           https://www.liquor.com/recipes/aviation/   \n",
       "545      https://www.liquor.com/recipes/tom-collins-2/   \n",
       "546        https://www.liquor.com/recipes/clover-club/   \n",
       "547      https://www.liquor.com/recipes/the-last-word/   \n",
       "\n",
       "                                         Base  \n",
       "0                           Bourbon Cocktails  \n",
       "1                           Bourbon Cocktails  \n",
       "2                           Bourbon Cocktails  \n",
       "3    Bourbon Cocktails, Rye Whiskey Cocktails  \n",
       "4                                         NaN  \n",
       "..                                        ...  \n",
       "543                                       NaN  \n",
       "544                                       NaN  \n",
       "545                                       NaN  \n",
       "546                                       NaN  \n",
       "547                                       NaN  \n",
       "\n",
       "[548 rows x 5 columns]"
      ]
     },
     "execution_count": 347,
     "metadata": {},
     "output_type": "execute_result"
    }
   ],
   "source": [
    "liqcopy[\"Name\"][321] = \"Cinnamon Toast Crunch Shot\"\n",
    "liqcopy[\"Ingredients\"][321] = \"2 oz Rum Chata, 1 oz Fireball, Cinnamon/Sugar to rim glasses (2-1 ratio for cinnamon/sugar)\"\n",
    "liqcopy[\"Making\"][321] = \"Rim 2 shot glasses with cinnamon/sugar. In a cocktail shaker, add ice. Pour in the Rum Chata and Fireball. Shake and strain into glasses. Enjoy! *Please drink responsibly\"\n",
    "liqcopy[\"Link\"][321] = \"https://thecookinchicks.com/cinnamon-toast-crunch-shots/\"\n",
    "liqcopy[\"Base\"][321] = None\n",
    "\n",
    "liqcopy[\"Name\"][323] = \"Apple Pie on the Rocks\"\n",
    "liqcopy[\"Ingredients\"][323] = \"1 oz Vanilla Vodka, 1 oz Fireball Whiskey, 4 oz Organic Apple Juice, Pinch of Ground Cinnamon, Brown Sugar for the rim, Grind a little finer for more successful sugaring, Optional: Cinnamon Stick for Garnish\"\n",
    "liqcopy[\"Making\"][323] = \"Wet the rim of your rocks glass just a little, and gently sugar the rim with the brown sugar. In a martini shaker, pour the vodka, Fireball, apple juice and ground cinnamon together with a handful of ice cubes. Shake 10 times and pour the contents into the glass without wiping off the sugar rim. Serve chilled and with a cinnamon stick, for garnish.\"\n",
    "liqcopy[\"Link\"][323] = \"https://veganyackattack.com/2013/12/03/apple-pie-on-the-rocks/\"\n",
    "liqcopy[\"Base\"][323] = \"Vodka\"\n",
    "\n",
    "liqcopy[\"Name\"][324] = \"Fireball Pumpkin Spice Coffee\"\n",
    "liqcopy[\"Ingredients\"][324] = \"1.5 oz Fireball Cinnamon Whiskey, 1.5 oz Coffee, 4 oz Milk, 4 oz Pumpkin Puree, 1 tsp Pumpkin Pie Spice, 1 tsp Maple Syrup, Whipped Cream\"\n",
    "liqcopy[\"Making\"][324] = \"Place a saucepan over medium heat and pour in the pumpkin puree, pumpkin pie spice, coffee, milk, and maple syrup. Stir until hot. Add whiskey and ladle into mugs. Top with whipped cream. Garnish with caramel sauce and cinnamon sticks.\"\n",
    "liqcopy[\"Link\"][324] = \"https://www.mainespirits.com/recipes/fireball-pumpkin-spice-coffee\"\n",
    "liqcopy[\"Base\"][324] = None\n",
    "\n",
    "# 322, 325, 326은 자세한 레시피 정보가 없었음\n",
    "\n",
    "liqcopy.drop([322, 325, 326], inplace=True)\n",
    "liqcopy.reset_index(drop=True, inplace=True)\n",
    "liqcopy"
   ]
  },
  {
   "cell_type": "code",
   "execution_count": 348,
   "id": "bdd1d7ab",
   "metadata": {},
   "outputs": [
    {
     "data": {
      "text/html": [
       "<div>\n",
       "<style scoped>\n",
       "    .dataframe tbody tr th:only-of-type {\n",
       "        vertical-align: middle;\n",
       "    }\n",
       "\n",
       "    .dataframe tbody tr th {\n",
       "        vertical-align: top;\n",
       "    }\n",
       "\n",
       "    .dataframe thead th {\n",
       "        text-align: right;\n",
       "    }\n",
       "</style>\n",
       "<table border=\"1\" class=\"dataframe\">\n",
       "  <thead>\n",
       "    <tr style=\"text-align: right;\">\n",
       "      <th></th>\n",
       "      <th>Name</th>\n",
       "      <th>Ingredients</th>\n",
       "      <th>Making</th>\n",
       "      <th>Link</th>\n",
       "      <th>Base</th>\n",
       "    </tr>\n",
       "  </thead>\n",
       "  <tbody>\n",
       "    <tr>\n",
       "      <th>count</th>\n",
       "      <td>548</td>\n",
       "      <td>548</td>\n",
       "      <td>548</td>\n",
       "      <td>548</td>\n",
       "      <td>277</td>\n",
       "    </tr>\n",
       "    <tr>\n",
       "      <th>unique</th>\n",
       "      <td>548</td>\n",
       "      <td>548</td>\n",
       "      <td>543</td>\n",
       "      <td>548</td>\n",
       "      <td>19</td>\n",
       "    </tr>\n",
       "    <tr>\n",
       "      <th>top</th>\n",
       "      <td>Left Hand</td>\n",
       "      <td>['1 1/2 ounces bourbon', '3/4 ounce Campari', ...</td>\n",
       "      <td>Add all ingredients into a shaker with ice and...</td>\n",
       "      <td>https://www.liquor.com/left-hand-cocktail-reci...</td>\n",
       "      <td>Other Cocktails</td>\n",
       "    </tr>\n",
       "    <tr>\n",
       "      <th>freq</th>\n",
       "      <td>1</td>\n",
       "      <td>1</td>\n",
       "      <td>5</td>\n",
       "      <td>1</td>\n",
       "      <td>39</td>\n",
       "    </tr>\n",
       "  </tbody>\n",
       "</table>\n",
       "</div>"
      ],
      "text/plain": [
       "             Name                                        Ingredients  \\\n",
       "count         548                                                548   \n",
       "unique        548                                                548   \n",
       "top     Left Hand  ['1 1/2 ounces bourbon', '3/4 ounce Campari', ...   \n",
       "freq            1                                                  1   \n",
       "\n",
       "                                                   Making  \\\n",
       "count                                                 548   \n",
       "unique                                                543   \n",
       "top     Add all ingredients into a shaker with ice and...   \n",
       "freq                                                    5   \n",
       "\n",
       "                                                     Link             Base  \n",
       "count                                                 548              277  \n",
       "unique                                                548               19  \n",
       "top     https://www.liquor.com/left-hand-cocktail-reci...  Other Cocktails  \n",
       "freq                                                    1               39  "
      ]
     },
     "execution_count": 348,
     "metadata": {},
     "output_type": "execute_result"
    }
   ],
   "source": [
    "liqcopy.describe()"
   ]
  },
  {
   "cell_type": "markdown",
   "id": "31a3581d",
   "metadata": {},
   "source": [
    "### Ingredients 형식 맞추기"
   ]
  },
  {
   "cell_type": "markdown",
   "id": "88c2af52",
   "metadata": {},
   "source": [
    "양 끝의 '['와 ']' 떼주기"
   ]
  },
  {
   "cell_type": "code",
   "execution_count": 349,
   "id": "433ff27c",
   "metadata": {},
   "outputs": [],
   "source": [
    "for i in range(len(liqcopy)):\n",
    "    if liqcopy[\"Ingredients\"][i][0]=='[':\n",
    "        ingredients = liqcopy[\"Ingredients\"][i][1:-1]\n",
    "        liqcopy[\"Ingredients\"][i] = ingredients"
   ]
  },
  {
   "cell_type": "code",
   "execution_count": 350,
   "id": "c0ba02a5",
   "metadata": {},
   "outputs": [
    {
     "name": "stdout",
     "output_type": "stream",
     "text": [
      "'2 small strawberries, hulled', '3/4 ounce rich ginger syrup (3 parts sugar to 4 parts ginger juice)', '2 ounces bourbon', '3/4 ounce lemon juice, freshly squeezed', '2 dashes Angostura bitters', 'Club soda, chilled, to top Club soda, chilled, to top (about 2-3 ounces)', 'Garnish: lemon wheel', 'Garnish: strawberry slice'\n"
     ]
    }
   ],
   "source": [
    "# 확인\n",
    "print(liqcopy[\"Ingredients\"][1])"
   ]
  },
  {
   "cell_type": "markdown",
   "id": "8992bad4",
   "metadata": {},
   "source": [
    "단위를 'ounce'혹은 'ounces'에서 'oz'로 바꾸기"
   ]
  },
  {
   "cell_type": "code",
   "execution_count": 351,
   "id": "fadcd59f",
   "metadata": {},
   "outputs": [],
   "source": [
    "for i in range(len(liqcopy)):\n",
    "    ing = liqcopy[\"Ingredients\"][i]\n",
    "    new_ing = ing.replace(\"ounces\", \"oz\").replace(\"ounce\", \"oz\")\n",
    "    liqcopy[\"Ingredients\"][i] = new_ing"
   ]
  },
  {
   "cell_type": "code",
   "execution_count": 352,
   "id": "c7a8ee4e",
   "metadata": {},
   "outputs": [
    {
     "name": "stdout",
     "output_type": "stream",
     "text": [
      "'2 small strawberries, hulled', '3/4 oz rich ginger syrup (3 parts sugar to 4 parts ginger juice)', '2 oz bourbon', '3/4 oz lemon juice, freshly squeezed', '2 dashes Angostura bitters', 'Club soda, chilled, to top Club soda, chilled, to top (about 2-3 oz)', 'Garnish: lemon wheel', 'Garnish: strawberry slice'\n"
     ]
    }
   ],
   "source": [
    "# 확인\n",
    "print(liqcopy[\"Ingredients\"][1])"
   ]
  },
  {
   "cell_type": "markdown",
   "id": "82d2eba9",
   "metadata": {},
   "source": [
    "Ingredients 형식상 여기까지만 형식에 맞추고 Garnish를 추출해야 해서, 다른 속성들 먼저 형식에 맞춰주고, Garnish를 추출한 후, Ingredients도 형식에 맞춰줘야 함"
   ]
  },
  {
   "cell_type": "markdown",
   "id": "beb2ac02",
   "metadata": {},
   "source": [
    "### Making 형식 맞추기"
   ]
  },
  {
   "cell_type": "code",
   "execution_count": 353,
   "id": "10e38afe",
   "metadata": {},
   "outputs": [],
   "source": [
    "for i in range(len(liqcopy)):\n",
    "    making = liqcopy[\"Making\"][i].replace(\"\\n\", \" \")\n",
    "    liqcopy[\"Making\"][i] = making"
   ]
  },
  {
   "cell_type": "markdown",
   "id": "e8850760",
   "metadata": {},
   "source": [
    "### Garnish 추출하기"
   ]
  },
  {
   "cell_type": "code",
   "execution_count": 354,
   "id": "5d23d919",
   "metadata": {},
   "outputs": [
    {
     "name": "stdout",
     "output_type": "stream",
     "text": [
      "16 ['1/2 lime', \"Sparkling water'\"]\n",
      "17 ['1 teaspoon ginger syrup', '1 sprig lavender', \"lavender sprig'\"]\n",
      "20 ['2 dashes bitters', \"orange twist'\"]\n",
      "27 ['1 dash bitters', '1 dash bitters', \"orange twist'\"]\n",
      "29 ['1 splash club soda (optional)', \"cinnamon stick'\"]\n",
      "49 ['1 dash bitters', 'dark chocolate', \"dried black cherries'\"]\n",
      "55 ['1 teaspoon water', \"orange twist'\"]\n",
      "67 [\"nutmeg'\"]\n",
      "69 [\"1 dash Angostura bitters'\"]\n",
      "70 [\"Club soda'\"]\n",
      "72 ['2 teaspoons sugar']\n",
      "75 [\"grapefruit twist'\"]\n",
      "76 ['1 egg white']\n",
      "80 ['1 teaspoon simple syrup', '2 dashes bitters', \"orange twist'\"]\n",
      "83 ['4 star anise pods', '2 lemon peel', \"6 cinnamon sticks'\"]\n",
      "93 ['1 1/2 tablespoons sugar']\n",
      "97 [\"lemon twist'\"]\n",
      "110 [\"sugar'\"]\n",
      "111 ['Club soda', 'thyme sprig', \"orange wheel'\"]\n",
      "118 ['3 pinches fresh mint']\n",
      "123 ['1 teaspoon lemon zest']\n",
      "127 ['1 tablespoon egg white', \"grapefruit twist'\"]\n",
      "129 [\"1 splash heavy cream'\"]\n",
      "138 [\"2 dashes bitters'\"]\n",
      "140 [\"1 pinch star anise powder'\"]\n",
      "141 ['1 barspoon lacto-fermented green tomato brine**']\n",
      "146 [\"Sparkling wine'\"]\n",
      "148 ['Cranberry juice', \"lime wedge'\"]\n",
      "162 [\"3 dashes Angostura bitters'\"]\n",
      "164 [\"1/2 barspoon yuzu kosho'\"]\n",
      "184 [\"1 pinch salt'\"]\n",
      "192 [\"2 dashes grenadine'\"]\n",
      "206 ['1/4 teaspoon matcha powder']\n",
      "209 [\"2 2 lime wheels'\"]\n",
      "214 ['7 drops pandan extract', \"Perrier sparkling water, to top'\"]\n",
      "238 [\"lemon peel oil'\"]\n",
      "247 [\"lemon peel'\"]\n",
      "249 ['2 teaspoons raw sugar', \"2 lemon twists'\"]\n",
      "257 ['2 teaspoons maraschino liqueur (preferably Luxardo)', \"1 teaspoon Cynar'\"]\n",
      "262 ['1/2 teaspoon demerara simple syrup', '1 dash bitters', \"lemon twist'\"]\n",
      "263 ['3 dashes bitters', \"lemon twist'\"]\n",
      "271 ['1 teaspoon maple syrup', '1 dash bitters', \"orange twist'\"]\n",
      "275 [\"orange peel'\"]\n",
      "281 [\"1 dash bitters'\"]\n",
      "284 [\"Ginger ale'\"]\n",
      "288 [\"1 dash Angostura bitters'\"]\n",
      "295 ['1 to 2 dashes grenadine', \"1 dash bitters'\"]\n",
      "299 [\"Lemon-lime soda (such as 7Up or Sprite), to top'\"]\n",
      "300 [\"Heavy cream, lightly whipped'\"]\n",
      "309 ['2 dashes bitters', '2 dashes Regan’s Orange Bitters No. 6', \"orange twist'\"]\n",
      "313 ['2 teaspoons brown sugar', 'brewed coffee', \"whipped cream'\"]\n",
      "316 [\"1 splash cranberry juice'\"]\n",
      "318 ['1 whole egg', \"1 dash The Bitter Truth Jerry Thomas’ Own Decanter bitters'\"]\n",
      "320 [\"2 dashes Bittered Sling Kensington aromatic bitters'\"]\n",
      "328 ['whipped cream', \"popcorn powder'\"]\n",
      "333 [\"2 dashes absinthe'\"]\n",
      "335 [\"lemon peel'\"]\n",
      "337 [\"1 whole egg'\"]\n",
      "339 ['2 dashes bitters', \"orange twist'\"]\n",
      "342 [\"Guinness beer'\"]\n",
      "345 [\"2 dashes bitters'\"]\n",
      "359 [\"Club soda'\"]\n",
      "360 [\"salt'\"]\n",
      "369 ['1 egg white', \"orange twist'\"]\n",
      "370 ['1 teaspoon black pepper', '1 teaspoon salt', \"12 oysters'\"]\n",
      "376 ['2 teaspoons black pepper', '1 teaspoon salt', \"1 jalapeño pepper'\"]\n",
      "383 [\"Club soda'\"]\n",
      "393 [\"6 drops bitters'\"]\n",
      "410 ['1 teaspoon salt', \"3/4 teaspoon freshly grated nutmeg'\"]\n",
      "416 ['6 mint leaves', 'cava', \"mint leaf'\"]\n",
      "418 ['1 dash Peychaud’s bitters', \"Sparkling wine, chilled, to top'\"]\n",
      "419 [\"Champagne'\"]\n",
      "421 ['1 heaping barspoon green Chartreuse']\n",
      "435 ['1 teaspoon Cynar', \"5 drops absinthe'\"]\n",
      "441 ['6 spiced-butter-brushed baked mini pumpkins', 'cinnamon', \"cinnamon stick'\"]\n",
      "445 [\"2 dashes Angostura bitters'\"]\n",
      "456 ['2 teaspoons raw sugar']\n",
      "460 ['1 egg white', \"1 dash orange flower water'\"]\n",
      "461 [\"4 drops saline solution (5:1 water to kosher salt)'\"]\n",
      "466 [\"Pinch of Hepp’s ghost pepper salt'\"]\n",
      "469 ['1/2 cup strawberries', '1 lemon', \"Club soda'\"]\n",
      "470 ['1 lemon, cut into wedges', '3 mint sprigs', \"Club soda, chilled, to top (optional)'\"]\n",
      "492 ['1 orange half-wheel', \"orange wheel'\"]\n",
      "522 [\"1 teaspoon matcha'\"]\n",
      "527 [\"orange twist'\"]\n"
     ]
    }
   ],
   "source": [
    "garnish_list = [None]*548\n",
    "for i in range(len(liqcopy)):\n",
    "    if 'garnish:' in liqcopy[\"Ingredients\"][i].lower():\n",
    "        for ing in liqcopy[\"Ingredients\"][i].lower().split(\"', '\"):\n",
    "            if 'garnish:' in ing:\n",
    "                if ing[-1]==\"'\":\n",
    "                    ing = ing[:-1]\n",
    "                garnish_list[i] = ing[ing.index('garnish:')+8:].strip()\n",
    "    else:\n",
    "        if 'garnish with' in liqcopy[\"Making\"][i].lower():\n",
    "            start = liqcopy[\"Making\"][i].lower().index(\"garnish with\")+12\n",
    "            try:\n",
    "                try:\n",
    "                    end = liqcopy[\"Making\"][i].lower().index(\".\", start)\n",
    "                except:\n",
    "                    end = liqcopy[\"Making\"][i].lower().index(\",\", start)\n",
    "            except:\n",
    "                end = None\n",
    "            if end != None:\n",
    "                garnish = liqcopy[\"Making\"][i][start:end]\n",
    "                garnish_list[i] = garnish\n",
    "        else:\n",
    "            ings = liqcopy[\"Ingredients\"][i].split(\"', '\")[-3:]\n",
    "            maybe_garnish = []\n",
    "            for ing_detail in ings:\n",
    "                if \"oz\" not in ing_detail:\n",
    "                    maybe_garnish.append(ing_detail)\n",
    "            if maybe_garnish!=[]:\n",
    "                print(i, maybe_garnish)"
   ]
  },
  {
   "cell_type": "code",
   "execution_count": 355,
   "id": "eb71acd7",
   "metadata": {},
   "outputs": [],
   "source": [
    "garnish_coll = {20 : \"orange twist\", \n",
    "27 : \"orange twist\", \n",
    "55 : \"orange twist\", \n",
    "75 : \"grapefruit twist\", \n",
    "80 : \"orange twist\", \n",
    "97 : \"lemon twist\", \n",
    "111 : \"orange wheel\", \n",
    "127 : \"grapefruit twist\", \n",
    "148 : \"lime wedge\", \n",
    "209 : \"lime wheel\", \n",
    "249 : \"lemon twist\", \n",
    "262 : \"lemon twist\", \n",
    "263 : \"lemon twist\", \n",
    "271 : \"orange twist\", \n",
    "309 : \"orange twist\", \n",
    "339 : \"orange twist\", \n",
    "369 : \"orange twist\", \n",
    "492 : \"orange wheel\", \n",
    "527 : \"orange twist\"}"
   ]
  },
  {
   "cell_type": "code",
   "execution_count": 356,
   "id": "1b1ddf8e",
   "metadata": {},
   "outputs": [],
   "source": [
    "garnish_coll_key = list(garnish_coll.keys())"
   ]
  },
  {
   "cell_type": "code",
   "execution_count": 357,
   "id": "9d4a2b83",
   "metadata": {},
   "outputs": [],
   "source": [
    "for i in range(len(garnish_list)):\n",
    "    if i in garnish_coll_key:\n",
    "        if garnish_list[i]!=None:\n",
    "            garnish_list[i]=garnishcoll[i]"
   ]
  },
  {
   "cell_type": "markdown",
   "id": "e690e06a",
   "metadata": {},
   "source": [
    "Garnish 속성 부여하고 확인하기"
   ]
  },
  {
   "cell_type": "code",
   "execution_count": 358,
   "id": "252b65ee",
   "metadata": {},
   "outputs": [
    {
     "data": {
      "text/html": [
       "<div>\n",
       "<style scoped>\n",
       "    .dataframe tbody tr th:only-of-type {\n",
       "        vertical-align: middle;\n",
       "    }\n",
       "\n",
       "    .dataframe tbody tr th {\n",
       "        vertical-align: top;\n",
       "    }\n",
       "\n",
       "    .dataframe thead th {\n",
       "        text-align: right;\n",
       "    }\n",
       "</style>\n",
       "<table border=\"1\" class=\"dataframe\">\n",
       "  <thead>\n",
       "    <tr style=\"text-align: right;\">\n",
       "      <th></th>\n",
       "      <th>Name</th>\n",
       "      <th>Ingredients</th>\n",
       "      <th>Making</th>\n",
       "      <th>Link</th>\n",
       "      <th>Base</th>\n",
       "      <th>Garnish</th>\n",
       "    </tr>\n",
       "  </thead>\n",
       "  <tbody>\n",
       "    <tr>\n",
       "      <th>0</th>\n",
       "      <td>Left Hand</td>\n",
       "      <td>'1 1/2 oz bourbon', '3/4 oz Campari', '3/4 oz ...</td>\n",
       "      <td>Add all ingredients into a mixing glass with i...</td>\n",
       "      <td>https://www.liquor.com/left-hand-cocktail-reci...</td>\n",
       "      <td>Bourbon Cocktails</td>\n",
       "      <td>brandied cherry</td>\n",
       "    </tr>\n",
       "    <tr>\n",
       "      <th>1</th>\n",
       "      <td>Kentucky Buck</td>\n",
       "      <td>'2 small strawberries, hulled', '3/4 oz rich g...</td>\n",
       "      <td>In a shaker, muddle the strawberries with the ...</td>\n",
       "      <td>https://www.liquor.com/kentucky-buck-cocktail-...</td>\n",
       "      <td>Bourbon Cocktails</td>\n",
       "      <td>strawberry slice</td>\n",
       "    </tr>\n",
       "    <tr>\n",
       "      <th>2</th>\n",
       "      <td>Kentucky Maid</td>\n",
       "      <td>'8 mint leaves', '2 thin cucumber slices', '3/...</td>\n",
       "      <td>Place the mint leaves in a shaker and top with...</td>\n",
       "      <td>https://www.liquor.com/kentucky-maid-cocktail-...</td>\n",
       "      <td>Bourbon Cocktails</td>\n",
       "      <td>mint sprig skewed through a cucumber slice</td>\n",
       "    </tr>\n",
       "    <tr>\n",
       "      <th>3</th>\n",
       "      <td>Improved Whiskey Cocktail</td>\n",
       "      <td>'2 oz bourbon or rye whiskey', '1 barspoon mar...</td>\n",
       "      <td>Add all ingredients into a mixing glass with i...</td>\n",
       "      <td>https://www.liquor.com/improved-whiskey-cockta...</td>\n",
       "      <td>Bourbon Cocktails, Rye Whiskey Cocktails</td>\n",
       "      <td>lemon twist</td>\n",
       "    </tr>\n",
       "    <tr>\n",
       "      <th>4</th>\n",
       "      <td>Mint Julep</td>\n",
       "      <td>'8 mint leaves', '1/4 oz simple syrup', '2 oz ...</td>\n",
       "      <td>In a Julep cup or rocks glass, lightly muddle ...</td>\n",
       "      <td>https://www.liquor.com/recipes/mint-julep/</td>\n",
       "      <td>NaN</td>\n",
       "      <td>a mint sprig and a few drops of bitters (opti...</td>\n",
       "    </tr>\n",
       "  </tbody>\n",
       "</table>\n",
       "</div>"
      ],
      "text/plain": [
       "                        Name  \\\n",
       "0                  Left Hand   \n",
       "1              Kentucky Buck   \n",
       "2              Kentucky Maid   \n",
       "3  Improved Whiskey Cocktail   \n",
       "4                 Mint Julep   \n",
       "\n",
       "                                         Ingredients  \\\n",
       "0  '1 1/2 oz bourbon', '3/4 oz Campari', '3/4 oz ...   \n",
       "1  '2 small strawberries, hulled', '3/4 oz rich g...   \n",
       "2  '8 mint leaves', '2 thin cucumber slices', '3/...   \n",
       "3  '2 oz bourbon or rye whiskey', '1 barspoon mar...   \n",
       "4  '8 mint leaves', '1/4 oz simple syrup', '2 oz ...   \n",
       "\n",
       "                                              Making  \\\n",
       "0  Add all ingredients into a mixing glass with i...   \n",
       "1  In a shaker, muddle the strawberries with the ...   \n",
       "2  Place the mint leaves in a shaker and top with...   \n",
       "3  Add all ingredients into a mixing glass with i...   \n",
       "4  In a Julep cup or rocks glass, lightly muddle ...   \n",
       "\n",
       "                                                Link  \\\n",
       "0  https://www.liquor.com/left-hand-cocktail-reci...   \n",
       "1  https://www.liquor.com/kentucky-buck-cocktail-...   \n",
       "2  https://www.liquor.com/kentucky-maid-cocktail-...   \n",
       "3  https://www.liquor.com/improved-whiskey-cockta...   \n",
       "4         https://www.liquor.com/recipes/mint-julep/   \n",
       "\n",
       "                                       Base  \\\n",
       "0                         Bourbon Cocktails   \n",
       "1                         Bourbon Cocktails   \n",
       "2                         Bourbon Cocktails   \n",
       "3  Bourbon Cocktails, Rye Whiskey Cocktails   \n",
       "4                                       NaN   \n",
       "\n",
       "                                             Garnish  \n",
       "0                                    brandied cherry  \n",
       "1                                   strawberry slice  \n",
       "2         mint sprig skewed through a cucumber slice  \n",
       "3                                        lemon twist  \n",
       "4   a mint sprig and a few drops of bitters (opti...  "
      ]
     },
     "execution_count": 358,
     "metadata": {},
     "output_type": "execute_result"
    }
   ],
   "source": [
    "liqcopy[\"Garnish\"]=garnish_list\n",
    "liqcopy.head()"
   ]
  },
  {
   "cell_type": "markdown",
   "id": "ebfddca9",
   "metadata": {},
   "source": [
    "Ingredient 남은 형식 맞추기"
   ]
  },
  {
   "cell_type": "markdown",
   "id": "48ad9829",
   "metadata": {},
   "source": [
    "' 떼주기"
   ]
  },
  {
   "cell_type": "code",
   "execution_count": 359,
   "id": "58e419d9",
   "metadata": {},
   "outputs": [],
   "source": [
    "for i in range(len(liqcopy)):\n",
    "    ingredient_list = liqcopy[\"Ingredients\"][i].split(\", \")\n",
    "    for j in range(len(ingredient_list)):\n",
    "        if ingredient_list[j][0]==\"'\":\n",
    "            ingredient_list[j] = ingredient_list[j][1:]\n",
    "        if ingredient_list[j][-1]==\"'\":\n",
    "            ingredient_list[j] = ingredient_list[j][:-1]\n",
    "    liqcopy[\"Ingredients\"][i] = \", \".join(ingredient_list)"
   ]
  },
  {
   "cell_type": "code",
   "execution_count": 360,
   "id": "bc2d5d4a",
   "metadata": {},
   "outputs": [
    {
     "name": "stdout",
     "output_type": "stream",
     "text": [
      "2 small strawberries, hulled, 3/4 oz rich ginger syrup (3 parts sugar to 4 parts ginger juice), 2 oz bourbon, 3/4 oz lemon juice, freshly squeezed, 2 dashes Angostura bitters, Club soda, chilled, to top Club soda, chilled, to top (about 2-3 oz), Garnish: lemon wheel, Garnish: strawberry slice\n"
     ]
    }
   ],
   "source": [
    "# 확인\n",
    "print(liqcopy[\"Ingredients\"][1])"
   ]
  },
  {
   "cell_type": "markdown",
   "id": "b615e4eb",
   "metadata": {},
   "source": [
    "### Glass 추출하기"
   ]
  },
  {
   "cell_type": "code",
   "execution_count": 361,
   "id": "2155ac4b",
   "metadata": {},
   "outputs": [
    {
     "name": "stdout",
     "output_type": "stream",
     "text": [
      "['a mixing', 'chilled coupe', 'a collins', 'double rocks', 'a rocks', 'cup or rocks', 'pack the', 'a highball', 'chilled rocks', 'the mixing', 'a pint', 'old fashioned', 'a punch', 'into the', 'collins or highball', 'in the', 'the rocks', 'the prepared', 'a large', 'stemmed beer', 'glass or collins', 'give the', 'or a rocks', 'fill the', 'to a', 'place the', 'the collins', 'over the', 'chilled cocktail', 'nora or coupe', 'a wine', 'garnish each', 'above the', 'of the', 'a cocktail', 'a coupe', 'peel over', 'coupe or cocktail', 'a 6-ounce', 'a martini', 'stemless wine', 'a tall', 'inverted cocktail', 'the cocktail', 'a hurricane', 'dip the', 'a shot', 'mug or collins', 'prepared coupe', 'goblet or hurricane', 'chilled collins', 'into a', 'chilled hurricane', 'a margarita', 'pearl diver', 'collins or hurricane', 'chilled fluted', 'and set', 'prepared rocks', 'a clay or', 'large hurricane', 'with a', 'nora or cocktail', 'cocktail or coupe', 'highball or collins', 'preheat 2', '& nora', 'coat the', 'rotating the', 'fashioned or rocks', 'glass or cocktail', 'chilled fizz', 'or tall stemmed', 'into your', 'or a cocktail', 'the shot', '6-ounce heat-proof', 'to the', 'until the', 'or a highball', 'separate shot', 'the heated', 'your rocks', 'irish coffee', 'in a', 'margarita or cocktail', 'chilled margarita', 'salted margarita', 'rim the', 'of each', 'the pint', 'a liter-size', 'chilled martini', 'a 16-ounce', 'half the', 'chilled highball', 'and nora', 'coupe or wine', 'or a coupe', 'prepared highball', 'a footed', 'tall collins', 'stemmed cobbler', '8-ounce collins', 'or an rocks', 'set the', 'goblet or wine']\n"
     ]
    }
   ],
   "source": [
    "glasses = []\n",
    "for i in range(len(liqcopy)):\n",
    "    if \"glass\" in liqcopy[\"Making\"][i].lower():\n",
    "        sen = liqcopy[\"Making\"][i].lower().replace(\".\", \"\").replace(\",\", \"\")\n",
    "        if (\"(\" in sen) and (\")\" in sen):\n",
    "            if sen.count(\"(\")==sen.count(\")\"):\n",
    "                start = []\n",
    "                end = []\n",
    "                for l in range(len(sen)):\n",
    "                    if sen[l]==\"(\":\n",
    "                        start.append(l)\n",
    "                    elif sen[l]==\")\":\n",
    "                        end.append(l)\n",
    "                for m in range(len(start)):\n",
    "                    rest = sen[:start[m]]\n",
    "                    change = sen[start[m]:end[m]].replace(\" \", \"\")+sen[end[m]:]\n",
    "                    sen = rest+change    \n",
    "        sen = sen.split(\" \")\n",
    "        glass_ind = []\n",
    "        for j in range(len(sen)):\n",
    "            if sen[j].strip()==\"glass\":\n",
    "                glass_ind.append(j)\n",
    "        for k in glass_ind:\n",
    "            if k>=3:\n",
    "                if \"or\" in sen[k-3:k]:\n",
    "                    if \" \".join(sen[k-3:k]) not in glasses:\n",
    "                        glasses.append(\" \".join(sen[k-3:k]))\n",
    "                else:\n",
    "                    if sen[k-2]+\" \"+sen[k-1] not in glasses:\n",
    "                        glasses.append(sen[k-2]+\" \"+sen[k-1])\n",
    "            else:\n",
    "                if sen[k-2]+\" \"+sen[k-1] not in glasses:\n",
    "                    glasses.append(sen[k-2]+\" \"+sen[k-1])\n",
    "print(glasses)"
   ]
  },
  {
   "cell_type": "code",
   "execution_count": 362,
   "id": "093430d9",
   "metadata": {},
   "outputs": [
    {
     "data": {
      "text/plain": [
       "107"
      ]
     },
     "execution_count": 362,
     "metadata": {},
     "output_type": "execute_result"
    }
   ],
   "source": [
    "len(glasses)"
   ]
  },
  {
   "cell_type": "code",
   "execution_count": 363,
   "id": "10949338",
   "metadata": {},
   "outputs": [
    {
     "name": "stdout",
     "output_type": "stream",
     "text": [
      "a mixing\n"
     ]
    },
    {
     "ename": "KeyboardInterrupt",
     "evalue": "Interrupted by user",
     "output_type": "error",
     "traceback": [
      "\u001b[1;31m---------------------------------------------------------------------------\u001b[0m",
      "\u001b[1;31mKeyboardInterrupt\u001b[0m                         Traceback (most recent call last)",
      "\u001b[1;32m~\\AppData\\Local\\Temp/ipykernel_134504/998973974.py\u001b[0m in \u001b[0;36m<module>\u001b[1;34m\u001b[0m\n\u001b[0;32m      2\u001b[0m \u001b[1;32mfor\u001b[0m \u001b[0mglas\u001b[0m \u001b[1;32min\u001b[0m \u001b[0mglasses\u001b[0m\u001b[1;33m:\u001b[0m\u001b[1;33m\u001b[0m\u001b[1;33m\u001b[0m\u001b[0m\n\u001b[0;32m      3\u001b[0m     \u001b[0mprint\u001b[0m\u001b[1;33m(\u001b[0m\u001b[0mglas\u001b[0m\u001b[1;33m)\u001b[0m\u001b[1;33m\u001b[0m\u001b[1;33m\u001b[0m\u001b[0m\n\u001b[1;32m----> 4\u001b[1;33m     \u001b[0msign\u001b[0m \u001b[1;33m=\u001b[0m \u001b[0minput\u001b[0m\u001b[1;33m(\u001b[0m\u001b[1;33m)\u001b[0m\u001b[1;33m\u001b[0m\u001b[1;33m\u001b[0m\u001b[0m\n\u001b[0m\u001b[0;32m      5\u001b[0m     \u001b[1;32mif\u001b[0m \u001b[0msign\u001b[0m\u001b[1;33m==\u001b[0m\u001b[1;34m\"0\"\u001b[0m\u001b[1;33m:\u001b[0m\u001b[1;33m\u001b[0m\u001b[1;33m\u001b[0m\u001b[0m\n\u001b[0;32m      6\u001b[0m         \u001b[1;32mpass\u001b[0m\u001b[1;33m\u001b[0m\u001b[1;33m\u001b[0m\u001b[0m\n",
      "\u001b[1;32m~\\anaconda3\\lib\\site-packages\\ipykernel\\kernelbase.py\u001b[0m in \u001b[0;36mraw_input\u001b[1;34m(self, prompt)\u001b[0m\n\u001b[0;32m   1004\u001b[0m                 \u001b[1;34m\"raw_input was called, but this frontend does not support input requests.\"\u001b[0m\u001b[1;33m\u001b[0m\u001b[1;33m\u001b[0m\u001b[0m\n\u001b[0;32m   1005\u001b[0m             )\n\u001b[1;32m-> 1006\u001b[1;33m         return self._input_request(\n\u001b[0m\u001b[0;32m   1007\u001b[0m             \u001b[0mstr\u001b[0m\u001b[1;33m(\u001b[0m\u001b[0mprompt\u001b[0m\u001b[1;33m)\u001b[0m\u001b[1;33m,\u001b[0m\u001b[1;33m\u001b[0m\u001b[1;33m\u001b[0m\u001b[0m\n\u001b[0;32m   1008\u001b[0m             \u001b[0mself\u001b[0m\u001b[1;33m.\u001b[0m\u001b[0m_parent_ident\u001b[0m\u001b[1;33m[\u001b[0m\u001b[1;34m\"shell\"\u001b[0m\u001b[1;33m]\u001b[0m\u001b[1;33m,\u001b[0m\u001b[1;33m\u001b[0m\u001b[1;33m\u001b[0m\u001b[0m\n",
      "\u001b[1;32m~\\anaconda3\\lib\\site-packages\\ipykernel\\kernelbase.py\u001b[0m in \u001b[0;36m_input_request\u001b[1;34m(self, prompt, ident, parent, password)\u001b[0m\n\u001b[0;32m   1049\u001b[0m             \u001b[1;32mexcept\u001b[0m \u001b[0mKeyboardInterrupt\u001b[0m\u001b[1;33m:\u001b[0m\u001b[1;33m\u001b[0m\u001b[1;33m\u001b[0m\u001b[0m\n\u001b[0;32m   1050\u001b[0m                 \u001b[1;31m# re-raise KeyboardInterrupt, to truncate traceback\u001b[0m\u001b[1;33m\u001b[0m\u001b[1;33m\u001b[0m\u001b[0m\n\u001b[1;32m-> 1051\u001b[1;33m                 \u001b[1;32mraise\u001b[0m \u001b[0mKeyboardInterrupt\u001b[0m\u001b[1;33m(\u001b[0m\u001b[1;34m\"Interrupted by user\"\u001b[0m\u001b[1;33m)\u001b[0m \u001b[1;32mfrom\u001b[0m \u001b[1;32mNone\u001b[0m\u001b[1;33m\u001b[0m\u001b[1;33m\u001b[0m\u001b[0m\n\u001b[0m\u001b[0;32m   1052\u001b[0m             \u001b[1;32mexcept\u001b[0m \u001b[0mException\u001b[0m\u001b[1;33m:\u001b[0m\u001b[1;33m\u001b[0m\u001b[1;33m\u001b[0m\u001b[0m\n\u001b[0;32m   1053\u001b[0m                 \u001b[0mself\u001b[0m\u001b[1;33m.\u001b[0m\u001b[0mlog\u001b[0m\u001b[1;33m.\u001b[0m\u001b[0mwarning\u001b[0m\u001b[1;33m(\u001b[0m\u001b[1;34m\"Invalid Message:\"\u001b[0m\u001b[1;33m,\u001b[0m \u001b[0mexc_info\u001b[0m\u001b[1;33m=\u001b[0m\u001b[1;32mTrue\u001b[0m\u001b[1;33m)\u001b[0m\u001b[1;33m\u001b[0m\u001b[1;33m\u001b[0m\u001b[0m\n",
      "\u001b[1;31mKeyboardInterrupt\u001b[0m: Interrupted by user"
     ]
    },
    {
     "name": "stdout",
     "output_type": "stream",
     "text": [
      "0\n"
     ]
    }
   ],
   "source": [
    "collection = {}\n",
    "for glas in glasses:\n",
    "    print(glas)\n",
    "    sign = input()\n",
    "    if sign==\"0\":\n",
    "        pass\n",
    "    else:\n",
    "        if sign in list(collection.keys()):\n",
    "            collection[sign].append(glas)\n",
    "        else:\n",
    "            collection[sign]=[glas]\n",
    "print(collection)\n",
    "\n",
    "# 결과는 아래 셀에 있음"
   ]
  },
  {
   "cell_type": "markdown",
   "id": "d428216c",
   "metadata": {},
   "source": [
    "stemmed beer는 glass or collins 앞에 붙었던 내용이어서 중복이므로 빼주기, 서로 다른 glass를 부여해줘야 하는 것은 needindex로 빼주기 "
   ]
  },
  {
   "cell_type": "code",
   "execution_count": 364,
   "id": "bdc661b3",
   "metadata": {},
   "outputs": [],
   "source": [
    "collection = {'Coupe Glass': ['chilled coupe', 'a coupe', 'prepared coupe', 'or a coupe'], \n",
    "              'Collins Glass': ['a collins', 'the collins', 'chilled collins', 'chilled fizz', 'or tall stemmed', 'tall collins', '8-ounce collins'], \n",
    "              'Rocks Glass': ['double rocks', 'a rocks', 'chilled rocks', 'the rocks', 'prepared rocks', 'your rocks', 'or an rocks'], \n",
    "              'Julep Cup or Rocks Glass': ['cup or rocks'], 'Highball Glass': ['a highball', 'or a highball', 'chilled highball', 'prepared highball'], \n",
    "              'Pint Glass': ['a pint', 'the pint'], 'Old Fashioned Glass': ['old fashioned'], 'Punch Glass': ['a punch'], \n",
    "              'Collins or Highball Glass': ['collins or highball'], \n",
    "              'Beer or Collins Glass': ['glass or collins'],  \n",
    "              'Cocktail Glass': ['chilled cocktail', 'a cocktail', 'inverted cocktail', 'the cocktail', 'or a cocktail'], \n",
    "              'Nick & Nora or Coupe Glass': ['nora or coupe'], 'Wine Glass': ['a wine'], \n",
    "              'Coupe or Cocktail Glass': ['coupe or cocktail', 'cocktail or coupe'], 'Martini Glass': ['a martini', 'chilled martini'], \n",
    "              'Hurricane Glass': ['a hurricane', 'chilled hurricane', 'large hurricane'], \n",
    "              'Shot Glass': ['a shot', 'the shot', 'separate shot'], 'Tiki Mug or Collins Glass': ['mug or collins'], \n",
    "              'Goblet or Hurricane Glass': ['goblet or hurricane'], 'Margarita Glass': ['a margarita', 'chilled margarita', 'salted margarita'], \n",
    "              'Pearl Diver Glass': ['pearl diver'], 'Collins or Hurricane Glass': ['collins or hurricane'], 'Flute Glass': ['chilled fluted'], \n",
    "              'Clay Mug or Mug Glass': ['a clay or'], 'Nick & Nora or Cocktail Glass': ['nora or cocktail', 'glass or cocktail'], \n",
    "              'Highball or Collins Glass': ['highball or collins'], 'Nick & Nora Glass': ['& nora', 'and nora'], \n",
    "              'Old Fashioned or Rocks Glass': ['fashioned or rocks'], 'Irish Coffee Glass': ['irish coffee'], \n",
    "              'Margarita or Cocktail Glass': ['margarita or cocktail'], 'Coupe or Wine Glass': ['coupe or wine'], \n",
    "              'Cobbler Glass': ['stemmed cobbler'], 'Goblet or Wine Glass': ['goblet or wine']}"
   ]
  },
  {
   "cell_type": "code",
   "execution_count": 365,
   "id": "5484be1c",
   "metadata": {},
   "outputs": [],
   "source": [
    "needindex = 'or a rocks'"
   ]
  },
  {
   "cell_type": "code",
   "execution_count": 366,
   "id": "46be1d19",
   "metadata": {},
   "outputs": [
    {
     "name": "stdout",
     "output_type": "stream",
     "text": [
      "glasses or something:  114\n",
      "glasses or something:  157\n",
      "glasses or something:  209\n",
      "glasses or something:  321\n",
      "glasses or something:  346\n"
     ]
    }
   ],
   "source": [
    "glass_list = [None]*548\n",
    "col_list = list(collection.keys())\n",
    "\n",
    "for i in range(len(liqcopy)):\n",
    "    col_list = list(collection.keys())\n",
    "    glass = []\n",
    "    glass_name = []\n",
    "    if \"glass\" in liqcopy[\"Making\"][i].lower():\n",
    "        sen = liqcopy[\"Making\"][i].lower().replace(\".\", \"\").replace(\",\", \"\")\n",
    "        if (\"(\" in sen) and (\")\" in sen):\n",
    "            if sen.count(\"(\")==sen.count(\")\"):\n",
    "                start = []\n",
    "                end = []\n",
    "                for l in range(len(sen)):\n",
    "                    if sen[l]==\"(\":\n",
    "                        start.append(l)\n",
    "                    elif sen[l]==\")\":\n",
    "                        end.append(l)\n",
    "                for r in range(len(start)):\n",
    "                    rest = sen[:start[r]]\n",
    "                    change = sen[start[r]:end[r]].replace(\" \", \"\")+sen[end[r]:]\n",
    "                    sen = rest+change    \n",
    "        sen = sen.split(\" \")\n",
    "        glass_ind = []\n",
    "        for j in range(len(sen)):\n",
    "            if sen[j].strip()==\"glass\":\n",
    "                glass_ind.append(j)\n",
    "        if len(glass_ind)>=2:\n",
    "            for k in glass_ind:\n",
    "                if k>=3:\n",
    "                    if \"or\" in sen[k-3:k]:\n",
    "                        if \" \".join(sen[k-3:k]) not in glass:\n",
    "                            glass.append(\" \".join(sen[k-3:k]))\n",
    "                    else:\n",
    "                        if sen[k-2]+\" \"+sen[k-1] not in glass:\n",
    "                            glass.append(sen[k-2]+\" \"+sen[k-1])\n",
    "                else:\n",
    "                    if sen[k-2]+\" \"+sen[k-1] not in glass:\n",
    "                        glass.append(sen[k-2]+\" \"+sen[k-1])\n",
    "            for p in range(len(glass)):\n",
    "                for q in range(len(col_list)):\n",
    "                    if glass[p] in collection[col_list[q]]:\n",
    "                        if col_list[q] not in glass_name:\n",
    "                            glass_name.append(col_list[q])\n",
    "            two_glass = []\n",
    "            one_glass = []\n",
    "            must_removed = []\n",
    "            for s in range(len(glass_name)):\n",
    "                if \" or \" in glass_name[s]:\n",
    "                    first, second = glass_name[s].replace(\" Glass\", \"\").split(\" or \")\n",
    "                    if first not in two_glass:\n",
    "                        two_glass.append(first)\n",
    "                    if second not in two_glass:\n",
    "                        two_glass.append(second)\n",
    "                else:\n",
    "                    if glass_name[s] not in one_glass:\n",
    "                        one_glass.append(glass_name[s])\n",
    "            for m in range(len(two_glass)):\n",
    "                for n in range(len(one_glass)):\n",
    "                    if two_glass[m] in one_glass[n]:\n",
    "                        if one_glass[n] not in must_removed:\n",
    "                            must_removed.append(one_glass[n])\n",
    "            if len(must_removed)!=0:\n",
    "                for o in range(len(must_removed)):\n",
    "                    glass_name.remove(must_removed[o])\n",
    "        else:\n",
    "            if glass_ind==[]:\n",
    "                print('glasses or something: ', i)\n",
    "            else:\n",
    "                ind = glass_ind[0]\n",
    "                if ind>=3:\n",
    "                    if \"or\" in sen[ind-3:ind]:\n",
    "                        if \" \".join(sen[ind-3:ind]) not in glass:\n",
    "                            glass=\" \".join(sen[ind-3:ind])\n",
    "                    else:\n",
    "                        if sen[ind-2]+\" \"+sen[ind-1] not in glas:\n",
    "                            glass=str(sen[ind-2]+\" \"+sen[ind-1])\n",
    "                else:\n",
    "                    if sen[ind-2]+\" \"+sen[ind-1] not in glass:\n",
    "                        glass=str(sen[ind-2]+\" \"+sen[ind-1])\n",
    "                for t in range(len(col_list)):\n",
    "                    if glass in collection[col_list[t]]:\n",
    "                        glass_name.append(col_list[t])\n",
    "        if glass_name==[]:\n",
    "            pass\n",
    "        else:\n",
    "            count = 0\n",
    "            for u in range(len(glass_name)):\n",
    "                if ' or ' in glass_name[u]:\n",
    "                    count += 1\n",
    "            if count<=1:\n",
    "                glass_count = 0\n",
    "                glass_ind = []\n",
    "                for v in range(len(glass_name)):\n",
    "                    if 'Glass' in glass_name[v]:\n",
    "                        glass_count += 1\n",
    "                        glass_ind.append(v)\n",
    "                if glass_count>=2:\n",
    "                    replace_count = 0\n",
    "                    while replace_count<glass_ind[-1]:\n",
    "                        glass_name[replace_count] = glass_name[replace_count].replace(' Glass', \"\")\n",
    "                        replace_count += 1\n",
    "                    glass_list[i]=\" or \".join(glass_name)\n",
    "                else:\n",
    "                    glass_list[i]=\" or \".join(glass_name)\n",
    "            else:\n",
    "                print('many or glass: ', i)"
   ]
  },
  {
   "cell_type": "markdown",
   "id": "53e7ce31",
   "metadata": {},
   "source": [
    "glass가 검색되지 않은 레시피에 따로 glass 넣어주기"
   ]
  },
  {
   "cell_type": "code",
   "execution_count": 367,
   "id": "adbca4f3",
   "metadata": {},
   "outputs": [
    {
     "data": {
      "text/plain": [
       "'Fill a Moscow Mule mug (or highball glass) with ice, then add the vodka and lime juice. Top with the ginger beer. Garnish with a lime wheel.'"
      ]
     },
     "execution_count": 367,
     "metadata": {},
     "output_type": "execute_result"
    }
   ],
   "source": [
    "liqcopy[\"Making\"][114]"
   ]
  },
  {
   "cell_type": "code",
   "execution_count": 368,
   "id": "8363169c",
   "metadata": {},
   "outputs": [
    {
     "name": "stdout",
     "output_type": "stream",
     "text": [
      "None\n"
     ]
    }
   ],
   "source": [
    "print(glass_list[114])"
   ]
  },
  {
   "cell_type": "code",
   "execution_count": 369,
   "id": "58e6f8e3",
   "metadata": {},
   "outputs": [],
   "source": [
    "glass_list[114] = \"Moscow Mule Mug or Highball Glass\""
   ]
  },
  {
   "cell_type": "code",
   "execution_count": 370,
   "id": "36fe9dd9",
   "metadata": {},
   "outputs": [
    {
     "data": {
      "text/plain": [
       "'Add the vodka, orange liqueur and lime juice to a shaker with ice, and shake thoroughly until well-chilled. Strain into two shot glasses.'"
      ]
     },
     "execution_count": 370,
     "metadata": {},
     "output_type": "execute_result"
    }
   ],
   "source": [
    "liqcopy[\"Making\"][157]"
   ]
  },
  {
   "cell_type": "code",
   "execution_count": 371,
   "id": "44427a7f",
   "metadata": {},
   "outputs": [
    {
     "name": "stdout",
     "output_type": "stream",
     "text": [
      "None\n"
     ]
    }
   ],
   "source": [
    "print(glass_list[157])"
   ]
  },
  {
   "cell_type": "code",
   "execution_count": 372,
   "id": "5659385a",
   "metadata": {},
   "outputs": [],
   "source": [
    "glass_list[157] = \"Shot Glass\""
   ]
  },
  {
   "cell_type": "code",
   "execution_count": 373,
   "id": "8f0783cc",
   "metadata": {},
   "outputs": [
    {
     "data": {
      "text/plain": [
       "'Serves 2 Add all ingredients into a blender with a cup and a half of ice. Pulse until mixed. Divide between two coupes or Margarita glasses and garnish each with a lime wheel.'"
      ]
     },
     "execution_count": 373,
     "metadata": {},
     "output_type": "execute_result"
    }
   ],
   "source": [
    "liqcopy[\"Making\"][209]"
   ]
  },
  {
   "cell_type": "code",
   "execution_count": 374,
   "id": "e4e22402",
   "metadata": {},
   "outputs": [
    {
     "name": "stdout",
     "output_type": "stream",
     "text": [
      "None\n"
     ]
    }
   ],
   "source": [
    "print(glass_list[209])"
   ]
  },
  {
   "cell_type": "code",
   "execution_count": 375,
   "id": "9d8032c6",
   "metadata": {},
   "outputs": [],
   "source": [
    "glass_list[209] = \"Coupe or Margarita Glass\""
   ]
  },
  {
   "cell_type": "code",
   "execution_count": 376,
   "id": "db61ef90",
   "metadata": {},
   "outputs": [
    {
     "data": {
      "text/plain": [
       "'Rim 2 shot glasses with cinnamon/sugar. In a cocktail shaker, add ice. Pour in the Rum Chata and Fireball. Shake and strain into glasses. Enjoy! *Please drink responsibly'"
      ]
     },
     "execution_count": 376,
     "metadata": {},
     "output_type": "execute_result"
    }
   ],
   "source": [
    "liqcopy[\"Making\"][321]"
   ]
  },
  {
   "cell_type": "code",
   "execution_count": 377,
   "id": "a77cb780",
   "metadata": {},
   "outputs": [
    {
     "name": "stdout",
     "output_type": "stream",
     "text": [
      "None\n"
     ]
    }
   ],
   "source": [
    "print(glass_list[321])"
   ]
  },
  {
   "cell_type": "code",
   "execution_count": 378,
   "id": "6856de67",
   "metadata": {},
   "outputs": [
    {
     "data": {
      "text/plain": [
       "'Prepare a clay cantarito cup by soaking it in cold water for 10 minutes. Rim the cantarito cup with Tajín seasoning. Add the tequila, fruit juices, and salt into a shaker with ice and shake until well-chilled. Strain into the prepared cantarito cup (or a Collins glass) over fresh ice. Top with the grapefruit soda and stir briefly and gently to combine. Garnish with a lime wedge.'"
      ]
     },
     "execution_count": 378,
     "metadata": {},
     "output_type": "execute_result"
    }
   ],
   "source": [
    "liqcopy[\"Making\"][346]"
   ]
  },
  {
   "cell_type": "code",
   "execution_count": 379,
   "id": "0b194c0c",
   "metadata": {},
   "outputs": [
    {
     "name": "stdout",
     "output_type": "stream",
     "text": [
      "None\n"
     ]
    }
   ],
   "source": [
    "print(glass_list[346])"
   ]
  },
  {
   "cell_type": "code",
   "execution_count": 380,
   "id": "ebd7a47a",
   "metadata": {},
   "outputs": [],
   "source": [
    "glass_list[346] = \"Cantarito Cup or Collins Glass\""
   ]
  },
  {
   "cell_type": "markdown",
   "id": "79a41b66",
   "metadata": {},
   "source": [
    "needindex로 빼준 레시피에 따로 glass 넣어주기"
   ]
  },
  {
   "cell_type": "code",
   "execution_count": 381,
   "id": "2e8f3d5f",
   "metadata": {},
   "outputs": [
    {
     "name": "stdout",
     "output_type": "stream",
     "text": [
      "42\n",
      "Muddle the mint sprig in a Julep cup or a rocks glass. Add the maple beet shrub, bourbon and a small scoop of crushed ice and stir. Top with more crushed ice to fill the glass. Garnish with a mint sprig. Serve with a straw.\n",
      "None\n",
      "250\n",
      "Add all ingredients except the beet juice into a shaker with ice and shake until chilled. Strain into a glass pipe or a rocks glass over fresh ice. Top with the beet juice. Note: While we used dry ice in the photo, we do not recommend using it in cocktails, since it's extremely dangerous to ingest. This Halloween cocktail is just as much of a treat without the tricks.\n",
      "None\n"
     ]
    }
   ],
   "source": [
    "for i in range(len(liqcopy)):\n",
    "    if 'or a rocks glass' in liqcopy[\"Making\"][i].lower():\n",
    "        print(i)\n",
    "        print(liqcopy[\"Making\"][i])\n",
    "        print(glass_list[i])"
   ]
  },
  {
   "cell_type": "code",
   "execution_count": 382,
   "id": "3aa1165f",
   "metadata": {},
   "outputs": [],
   "source": [
    "glass_list[42] = \"Julep Cup or Rocks Glass\"\n",
    "glass_list[250] = \"Rocks Glass\""
   ]
  },
  {
   "cell_type": "markdown",
   "id": "3709dd4a",
   "metadata": {},
   "source": [
    "glass 속성 부여하고 확인하기"
   ]
  },
  {
   "cell_type": "code",
   "execution_count": 383,
   "id": "aeb36f01",
   "metadata": {},
   "outputs": [
    {
     "data": {
      "text/html": [
       "<div>\n",
       "<style scoped>\n",
       "    .dataframe tbody tr th:only-of-type {\n",
       "        vertical-align: middle;\n",
       "    }\n",
       "\n",
       "    .dataframe tbody tr th {\n",
       "        vertical-align: top;\n",
       "    }\n",
       "\n",
       "    .dataframe thead th {\n",
       "        text-align: right;\n",
       "    }\n",
       "</style>\n",
       "<table border=\"1\" class=\"dataframe\">\n",
       "  <thead>\n",
       "    <tr style=\"text-align: right;\">\n",
       "      <th></th>\n",
       "      <th>Name</th>\n",
       "      <th>Ingredients</th>\n",
       "      <th>Making</th>\n",
       "      <th>Link</th>\n",
       "      <th>Base</th>\n",
       "      <th>Garnish</th>\n",
       "      <th>Glass</th>\n",
       "    </tr>\n",
       "  </thead>\n",
       "  <tbody>\n",
       "    <tr>\n",
       "      <th>0</th>\n",
       "      <td>Left Hand</td>\n",
       "      <td>1 1/2 oz bourbon, 3/4 oz Campari, 3/4 oz sweet...</td>\n",
       "      <td>Add all ingredients into a mixing glass with i...</td>\n",
       "      <td>https://www.liquor.com/left-hand-cocktail-reci...</td>\n",
       "      <td>Bourbon Cocktails</td>\n",
       "      <td>brandied cherry</td>\n",
       "      <td>Coupe Glass</td>\n",
       "    </tr>\n",
       "    <tr>\n",
       "      <th>1</th>\n",
       "      <td>Kentucky Buck</td>\n",
       "      <td>2 small strawberries, hulled, 3/4 oz rich ging...</td>\n",
       "      <td>In a shaker, muddle the strawberries with the ...</td>\n",
       "      <td>https://www.liquor.com/kentucky-buck-cocktail-...</td>\n",
       "      <td>Bourbon Cocktails</td>\n",
       "      <td>strawberry slice</td>\n",
       "      <td>Collins Glass</td>\n",
       "    </tr>\n",
       "    <tr>\n",
       "      <th>2</th>\n",
       "      <td>Kentucky Maid</td>\n",
       "      <td>8 mint leaves, 2 thin cucumber slices, 3/4 oz ...</td>\n",
       "      <td>Place the mint leaves in a shaker and top with...</td>\n",
       "      <td>https://www.liquor.com/kentucky-maid-cocktail-...</td>\n",
       "      <td>Bourbon Cocktails</td>\n",
       "      <td>mint sprig skewed through a cucumber slice</td>\n",
       "      <td>Rocks Glass</td>\n",
       "    </tr>\n",
       "    <tr>\n",
       "      <th>3</th>\n",
       "      <td>Improved Whiskey Cocktail</td>\n",
       "      <td>2 oz bourbon or rye whiskey, 1 barspoon marasc...</td>\n",
       "      <td>Add all ingredients into a mixing glass with i...</td>\n",
       "      <td>https://www.liquor.com/improved-whiskey-cockta...</td>\n",
       "      <td>Bourbon Cocktails, Rye Whiskey Cocktails</td>\n",
       "      <td>lemon twist</td>\n",
       "      <td>Rocks Glass</td>\n",
       "    </tr>\n",
       "    <tr>\n",
       "      <th>4</th>\n",
       "      <td>Mint Julep</td>\n",
       "      <td>8 mint leaves, 1/4 oz simple syrup, 2 oz bourb...</td>\n",
       "      <td>In a Julep cup or rocks glass, lightly muddle ...</td>\n",
       "      <td>https://www.liquor.com/recipes/mint-julep/</td>\n",
       "      <td>NaN</td>\n",
       "      <td>a mint sprig and a few drops of bitters (opti...</td>\n",
       "      <td>Julep Cup or Rocks Glass</td>\n",
       "    </tr>\n",
       "  </tbody>\n",
       "</table>\n",
       "</div>"
      ],
      "text/plain": [
       "                        Name  \\\n",
       "0                  Left Hand   \n",
       "1              Kentucky Buck   \n",
       "2              Kentucky Maid   \n",
       "3  Improved Whiskey Cocktail   \n",
       "4                 Mint Julep   \n",
       "\n",
       "                                         Ingredients  \\\n",
       "0  1 1/2 oz bourbon, 3/4 oz Campari, 3/4 oz sweet...   \n",
       "1  2 small strawberries, hulled, 3/4 oz rich ging...   \n",
       "2  8 mint leaves, 2 thin cucumber slices, 3/4 oz ...   \n",
       "3  2 oz bourbon or rye whiskey, 1 barspoon marasc...   \n",
       "4  8 mint leaves, 1/4 oz simple syrup, 2 oz bourb...   \n",
       "\n",
       "                                              Making  \\\n",
       "0  Add all ingredients into a mixing glass with i...   \n",
       "1  In a shaker, muddle the strawberries with the ...   \n",
       "2  Place the mint leaves in a shaker and top with...   \n",
       "3  Add all ingredients into a mixing glass with i...   \n",
       "4  In a Julep cup or rocks glass, lightly muddle ...   \n",
       "\n",
       "                                                Link  \\\n",
       "0  https://www.liquor.com/left-hand-cocktail-reci...   \n",
       "1  https://www.liquor.com/kentucky-buck-cocktail-...   \n",
       "2  https://www.liquor.com/kentucky-maid-cocktail-...   \n",
       "3  https://www.liquor.com/improved-whiskey-cockta...   \n",
       "4         https://www.liquor.com/recipes/mint-julep/   \n",
       "\n",
       "                                       Base  \\\n",
       "0                         Bourbon Cocktails   \n",
       "1                         Bourbon Cocktails   \n",
       "2                         Bourbon Cocktails   \n",
       "3  Bourbon Cocktails, Rye Whiskey Cocktails   \n",
       "4                                       NaN   \n",
       "\n",
       "                                             Garnish                     Glass  \n",
       "0                                    brandied cherry               Coupe Glass  \n",
       "1                                   strawberry slice             Collins Glass  \n",
       "2         mint sprig skewed through a cucumber slice               Rocks Glass  \n",
       "3                                        lemon twist               Rocks Glass  \n",
       "4   a mint sprig and a few drops of bitters (opti...  Julep Cup or Rocks Glass  "
      ]
     },
     "execution_count": 383,
     "metadata": {},
     "output_type": "execute_result"
    }
   ],
   "source": [
    "liqcopy[\"Glass\"] = glass_list\n",
    "liqcopy.head()"
   ]
  },
  {
   "cell_type": "markdown",
   "id": "c84afb09",
   "metadata": {},
   "source": [
    "### 기존 Base 수정 후 다른 곳에서 Base 추출하기"
   ]
  },
  {
   "cell_type": "code",
   "execution_count": 384,
   "id": "5fa62e73",
   "metadata": {},
   "outputs": [
    {
     "data": {
      "text/plain": [
       "array(['Bourbon Cocktails', 'Bourbon Cocktails, Rye Whiskey Cocktails',\n",
       "       nan, 'Vodka Cocktails', 'Gin Cocktails',\n",
       "       'Vodka Cocktails, Gin Cocktails',\n",
       "       'Vodka Cocktails, Tequila & Mezcal Cocktails', 'Rum Cocktails',\n",
       "       'Rum Cocktails, Tequila & Mezcal Cocktails',\n",
       "       'Rum Cocktails, Other Cocktails',\n",
       "       'Rum Cocktails, Cognac & Other Brandy Cocktails, Gin Cocktails',\n",
       "       'Scotch Cocktails', 'Rye Whiskey Cocktails',\n",
       "       'Cognac & Other Brandy Cocktails',\n",
       "       'Rye Whiskey Cocktails, Cognac & Other Brandy Cocktails',\n",
       "       'Other Whiskey Cocktails, Cognac & Other Brandy Cocktails',\n",
       "       'Other Whiskey Cocktails', None, 'Vodka',\n",
       "       'Tequila & Mezcal Cocktails', 'Other Cocktails'], dtype=object)"
      ]
     },
     "execution_count": 384,
     "metadata": {},
     "output_type": "execute_result"
    }
   ],
   "source": [
    "liqcopy[\"Base\"].unique()"
   ]
  },
  {
   "cell_type": "code",
   "execution_count": 385,
   "id": "90d6a793",
   "metadata": {},
   "outputs": [
    {
     "name": "stdout",
     "output_type": "stream",
     "text": [
      "4\n",
      "5\n",
      "7\n",
      "8\n",
      "9\n",
      "12\n",
      "15\n",
      "16\n",
      "22\n",
      "23\n",
      "25\n",
      "26\n",
      "29\n",
      "32\n",
      "37\n",
      "39\n",
      "40\n",
      "42\n",
      "45\n",
      "60\n",
      "61\n",
      "63\n",
      "65\n",
      "68\n",
      "70\n",
      "71\n",
      "73\n",
      "74\n",
      "75\n",
      "77\n",
      "81\n",
      "84\n",
      "86\n",
      "210\n",
      "237\n",
      "238\n",
      "239\n",
      "240\n",
      "241\n",
      "289\n",
      "295\n",
      "309\n",
      "376\n",
      "428\n",
      "432\n",
      "451\n",
      "452\n",
      "453\n",
      "454\n",
      "455\n",
      "456\n",
      "457\n",
      "459\n",
      "460\n",
      "461\n",
      "465\n",
      "468\n",
      "471\n",
      "473\n",
      "474\n",
      "476\n",
      "477\n",
      "478\n",
      "479\n",
      "480\n",
      "481\n",
      "482\n",
      "484\n",
      "485\n",
      "487\n",
      "489\n",
      "491\n",
      "492\n",
      "493\n",
      "494\n",
      "495\n",
      "496\n",
      "497\n",
      "498\n",
      "516\n",
      "524\n"
     ]
    }
   ],
   "source": [
    "base_list = [None]*548\n",
    "for i in range(len(liqcopy)):\n",
    "    base = []\n",
    "    if liqcopy[\"Base\"][i]=='Bourbon Cocktails':\n",
    "        base.append(\"Whisky\")\n",
    "    if liqcopy[\"Base\"][i]=='Bourbon Cocktails, Rye Whiskey Cocktails':\n",
    "        base.append(\"Whisky\")\n",
    "    if liqcopy[\"Base\"][i]=='Vodka Cocktails':\n",
    "        base.append(\"Vodka\")\n",
    "    if liqcopy[\"Base\"][i]=='Gin Cocktails':\n",
    "        base.append(\"Gin\")\n",
    "    if liqcopy[\"Base\"][i]=='Vodka Cocktails, Gin Cocktails':\n",
    "        base.append(\"Gin\")\n",
    "        base.append(\"Vodka\")\n",
    "    if liqcopy[\"Base\"][i]=='Vodka Cocktails, Tequila & Mezcal Cocktails':\n",
    "        base.append(\"Vodka\")\n",
    "        base.append('t or m')\n",
    "    if liqcopy[\"Base\"][i]=='Rum Cocktails':\n",
    "        base.append(\"Rum\")\n",
    "    if liqcopy[\"Base\"][i]=='Rum Cocktails, Tequila & Mezcal Cocktails':\n",
    "        base.append(\"Rum\")\n",
    "        base.append('t or m')\n",
    "    if liqcopy[\"Base\"][i]=='Rum Cocktails, Other Cocktails':\n",
    "        base.append(\"Rum\")\n",
    "    if liqcopy[\"Base\"][i]=='Rum Cocktails, Cognac & Other Brandy Cocktails, Gin Cocktails':\n",
    "        base.append(\"Rum\")\n",
    "        base.append(\"Gin\")\n",
    "        base.append('c or b')\n",
    "    if liqcopy[\"Base\"][i]=='Scotch Cocktails':\n",
    "        base.append(\"Whisky\")\n",
    "    if liqcopy[\"Base\"][i]=='Rye Whiskey Cocktails':\n",
    "        base.append(\"Whisky\")\n",
    "    if liqcopy[\"Base\"][i]=='Cognac & Other Brandy Cocktails':\n",
    "        base.append('c or b')\n",
    "    if liqcopy[\"Base\"][i]=='Rye Whiskey Cocktails, Cognac & Other Brandy Cocktails':\n",
    "        base.append(\"Whisky\")\n",
    "        base.append('c or b')\n",
    "    if liqcopy[\"Base\"][i]=='Other Whiskey Cocktails, Cognac & Other Brandy Cocktails':\n",
    "        base.append(\"Whisky\")\n",
    "        base.append('c or b')\n",
    "    if liqcopy[\"Base\"][i]=='Other Whiskey Cocktails':\n",
    "        base.append(\"Whisky\")\n",
    "    if liqcopy[\"Base\"][i]=='Vodka':\n",
    "        base.append(\"Vodka\")\n",
    "    if liqcopy[\"Base\"][i]=='Tequila & Mezcal Cocktails':\n",
    "        base.append('t or m')\n",
    "    \n",
    "    if \"vodka\" in liqcopy[\"Ingredients\"][i].lower():\n",
    "        base.append(\"Vodka\")\n",
    "    if \"rum\" in liqcopy[\"Ingredients\"][i].lower():\n",
    "        base.append(\"Rum\")\n",
    "    if \"whisky\" in liqcopy[\"Ingredients\"][i].lower() or \"whiskey\" in liqcopy[\"Ingredients\"][i].lower():\n",
    "        base.append(\"Whisky\")\n",
    "    if \"tequila\" in liqcopy[\"Ingredients\"][i].lower() or \"tekila\" in liqcopy[\"Ingredients\"][i].lower() or \"teqila\" in liqcopy[\"Ingredients\"][i].lower():\n",
    "        base.append(\"Tequila\")\n",
    "    if \"mezcal\" in liqcopy[\"Ingredients\"][i].lower():\n",
    "        base.append(\"Mezcal\")\n",
    "    if \"gin\" in liqcopy[\"Ingredients\"][i].lower():\n",
    "        base.append(\"Gin\")\n",
    "    if \"cognac\" in liqcopy[\"Ingredients\"][i].lower():\n",
    "        base.append(\"Cognac\")\n",
    "    if \"brandy\" in liqcopy[\"Ingredients\"][i].lower():\n",
    "        base.append(\"Brandy\")\n",
    "    if \"wine\" in liqcopy[\"Ingredients\"][i].lower():\n",
    "        base.append(\"Wine\")\n",
    "    if \"liquor\" in liqcopy[\"Ingredients\"][i].lower():\n",
    "        base.append(\"Liquor\")\n",
    "    if \"beer\" in liqcopy[\"Ingredients\"][i].lower():\n",
    "        base.append(\"Beer\")\n",
    "    if \" ale,\" in liqcopy[\"Ingredients\"][i].lower() or \" ale.\" in liqcopy[\"Ingredients\"][i].lower() or \" ale \" in liqcopy[\"Ingredients\"][i].lower():\n",
    "        base.append(\"Ale\")\n",
    "    if \"champagne\" in liqcopy[\"Ingredients\"][i].lower():\n",
    "        base.append(\"Champagne\")\n",
    "    \n",
    "    base = list(set(base))\n",
    "    if base==[]:\n",
    "        pass\n",
    "    else:\n",
    "        if 't or m' in base:\n",
    "            if \"Tequila\" in base or \"Mezcal\" in base:\n",
    "                base.remove('t or m')\n",
    "            else:\n",
    "                base.remove('t or m')\n",
    "                base.append(\"Tequila & Mezcal\")\n",
    "        if 'c or b' in base:\n",
    "            if \"Cognac\" in base or \"Brandy\" in base:\n",
    "                base.remove('c or b')\n",
    "            else:\n",
    "                base.remove('c or b')\n",
    "                base.append(\"Cognac & Brandy\")\n",
    "        base_list[i] = \", \".join(base)"
   ]
  },
  {
   "cell_type": "markdown",
   "id": "3febd117",
   "metadata": {},
   "source": [
    "Type 속성 부여하고 확인하기"
   ]
  },
  {
   "cell_type": "code",
   "execution_count": 386,
   "id": "ff895c19",
   "metadata": {},
   "outputs": [
    {
     "data": {
      "text/html": [
       "<div>\n",
       "<style scoped>\n",
       "    .dataframe tbody tr th:only-of-type {\n",
       "        vertical-align: middle;\n",
       "    }\n",
       "\n",
       "    .dataframe tbody tr th {\n",
       "        vertical-align: top;\n",
       "    }\n",
       "\n",
       "    .dataframe thead th {\n",
       "        text-align: right;\n",
       "    }\n",
       "</style>\n",
       "<table border=\"1\" class=\"dataframe\">\n",
       "  <thead>\n",
       "    <tr style=\"text-align: right;\">\n",
       "      <th></th>\n",
       "      <th>Name</th>\n",
       "      <th>Ingredients</th>\n",
       "      <th>Making</th>\n",
       "      <th>Link</th>\n",
       "      <th>Base</th>\n",
       "      <th>Garnish</th>\n",
       "      <th>Glass</th>\n",
       "    </tr>\n",
       "  </thead>\n",
       "  <tbody>\n",
       "    <tr>\n",
       "      <th>0</th>\n",
       "      <td>Left Hand</td>\n",
       "      <td>1 1/2 oz bourbon, 3/4 oz Campari, 3/4 oz sweet...</td>\n",
       "      <td>Add all ingredients into a mixing glass with i...</td>\n",
       "      <td>https://www.liquor.com/left-hand-cocktail-reci...</td>\n",
       "      <td>Whisky</td>\n",
       "      <td>brandied cherry</td>\n",
       "      <td>Coupe Glass</td>\n",
       "    </tr>\n",
       "    <tr>\n",
       "      <th>1</th>\n",
       "      <td>Kentucky Buck</td>\n",
       "      <td>2 small strawberries, hulled, 3/4 oz rich ging...</td>\n",
       "      <td>In a shaker, muddle the strawberries with the ...</td>\n",
       "      <td>https://www.liquor.com/kentucky-buck-cocktail-...</td>\n",
       "      <td>Gin, Whisky</td>\n",
       "      <td>strawberry slice</td>\n",
       "      <td>Collins Glass</td>\n",
       "    </tr>\n",
       "    <tr>\n",
       "      <th>2</th>\n",
       "      <td>Kentucky Maid</td>\n",
       "      <td>8 mint leaves, 2 thin cucumber slices, 3/4 oz ...</td>\n",
       "      <td>Place the mint leaves in a shaker and top with...</td>\n",
       "      <td>https://www.liquor.com/kentucky-maid-cocktail-...</td>\n",
       "      <td>Whisky</td>\n",
       "      <td>mint sprig skewed through a cucumber slice</td>\n",
       "      <td>Rocks Glass</td>\n",
       "    </tr>\n",
       "    <tr>\n",
       "      <th>3</th>\n",
       "      <td>Improved Whiskey Cocktail</td>\n",
       "      <td>2 oz bourbon or rye whiskey, 1 barspoon marasc...</td>\n",
       "      <td>Add all ingredients into a mixing glass with i...</td>\n",
       "      <td>https://www.liquor.com/improved-whiskey-cockta...</td>\n",
       "      <td>Whisky</td>\n",
       "      <td>lemon twist</td>\n",
       "      <td>Rocks Glass</td>\n",
       "    </tr>\n",
       "    <tr>\n",
       "      <th>4</th>\n",
       "      <td>Mint Julep</td>\n",
       "      <td>8 mint leaves, 1/4 oz simple syrup, 2 oz bourb...</td>\n",
       "      <td>In a Julep cup or rocks glass, lightly muddle ...</td>\n",
       "      <td>https://www.liquor.com/recipes/mint-julep/</td>\n",
       "      <td>None</td>\n",
       "      <td>a mint sprig and a few drops of bitters (opti...</td>\n",
       "      <td>Julep Cup or Rocks Glass</td>\n",
       "    </tr>\n",
       "  </tbody>\n",
       "</table>\n",
       "</div>"
      ],
      "text/plain": [
       "                        Name  \\\n",
       "0                  Left Hand   \n",
       "1              Kentucky Buck   \n",
       "2              Kentucky Maid   \n",
       "3  Improved Whiskey Cocktail   \n",
       "4                 Mint Julep   \n",
       "\n",
       "                                         Ingredients  \\\n",
       "0  1 1/2 oz bourbon, 3/4 oz Campari, 3/4 oz sweet...   \n",
       "1  2 small strawberries, hulled, 3/4 oz rich ging...   \n",
       "2  8 mint leaves, 2 thin cucumber slices, 3/4 oz ...   \n",
       "3  2 oz bourbon or rye whiskey, 1 barspoon marasc...   \n",
       "4  8 mint leaves, 1/4 oz simple syrup, 2 oz bourb...   \n",
       "\n",
       "                                              Making  \\\n",
       "0  Add all ingredients into a mixing glass with i...   \n",
       "1  In a shaker, muddle the strawberries with the ...   \n",
       "2  Place the mint leaves in a shaker and top with...   \n",
       "3  Add all ingredients into a mixing glass with i...   \n",
       "4  In a Julep cup or rocks glass, lightly muddle ...   \n",
       "\n",
       "                                                Link         Base  \\\n",
       "0  https://www.liquor.com/left-hand-cocktail-reci...       Whisky   \n",
       "1  https://www.liquor.com/kentucky-buck-cocktail-...  Gin, Whisky   \n",
       "2  https://www.liquor.com/kentucky-maid-cocktail-...       Whisky   \n",
       "3  https://www.liquor.com/improved-whiskey-cockta...       Whisky   \n",
       "4         https://www.liquor.com/recipes/mint-julep/         None   \n",
       "\n",
       "                                             Garnish                     Glass  \n",
       "0                                    brandied cherry               Coupe Glass  \n",
       "1                                   strawberry slice             Collins Glass  \n",
       "2         mint sprig skewed through a cucumber slice               Rocks Glass  \n",
       "3                                        lemon twist               Rocks Glass  \n",
       "4   a mint sprig and a few drops of bitters (opti...  Julep Cup or Rocks Glass  "
      ]
     },
     "execution_count": 386,
     "metadata": {},
     "output_type": "execute_result"
    }
   ],
   "source": [
    "liqcopy[\"Base\"]=base_list\n",
    "liqcopy.head()"
   ]
  },
  {
   "cell_type": "markdown",
   "id": "ef85519c",
   "metadata": {},
   "source": [
    "### 따로 스크랩했던 Method, Type, Flavor 속성의 속성값과 추출한 속성값 부여하기"
   ]
  },
  {
   "cell_type": "markdown",
   "id": "9dad33f4",
   "metadata": {},
   "source": [
    "따로 스크랩한 데이터<br>\n",
    "[\"Type\"(classic, modern classic, tiki&tropical, coffee&dessert, shot&shooters, punches, nonalcoholic, on the rocks, neat, hot, frozen&blended), <br>\n",
    "\"Method\"(shake, build, stir, up), <br>\n",
    "\"Flavor\"(bitter, sweet, savory, sour, spicy, fruity, smoky, herbaceous)]"
   ]
  },
  {
   "cell_type": "code",
   "execution_count": 387,
   "id": "69e0e8d0",
   "metadata": {},
   "outputs": [],
   "source": [
    "liq_type_classic = pd.read_csv(\"//Liqour_type_Classics.csv\")\n",
    "liq_type_modern_classic = pd.read_csv(\"//Liqour_type_Modern Classics.csv\")\n",
    "liq_type_tiki_tropical = pd.read_csv(\"//Liqour_type_Tiki & Tropical Cocktails.csv\")\n",
    "liq_type_coffee_dessert = pd.read_csv(\"//Liqour_type_Coffee & Dessert Cocktails.csv\")\n",
    "liq_type_shot_shooter = pd.read_csv(\"//Liqour_type_Shots & Shooters.csv\")\n",
    "liq_type_punch = pd.read_csv(\"//Liqour_type_Punches.csv\")\n",
    "liq_type_nonalcoholic = pd.read_csv(\"//Liqour_type_Nonalcoholic Drinks.csv\")\n",
    "liq_type_rocks = pd.read_csv(\"//Liqour_style_Cocktails On the Rocks.csv\")\n",
    "liq_type_neat = pd.read_csv(\"//Liqour_style_Neat Cocktails.csv\")\n",
    "liq_type_hot = pd.read_csv(\"//Liqour_style_Heated Cocktails.csv\")\n",
    "liq_type_frozen_blended = pd.read_csv(\"//Liqour_style_Frozen Blended Cocktails.csv\")\n",
    "liq_type_up = pd.read_csv(\"//Liqour_style_Up Cocktails.csv\")\n",
    "classic_list = list(liq_type_classic[\"Name\"])\n",
    "modern_classic_list = list(liq_type_modern_classic[\"Name\"])\n",
    "tiki_tropical_list = list(liq_type_tiki_tropical[\"Name\"])\n",
    "coffee_dessert_list = list(liq_type_coffee_dessert[\"Name\"])\n",
    "shooter_list = list(liq_type_shot_shooter[\"Name\"])\n",
    "punch_list = list(liq_type_punch[\"Name\"])\n",
    "nonalcoholic_list = list(liq_type_nonalcoholic[\"Name\"])\n",
    "rocks_list = list(liq_type_rocks[\"Name\"])\n",
    "neat_list = list(liq_type_neat[\"Name\"])\n",
    "hot_list = list(liq_type_hot[\"Name\"])\n",
    "frozen_blended_list = list(liq_type_frozen_blended[\"Name\"])\n",
    "up_list = list(liq_type_up[\"Name\"])\n",
    "\n",
    "liq_mothod_build1 = pd.read_csv(\"//Liqour_style_Cocktails Built in Glass.csv\")\n",
    "liq_mothod_build2 = pd.read_csv(\"//Liqour_style_Poured Cocktails.csv\")\n",
    "liq_mothod_shake = pd.read_csv(\"//Liqour_style_Shaken Cocktails.csv\")\n",
    "liq_mothod_stir = pd.read_csv(\"//Liqour_style_Stirred Cocktails.csv\")\n",
    "build1_list = list(liq_mothod_build1[\"Name\"])\n",
    "build2_list = list(liq_mothod_build2[\"Name\"])\n",
    "shake_list = list(liq_mothod_shake[\"Name\"])\n",
    "stir_list = list(liq_mothod_stir[\"Name\"])\n",
    "\n",
    "liq_flavor_bitter = pd.read_csv(\"//Liqour_flavor_Bitter.csv\")\n",
    "liq_flavor_sweet = pd.read_csv(\"//Liqour_flavor_Sweet.csv\")\n",
    "liq_flavor_savory = pd.read_csv(\"//Liqour_flavor_Savory.csv\")\n",
    "liq_flavor_sour = pd.read_csv(\"//Liqour_flavor_Sour.csv\")\n",
    "liq_flavor_spicy = pd.read_csv(\"//Liqour_flavor_Spicy.csv\")\n",
    "liq_flavor_fruity = pd.read_csv(\"//Liqour_flavor_Fruity.csv\")\n",
    "liq_flavor_smoky = pd.read_csv(\"//Liqour_flavor_Smoky.csv\")\n",
    "liq_flavor_herbaceous = pd.read_csv(\"//Liqour_flavor_Herbaceous.csv\")\n",
    "bitter_list = list(liq_flavor_bitter[\"Name\"])\n",
    "sweet_list = list(liq_flavor_sweet[\"Name\"])\n",
    "savory_list = list(liq_flavor_savory[\"Name\"])\n",
    "sour_list = list(liq_flavor_sour[\"Name\"])\n",
    "spicy_list = list(liq_flavor_spicy[\"Name\"])\n",
    "fruity_list = list(liq_flavor_fruity[\"Name\"])\n",
    "smoky_list = list(liq_flavor_smoky[\"Name\"])\n",
    "herbaceous_list = list(liq_flavor_herbaceous[\"Name\"])"
   ]
  },
  {
   "cell_type": "code",
   "execution_count": 388,
   "id": "f96cdaf6",
   "metadata": {},
   "outputs": [
    {
     "data": {
      "text/plain": [
       "array(['Coupe Glass', 'Collins Glass', 'Rocks Glass',\n",
       "       'Julep Cup or Rocks Glass', 'Highball Glass', 'Pint Glass',\n",
       "       'Old Fashioned Glass', 'Punch Glass', None,\n",
       "       'Collins or Highball Glass', 'Beer or Collins Glass',\n",
       "       'Cocktail Glass', 'Nick & Nora or Coupe Glass', 'Wine Glass',\n",
       "       'Coupe or Cocktail Glass', 'Martini Glass',\n",
       "       'Moscow Mule Mug or Highball Glass', 'Hurricane Glass',\n",
       "       'Shot Glass', 'Tiki Mug or Collins Glass',\n",
       "       'Goblet or Hurricane Glass', 'Margarita Glass',\n",
       "       'Pearl Diver Glass', 'Collins or Hurricane Glass',\n",
       "       'Coupe or Margarita Glass', 'Flute Glass', 'Clay Mug or Mug Glass',\n",
       "       'Nick & Nora or Cocktail Glass', 'Highball or Collins Glass',\n",
       "       'Nick & Nora Glass', 'Old Fashioned or Rocks Glass',\n",
       "       'Rocks or Cocktail Glass', 'Shot or Pint Glass',\n",
       "       'Rocks or Highball Glass', 'Irish Coffee Glass',\n",
       "       'Cantarito Cup or Collins Glass', 'Margarita or Cocktail Glass',\n",
       "       'Coupe or Wine Glass', 'Cocktail or Coupe Glass',\n",
       "       'Pint or Shot Glass', 'Cobbler Glass', 'Cocktail or Rocks Glass',\n",
       "       'Goblet or Wine Glass'], dtype=object)"
      ]
     },
     "execution_count": 388,
     "metadata": {},
     "output_type": "execute_result"
    }
   ],
   "source": [
    "liqcopy[\"Glass\"].unique()"
   ]
  },
  {
   "cell_type": "markdown",
   "id": "1c53cb4c",
   "metadata": {},
   "source": [
    "잠깐 glass에서 이상한 값이 발견되어서 수정하기<br>\n",
    ": shot과 pint는 or로 묶일 수 없는 glass인데 'Shot or Pint Glass'과 'Pint or Shot Glass'가 있다."
   ]
  },
  {
   "cell_type": "code",
   "execution_count": 389,
   "id": "af653da5",
   "metadata": {},
   "outputs": [
    {
     "name": "stdout",
     "output_type": "stream",
     "text": [
      "297\n",
      "Shot or Pint Glass\n",
      "Pour the whiskey into a shot glass. Fill a pint glass halfway with beer. Drop the shot glass into the beer.\n",
      "342\n",
      "Shot or Pint Glass\n",
      "Add the Baileys and whiskey into a shot glass, pouring slowly to create a layered effect. Drop the shot into a pint glass filled half to three-quarters with the Guinness. Drink immediately.\n",
      "484\n",
      "Pint or Shot Glass\n",
      "Pour the energy drink into a pint glass. Pour the Jägermeister into a shot glass. Drop the shot glass filled with Jägermeister into the pint glass.\n"
     ]
    }
   ],
   "source": [
    "for i in range(len(liqcopy)):\n",
    "    if liqcopy[\"Glass\"][i]=='Shot or Pint Glass' or liqcopy[\"Glass\"][i]=='Pint or Shot Glass':\n",
    "        print(i)\n",
    "        print(liqcopy[\"Glass\"][i])\n",
    "        print(liqcopy[\"Making\"][i])"
   ]
  },
  {
   "cell_type": "code",
   "execution_count": 390,
   "id": "d3c0a8d7",
   "metadata": {},
   "outputs": [],
   "source": [
    "liqcopy[\"Glass\"][297]='Shot and Pint Glass'\n",
    "liqcopy[\"Glass\"][342]='Shot and Pint Glass'\n",
    "liqcopy[\"Glass\"][484]='Pint and Shot Glass'"
   ]
  },
  {
   "cell_type": "markdown",
   "id": "eb22eb48",
   "metadata": {},
   "source": [
    "수정 완료"
   ]
  },
  {
   "cell_type": "code",
   "execution_count": 391,
   "id": "9adb71c0",
   "metadata": {},
   "outputs": [],
   "source": [
    "shooter_glasses = ['Shot Glass']\n",
    "short_glasses = ['Coupe Glass', 'Cocktail Glass', 'Coupe or Cocktail Glass', 'Martini Glass', 'Cocktail or Coupe Glass']\n",
    "long_glasses = ['Collins Glass', 'Highball Glass', 'Collins or Highball Glass', 'Hurricane Glass', 'Collins or Hurricane Glass', 'Highball or Collins Glass']"
   ]
  },
  {
   "cell_type": "code",
   "execution_count": 394,
   "id": "37d0ea3d",
   "metadata": {},
   "outputs": [],
   "source": [
    "type_list = [None]*548\n",
    "method_list = [None]*548\n",
    "flavor_list = [None]*548\n",
    "\n",
    "for i in range(len(liqcopy)):\n",
    "    types = []\n",
    "    methods = []\n",
    "    flavors = []\n",
    "    if liqcopy[\"Name\"][i] in classic_list:\n",
    "        types.append(\"Classic\")\n",
    "    if liqcopy[\"Name\"][i] in modern_classic_list:\n",
    "        if \"Classic\" in types:\n",
    "            types.remove(\"Classic\")\n",
    "        types.append(\"Modern Classic\")\n",
    "    if liqcopy[\"Name\"][i] in tiki_tropical_list:\n",
    "        types.append(\"Tiki & Tropical\")\n",
    "    if liqcopy[\"Name\"][i] in coffee_dessert_list:\n",
    "        types.append(\"Coffee & Dessert\")\n",
    "    if liqcopy[\"Name\"][i] in shooter_list:\n",
    "        types.append(\"Shooter\")\n",
    "    if liqcopy[\"Name\"][i] in punch_list:\n",
    "        types.append(\"Punch\")\n",
    "    if liqcopy[\"Name\"][i] in nonalcoholic_list:\n",
    "        types.append(\"Non-Alcoholic\")\n",
    "#    if liqcopy[\"Name\"] in rocks_list:\n",
    "#        types.append(\"\")\n",
    "    if liqcopy[\"Name\"][i] in neat_list:\n",
    "        types.append(\"Neat\")\n",
    "    if liqcopy[\"Name\"][i] in hot_list:\n",
    "        types.append(\"Hot\")\n",
    "    if liqcopy[\"Name\"][i] in frozen_blended_list:\n",
    "        types.append(\"Frozen/Blended\")\n",
    "        methods.append(\"Blend\")\n",
    "    if liqcopy[\"Name\"][i] in up_list:\n",
    "        types.append(\"Up\")\n",
    "        \n",
    "    if liqcopy[\"Glass\"][i] in shooter_glasses:\n",
    "        if \"Shooter\" not in types:\n",
    "            types.append(\"Shooter\")\n",
    "    if liqcopy[\"Glass\"][i] in short_glasses:\n",
    "        types.append(\"Short\")\n",
    "    if liqcopy[\"Glass\"][i] in long_glasses:\n",
    "        types.append(\"Long\")\n",
    "        \n",
    "    if \"shake\" in liqcopy[\"Making\"][i].lower():\n",
    "        methods.append(\"Shake\")\n",
    "    if \"stir\" in liqcopy[\"Making\"][i].lower() or \"mixing glass\" in liqcopy[\"Making\"][i].lower():\n",
    "        methods.append(\"Stir\")\n",
    "    if \"combine\" in liqcopy[\"Making\"][i].lower() or \"build\" in liqcopy[\"Making\"][i].lower():\n",
    "        methods.append(\"Build\")\n",
    "    if \"float\" in liqcopy[\"Making\"][i].lower() or \"layer\" in liqcopy[\"Making\"][i].lower():\n",
    "        methods.append(\"Float\")\n",
    "    if \"blend\" in liqcopy[\"Making\"][i].lower():\n",
    "        if \"Blend\" not in methods:\n",
    "            methods.append(\"Blend\")\n",
    "    if \"strain\" in liqcopy[\"Making\"][i].lower():\n",
    "        methods.append(\"Strain\")\n",
    "\n",
    "    if liqcopy[\"Name\"][i] in shake_list:\n",
    "        if \"Shake\" not in methods:\n",
    "            methods.append(\"Shake\")\n",
    "    if liqcopy[\"Name\"][i] in stir_list:\n",
    "        if \"Stir\" not in methods:\n",
    "            methods.append(\"Stir\")\n",
    "    if liqcopy[\"Name\"][i] in build1_list:\n",
    "        if \"Build\" not in methods:\n",
    "            if \"Shake\" in methods:\n",
    "                methods.remove(\"Shake\")\n",
    "            methods.append(\"Build\")\n",
    "        else:\n",
    "            if \"Shake\" in methods:\n",
    "                methods.remove(\"Shake\")\n",
    "    if liqcopy[\"Name\"][i] in build2_list:\n",
    "        if \"Build\" not in methods:\n",
    "            if \"Strain\" in methods:\n",
    "                methods.remove(\"Strain\")\n",
    "            methods.append(\"Build\")\n",
    "        else:\n",
    "            if \"Strain\" in methods:\n",
    "                methods.remove(\"Strain\")\n",
    "    \n",
    "    if liqcopy[\"Name\"][i] in bitter_list:\n",
    "        flavors.append(\"Bitter\")\n",
    "    if liqcopy[\"Name\"][i] in sweet_list:\n",
    "        flavors.append(\"Sweet\")\n",
    "    if liqcopy[\"Name\"][i] in savory_list:\n",
    "        flavors.append(\"Savory\")\n",
    "    if liqcopy[\"Name\"][i] in sour_list:\n",
    "        flavors.append(\"Sour\")\n",
    "    if liqcopy[\"Name\"][i] in spicy_list:\n",
    "        flavors.append(\"Spicy\")\n",
    "    if liqcopy[\"Name\"][i] in fruity_list:\n",
    "        flavors.append(\"Fruity\")\n",
    "    if liqcopy[\"Name\"][i] in smoky_list:\n",
    "        flavors.append(\"Smoky\")\n",
    "    if liqcopy[\"Name\"][i] in herbaceous_list:\n",
    "        flavors.append(\"Herbaceous\")\n",
    "    \n",
    "    if types==[]:\n",
    "        pass\n",
    "    else:\n",
    "        type_list[i] = \", \".join(types)\n",
    "        \n",
    "    if methods==[]:\n",
    "        pass\n",
    "    else:\n",
    "        method_list[i] = \", \".join(methods)\n",
    "        \n",
    "    if flavors==[]:\n",
    "        pass\n",
    "    else:\n",
    "        flavor_list[i] = \" ,\".join(flavors)"
   ]
  },
  {
   "cell_type": "markdown",
   "id": "8fc45cc7",
   "metadata": {},
   "source": [
    "Type 속성 부여하고 확인하기"
   ]
  },
  {
   "cell_type": "code",
   "execution_count": 395,
   "id": "475cd419",
   "metadata": {},
   "outputs": [
    {
     "data": {
      "text/html": [
       "<div>\n",
       "<style scoped>\n",
       "    .dataframe tbody tr th:only-of-type {\n",
       "        vertical-align: middle;\n",
       "    }\n",
       "\n",
       "    .dataframe tbody tr th {\n",
       "        vertical-align: top;\n",
       "    }\n",
       "\n",
       "    .dataframe thead th {\n",
       "        text-align: right;\n",
       "    }\n",
       "</style>\n",
       "<table border=\"1\" class=\"dataframe\">\n",
       "  <thead>\n",
       "    <tr style=\"text-align: right;\">\n",
       "      <th></th>\n",
       "      <th>Name</th>\n",
       "      <th>Ingredients</th>\n",
       "      <th>Making</th>\n",
       "      <th>Link</th>\n",
       "      <th>Base</th>\n",
       "      <th>Garnish</th>\n",
       "      <th>Glass</th>\n",
       "      <th>Type</th>\n",
       "    </tr>\n",
       "  </thead>\n",
       "  <tbody>\n",
       "    <tr>\n",
       "      <th>0</th>\n",
       "      <td>Left Hand</td>\n",
       "      <td>1 1/2 oz bourbon, 3/4 oz Campari, 3/4 oz sweet...</td>\n",
       "      <td>Add all ingredients into a mixing glass with i...</td>\n",
       "      <td>https://www.liquor.com/left-hand-cocktail-reci...</td>\n",
       "      <td>Whisky</td>\n",
       "      <td>brandied cherry</td>\n",
       "      <td>Coupe Glass</td>\n",
       "      <td>Short</td>\n",
       "    </tr>\n",
       "    <tr>\n",
       "      <th>1</th>\n",
       "      <td>Kentucky Buck</td>\n",
       "      <td>2 small strawberries, hulled, 3/4 oz rich ging...</td>\n",
       "      <td>In a shaker, muddle the strawberries with the ...</td>\n",
       "      <td>https://www.liquor.com/kentucky-buck-cocktail-...</td>\n",
       "      <td>Gin, Whisky</td>\n",
       "      <td>strawberry slice</td>\n",
       "      <td>Collins Glass</td>\n",
       "      <td>Long</td>\n",
       "    </tr>\n",
       "    <tr>\n",
       "      <th>2</th>\n",
       "      <td>Kentucky Maid</td>\n",
       "      <td>8 mint leaves, 2 thin cucumber slices, 3/4 oz ...</td>\n",
       "      <td>Place the mint leaves in a shaker and top with...</td>\n",
       "      <td>https://www.liquor.com/kentucky-maid-cocktail-...</td>\n",
       "      <td>Whisky</td>\n",
       "      <td>mint sprig skewed through a cucumber slice</td>\n",
       "      <td>Rocks Glass</td>\n",
       "      <td>None</td>\n",
       "    </tr>\n",
       "    <tr>\n",
       "      <th>3</th>\n",
       "      <td>Improved Whiskey Cocktail</td>\n",
       "      <td>2 oz bourbon or rye whiskey, 1 barspoon marasc...</td>\n",
       "      <td>Add all ingredients into a mixing glass with i...</td>\n",
       "      <td>https://www.liquor.com/improved-whiskey-cockta...</td>\n",
       "      <td>Whisky</td>\n",
       "      <td>lemon twist</td>\n",
       "      <td>Rocks Glass</td>\n",
       "      <td>Classic</td>\n",
       "    </tr>\n",
       "    <tr>\n",
       "      <th>4</th>\n",
       "      <td>Mint Julep</td>\n",
       "      <td>8 mint leaves, 1/4 oz simple syrup, 2 oz bourb...</td>\n",
       "      <td>In a Julep cup or rocks glass, lightly muddle ...</td>\n",
       "      <td>https://www.liquor.com/recipes/mint-julep/</td>\n",
       "      <td>None</td>\n",
       "      <td>a mint sprig and a few drops of bitters (opti...</td>\n",
       "      <td>Julep Cup or Rocks Glass</td>\n",
       "      <td>None</td>\n",
       "    </tr>\n",
       "  </tbody>\n",
       "</table>\n",
       "</div>"
      ],
      "text/plain": [
       "                        Name  \\\n",
       "0                  Left Hand   \n",
       "1              Kentucky Buck   \n",
       "2              Kentucky Maid   \n",
       "3  Improved Whiskey Cocktail   \n",
       "4                 Mint Julep   \n",
       "\n",
       "                                         Ingredients  \\\n",
       "0  1 1/2 oz bourbon, 3/4 oz Campari, 3/4 oz sweet...   \n",
       "1  2 small strawberries, hulled, 3/4 oz rich ging...   \n",
       "2  8 mint leaves, 2 thin cucumber slices, 3/4 oz ...   \n",
       "3  2 oz bourbon or rye whiskey, 1 barspoon marasc...   \n",
       "4  8 mint leaves, 1/4 oz simple syrup, 2 oz bourb...   \n",
       "\n",
       "                                              Making  \\\n",
       "0  Add all ingredients into a mixing glass with i...   \n",
       "1  In a shaker, muddle the strawberries with the ...   \n",
       "2  Place the mint leaves in a shaker and top with...   \n",
       "3  Add all ingredients into a mixing glass with i...   \n",
       "4  In a Julep cup or rocks glass, lightly muddle ...   \n",
       "\n",
       "                                                Link         Base  \\\n",
       "0  https://www.liquor.com/left-hand-cocktail-reci...       Whisky   \n",
       "1  https://www.liquor.com/kentucky-buck-cocktail-...  Gin, Whisky   \n",
       "2  https://www.liquor.com/kentucky-maid-cocktail-...       Whisky   \n",
       "3  https://www.liquor.com/improved-whiskey-cockta...       Whisky   \n",
       "4         https://www.liquor.com/recipes/mint-julep/         None   \n",
       "\n",
       "                                             Garnish  \\\n",
       "0                                    brandied cherry   \n",
       "1                                   strawberry slice   \n",
       "2         mint sprig skewed through a cucumber slice   \n",
       "3                                        lemon twist   \n",
       "4   a mint sprig and a few drops of bitters (opti...   \n",
       "\n",
       "                      Glass     Type  \n",
       "0               Coupe Glass    Short  \n",
       "1             Collins Glass     Long  \n",
       "2               Rocks Glass     None  \n",
       "3               Rocks Glass  Classic  \n",
       "4  Julep Cup or Rocks Glass     None  "
      ]
     },
     "execution_count": 395,
     "metadata": {},
     "output_type": "execute_result"
    }
   ],
   "source": [
    "liqcopy[\"Type\"]=type_list\n",
    "liqcopy.head()"
   ]
  },
  {
   "cell_type": "markdown",
   "id": "a2e54468",
   "metadata": {},
   "source": [
    "Method 속성 부여하고 확인하기"
   ]
  },
  {
   "cell_type": "code",
   "execution_count": 397,
   "id": "a0e76ea3",
   "metadata": {},
   "outputs": [
    {
     "data": {
      "text/html": [
       "<div>\n",
       "<style scoped>\n",
       "    .dataframe tbody tr th:only-of-type {\n",
       "        vertical-align: middle;\n",
       "    }\n",
       "\n",
       "    .dataframe tbody tr th {\n",
       "        vertical-align: top;\n",
       "    }\n",
       "\n",
       "    .dataframe thead th {\n",
       "        text-align: right;\n",
       "    }\n",
       "</style>\n",
       "<table border=\"1\" class=\"dataframe\">\n",
       "  <thead>\n",
       "    <tr style=\"text-align: right;\">\n",
       "      <th></th>\n",
       "      <th>Name</th>\n",
       "      <th>Ingredients</th>\n",
       "      <th>Making</th>\n",
       "      <th>Link</th>\n",
       "      <th>Base</th>\n",
       "      <th>Garnish</th>\n",
       "      <th>Glass</th>\n",
       "      <th>Type</th>\n",
       "      <th>Method</th>\n",
       "    </tr>\n",
       "  </thead>\n",
       "  <tbody>\n",
       "    <tr>\n",
       "      <th>0</th>\n",
       "      <td>Left Hand</td>\n",
       "      <td>1 1/2 oz bourbon, 3/4 oz Campari, 3/4 oz sweet...</td>\n",
       "      <td>Add all ingredients into a mixing glass with i...</td>\n",
       "      <td>https://www.liquor.com/left-hand-cocktail-reci...</td>\n",
       "      <td>Whisky</td>\n",
       "      <td>brandied cherry</td>\n",
       "      <td>Coupe Glass</td>\n",
       "      <td>Short</td>\n",
       "      <td>Stir, Strain</td>\n",
       "    </tr>\n",
       "    <tr>\n",
       "      <th>1</th>\n",
       "      <td>Kentucky Buck</td>\n",
       "      <td>2 small strawberries, hulled, 3/4 oz rich ging...</td>\n",
       "      <td>In a shaker, muddle the strawberries with the ...</td>\n",
       "      <td>https://www.liquor.com/kentucky-buck-cocktail-...</td>\n",
       "      <td>Gin, Whisky</td>\n",
       "      <td>strawberry slice</td>\n",
       "      <td>Collins Glass</td>\n",
       "      <td>Long</td>\n",
       "      <td>Shake, Strain</td>\n",
       "    </tr>\n",
       "    <tr>\n",
       "      <th>2</th>\n",
       "      <td>Kentucky Maid</td>\n",
       "      <td>8 mint leaves, 2 thin cucumber slices, 3/4 oz ...</td>\n",
       "      <td>Place the mint leaves in a shaker and top with...</td>\n",
       "      <td>https://www.liquor.com/kentucky-maid-cocktail-...</td>\n",
       "      <td>Whisky</td>\n",
       "      <td>mint sprig skewed through a cucumber slice</td>\n",
       "      <td>Rocks Glass</td>\n",
       "      <td>None</td>\n",
       "      <td>Shake, Strain</td>\n",
       "    </tr>\n",
       "    <tr>\n",
       "      <th>3</th>\n",
       "      <td>Improved Whiskey Cocktail</td>\n",
       "      <td>2 oz bourbon or rye whiskey, 1 barspoon marasc...</td>\n",
       "      <td>Add all ingredients into a mixing glass with i...</td>\n",
       "      <td>https://www.liquor.com/improved-whiskey-cockta...</td>\n",
       "      <td>Whisky</td>\n",
       "      <td>lemon twist</td>\n",
       "      <td>Rocks Glass</td>\n",
       "      <td>Classic</td>\n",
       "      <td>Stir, Strain</td>\n",
       "    </tr>\n",
       "    <tr>\n",
       "      <th>4</th>\n",
       "      <td>Mint Julep</td>\n",
       "      <td>8 mint leaves, 1/4 oz simple syrup, 2 oz bourb...</td>\n",
       "      <td>In a Julep cup or rocks glass, lightly muddle ...</td>\n",
       "      <td>https://www.liquor.com/recipes/mint-julep/</td>\n",
       "      <td>None</td>\n",
       "      <td>a mint sprig and a few drops of bitters (opti...</td>\n",
       "      <td>Julep Cup or Rocks Glass</td>\n",
       "      <td>None</td>\n",
       "      <td>Stir</td>\n",
       "    </tr>\n",
       "  </tbody>\n",
       "</table>\n",
       "</div>"
      ],
      "text/plain": [
       "                        Name  \\\n",
       "0                  Left Hand   \n",
       "1              Kentucky Buck   \n",
       "2              Kentucky Maid   \n",
       "3  Improved Whiskey Cocktail   \n",
       "4                 Mint Julep   \n",
       "\n",
       "                                         Ingredients  \\\n",
       "0  1 1/2 oz bourbon, 3/4 oz Campari, 3/4 oz sweet...   \n",
       "1  2 small strawberries, hulled, 3/4 oz rich ging...   \n",
       "2  8 mint leaves, 2 thin cucumber slices, 3/4 oz ...   \n",
       "3  2 oz bourbon or rye whiskey, 1 barspoon marasc...   \n",
       "4  8 mint leaves, 1/4 oz simple syrup, 2 oz bourb...   \n",
       "\n",
       "                                              Making  \\\n",
       "0  Add all ingredients into a mixing glass with i...   \n",
       "1  In a shaker, muddle the strawberries with the ...   \n",
       "2  Place the mint leaves in a shaker and top with...   \n",
       "3  Add all ingredients into a mixing glass with i...   \n",
       "4  In a Julep cup or rocks glass, lightly muddle ...   \n",
       "\n",
       "                                                Link         Base  \\\n",
       "0  https://www.liquor.com/left-hand-cocktail-reci...       Whisky   \n",
       "1  https://www.liquor.com/kentucky-buck-cocktail-...  Gin, Whisky   \n",
       "2  https://www.liquor.com/kentucky-maid-cocktail-...       Whisky   \n",
       "3  https://www.liquor.com/improved-whiskey-cockta...       Whisky   \n",
       "4         https://www.liquor.com/recipes/mint-julep/         None   \n",
       "\n",
       "                                             Garnish  \\\n",
       "0                                    brandied cherry   \n",
       "1                                   strawberry slice   \n",
       "2         mint sprig skewed through a cucumber slice   \n",
       "3                                        lemon twist   \n",
       "4   a mint sprig and a few drops of bitters (opti...   \n",
       "\n",
       "                      Glass     Type         Method  \n",
       "0               Coupe Glass    Short   Stir, Strain  \n",
       "1             Collins Glass     Long  Shake, Strain  \n",
       "2               Rocks Glass     None  Shake, Strain  \n",
       "3               Rocks Glass  Classic   Stir, Strain  \n",
       "4  Julep Cup or Rocks Glass     None           Stir  "
      ]
     },
     "execution_count": 397,
     "metadata": {},
     "output_type": "execute_result"
    }
   ],
   "source": [
    "liqcopy[\"Method\"]=method_list\n",
    "liqcopy.head()"
   ]
  },
  {
   "cell_type": "markdown",
   "id": "9edd6ba8",
   "metadata": {},
   "source": [
    "Flavor 속성 부여하고 확인하기"
   ]
  },
  {
   "cell_type": "code",
   "execution_count": 398,
   "id": "9c1c8bb0",
   "metadata": {},
   "outputs": [
    {
     "data": {
      "text/html": [
       "<div>\n",
       "<style scoped>\n",
       "    .dataframe tbody tr th:only-of-type {\n",
       "        vertical-align: middle;\n",
       "    }\n",
       "\n",
       "    .dataframe tbody tr th {\n",
       "        vertical-align: top;\n",
       "    }\n",
       "\n",
       "    .dataframe thead th {\n",
       "        text-align: right;\n",
       "    }\n",
       "</style>\n",
       "<table border=\"1\" class=\"dataframe\">\n",
       "  <thead>\n",
       "    <tr style=\"text-align: right;\">\n",
       "      <th></th>\n",
       "      <th>Name</th>\n",
       "      <th>Ingredients</th>\n",
       "      <th>Making</th>\n",
       "      <th>Link</th>\n",
       "      <th>Base</th>\n",
       "      <th>Garnish</th>\n",
       "      <th>Glass</th>\n",
       "      <th>Type</th>\n",
       "      <th>Method</th>\n",
       "      <th>Flavor</th>\n",
       "    </tr>\n",
       "  </thead>\n",
       "  <tbody>\n",
       "    <tr>\n",
       "      <th>0</th>\n",
       "      <td>Left Hand</td>\n",
       "      <td>1 1/2 oz bourbon, 3/4 oz Campari, 3/4 oz sweet...</td>\n",
       "      <td>Add all ingredients into a mixing glass with i...</td>\n",
       "      <td>https://www.liquor.com/left-hand-cocktail-reci...</td>\n",
       "      <td>Whisky</td>\n",
       "      <td>brandied cherry</td>\n",
       "      <td>Coupe Glass</td>\n",
       "      <td>Short</td>\n",
       "      <td>Stir, Strain</td>\n",
       "      <td>None</td>\n",
       "    </tr>\n",
       "    <tr>\n",
       "      <th>1</th>\n",
       "      <td>Kentucky Buck</td>\n",
       "      <td>2 small strawberries, hulled, 3/4 oz rich ging...</td>\n",
       "      <td>In a shaker, muddle the strawberries with the ...</td>\n",
       "      <td>https://www.liquor.com/kentucky-buck-cocktail-...</td>\n",
       "      <td>Gin, Whisky</td>\n",
       "      <td>strawberry slice</td>\n",
       "      <td>Collins Glass</td>\n",
       "      <td>Long</td>\n",
       "      <td>Shake, Strain</td>\n",
       "      <td>None</td>\n",
       "    </tr>\n",
       "    <tr>\n",
       "      <th>2</th>\n",
       "      <td>Kentucky Maid</td>\n",
       "      <td>8 mint leaves, 2 thin cucumber slices, 3/4 oz ...</td>\n",
       "      <td>Place the mint leaves in a shaker and top with...</td>\n",
       "      <td>https://www.liquor.com/kentucky-maid-cocktail-...</td>\n",
       "      <td>Whisky</td>\n",
       "      <td>mint sprig skewed through a cucumber slice</td>\n",
       "      <td>Rocks Glass</td>\n",
       "      <td>None</td>\n",
       "      <td>Shake, Strain</td>\n",
       "      <td>Herbaceous</td>\n",
       "    </tr>\n",
       "    <tr>\n",
       "      <th>3</th>\n",
       "      <td>Improved Whiskey Cocktail</td>\n",
       "      <td>2 oz bourbon or rye whiskey, 1 barspoon marasc...</td>\n",
       "      <td>Add all ingredients into a mixing glass with i...</td>\n",
       "      <td>https://www.liquor.com/improved-whiskey-cockta...</td>\n",
       "      <td>Whisky</td>\n",
       "      <td>lemon twist</td>\n",
       "      <td>Rocks Glass</td>\n",
       "      <td>Classic</td>\n",
       "      <td>Stir, Strain</td>\n",
       "      <td>None</td>\n",
       "    </tr>\n",
       "    <tr>\n",
       "      <th>4</th>\n",
       "      <td>Mint Julep</td>\n",
       "      <td>8 mint leaves, 1/4 oz simple syrup, 2 oz bourb...</td>\n",
       "      <td>In a Julep cup or rocks glass, lightly muddle ...</td>\n",
       "      <td>https://www.liquor.com/recipes/mint-julep/</td>\n",
       "      <td>None</td>\n",
       "      <td>a mint sprig and a few drops of bitters (opti...</td>\n",
       "      <td>Julep Cup or Rocks Glass</td>\n",
       "      <td>None</td>\n",
       "      <td>Stir</td>\n",
       "      <td>None</td>\n",
       "    </tr>\n",
       "  </tbody>\n",
       "</table>\n",
       "</div>"
      ],
      "text/plain": [
       "                        Name  \\\n",
       "0                  Left Hand   \n",
       "1              Kentucky Buck   \n",
       "2              Kentucky Maid   \n",
       "3  Improved Whiskey Cocktail   \n",
       "4                 Mint Julep   \n",
       "\n",
       "                                         Ingredients  \\\n",
       "0  1 1/2 oz bourbon, 3/4 oz Campari, 3/4 oz sweet...   \n",
       "1  2 small strawberries, hulled, 3/4 oz rich ging...   \n",
       "2  8 mint leaves, 2 thin cucumber slices, 3/4 oz ...   \n",
       "3  2 oz bourbon or rye whiskey, 1 barspoon marasc...   \n",
       "4  8 mint leaves, 1/4 oz simple syrup, 2 oz bourb...   \n",
       "\n",
       "                                              Making  \\\n",
       "0  Add all ingredients into a mixing glass with i...   \n",
       "1  In a shaker, muddle the strawberries with the ...   \n",
       "2  Place the mint leaves in a shaker and top with...   \n",
       "3  Add all ingredients into a mixing glass with i...   \n",
       "4  In a Julep cup or rocks glass, lightly muddle ...   \n",
       "\n",
       "                                                Link         Base  \\\n",
       "0  https://www.liquor.com/left-hand-cocktail-reci...       Whisky   \n",
       "1  https://www.liquor.com/kentucky-buck-cocktail-...  Gin, Whisky   \n",
       "2  https://www.liquor.com/kentucky-maid-cocktail-...       Whisky   \n",
       "3  https://www.liquor.com/improved-whiskey-cockta...       Whisky   \n",
       "4         https://www.liquor.com/recipes/mint-julep/         None   \n",
       "\n",
       "                                             Garnish  \\\n",
       "0                                    brandied cherry   \n",
       "1                                   strawberry slice   \n",
       "2         mint sprig skewed through a cucumber slice   \n",
       "3                                        lemon twist   \n",
       "4   a mint sprig and a few drops of bitters (opti...   \n",
       "\n",
       "                      Glass     Type         Method      Flavor  \n",
       "0               Coupe Glass    Short   Stir, Strain        None  \n",
       "1             Collins Glass     Long  Shake, Strain        None  \n",
       "2               Rocks Glass     None  Shake, Strain  Herbaceous  \n",
       "3               Rocks Glass  Classic   Stir, Strain        None  \n",
       "4  Julep Cup or Rocks Glass     None           Stir        None  "
      ]
     },
     "execution_count": 398,
     "metadata": {},
     "output_type": "execute_result"
    }
   ],
   "source": [
    "liqcopy[\"Flavor\"]=flavor_list\n",
    "liqcopy.head()"
   ]
  },
  {
   "cell_type": "markdown",
   "id": "8a76dc76",
   "metadata": {},
   "source": [
    "카테고리 순서 형식에 맞게 정렬하고 확인하기"
   ]
  },
  {
   "cell_type": "code",
   "execution_count": 399,
   "id": "65b5255b",
   "metadata": {},
   "outputs": [
    {
     "data": {
      "text/html": [
       "<div>\n",
       "<style scoped>\n",
       "    .dataframe tbody tr th:only-of-type {\n",
       "        vertical-align: middle;\n",
       "    }\n",
       "\n",
       "    .dataframe tbody tr th {\n",
       "        vertical-align: top;\n",
       "    }\n",
       "\n",
       "    .dataframe thead th {\n",
       "        text-align: right;\n",
       "    }\n",
       "</style>\n",
       "<table border=\"1\" class=\"dataframe\">\n",
       "  <thead>\n",
       "    <tr style=\"text-align: right;\">\n",
       "      <th></th>\n",
       "      <th>Name</th>\n",
       "      <th>Ingredients</th>\n",
       "      <th>Making</th>\n",
       "      <th>Link</th>\n",
       "      <th>Glass</th>\n",
       "      <th>Garnish</th>\n",
       "      <th>Base</th>\n",
       "      <th>Method</th>\n",
       "      <th>Type</th>\n",
       "      <th>Flavor</th>\n",
       "    </tr>\n",
       "  </thead>\n",
       "  <tbody>\n",
       "    <tr>\n",
       "      <th>0</th>\n",
       "      <td>Left Hand</td>\n",
       "      <td>1 1/2 oz bourbon, 3/4 oz Campari, 3/4 oz sweet...</td>\n",
       "      <td>Add all ingredients into a mixing glass with i...</td>\n",
       "      <td>https://www.liquor.com/left-hand-cocktail-reci...</td>\n",
       "      <td>Coupe Glass</td>\n",
       "      <td>brandied cherry</td>\n",
       "      <td>Whisky</td>\n",
       "      <td>Stir, Strain</td>\n",
       "      <td>Short</td>\n",
       "      <td>None</td>\n",
       "    </tr>\n",
       "    <tr>\n",
       "      <th>1</th>\n",
       "      <td>Kentucky Buck</td>\n",
       "      <td>2 small strawberries, hulled, 3/4 oz rich ging...</td>\n",
       "      <td>In a shaker, muddle the strawberries with the ...</td>\n",
       "      <td>https://www.liquor.com/kentucky-buck-cocktail-...</td>\n",
       "      <td>Collins Glass</td>\n",
       "      <td>strawberry slice</td>\n",
       "      <td>Gin, Whisky</td>\n",
       "      <td>Shake, Strain</td>\n",
       "      <td>Long</td>\n",
       "      <td>None</td>\n",
       "    </tr>\n",
       "    <tr>\n",
       "      <th>2</th>\n",
       "      <td>Kentucky Maid</td>\n",
       "      <td>8 mint leaves, 2 thin cucumber slices, 3/4 oz ...</td>\n",
       "      <td>Place the mint leaves in a shaker and top with...</td>\n",
       "      <td>https://www.liquor.com/kentucky-maid-cocktail-...</td>\n",
       "      <td>Rocks Glass</td>\n",
       "      <td>mint sprig skewed through a cucumber slice</td>\n",
       "      <td>Whisky</td>\n",
       "      <td>Shake, Strain</td>\n",
       "      <td>None</td>\n",
       "      <td>Herbaceous</td>\n",
       "    </tr>\n",
       "    <tr>\n",
       "      <th>3</th>\n",
       "      <td>Improved Whiskey Cocktail</td>\n",
       "      <td>2 oz bourbon or rye whiskey, 1 barspoon marasc...</td>\n",
       "      <td>Add all ingredients into a mixing glass with i...</td>\n",
       "      <td>https://www.liquor.com/improved-whiskey-cockta...</td>\n",
       "      <td>Rocks Glass</td>\n",
       "      <td>lemon twist</td>\n",
       "      <td>Whisky</td>\n",
       "      <td>Stir, Strain</td>\n",
       "      <td>Classic</td>\n",
       "      <td>None</td>\n",
       "    </tr>\n",
       "    <tr>\n",
       "      <th>4</th>\n",
       "      <td>Mint Julep</td>\n",
       "      <td>8 mint leaves, 1/4 oz simple syrup, 2 oz bourb...</td>\n",
       "      <td>In a Julep cup or rocks glass, lightly muddle ...</td>\n",
       "      <td>https://www.liquor.com/recipes/mint-julep/</td>\n",
       "      <td>Julep Cup or Rocks Glass</td>\n",
       "      <td>a mint sprig and a few drops of bitters (opti...</td>\n",
       "      <td>None</td>\n",
       "      <td>Stir</td>\n",
       "      <td>None</td>\n",
       "      <td>None</td>\n",
       "    </tr>\n",
       "  </tbody>\n",
       "</table>\n",
       "</div>"
      ],
      "text/plain": [
       "                        Name  \\\n",
       "0                  Left Hand   \n",
       "1              Kentucky Buck   \n",
       "2              Kentucky Maid   \n",
       "3  Improved Whiskey Cocktail   \n",
       "4                 Mint Julep   \n",
       "\n",
       "                                         Ingredients  \\\n",
       "0  1 1/2 oz bourbon, 3/4 oz Campari, 3/4 oz sweet...   \n",
       "1  2 small strawberries, hulled, 3/4 oz rich ging...   \n",
       "2  8 mint leaves, 2 thin cucumber slices, 3/4 oz ...   \n",
       "3  2 oz bourbon or rye whiskey, 1 barspoon marasc...   \n",
       "4  8 mint leaves, 1/4 oz simple syrup, 2 oz bourb...   \n",
       "\n",
       "                                              Making  \\\n",
       "0  Add all ingredients into a mixing glass with i...   \n",
       "1  In a shaker, muddle the strawberries with the ...   \n",
       "2  Place the mint leaves in a shaker and top with...   \n",
       "3  Add all ingredients into a mixing glass with i...   \n",
       "4  In a Julep cup or rocks glass, lightly muddle ...   \n",
       "\n",
       "                                                Link  \\\n",
       "0  https://www.liquor.com/left-hand-cocktail-reci...   \n",
       "1  https://www.liquor.com/kentucky-buck-cocktail-...   \n",
       "2  https://www.liquor.com/kentucky-maid-cocktail-...   \n",
       "3  https://www.liquor.com/improved-whiskey-cockta...   \n",
       "4         https://www.liquor.com/recipes/mint-julep/   \n",
       "\n",
       "                      Glass  \\\n",
       "0               Coupe Glass   \n",
       "1             Collins Glass   \n",
       "2               Rocks Glass   \n",
       "3               Rocks Glass   \n",
       "4  Julep Cup or Rocks Glass   \n",
       "\n",
       "                                             Garnish         Base  \\\n",
       "0                                    brandied cherry       Whisky   \n",
       "1                                   strawberry slice  Gin, Whisky   \n",
       "2         mint sprig skewed through a cucumber slice       Whisky   \n",
       "3                                        lemon twist       Whisky   \n",
       "4   a mint sprig and a few drops of bitters (opti...         None   \n",
       "\n",
       "          Method     Type      Flavor  \n",
       "0   Stir, Strain    Short        None  \n",
       "1  Shake, Strain     Long        None  \n",
       "2  Shake, Strain     None  Herbaceous  \n",
       "3   Stir, Strain  Classic        None  \n",
       "4           Stir     None        None  "
      ]
     },
     "execution_count": 399,
     "metadata": {},
     "output_type": "execute_result"
    }
   ],
   "source": [
    "liqcopy = liqcopy[[\"Name\", \"Ingredients\", \"Making\", \"Link\", \"Glass\", \"Garnish\", \"Base\", \"Method\", \"Type\", \"Flavor\"]]\n",
    "liqcopy.head()"
   ]
  },
  {
   "cell_type": "markdown",
   "id": "44a6a9fc",
   "metadata": {},
   "source": [
    "데이터 저장하기"
   ]
  },
  {
   "cell_type": "code",
   "execution_count": 400,
   "id": "e508c4cb",
   "metadata": {},
   "outputs": [],
   "source": [
    "liqcopy.to_csv(\"//Liquor_ready.csv\", encoding=\"utf-8-sig\", index=False)"
   ]
  },
  {
   "cell_type": "markdown",
   "id": "1230a2e9",
   "metadata": {},
   "source": [
    "Liquor 데이터 전처리 완료"
   ]
  }
 ],
 "metadata": {
  "kernelspec": {
   "display_name": "Python 3 (ipykernel)",
   "language": "python",
   "name": "python3"
  },
  "language_info": {
   "codemirror_mode": {
    "name": "ipython",
    "version": 3
   },
   "file_extension": ".py",
   "mimetype": "text/x-python",
   "name": "python",
   "nbconvert_exporter": "python",
   "pygments_lexer": "ipython3",
   "version": "3.8.13"
  }
 },
 "nbformat": 4,
 "nbformat_minor": 5
}
