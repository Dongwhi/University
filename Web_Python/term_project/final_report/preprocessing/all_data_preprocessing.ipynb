{
 "cells": [
  {
   "cell_type": "code",
   "execution_count": 1,
   "id": "f2ae7d52",
   "metadata": {},
   "outputs": [],
   "source": [
    "import pandas as pd"
   ]
  },
  {
   "cell_type": "code",
   "execution_count": 233,
   "id": "ffed308e",
   "metadata": {},
   "outputs": [],
   "source": [
    "barnone = \"//Barnone_ready.csv\"\n",
    "diffords = \"//Diffords_ready.csv\"\n",
    "drinkmixer = \"//Drinkmixer_ready.csv\"\n",
    "iba = \"//IBA_ready.csv\"\n",
    "liquor = \"//Liquor_ready.csv\""
   ]
  },
  {
   "cell_type": "code",
   "execution_count": 234,
   "id": "0398f30d",
   "metadata": {},
   "outputs": [],
   "source": [
    "dataFrame = pd.concat(map(pd.read_csv, [barnone, diffords, drinkmixer, iba, liquor]), ignore_index=True)"
   ]
  },
  {
   "cell_type": "code",
   "execution_count": 235,
   "id": "4401248b",
   "metadata": {},
   "outputs": [
    {
     "data": {
      "text/html": [
       "<div>\n",
       "<style scoped>\n",
       "    .dataframe tbody tr th:only-of-type {\n",
       "        vertical-align: middle;\n",
       "    }\n",
       "\n",
       "    .dataframe tbody tr th {\n",
       "        vertical-align: top;\n",
       "    }\n",
       "\n",
       "    .dataframe thead th {\n",
       "        text-align: right;\n",
       "    }\n",
       "</style>\n",
       "<table border=\"1\" class=\"dataframe\">\n",
       "  <thead>\n",
       "    <tr style=\"text-align: right;\">\n",
       "      <th></th>\n",
       "      <th>Name</th>\n",
       "      <th>Ingredients</th>\n",
       "      <th>Making</th>\n",
       "      <th>Link</th>\n",
       "      <th>Glass</th>\n",
       "      <th>Garnish</th>\n",
       "      <th>Base</th>\n",
       "      <th>Method</th>\n",
       "      <th>Type</th>\n",
       "      <th>Flavor</th>\n",
       "    </tr>\n",
       "  </thead>\n",
       "  <tbody>\n",
       "    <tr>\n",
       "      <th>0</th>\n",
       "      <td>#26</td>\n",
       "      <td>Grapes Red, 1 part(s) Pernod Absinthe, 1 dash(...</td>\n",
       "      <td>Muddle six or seven grapes. Add ice, lime, syr...</td>\n",
       "      <td>https://www.barnonedrinks.com/drinks/-/26-1339...</td>\n",
       "      <td>Highball Glass</td>\n",
       "      <td>fresh grapes</td>\n",
       "      <td>NaN</td>\n",
       "      <td>Strain, Shake</td>\n",
       "      <td>Long</td>\n",
       "      <td>NaN</td>\n",
       "    </tr>\n",
       "    <tr>\n",
       "      <th>1</th>\n",
       "      <td>$2 Fish</td>\n",
       "      <td>1 oz Vodka Orange Twist, 1 oz Tequila, 1/2 oz ...</td>\n",
       "      <td>Combine vodka and tequilla in a highball glass...</td>\n",
       "      <td>https://www.barnonedrinks.com/drinks/-/2-fish-...</td>\n",
       "      <td>Highball Glass</td>\n",
       "      <td>NaN</td>\n",
       "      <td>Vodka, Tequila</td>\n",
       "      <td>Build</td>\n",
       "      <td>Long</td>\n",
       "      <td>NaN</td>\n",
       "    </tr>\n",
       "    <tr>\n",
       "      <th>2</th>\n",
       "      <td>'57 Chevy</td>\n",
       "      <td>1 oz Southern Comfort, 1 oz Crown Royal, 1 oz ...</td>\n",
       "      <td>Fill a highball glass with ice and pour in the...</td>\n",
       "      <td>https://www.barnonedrinks.com/drinks/-/57-chev...</td>\n",
       "      <td>Highball Glass</td>\n",
       "      <td>NaN</td>\n",
       "      <td>NaN</td>\n",
       "      <td>Shake</td>\n",
       "      <td>Long</td>\n",
       "      <td>NaN</td>\n",
       "    </tr>\n",
       "    <tr>\n",
       "      <th>3</th>\n",
       "      <td>'57 Chevy #1</td>\n",
       "      <td>1 oz Amaretto, 1 oz Southern Comfort, 1 oz Pea...</td>\n",
       "      <td>Mix over ice in a hurricane glass. No girl can...</td>\n",
       "      <td>https://www.barnonedrinks.com/drinks/-/57-chev...</td>\n",
       "      <td>Hurricane Glass</td>\n",
       "      <td>NaN</td>\n",
       "      <td>NaN</td>\n",
       "      <td>Stir</td>\n",
       "      <td>Long</td>\n",
       "      <td>NaN</td>\n",
       "    </tr>\n",
       "    <tr>\n",
       "      <th>4</th>\n",
       "      <td>'57 Chevy #2</td>\n",
       "      <td>1 1/2 oz Southern Comfort, 1 1/2 oz Grand Marn...</td>\n",
       "      <td>Combine in a highball glass and top with pinea...</td>\n",
       "      <td>https://www.barnonedrinks.com/drinks/-/57-chev...</td>\n",
       "      <td>Highball Glass</td>\n",
       "      <td>NaN</td>\n",
       "      <td>Vodka</td>\n",
       "      <td>Build</td>\n",
       "      <td>Long</td>\n",
       "      <td>NaN</td>\n",
       "    </tr>\n",
       "    <tr>\n",
       "      <th>...</th>\n",
       "      <td>...</td>\n",
       "      <td>...</td>\n",
       "      <td>...</td>\n",
       "      <td>...</td>\n",
       "      <td>...</td>\n",
       "      <td>...</td>\n",
       "      <td>...</td>\n",
       "      <td>...</td>\n",
       "      <td>...</td>\n",
       "      <td>...</td>\n",
       "    </tr>\n",
       "    <tr>\n",
       "      <th>35721</th>\n",
       "      <td>Corpse Reviver No. 2</td>\n",
       "      <td>Absinthe, 3/4 oz gin, 3/4 oz Lillet blanc, 3/4...</td>\n",
       "      <td>Rinse the inside of a chilled coupe or cocktai...</td>\n",
       "      <td>https://www.liquor.com/recipes/corpse-reviver-...</td>\n",
       "      <td>Coupe or Cocktail Glass</td>\n",
       "      <td>NaN</td>\n",
       "      <td>Gin</td>\n",
       "      <td>Shake, Strain</td>\n",
       "      <td>Short</td>\n",
       "      <td>NaN</td>\n",
       "    </tr>\n",
       "    <tr>\n",
       "      <th>35722</th>\n",
       "      <td>Aviation</td>\n",
       "      <td>2 oz gin, 1/2 oz maraschino liqueur, 1/4 oz cr...</td>\n",
       "      <td>Add the gin, maraschino liqueur, creme de viol...</td>\n",
       "      <td>https://www.liquor.com/recipes/aviation/</td>\n",
       "      <td>Cocktail Glass</td>\n",
       "      <td>a brandied cherry</td>\n",
       "      <td>Gin</td>\n",
       "      <td>Shake, Strain</td>\n",
       "      <td>Short</td>\n",
       "      <td>Fruity</td>\n",
       "    </tr>\n",
       "    <tr>\n",
       "      <th>35723</th>\n",
       "      <td>Tom Collins</td>\n",
       "      <td>2 oz gin, 1 oz lemon juice, 1/2 oz simple syru...</td>\n",
       "      <td>Add the gin, lemon juice and simple syrup to a...</td>\n",
       "      <td>https://www.liquor.com/recipes/tom-collins-2/</td>\n",
       "      <td>Collins Glass</td>\n",
       "      <td>a lemon wheel and maraschino cherry (optional)</td>\n",
       "      <td>Gin</td>\n",
       "      <td>Stir, Shake</td>\n",
       "      <td>Long</td>\n",
       "      <td>Sweet ,Sour</td>\n",
       "    </tr>\n",
       "    <tr>\n",
       "      <th>35724</th>\n",
       "      <td>Clover Club</td>\n",
       "      <td>2 oz gin, 1/2 oz lemon juice, 1/2 oz raspberry...</td>\n",
       "      <td>Add the gin, lemon juice, raspberry syrup and ...</td>\n",
       "      <td>https://www.liquor.com/recipes/clover-club/</td>\n",
       "      <td>Cocktail Glass</td>\n",
       "      <td>3 speared raspberries</td>\n",
       "      <td>Gin</td>\n",
       "      <td>Shake, Stir, Strain</td>\n",
       "      <td>Short</td>\n",
       "      <td>NaN</td>\n",
       "    </tr>\n",
       "    <tr>\n",
       "      <th>35725</th>\n",
       "      <td>Last Word</td>\n",
       "      <td>3/4 oz gin, 3/4 oz green Chartreuse, 3/4 oz ma...</td>\n",
       "      <td>Add the gin, green Chartreuse, maraschino liqu...</td>\n",
       "      <td>https://www.liquor.com/recipes/the-last-word/</td>\n",
       "      <td>Coupe Glass</td>\n",
       "      <td>a brandied cherry (optional)</td>\n",
       "      <td>Gin</td>\n",
       "      <td>Shake, Strain</td>\n",
       "      <td>Short</td>\n",
       "      <td>NaN</td>\n",
       "    </tr>\n",
       "  </tbody>\n",
       "</table>\n",
       "<p>35726 rows × 10 columns</p>\n",
       "</div>"
      ],
      "text/plain": [
       "                       Name  \\\n",
       "0                       #26   \n",
       "1                   $2 Fish   \n",
       "2                 '57 Chevy   \n",
       "3              '57 Chevy #1   \n",
       "4              '57 Chevy #2   \n",
       "...                     ...   \n",
       "35721  Corpse Reviver No. 2   \n",
       "35722              Aviation   \n",
       "35723           Tom Collins   \n",
       "35724           Clover Club   \n",
       "35725             Last Word   \n",
       "\n",
       "                                             Ingredients  \\\n",
       "0      Grapes Red, 1 part(s) Pernod Absinthe, 1 dash(...   \n",
       "1      1 oz Vodka Orange Twist, 1 oz Tequila, 1/2 oz ...   \n",
       "2      1 oz Southern Comfort, 1 oz Crown Royal, 1 oz ...   \n",
       "3      1 oz Amaretto, 1 oz Southern Comfort, 1 oz Pea...   \n",
       "4      1 1/2 oz Southern Comfort, 1 1/2 oz Grand Marn...   \n",
       "...                                                  ...   \n",
       "35721  Absinthe, 3/4 oz gin, 3/4 oz Lillet blanc, 3/4...   \n",
       "35722  2 oz gin, 1/2 oz maraschino liqueur, 1/4 oz cr...   \n",
       "35723  2 oz gin, 1 oz lemon juice, 1/2 oz simple syru...   \n",
       "35724  2 oz gin, 1/2 oz lemon juice, 1/2 oz raspberry...   \n",
       "35725  3/4 oz gin, 3/4 oz green Chartreuse, 3/4 oz ma...   \n",
       "\n",
       "                                                  Making  \\\n",
       "0      Muddle six or seven grapes. Add ice, lime, syr...   \n",
       "1      Combine vodka and tequilla in a highball glass...   \n",
       "2      Fill a highball glass with ice and pour in the...   \n",
       "3      Mix over ice in a hurricane glass. No girl can...   \n",
       "4      Combine in a highball glass and top with pinea...   \n",
       "...                                                  ...   \n",
       "35721  Rinse the inside of a chilled coupe or cocktai...   \n",
       "35722  Add the gin, maraschino liqueur, creme de viol...   \n",
       "35723  Add the gin, lemon juice and simple syrup to a...   \n",
       "35724  Add the gin, lemon juice, raspberry syrup and ...   \n",
       "35725  Add the gin, green Chartreuse, maraschino liqu...   \n",
       "\n",
       "                                                    Link  \\\n",
       "0      https://www.barnonedrinks.com/drinks/-/26-1339...   \n",
       "1      https://www.barnonedrinks.com/drinks/-/2-fish-...   \n",
       "2      https://www.barnonedrinks.com/drinks/-/57-chev...   \n",
       "3      https://www.barnonedrinks.com/drinks/-/57-chev...   \n",
       "4      https://www.barnonedrinks.com/drinks/-/57-chev...   \n",
       "...                                                  ...   \n",
       "35721  https://www.liquor.com/recipes/corpse-reviver-...   \n",
       "35722           https://www.liquor.com/recipes/aviation/   \n",
       "35723      https://www.liquor.com/recipes/tom-collins-2/   \n",
       "35724        https://www.liquor.com/recipes/clover-club/   \n",
       "35725      https://www.liquor.com/recipes/the-last-word/   \n",
       "\n",
       "                         Glass  \\\n",
       "0               Highball Glass   \n",
       "1               Highball Glass   \n",
       "2               Highball Glass   \n",
       "3              Hurricane Glass   \n",
       "4               Highball Glass   \n",
       "...                        ...   \n",
       "35721  Coupe or Cocktail Glass   \n",
       "35722           Cocktail Glass   \n",
       "35723            Collins Glass   \n",
       "35724           Cocktail Glass   \n",
       "35725              Coupe Glass   \n",
       "\n",
       "                                               Garnish            Base  \\\n",
       "0                                         fresh grapes             NaN   \n",
       "1                                                  NaN  Vodka, Tequila   \n",
       "2                                                  NaN             NaN   \n",
       "3                                                  NaN             NaN   \n",
       "4                                                  NaN           Vodka   \n",
       "...                                                ...             ...   \n",
       "35721                                              NaN             Gin   \n",
       "35722                                a brandied cherry             Gin   \n",
       "35723   a lemon wheel and maraschino cherry (optional)             Gin   \n",
       "35724                            3 speared raspberries             Gin   \n",
       "35725                     a brandied cherry (optional)             Gin   \n",
       "\n",
       "                    Method   Type       Flavor  \n",
       "0            Strain, Shake   Long          NaN  \n",
       "1                    Build   Long          NaN  \n",
       "2                    Shake   Long          NaN  \n",
       "3                     Stir   Long          NaN  \n",
       "4                    Build   Long          NaN  \n",
       "...                    ...    ...          ...  \n",
       "35721        Shake, Strain  Short          NaN  \n",
       "35722        Shake, Strain  Short       Fruity  \n",
       "35723          Stir, Shake   Long  Sweet ,Sour  \n",
       "35724  Shake, Stir, Strain  Short          NaN  \n",
       "35725        Shake, Strain  Short          NaN  \n",
       "\n",
       "[35726 rows x 10 columns]"
      ]
     },
     "execution_count": 235,
     "metadata": {},
     "output_type": "execute_result"
    }
   ],
   "source": [
    "dataFrame"
   ]
  },
  {
   "cell_type": "code",
   "execution_count": 236,
   "id": "e54a0764",
   "metadata": {},
   "outputs": [
    {
     "data": {
      "text/html": [
       "<div>\n",
       "<style scoped>\n",
       "    .dataframe tbody tr th:only-of-type {\n",
       "        vertical-align: middle;\n",
       "    }\n",
       "\n",
       "    .dataframe tbody tr th {\n",
       "        vertical-align: top;\n",
       "    }\n",
       "\n",
       "    .dataframe thead th {\n",
       "        text-align: right;\n",
       "    }\n",
       "</style>\n",
       "<table border=\"1\" class=\"dataframe\">\n",
       "  <thead>\n",
       "    <tr style=\"text-align: right;\">\n",
       "      <th></th>\n",
       "      <th>Name</th>\n",
       "      <th>Ingredients</th>\n",
       "      <th>Making</th>\n",
       "      <th>Link</th>\n",
       "      <th>Glass</th>\n",
       "      <th>Garnish</th>\n",
       "      <th>Base</th>\n",
       "      <th>Method</th>\n",
       "      <th>Type</th>\n",
       "      <th>Flavor</th>\n",
       "    </tr>\n",
       "  </thead>\n",
       "  <tbody>\n",
       "    <tr>\n",
       "      <th>count</th>\n",
       "      <td>35726</td>\n",
       "      <td>35726</td>\n",
       "      <td>35724</td>\n",
       "      <td>35726</td>\n",
       "      <td>31446</td>\n",
       "      <td>12034</td>\n",
       "      <td>30661</td>\n",
       "      <td>28033</td>\n",
       "      <td>25064</td>\n",
       "      <td>3213</td>\n",
       "    </tr>\n",
       "    <tr>\n",
       "      <th>unique</th>\n",
       "      <td>30797</td>\n",
       "      <td>35472</td>\n",
       "      <td>27426</td>\n",
       "      <td>35726</td>\n",
       "      <td>126</td>\n",
       "      <td>4601</td>\n",
       "      <td>584</td>\n",
       "      <td>110</td>\n",
       "      <td>84</td>\n",
       "      <td>101</td>\n",
       "    </tr>\n",
       "    <tr>\n",
       "      <th>top</th>\n",
       "      <td>Moscow Mule</td>\n",
       "      <td>1/2 oz Jagermeister, 1/2 oz Goldschlager</td>\n",
       "      <td>SHAKE all ingredients with ice and fine strain...</td>\n",
       "      <td>https://www.barnonedrinks.com/drinks/-/26-1339...</td>\n",
       "      <td>Cocktail Glass</td>\n",
       "      <td>Orange zest twist</td>\n",
       "      <td>Vodka</td>\n",
       "      <td>Strain, Shake</td>\n",
       "      <td>Short</td>\n",
       "      <td>Gentle 0 - Boozy 10: 7, Sweet 0 - Dry/Sour 10: 7</td>\n",
       "    </tr>\n",
       "    <tr>\n",
       "      <th>freq</th>\n",
       "      <td>5</td>\n",
       "      <td>6</td>\n",
       "      <td>1343</td>\n",
       "      <td>1</td>\n",
       "      <td>5694</td>\n",
       "      <td>644</td>\n",
       "      <td>4496</td>\n",
       "      <td>5877</td>\n",
       "      <td>9622</td>\n",
       "      <td>449</td>\n",
       "    </tr>\n",
       "  </tbody>\n",
       "</table>\n",
       "</div>"
      ],
      "text/plain": [
       "               Name                               Ingredients  \\\n",
       "count         35726                                     35726   \n",
       "unique        30797                                     35472   \n",
       "top     Moscow Mule  1/2 oz Jagermeister, 1/2 oz Goldschlager   \n",
       "freq              5                                         6   \n",
       "\n",
       "                                                   Making  \\\n",
       "count                                               35724   \n",
       "unique                                              27426   \n",
       "top     SHAKE all ingredients with ice and fine strain...   \n",
       "freq                                                 1343   \n",
       "\n",
       "                                                     Link           Glass  \\\n",
       "count                                               35726           31446   \n",
       "unique                                              35726             126   \n",
       "top     https://www.barnonedrinks.com/drinks/-/26-1339...  Cocktail Glass   \n",
       "freq                                                    1            5694   \n",
       "\n",
       "                  Garnish   Base         Method   Type  \\\n",
       "count               12034  30661          28033  25064   \n",
       "unique               4601    584            110     84   \n",
       "top     Orange zest twist  Vodka  Strain, Shake  Short   \n",
       "freq                  644   4496           5877   9622   \n",
       "\n",
       "                                                  Flavor  \n",
       "count                                               3213  \n",
       "unique                                               101  \n",
       "top     Gentle 0 - Boozy 10: 7, Sweet 0 - Dry/Sour 10: 7  \n",
       "freq                                                 449  "
      ]
     },
     "execution_count": 236,
     "metadata": {},
     "output_type": "execute_result"
    }
   ],
   "source": [
    "dataFrame.describe()"
   ]
  },
  {
   "cell_type": "markdown",
   "id": "d2eef797",
   "metadata": {},
   "source": [
    "### 바리에이션 넘버 부여하기"
   ]
  },
  {
   "cell_type": "code",
   "execution_count": 237,
   "id": "51b3b942",
   "metadata": {},
   "outputs": [],
   "source": [
    "pd.set_option('display.max_seq_items', None)"
   ]
  },
  {
   "cell_type": "code",
   "execution_count": 238,
   "id": "2c1d6357",
   "metadata": {},
   "outputs": [
    {
     "data": {
      "text/plain": [
       "9317"
      ]
     },
     "execution_count": 238,
     "metadata": {},
     "output_type": "execute_result"
    }
   ],
   "source": [
    "data_name_dup = dataFrame.duplicated(subset=[\"Name\"], keep=False)\n",
    "len(data_name_dup[data_name_dup==True])"
   ]
  },
  {
   "cell_type": "code",
   "execution_count": 239,
   "id": "09f21838",
   "metadata": {},
   "outputs": [],
   "source": [
    "data_name_dup_ind = []\n",
    "name_unique = []\n",
    "for i in range(len(dataFrame)):\n",
    "    if data_name_dup[i]==True:\n",
    "        data_name_dup_ind.append(i)\n",
    "        if dataFrame[\"Name\"][i] not in name_unique:\n",
    "            name_unique.append(dataFrame[\"Name\"][i])"
   ]
  },
  {
   "cell_type": "code",
   "execution_count": 240,
   "id": "eaef1fcb",
   "metadata": {},
   "outputs": [
    {
     "data": {
      "text/plain": [
       "4388"
      ]
     },
     "execution_count": 240,
     "metadata": {},
     "output_type": "execute_result"
    }
   ],
   "source": [
    "len(name_unique)"
   ]
  },
  {
   "cell_type": "code",
   "execution_count": 241,
   "id": "80ac4310",
   "metadata": {},
   "outputs": [],
   "source": [
    "name_list = list(dataFrame[\"Name\"])"
   ]
  },
  {
   "cell_type": "code",
   "execution_count": 242,
   "id": "5b25e680",
   "metadata": {},
   "outputs": [],
   "source": [
    "for i in data_name_dup_ind:\n",
    "    vari_count = 1\n",
    "    name = name_list[i]\n",
    "    if '#' in name:\n",
    "        original_name = name.split(\"#\")[0].strip()\n",
    "        while original_name+\" #{}\".format(vari_count) in name_list:\n",
    "            vari_count += 1\n",
    "            if vari_count>100:\n",
    "                print(\"nonono\")\n",
    "                break\n",
    "        name_list[i] = original_name+\" #{}\".format(vari_count)\n",
    "    else:\n",
    "        original_name = name\n",
    "        while original_name+\" #{}\".format(vari_count) in name_list:\n",
    "            vari_count += 1\n",
    "            if vari_count>100:\n",
    "                print(\"nonono\")\n",
    "                break\n",
    "        name_list[i] = original_name+\" #{}\".format(vari_count)"
   ]
  },
  {
   "cell_type": "code",
   "execution_count": 243,
   "id": "34423700",
   "metadata": {},
   "outputs": [],
   "source": [
    "dataFrame[\"Name\"] = name_list"
   ]
  },
  {
   "cell_type": "code",
   "execution_count": 244,
   "id": "4e64e890",
   "metadata": {},
   "outputs": [
    {
     "data": {
      "text/plain": [
       "0"
      ]
     },
     "execution_count": 244,
     "metadata": {},
     "output_type": "execute_result"
    }
   ],
   "source": [
    "# 확인\n",
    "data_name_dup = dataFrame.duplicated(subset=[\"Name\"], keep=False)\n",
    "len(data_name_dup[data_name_dup==True])"
   ]
  },
  {
   "cell_type": "code",
   "execution_count": 245,
   "id": "7fb1b40b",
   "metadata": {},
   "outputs": [
    {
     "data": {
      "text/html": [
       "<div>\n",
       "<style scoped>\n",
       "    .dataframe tbody tr th:only-of-type {\n",
       "        vertical-align: middle;\n",
       "    }\n",
       "\n",
       "    .dataframe tbody tr th {\n",
       "        vertical-align: top;\n",
       "    }\n",
       "\n",
       "    .dataframe thead th {\n",
       "        text-align: right;\n",
       "    }\n",
       "</style>\n",
       "<table border=\"1\" class=\"dataframe\">\n",
       "  <thead>\n",
       "    <tr style=\"text-align: right;\">\n",
       "      <th></th>\n",
       "      <th>Name</th>\n",
       "      <th>Ingredients</th>\n",
       "      <th>Making</th>\n",
       "      <th>Link</th>\n",
       "      <th>Glass</th>\n",
       "      <th>Garnish</th>\n",
       "      <th>Base</th>\n",
       "      <th>Method</th>\n",
       "      <th>Type</th>\n",
       "      <th>Flavor</th>\n",
       "    </tr>\n",
       "  </thead>\n",
       "  <tbody>\n",
       "    <tr>\n",
       "      <th>0</th>\n",
       "      <td>#26</td>\n",
       "      <td>Grapes Red, 1 part(s) Pernod Absinthe, 1 dash(...</td>\n",
       "      <td>Muddle six or seven grapes. Add ice, lime, syr...</td>\n",
       "      <td>https://www.barnonedrinks.com/drinks/-/26-1339...</td>\n",
       "      <td>Highball Glass</td>\n",
       "      <td>fresh grapes</td>\n",
       "      <td>NaN</td>\n",
       "      <td>Strain, Shake</td>\n",
       "      <td>Long</td>\n",
       "      <td>NaN</td>\n",
       "    </tr>\n",
       "    <tr>\n",
       "      <th>1</th>\n",
       "      <td>$2 Fish</td>\n",
       "      <td>1 oz Vodka Orange Twist, 1 oz Tequila, 1/2 oz ...</td>\n",
       "      <td>Combine vodka and tequilla in a highball glass...</td>\n",
       "      <td>https://www.barnonedrinks.com/drinks/-/2-fish-...</td>\n",
       "      <td>Highball Glass</td>\n",
       "      <td>NaN</td>\n",
       "      <td>Vodka, Tequila</td>\n",
       "      <td>Build</td>\n",
       "      <td>Long</td>\n",
       "      <td>NaN</td>\n",
       "    </tr>\n",
       "    <tr>\n",
       "      <th>2</th>\n",
       "      <td>'57 Chevy</td>\n",
       "      <td>1 oz Southern Comfort, 1 oz Crown Royal, 1 oz ...</td>\n",
       "      <td>Fill a highball glass with ice and pour in the...</td>\n",
       "      <td>https://www.barnonedrinks.com/drinks/-/57-chev...</td>\n",
       "      <td>Highball Glass</td>\n",
       "      <td>NaN</td>\n",
       "      <td>NaN</td>\n",
       "      <td>Shake</td>\n",
       "      <td>Long</td>\n",
       "      <td>NaN</td>\n",
       "    </tr>\n",
       "    <tr>\n",
       "      <th>3</th>\n",
       "      <td>'57 Chevy #1</td>\n",
       "      <td>1 oz Amaretto, 1 oz Southern Comfort, 1 oz Pea...</td>\n",
       "      <td>Mix over ice in a hurricane glass. No girl can...</td>\n",
       "      <td>https://www.barnonedrinks.com/drinks/-/57-chev...</td>\n",
       "      <td>Hurricane Glass</td>\n",
       "      <td>NaN</td>\n",
       "      <td>NaN</td>\n",
       "      <td>Stir</td>\n",
       "      <td>Long</td>\n",
       "      <td>NaN</td>\n",
       "    </tr>\n",
       "    <tr>\n",
       "      <th>4</th>\n",
       "      <td>'57 Chevy #2</td>\n",
       "      <td>1 1/2 oz Southern Comfort, 1 1/2 oz Grand Marn...</td>\n",
       "      <td>Combine in a highball glass and top with pinea...</td>\n",
       "      <td>https://www.barnonedrinks.com/drinks/-/57-chev...</td>\n",
       "      <td>Highball Glass</td>\n",
       "      <td>NaN</td>\n",
       "      <td>Vodka</td>\n",
       "      <td>Build</td>\n",
       "      <td>Long</td>\n",
       "      <td>NaN</td>\n",
       "    </tr>\n",
       "  </tbody>\n",
       "</table>\n",
       "</div>"
      ],
      "text/plain": [
       "           Name                                        Ingredients  \\\n",
       "0           #26  Grapes Red, 1 part(s) Pernod Absinthe, 1 dash(...   \n",
       "1       $2 Fish  1 oz Vodka Orange Twist, 1 oz Tequila, 1/2 oz ...   \n",
       "2     '57 Chevy  1 oz Southern Comfort, 1 oz Crown Royal, 1 oz ...   \n",
       "3  '57 Chevy #1  1 oz Amaretto, 1 oz Southern Comfort, 1 oz Pea...   \n",
       "4  '57 Chevy #2  1 1/2 oz Southern Comfort, 1 1/2 oz Grand Marn...   \n",
       "\n",
       "                                              Making  \\\n",
       "0  Muddle six or seven grapes. Add ice, lime, syr...   \n",
       "1  Combine vodka and tequilla in a highball glass...   \n",
       "2  Fill a highball glass with ice and pour in the...   \n",
       "3  Mix over ice in a hurricane glass. No girl can...   \n",
       "4  Combine in a highball glass and top with pinea...   \n",
       "\n",
       "                                                Link            Glass  \\\n",
       "0  https://www.barnonedrinks.com/drinks/-/26-1339...   Highball Glass   \n",
       "1  https://www.barnonedrinks.com/drinks/-/2-fish-...   Highball Glass   \n",
       "2  https://www.barnonedrinks.com/drinks/-/57-chev...   Highball Glass   \n",
       "3  https://www.barnonedrinks.com/drinks/-/57-chev...  Hurricane Glass   \n",
       "4  https://www.barnonedrinks.com/drinks/-/57-chev...   Highball Glass   \n",
       "\n",
       "         Garnish            Base         Method  Type Flavor  \n",
       "0   fresh grapes             NaN  Strain, Shake  Long    NaN  \n",
       "1            NaN  Vodka, Tequila          Build  Long    NaN  \n",
       "2            NaN             NaN          Shake  Long    NaN  \n",
       "3            NaN             NaN           Stir  Long    NaN  \n",
       "4            NaN           Vodka          Build  Long    NaN  "
      ]
     },
     "execution_count": 245,
     "metadata": {},
     "output_type": "execute_result"
    }
   ],
   "source": [
    "dataFrame.head()"
   ]
  },
  {
   "cell_type": "markdown",
   "id": "9562f525",
   "metadata": {},
   "source": [
    "### 깨진 글자, 악센트 있는 알파벳 고치기"
   ]
  },
  {
   "cell_type": "code",
   "execution_count": 246,
   "id": "e33b2211",
   "metadata": {},
   "outputs": [],
   "source": [
    "possible_word = ['a', 'b', 'c', 'd', 'e', 'f', 'g', 'h', 'i', 'j', 'k', 'l', 'm', 'n', 'o', 'p', 'q', 'r', 's', 't', 'u', 'v', 'w', 'x', 'y', 'z', \"'\", '1', '2', '3', '4', '5', '6', '7', '8', '9', '0', ',', '.', ':', '!', '&', '*', '#', '(', ')', '@', '-', '~', '/', '$', '%', '\"', '{', '}', '+', '=', '[', ']', '>']"
   ]
  },
  {
   "cell_type": "code",
   "execution_count": 247,
   "id": "b4d1863e",
   "metadata": {},
   "outputs": [],
   "source": [
    "word_dict = {}"
   ]
  },
  {
   "cell_type": "code",
   "execution_count": 248,
   "id": "24eb89a4",
   "metadata": {},
   "outputs": [],
   "source": [
    "for i in range(len(dataFrame)):\n",
    "    name = str(dataFrame[\"Name\"][i]).lower().replace(\" \", \"\")\n",
    "    ingredient = str(dataFrame[\"Ingredients\"][i]).lower().replace(\" \", \"\")\n",
    "    making = str(dataFrame[\"Making\"][i]).lower().replace(\" \", \"\")\n",
    "    for j in range(len(name)):\n",
    "        if name[j] not in possible_word:\n",
    "            if name[j] in list(word_dict.keys()):\n",
    "                word_dict[name[j]].append(i)\n",
    "            else:\n",
    "                word_dict[name[j]] = [i]\n",
    "    for k in range(len(ingredient)):\n",
    "        if ingredient[k] not in possible_word:\n",
    "            if ingredient[k] in list(word_dict.keys()):\n",
    "                word_dict[ingredient[k]].append(i)\n",
    "            else:\n",
    "                word_dict[ingredient[k]] = [i]\n",
    "    for l in range(len(making)):\n",
    "        if making[l] not in possible_word:\n",
    "            if making[l] in list(word_dict.keys()):\n",
    "                word_dict[making[l]].append(i)\n",
    "            else:\n",
    "                word_dict[making[l]] = [i]"
   ]
  },
  {
   "cell_type": "code",
   "execution_count": 249,
   "id": "ee5ea958",
   "metadata": {},
   "outputs": [
    {
     "data": {
      "text/plain": [
       "dict_keys(['–', '’', '‘', ';', '…', 'é', '“', '”', '?', 'ç', 'ë', '®', 'è', '_', 'í', 'ã', 'ñ', 'ä', 'ó', 'ü', 'º', '½', 'ú', '´', 'â', '—', '°', '\\xad', '¾', '`', '¼', '\\\\', 'ï', 'à', '⁄', 'û', '⅓', 'á', 'ê', 'ö', '˚', 'ś', 'î', '짰', '�', '챔', '다', '음', '재', '생', '찼', '§', '韮', '陇', 'ž', '쩐', '卤', 'ي', '¤', '漏', '챌', 'ł', '³', '±', '챰', '째', '쩍', '‚', '¢', '¬', 'å', '\\x9d', '·', '„', '€', '쫒', '셳', '채', '¦', '¨', '챕', '́', '̀', '\\x7f', 'ō'])"
      ]
     },
     "execution_count": 249,
     "metadata": {},
     "output_type": "execute_result"
    }
   ],
   "source": [
    "word_dict.keys()"
   ]
  },
  {
   "cell_type": "markdown",
   "id": "68628774",
   "metadata": {},
   "source": [
    "엑셀에서 깨진 글자별 바꿀 글자를 확인을 위해 일단 파일 저장하기"
   ]
  },
  {
   "cell_type": "markdown",
   "id": "b67a9783",
   "metadata": {},
   "source": [
    "dataFrame.to_csv(\"C:/Users/82102/Desktop/University/1-2/WebPython/lecture_script/Trem_project/Data/data_mid.csv\", encoding=\"utf-8-sig\", index=False)"
   ]
  },
  {
   "cell_type": "code",
   "execution_count": 250,
   "id": "a746cf80",
   "metadata": {},
   "outputs": [
    {
     "data": {
      "text/plain": [
       "[7801, 19493]"
      ]
     },
     "execution_count": 250,
     "metadata": {},
     "output_type": "execute_result"
    }
   ],
   "source": [
    "word_dict['\\xad']"
   ]
  },
  {
   "cell_type": "code",
   "execution_count": 251,
   "id": "092af907",
   "metadata": {},
   "outputs": [
    {
     "data": {
      "text/plain": [
       "[11210, 11996, 11997]"
      ]
     },
     "execution_count": 251,
     "metadata": {},
     "output_type": "execute_result"
    }
   ],
   "source": [
    "word_dict['\\\\']"
   ]
  },
  {
   "cell_type": "code",
   "execution_count": 252,
   "id": "31edfd7b",
   "metadata": {},
   "outputs": [
    {
     "data": {
      "text/plain": [
       "[27839, 27839]"
      ]
     },
     "execution_count": 252,
     "metadata": {},
     "output_type": "execute_result"
    }
   ],
   "source": [
    "word_dict['\\x9d']"
   ]
  },
  {
   "cell_type": "code",
   "execution_count": 253,
   "id": "08250d22",
   "metadata": {},
   "outputs": [],
   "source": [
    "# word_dict[''́']"
   ]
  },
  {
   "cell_type": "code",
   "execution_count": 254,
   "id": "abb2097a",
   "metadata": {},
   "outputs": [
    {
     "data": {
      "text/plain": [
       "[35094, 35094, 35139, 35139]"
      ]
     },
     "execution_count": 254,
     "metadata": {},
     "output_type": "execute_result"
    }
   ],
   "source": [
    " word_dict['́']"
   ]
  },
  {
   "cell_type": "code",
   "execution_count": 255,
   "id": "30569ae5",
   "metadata": {},
   "outputs": [
    {
     "data": {
      "text/plain": [
       "[35124, 35124]"
      ]
     },
     "execution_count": 255,
     "metadata": {},
     "output_type": "execute_result"
    }
   ],
   "source": [
    " word_dict['̀']"
   ]
  },
  {
   "cell_type": "code",
   "execution_count": 256,
   "id": "a29cdc61",
   "metadata": {},
   "outputs": [
    {
     "data": {
      "text/plain": [
       "[35311]"
      ]
     },
     "execution_count": 256,
     "metadata": {},
     "output_type": "execute_result"
    }
   ],
   "source": [
    " word_dict['\\x7f']"
   ]
  },
  {
   "cell_type": "markdown",
   "id": "66686ca4",
   "metadata": {},
   "source": [
    "word_collection_1: 먼저 돌려줄 것<br>\n",
    "word_collection_2: 다음으로 돌려줄 것<br>\n",
    "word_collection_3: 마지막으로 돌려줄 것"
   ]
  },
  {
   "cell_type": "code",
   "execution_count": 257,
   "id": "b4592621",
   "metadata": {},
   "outputs": [],
   "source": [
    "word_collection_1 = {'韮陇': 'a', '韮漏': 'a', '韮卤': 'n', 'ي¤': 'a', 'íł': 'o', 'ã±': 'n', 'í¢â‚¬Å“': '', 'í¢â‚¬Â': '', 'í¢â‚¬â„¢': \"'\", 'í‚Â· ': '', 'í‚Â½': '', 'í¢â‚¬Â¦': '', ' â€”': '', 'í¨': 'e', 'pur챕e': 'pour', 'Bénédictine': 'Benedictine', 'Crème': 'Creme', '': '' }\n",
    "word_collection_2 = {'–': '-', '’': \"'\", '‘': \"'\", '…': '...', '“': '\"', '”': '\"', 'º': '', '½': '1/2', '´': \"'\", '—': '-', '°': '', '¾': '3/4', \"`\": \"'\", '¼': '1/4', '\\\\': '', '⁄': '/', '⅓': '1/3', '˚': '', '짰': '', '�': '', '챔': 'é', '다': '', '음': '', '재': '', '생': '', '찼': 'a', '§': 's', '쩐': '3/4', '챌': 'c', '³': '', '챰': 'n', '째': '', '쩍': '1/2', '‚': ',', '쫒': ' i', '셳': \"'t\", '채': 'a', }\n",
    "word_collection_3 = {'é': 'e', 'ç': 'c', 'ë': 'e', 'è': 'e', 'ã': 'a', 'ñ': 'n', 'ä': 'a', 'ó': 'o', 'ü': 'u', 'ú': 'u', 'â': 'a', 'ï': 'i', 'à': 'a', 'û': 'u', 'á': 'a', 'ê': 'e', 'ö': 'o', 'ś': 's', 'î': 'i', 'ž': 'z', 'å': 'a', 'ō': 'o'}"
   ]
  },
  {
   "cell_type": "code",
   "execution_count": 258,
   "id": "b6d00afe",
   "metadata": {},
   "outputs": [],
   "source": [
    "word_col_1_key = list(word_collection_1.keys())\n",
    "for i in range(len(dataFrame)):\n",
    "    for j in range(len(word_col_1_key)):\n",
    "        if word_col_1_key[j] in str(dataFrame[\"Name\"][i]):\n",
    "            dataFrame[\"Name\"][i] = str(dataFrame[\"Name\"][i]).replace(word_col_1_key[j],word_collection_1[word_col_1_key[j]])\n",
    "        if word_col_1_key[j] in str(dataFrame[\"Ingredients\"][i]):\n",
    "            dataFrame[\"Ingredients\"][i] = str(dataFrame[\"Ingredients\"][i]).replace(word_col_1_key[j],word_collection_1[word_col_1_key[j]])\n",
    "        if word_col_1_key[j] in str(dataFrame[\"Making\"][i]):\n",
    "            dataFrame[\"Making\"][i] = str(dataFrame[\"Making\"][i]).replace(word_col_1_key[j],word_collection_1[word_col_1_key[j]])"
   ]
  },
  {
   "cell_type": "code",
   "execution_count": 259,
   "id": "1e1c5e7a",
   "metadata": {},
   "outputs": [],
   "source": [
    "word_col_2_key = list(word_collection_2.keys())\n",
    "for i in range(len(word_col_2_key)):\n",
    "    for index in word_dict[word_col_2_key[i]]:\n",
    "        dataFrame[\"Name\"][index] = str(dataFrame[\"Name\"][index]).replace(word_col_2_key[i], word_collection_2[word_col_2_key[i]])\n",
    "        dataFrame[\"Ingredients\"][index] = str(dataFrame[\"Ingredients\"][index]).replace(word_col_2_key[i], word_collection_2[word_col_2_key[i]])\n",
    "        dataFrame[\"Making\"][index] = str(dataFrame[\"Making\"][index]).replace(word_col_2_key[i], word_collection_2[word_col_2_key[i]])"
   ]
  },
  {
   "cell_type": "code",
   "execution_count": 260,
   "id": "032dff30",
   "metadata": {},
   "outputs": [],
   "source": [
    "word_col_3_key = list(word_collection_3.keys())\n",
    "for i in range(len(dataFrame)):\n",
    "    for j in range(len(word_col_3_key)):\n",
    "        if word_col_3_key[j] in str(dataFrame[\"Name\"][i]):\n",
    "            dataFrame[\"Name\"][i] = str(dataFrame[\"Name\"][i]).replace(word_col_3_key[j],word_collection_3[word_col_3_key[j]])\n",
    "        if word_col_3_key[j] in str(dataFrame[\"Ingredients\"][i]):\n",
    "            dataFrame[\"Ingredients\"][i] = str(dataFrame[\"Ingredients\"][i]).replace(word_col_3_key[j],word_collection_3[word_col_3_key[j]])\n",
    "        if word_col_3_key[j] in str(dataFrame[\"Making\"][i]):\n",
    "            dataFrame[\"Making\"][i] = str(dataFrame[\"Making\"][i]).replace(word_col_3_key[j],word_collection_3[word_col_3_key[j]])"
   ]
  },
  {
   "cell_type": "markdown",
   "id": "fa1f9ae5",
   "metadata": {},
   "source": [
    "확인"
   ]
  },
  {
   "cell_type": "code",
   "execution_count": 261,
   "id": "bad352f8",
   "metadata": {},
   "outputs": [],
   "source": [
    "word_dict = {}"
   ]
  },
  {
   "cell_type": "code",
   "execution_count": 262,
   "id": "e299b597",
   "metadata": {},
   "outputs": [],
   "source": [
    "for i in range(len(dataFrame)):\n",
    "    name = str(dataFrame[\"Name\"][i]).lower().replace(\" \", \"\")\n",
    "    ingredient = str(dataFrame[\"Ingredients\"][i]).lower().replace(\" \", \"\")\n",
    "    making = str(dataFrame[\"Making\"][i]).lower().replace(\" \", \"\")\n",
    "    for j in range(len(name)):\n",
    "        if name[j] not in possible_word:\n",
    "            if name[j] in list(word_dict.keys()):\n",
    "                word_dict[name[j]].append(i)\n",
    "            else:\n",
    "                word_dict[name[j]] = [i]\n",
    "    for k in range(len(ingredient)):\n",
    "        if ingredient[k] not in possible_word:\n",
    "            if ingredient[k] in list(word_dict.keys()):\n",
    "                word_dict[ingredient[k]].append(i)\n",
    "            else:\n",
    "                word_dict[ingredient[k]] = [i]\n",
    "    for l in range(len(making)):\n",
    "        if making[l] not in possible_word:\n",
    "            if making[l] in list(word_dict.keys()):\n",
    "                word_dict[making[l]].append(i)\n",
    "            else:\n",
    "                word_dict[making[l]] = [i]"
   ]
  },
  {
   "cell_type": "code",
   "execution_count": 263,
   "id": "e6247afc",
   "metadata": {},
   "outputs": [
    {
     "data": {
      "text/plain": [
       "dict_keys([';', '?', 'ç', '®', '_', 'í', 'â', '\\xad', 'é', '¤', 'á'])"
      ]
     },
     "execution_count": 263,
     "metadata": {},
     "output_type": "execute_result"
    }
   ],
   "source": [
    "word_dict.keys()"
   ]
  },
  {
   "cell_type": "markdown",
   "id": "6e1e3573",
   "metadata": {},
   "source": [
    "깨진 글자가 조금 남았지만 여기까지만 할 것"
   ]
  },
  {
   "cell_type": "markdown",
   "id": "6d8814b9",
   "metadata": {},
   "source": [
    "데이터 저장하기"
   ]
  },
  {
   "cell_type": "code",
   "execution_count": 264,
   "id": "bb6233e9",
   "metadata": {},
   "outputs": [],
   "source": [
    "dataFrame.to_csv(\"//Cocktail_data.csv\", encoding=\"utf-8-sig\", index=False)"
   ]
  }
 ],
 "metadata": {
  "kernelspec": {
   "display_name": "Python 3 (ipykernel)",
   "language": "python",
   "name": "python3"
  },
  "language_info": {
   "codemirror_mode": {
    "name": "ipython",
    "version": 3
   },
   "file_extension": ".py",
   "mimetype": "text/x-python",
   "name": "python",
   "nbconvert_exporter": "python",
   "pygments_lexer": "ipython3",
   "version": "3.8.13"
  }
 },
 "nbformat": 4,
 "nbformat_minor": 5
}
