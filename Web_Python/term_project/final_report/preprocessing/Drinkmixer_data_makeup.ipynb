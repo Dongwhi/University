{
 "cells": [
  {
   "cell_type": "code",
   "execution_count": 1,
   "id": "8a55fe9f",
   "metadata": {},
   "outputs": [],
   "source": [
    "import pandas as pd"
   ]
  },
  {
   "cell_type": "code",
   "execution_count": 2,
   "id": "37567c82",
   "metadata": {},
   "outputs": [],
   "source": [
    "dri = pd.read_csv(\"//Drink_Mixer.csv\")"
   ]
  },
  {
   "cell_type": "code",
   "execution_count": 3,
   "id": "651d4c24",
   "metadata": {},
   "outputs": [
    {
     "data": {
      "text/html": [
       "<div>\n",
       "<style scoped>\n",
       "    .dataframe tbody tr th:only-of-type {\n",
       "        vertical-align: middle;\n",
       "    }\n",
       "\n",
       "    .dataframe tbody tr th {\n",
       "        vertical-align: top;\n",
       "    }\n",
       "\n",
       "    .dataframe thead th {\n",
       "        text-align: right;\n",
       "    }\n",
       "</style>\n",
       "<table border=\"1\" class=\"dataframe\">\n",
       "  <thead>\n",
       "    <tr style=\"text-align: right;\">\n",
       "      <th></th>\n",
       "      <th>Name</th>\n",
       "      <th>Ingredients</th>\n",
       "      <th>Making</th>\n",
       "      <th>Link</th>\n",
       "      <th>Glass</th>\n",
       "      <th>Type</th>\n",
       "      <th>Base</th>\n",
       "    </tr>\n",
       "  </thead>\n",
       "  <tbody>\n",
       "    <tr>\n",
       "      <th>0</th>\n",
       "      <td>'61 Imperial recipe</td>\n",
       "      <td>['1/2 oz white rum', '1/2 oz vodka', '1/2 oz 1...</td>\n",
       "      <td>In a tall chimney glass or hurricane glass, fi...</td>\n",
       "      <td>http://www.drinksmixer.com/drink8428.html</td>\n",
       "      <td>Hurricane Glass</td>\n",
       "      <td>NaN</td>\n",
       "      <td>NaN</td>\n",
       "    </tr>\n",
       "    <tr>\n",
       "      <th>1</th>\n",
       "      <td>.50 Caliber recipe</td>\n",
       "      <td>[\"2 oz Jack Daniel's® Tennessee whiskey\", '2 o...</td>\n",
       "      <td>Pour the Jack Daniel's Tennessee whiskey, Jim ...</td>\n",
       "      <td>http://www.drinksmixer.com/drink9993.html</td>\n",
       "      <td>Highball Glass</td>\n",
       "      <td>NaN</td>\n",
       "      <td>NaN</td>\n",
       "    </tr>\n",
       "    <tr>\n",
       "      <th>2</th>\n",
       "      <td>007 recipe</td>\n",
       "      <td>['3 oz Stoli® Ohranj vodka', '1 1/2 ozfreshly ...</td>\n",
       "      <td>Serve on ice in a highball glass.</td>\n",
       "      <td>http://www.drinksmixer.com/drink11090.html</td>\n",
       "      <td>Highball Glass</td>\n",
       "      <td>NaN</td>\n",
       "      <td>NaN</td>\n",
       "    </tr>\n",
       "    <tr>\n",
       "      <th>3</th>\n",
       "      <td>10 Deep recipe</td>\n",
       "      <td>['1.5 oz vodka', '1 oz Malibu® coconut rum', '...</td>\n",
       "      <td>All right start with 1/2 cup of ice mix the vo...</td>\n",
       "      <td>http://www.drinksmixer.com/drinkuv17048.html</td>\n",
       "      <td>Cup</td>\n",
       "      <td>NaN</td>\n",
       "      <td>NaN</td>\n",
       "    </tr>\n",
       "    <tr>\n",
       "      <th>4</th>\n",
       "      <td>100 Miles per Hour recipe</td>\n",
       "      <td>['1/2 oz Wild Turkey® bourbon whiskey', '1/2 o...</td>\n",
       "      <td>Mix all ingredients together over ice in a hig...</td>\n",
       "      <td>http://www.drinksmixer.com/drink10390.html</td>\n",
       "      <td>Highball Glass</td>\n",
       "      <td>NaN</td>\n",
       "      <td>NaN</td>\n",
       "    </tr>\n",
       "  </tbody>\n",
       "</table>\n",
       "</div>"
      ],
      "text/plain": [
       "                        Name  \\\n",
       "0        '61 Imperial recipe   \n",
       "1         .50 Caliber recipe   \n",
       "2                 007 recipe   \n",
       "3             10 Deep recipe   \n",
       "4  100 Miles per Hour recipe   \n",
       "\n",
       "                                         Ingredients  \\\n",
       "0  ['1/2 oz white rum', '1/2 oz vodka', '1/2 oz 1...   \n",
       "1  [\"2 oz Jack Daniel's® Tennessee whiskey\", '2 o...   \n",
       "2  ['3 oz Stoli® Ohranj vodka', '1 1/2 ozfreshly ...   \n",
       "3  ['1.5 oz vodka', '1 oz Malibu® coconut rum', '...   \n",
       "4  ['1/2 oz Wild Turkey® bourbon whiskey', '1/2 o...   \n",
       "\n",
       "                                              Making  \\\n",
       "0  In a tall chimney glass or hurricane glass, fi...   \n",
       "1  Pour the Jack Daniel's Tennessee whiskey, Jim ...   \n",
       "2                  Serve on ice in a highball glass.   \n",
       "3  All right start with 1/2 cup of ice mix the vo...   \n",
       "4  Mix all ingredients together over ice in a hig...   \n",
       "\n",
       "                                           Link            Glass Type Base  \n",
       "0     http://www.drinksmixer.com/drink8428.html  Hurricane Glass  NaN  NaN  \n",
       "1     http://www.drinksmixer.com/drink9993.html   Highball Glass  NaN  NaN  \n",
       "2    http://www.drinksmixer.com/drink11090.html   Highball Glass  NaN  NaN  \n",
       "3  http://www.drinksmixer.com/drinkuv17048.html              Cup  NaN  NaN  \n",
       "4    http://www.drinksmixer.com/drink10390.html   Highball Glass  NaN  NaN  "
      ]
     },
     "execution_count": 3,
     "metadata": {},
     "output_type": "execute_result"
    }
   ],
   "source": [
    "dri.head()"
   ]
  },
  {
   "cell_type": "code",
   "execution_count": 4,
   "id": "6b3f3786",
   "metadata": {},
   "outputs": [
    {
     "data": {
      "text/html": [
       "<div>\n",
       "<style scoped>\n",
       "    .dataframe tbody tr th:only-of-type {\n",
       "        vertical-align: middle;\n",
       "    }\n",
       "\n",
       "    .dataframe tbody tr th {\n",
       "        vertical-align: top;\n",
       "    }\n",
       "\n",
       "    .dataframe thead th {\n",
       "        text-align: right;\n",
       "    }\n",
       "</style>\n",
       "<table border=\"1\" class=\"dataframe\">\n",
       "  <thead>\n",
       "    <tr style=\"text-align: right;\">\n",
       "      <th></th>\n",
       "      <th>Name</th>\n",
       "      <th>Ingredients</th>\n",
       "      <th>Making</th>\n",
       "      <th>Link</th>\n",
       "      <th>Glass</th>\n",
       "      <th>Type</th>\n",
       "      <th>Base</th>\n",
       "    </tr>\n",
       "  </thead>\n",
       "  <tbody>\n",
       "    <tr>\n",
       "      <th>count</th>\n",
       "      <td>16990</td>\n",
       "      <td>16990</td>\n",
       "      <td>16990</td>\n",
       "      <td>16990</td>\n",
       "      <td>16626</td>\n",
       "      <td>4004</td>\n",
       "      <td>652</td>\n",
       "    </tr>\n",
       "    <tr>\n",
       "      <th>unique</th>\n",
       "      <td>16649</td>\n",
       "      <td>16725</td>\n",
       "      <td>15202</td>\n",
       "      <td>16818</td>\n",
       "      <td>38</td>\n",
       "      <td>3</td>\n",
       "      <td>2</td>\n",
       "    </tr>\n",
       "    <tr>\n",
       "      <th>top</th>\n",
       "      <td>Fire and Ice recipe</td>\n",
       "      <td>[\"1/2 oz Jack Daniel's® Tennessee whiskey\", '1...</td>\n",
       "      <td>Shake ingredients in a cocktail shaker with ic...</td>\n",
       "      <td>http://www.drinksmixer.com/drinkl13m214.html</td>\n",
       "      <td>Cocktail Glass</td>\n",
       "      <td>Shooter</td>\n",
       "      <td>Beer&amp;Ale</td>\n",
       "    </tr>\n",
       "    <tr>\n",
       "      <th>freq</th>\n",
       "      <td>3</td>\n",
       "      <td>4</td>\n",
       "      <td>142</td>\n",
       "      <td>2</td>\n",
       "      <td>3409</td>\n",
       "      <td>2672</td>\n",
       "      <td>342</td>\n",
       "    </tr>\n",
       "  </tbody>\n",
       "</table>\n",
       "</div>"
      ],
      "text/plain": [
       "                       Name  \\\n",
       "count                 16990   \n",
       "unique                16649   \n",
       "top     Fire and Ice recipe   \n",
       "freq                      3   \n",
       "\n",
       "                                              Ingredients  \\\n",
       "count                                               16990   \n",
       "unique                                              16725   \n",
       "top     [\"1/2 oz Jack Daniel's® Tennessee whiskey\", '1...   \n",
       "freq                                                    4   \n",
       "\n",
       "                                                   Making  \\\n",
       "count                                               16990   \n",
       "unique                                              15202   \n",
       "top     Shake ingredients in a cocktail shaker with ic...   \n",
       "freq                                                  142   \n",
       "\n",
       "                                                Link           Glass     Type  \\\n",
       "count                                          16990           16626     4004   \n",
       "unique                                         16818              38        3   \n",
       "top     http://www.drinksmixer.com/drinkl13m214.html  Cocktail Glass  Shooter   \n",
       "freq                                               2            3409     2672   \n",
       "\n",
       "            Base  \n",
       "count        652  \n",
       "unique         2  \n",
       "top     Beer&Ale  \n",
       "freq         342  "
      ]
     },
     "execution_count": 4,
     "metadata": {},
     "output_type": "execute_result"
    }
   ],
   "source": [
    "dri.describe()"
   ]
  },
  {
   "cell_type": "code",
   "execution_count": 682,
   "id": "58a2d3a7",
   "metadata": {},
   "outputs": [],
   "source": [
    "dricopy = dri.copy()"
   ]
  },
  {
   "cell_type": "markdown",
   "id": "1a43b604",
   "metadata": {},
   "source": [
    "칵테일 이름 뒤에 붙은 \" recipe\" 없애주기"
   ]
  },
  {
   "cell_type": "code",
   "execution_count": 683,
   "id": "24897544",
   "metadata": {},
   "outputs": [],
   "source": [
    "for i in range(len(dricopy)):\n",
    "    if \"recipe\" not in dricopy[\"Name\"][i]:\n",
    "        print(i)"
   ]
  },
  {
   "cell_type": "code",
   "execution_count": 684,
   "id": "2d4652f7",
   "metadata": {},
   "outputs": [],
   "source": [
    "for i in range(len(dricopy)):\n",
    "    if dricopy[\"Name\"][i][-7:]!=\" recipe\":\n",
    "        print(i)"
   ]
  },
  {
   "cell_type": "code",
   "execution_count": 685,
   "id": "20094499",
   "metadata": {},
   "outputs": [],
   "source": [
    "for i in range(len(dricopy)):\n",
    "    if dricopy[\"Name\"][i][-7:]==\" recipe\":\n",
    "        dricopy[\"Name\"][i] = dricopy[\"Name\"][i][:-7]"
   ]
  },
  {
   "cell_type": "code",
   "execution_count": 686,
   "id": "a2cb50ea",
   "metadata": {},
   "outputs": [
    {
     "data": {
      "text/html": [
       "<div>\n",
       "<style scoped>\n",
       "    .dataframe tbody tr th:only-of-type {\n",
       "        vertical-align: middle;\n",
       "    }\n",
       "\n",
       "    .dataframe tbody tr th {\n",
       "        vertical-align: top;\n",
       "    }\n",
       "\n",
       "    .dataframe thead th {\n",
       "        text-align: right;\n",
       "    }\n",
       "</style>\n",
       "<table border=\"1\" class=\"dataframe\">\n",
       "  <thead>\n",
       "    <tr style=\"text-align: right;\">\n",
       "      <th></th>\n",
       "      <th>Name</th>\n",
       "      <th>Ingredients</th>\n",
       "      <th>Making</th>\n",
       "      <th>Link</th>\n",
       "      <th>Glass</th>\n",
       "      <th>Type</th>\n",
       "      <th>Base</th>\n",
       "    </tr>\n",
       "  </thead>\n",
       "  <tbody>\n",
       "    <tr>\n",
       "      <th>0</th>\n",
       "      <td>'61 Imperial</td>\n",
       "      <td>['1/2 oz white rum', '1/2 oz vodka', '1/2 oz 1...</td>\n",
       "      <td>In a tall chimney glass or hurricane glass, fi...</td>\n",
       "      <td>http://www.drinksmixer.com/drink8428.html</td>\n",
       "      <td>Hurricane Glass</td>\n",
       "      <td>NaN</td>\n",
       "      <td>NaN</td>\n",
       "    </tr>\n",
       "    <tr>\n",
       "      <th>1</th>\n",
       "      <td>.50 Caliber</td>\n",
       "      <td>[\"2 oz Jack Daniel's® Tennessee whiskey\", '2 o...</td>\n",
       "      <td>Pour the Jack Daniel's Tennessee whiskey, Jim ...</td>\n",
       "      <td>http://www.drinksmixer.com/drink9993.html</td>\n",
       "      <td>Highball Glass</td>\n",
       "      <td>NaN</td>\n",
       "      <td>NaN</td>\n",
       "    </tr>\n",
       "    <tr>\n",
       "      <th>2</th>\n",
       "      <td>007</td>\n",
       "      <td>['3 oz Stoli® Ohranj vodka', '1 1/2 ozfreshly ...</td>\n",
       "      <td>Serve on ice in a highball glass.</td>\n",
       "      <td>http://www.drinksmixer.com/drink11090.html</td>\n",
       "      <td>Highball Glass</td>\n",
       "      <td>NaN</td>\n",
       "      <td>NaN</td>\n",
       "    </tr>\n",
       "    <tr>\n",
       "      <th>3</th>\n",
       "      <td>10 Deep</td>\n",
       "      <td>['1.5 oz vodka', '1 oz Malibu® coconut rum', '...</td>\n",
       "      <td>All right start with 1/2 cup of ice mix the vo...</td>\n",
       "      <td>http://www.drinksmixer.com/drinkuv17048.html</td>\n",
       "      <td>Cup</td>\n",
       "      <td>NaN</td>\n",
       "      <td>NaN</td>\n",
       "    </tr>\n",
       "    <tr>\n",
       "      <th>4</th>\n",
       "      <td>100 Miles per Hour</td>\n",
       "      <td>['1/2 oz Wild Turkey® bourbon whiskey', '1/2 o...</td>\n",
       "      <td>Mix all ingredients together over ice in a hig...</td>\n",
       "      <td>http://www.drinksmixer.com/drink10390.html</td>\n",
       "      <td>Highball Glass</td>\n",
       "      <td>NaN</td>\n",
       "      <td>NaN</td>\n",
       "    </tr>\n",
       "  </tbody>\n",
       "</table>\n",
       "</div>"
      ],
      "text/plain": [
       "                 Name                                        Ingredients  \\\n",
       "0        '61 Imperial  ['1/2 oz white rum', '1/2 oz vodka', '1/2 oz 1...   \n",
       "1         .50 Caliber  [\"2 oz Jack Daniel's® Tennessee whiskey\", '2 o...   \n",
       "2                 007  ['3 oz Stoli® Ohranj vodka', '1 1/2 ozfreshly ...   \n",
       "3             10 Deep  ['1.5 oz vodka', '1 oz Malibu® coconut rum', '...   \n",
       "4  100 Miles per Hour  ['1/2 oz Wild Turkey® bourbon whiskey', '1/2 o...   \n",
       "\n",
       "                                              Making  \\\n",
       "0  In a tall chimney glass or hurricane glass, fi...   \n",
       "1  Pour the Jack Daniel's Tennessee whiskey, Jim ...   \n",
       "2                  Serve on ice in a highball glass.   \n",
       "3  All right start with 1/2 cup of ice mix the vo...   \n",
       "4  Mix all ingredients together over ice in a hig...   \n",
       "\n",
       "                                           Link            Glass Type Base  \n",
       "0     http://www.drinksmixer.com/drink8428.html  Hurricane Glass  NaN  NaN  \n",
       "1     http://www.drinksmixer.com/drink9993.html   Highball Glass  NaN  NaN  \n",
       "2    http://www.drinksmixer.com/drink11090.html   Highball Glass  NaN  NaN  \n",
       "3  http://www.drinksmixer.com/drinkuv17048.html              Cup  NaN  NaN  \n",
       "4    http://www.drinksmixer.com/drink10390.html   Highball Glass  NaN  NaN  "
      ]
     },
     "execution_count": 686,
     "metadata": {},
     "output_type": "execute_result"
    }
   ],
   "source": [
    "# 확인\n",
    "dricopy.head()"
   ]
  },
  {
   "cell_type": "markdown",
   "id": "09f29c42",
   "metadata": {},
   "source": [
    "### 중복 확인 및 제거"
   ]
  },
  {
   "cell_type": "markdown",
   "id": "3993dfb3",
   "metadata": {},
   "source": [
    "전체 중복 확인"
   ]
  },
  {
   "cell_type": "code",
   "execution_count": 687,
   "id": "ca2d4b3e",
   "metadata": {},
   "outputs": [
    {
     "data": {
      "text/plain": [
       "4"
      ]
     },
     "execution_count": 687,
     "metadata": {},
     "output_type": "execute_result"
    }
   ],
   "source": [
    "dri_ent_dup = dricopy.duplicated(subset=None, keep=False)\n",
    "len(dri_ent_dup[dri_ent_dup==True])"
   ]
  },
  {
   "cell_type": "markdown",
   "id": "6c424d1c",
   "metadata": {},
   "source": [
    "이름+재료만 중복 확인"
   ]
  },
  {
   "cell_type": "code",
   "execution_count": 688,
   "id": "83bc4c96",
   "metadata": {},
   "outputs": [
    {
     "data": {
      "text/plain": [
       "384"
      ]
     },
     "execution_count": 688,
     "metadata": {},
     "output_type": "execute_result"
    }
   ],
   "source": [
    "dri_2_dup = dricopy.duplicated(subset=[\"Name\", \"Ingredients\"], keep=False)\n",
    "len(dri_2_dup[dri_2_dup==True])"
   ]
  },
  {
   "cell_type": "markdown",
   "id": "5272ede1",
   "metadata": {},
   "source": [
    "링크만 중복 확인"
   ]
  },
  {
   "cell_type": "code",
   "execution_count": 689,
   "id": "81f10e38",
   "metadata": {},
   "outputs": [
    {
     "data": {
      "text/plain": [
       "344"
      ]
     },
     "execution_count": 689,
     "metadata": {},
     "output_type": "execute_result"
    }
   ],
   "source": [
    "dri_link_dup = dricopy.duplicated(subset=[\"Link\"], keep=False)\n",
    "len(dri_link_dup[dri_link_dup==True])"
   ]
  },
  {
   "cell_type": "markdown",
   "id": "ad434e36",
   "metadata": {},
   "source": [
    "1. 일단 전체중복은 유니크만 남기고 drop하기"
   ]
  },
  {
   "cell_type": "code",
   "execution_count": 690,
   "id": "ae941b20",
   "metadata": {},
   "outputs": [
    {
     "name": "stdout",
     "output_type": "stream",
     "text": [
      "[12418, 12428, 14623, 14633]\n"
     ]
    }
   ],
   "source": [
    "dri_ent_dup_ind = []\n",
    "for i in range(len(dricopy)):\n",
    "    if dri_ent_dup[i]==True:\n",
    "        dri_ent_dup_ind.append(i)\n",
    "print(dri_ent_dup_ind)"
   ]
  },
  {
   "cell_type": "code",
   "execution_count": 691,
   "id": "aab67910",
   "metadata": {},
   "outputs": [
    {
     "name": "stdout",
     "output_type": "stream",
     "text": [
      "Alien Nipple #2\n",
      "Alien Nipple #2\n",
      "Shocker\n",
      "Shocker\n"
     ]
    }
   ],
   "source": [
    "for i in dri_ent_dup_ind:\n",
    "    print(dricopy[\"Name\"][i])"
   ]
  },
  {
   "cell_type": "code",
   "execution_count": 692,
   "id": "c58c0b53",
   "metadata": {},
   "outputs": [],
   "source": [
    "dricopy.drop_duplicates(subset=None, keep='first', inplace=True, ignore_index=True)"
   ]
  },
  {
   "cell_type": "code",
   "execution_count": 693,
   "id": "43799c52",
   "metadata": {},
   "outputs": [
    {
     "data": {
      "text/plain": [
       "0"
      ]
     },
     "execution_count": 693,
     "metadata": {},
     "output_type": "execute_result"
    }
   ],
   "source": [
    "dri_ent_dup = dricopy.duplicated(subset=None, keep=False)\n",
    "len(dri_ent_dup[dri_ent_dup==True])"
   ]
  },
  {
   "cell_type": "code",
   "execution_count": 694,
   "id": "9acf80f4",
   "metadata": {},
   "outputs": [
    {
     "data": {
      "text/html": [
       "<div>\n",
       "<style scoped>\n",
       "    .dataframe tbody tr th:only-of-type {\n",
       "        vertical-align: middle;\n",
       "    }\n",
       "\n",
       "    .dataframe tbody tr th {\n",
       "        vertical-align: top;\n",
       "    }\n",
       "\n",
       "    .dataframe thead th {\n",
       "        text-align: right;\n",
       "    }\n",
       "</style>\n",
       "<table border=\"1\" class=\"dataframe\">\n",
       "  <thead>\n",
       "    <tr style=\"text-align: right;\">\n",
       "      <th></th>\n",
       "      <th>Name</th>\n",
       "      <th>Ingredients</th>\n",
       "      <th>Making</th>\n",
       "      <th>Link</th>\n",
       "      <th>Glass</th>\n",
       "      <th>Type</th>\n",
       "      <th>Base</th>\n",
       "    </tr>\n",
       "  </thead>\n",
       "  <tbody>\n",
       "    <tr>\n",
       "      <th>0</th>\n",
       "      <td>'61 Imperial</td>\n",
       "      <td>['1/2 oz white rum', '1/2 oz vodka', '1/2 oz 1...</td>\n",
       "      <td>In a tall chimney glass or hurricane glass, fi...</td>\n",
       "      <td>http://www.drinksmixer.com/drink8428.html</td>\n",
       "      <td>Hurricane Glass</td>\n",
       "      <td>NaN</td>\n",
       "      <td>NaN</td>\n",
       "    </tr>\n",
       "    <tr>\n",
       "      <th>1</th>\n",
       "      <td>.50 Caliber</td>\n",
       "      <td>[\"2 oz Jack Daniel's® Tennessee whiskey\", '2 o...</td>\n",
       "      <td>Pour the Jack Daniel's Tennessee whiskey, Jim ...</td>\n",
       "      <td>http://www.drinksmixer.com/drink9993.html</td>\n",
       "      <td>Highball Glass</td>\n",
       "      <td>NaN</td>\n",
       "      <td>NaN</td>\n",
       "    </tr>\n",
       "    <tr>\n",
       "      <th>2</th>\n",
       "      <td>007</td>\n",
       "      <td>['3 oz Stoli® Ohranj vodka', '1 1/2 ozfreshly ...</td>\n",
       "      <td>Serve on ice in a highball glass.</td>\n",
       "      <td>http://www.drinksmixer.com/drink11090.html</td>\n",
       "      <td>Highball Glass</td>\n",
       "      <td>NaN</td>\n",
       "      <td>NaN</td>\n",
       "    </tr>\n",
       "    <tr>\n",
       "      <th>3</th>\n",
       "      <td>10 Deep</td>\n",
       "      <td>['1.5 oz vodka', '1 oz Malibu® coconut rum', '...</td>\n",
       "      <td>All right start with 1/2 cup of ice mix the vo...</td>\n",
       "      <td>http://www.drinksmixer.com/drinkuv17048.html</td>\n",
       "      <td>Cup</td>\n",
       "      <td>NaN</td>\n",
       "      <td>NaN</td>\n",
       "    </tr>\n",
       "    <tr>\n",
       "      <th>4</th>\n",
       "      <td>100 Miles per Hour</td>\n",
       "      <td>['1/2 oz Wild Turkey® bourbon whiskey', '1/2 o...</td>\n",
       "      <td>Mix all ingredients together over ice in a hig...</td>\n",
       "      <td>http://www.drinksmixer.com/drink10390.html</td>\n",
       "      <td>Highball Glass</td>\n",
       "      <td>NaN</td>\n",
       "      <td>NaN</td>\n",
       "    </tr>\n",
       "    <tr>\n",
       "      <th>...</th>\n",
       "      <td>...</td>\n",
       "      <td>...</td>\n",
       "      <td>...</td>\n",
       "      <td>...</td>\n",
       "      <td>...</td>\n",
       "      <td>...</td>\n",
       "      <td>...</td>\n",
       "    </tr>\n",
       "    <tr>\n",
       "      <th>16983</th>\n",
       "      <td>Voodoo Tea</td>\n",
       "      <td>['1 shot white rum', '1/2 shot Blue Curacao li...</td>\n",
       "      <td>Pour rum and curacao into a highball glass. Fi...</td>\n",
       "      <td>http://www.drinksmixer.com/drink6586.html</td>\n",
       "      <td>Highball Glass</td>\n",
       "      <td>NaN</td>\n",
       "      <td>Coffee&amp;Tee</td>\n",
       "    </tr>\n",
       "    <tr>\n",
       "      <th>16984</th>\n",
       "      <td>Whiskey Punjabi</td>\n",
       "      <td>['2 - 3 ozpremium whiskey', '8 - 12 ozunsweete...</td>\n",
       "      <td>Mix, stir.</td>\n",
       "      <td>http://www.drinksmixer.com/drinkvw15078.html</td>\n",
       "      <td>Old-Fashioned Glass</td>\n",
       "      <td>NaN</td>\n",
       "      <td>Coffee&amp;Tee</td>\n",
       "    </tr>\n",
       "    <tr>\n",
       "      <th>16985</th>\n",
       "      <td>Wild Beaver</td>\n",
       "      <td>[\"3 oz Jack Daniel's® Tennessee whiskey\", '3 o...</td>\n",
       "      <td>Combine all ingredients in equal parts in a co...</td>\n",
       "      <td>http://www.drinksmixer.com/drink8113.html</td>\n",
       "      <td>Beer Pilsner</td>\n",
       "      <td>NaN</td>\n",
       "      <td>Coffee&amp;Tee</td>\n",
       "    </tr>\n",
       "    <tr>\n",
       "      <th>16986</th>\n",
       "      <td>Xanthor's Pants</td>\n",
       "      <td>['2 oz Jameson® Irish whiskey', \"2 oz Bailey's...</td>\n",
       "      <td>Mix 1 part Scotch with 1 part Bailey's (approx...</td>\n",
       "      <td>http://www.drinksmixer.com/drinkrq15073.html</td>\n",
       "      <td>Coffee Mug</td>\n",
       "      <td>NaN</td>\n",
       "      <td>Coffee&amp;Tee</td>\n",
       "    </tr>\n",
       "    <tr>\n",
       "      <th>16987</th>\n",
       "      <td>Zorro</td>\n",
       "      <td>['2 cl sambuca', \"2 cl Bailey's® Irish cream\",...</td>\n",
       "      <td>Pour all ingredients into an irish coffee cup....</td>\n",
       "      <td>http://www.drinksmixer.com/drink6609.html</td>\n",
       "      <td>Irish Coffee Cup</td>\n",
       "      <td>NaN</td>\n",
       "      <td>Coffee&amp;Tee</td>\n",
       "    </tr>\n",
       "  </tbody>\n",
       "</table>\n",
       "<p>16988 rows × 7 columns</p>\n",
       "</div>"
      ],
      "text/plain": [
       "                     Name                                        Ingredients  \\\n",
       "0            '61 Imperial  ['1/2 oz white rum', '1/2 oz vodka', '1/2 oz 1...   \n",
       "1             .50 Caliber  [\"2 oz Jack Daniel's® Tennessee whiskey\", '2 o...   \n",
       "2                     007  ['3 oz Stoli® Ohranj vodka', '1 1/2 ozfreshly ...   \n",
       "3                 10 Deep  ['1.5 oz vodka', '1 oz Malibu® coconut rum', '...   \n",
       "4      100 Miles per Hour  ['1/2 oz Wild Turkey® bourbon whiskey', '1/2 o...   \n",
       "...                   ...                                                ...   \n",
       "16983          Voodoo Tea  ['1 shot white rum', '1/2 shot Blue Curacao li...   \n",
       "16984     Whiskey Punjabi  ['2 - 3 ozpremium whiskey', '8 - 12 ozunsweete...   \n",
       "16985         Wild Beaver  [\"3 oz Jack Daniel's® Tennessee whiskey\", '3 o...   \n",
       "16986     Xanthor's Pants  ['2 oz Jameson® Irish whiskey', \"2 oz Bailey's...   \n",
       "16987               Zorro  ['2 cl sambuca', \"2 cl Bailey's® Irish cream\",...   \n",
       "\n",
       "                                                  Making  \\\n",
       "0      In a tall chimney glass or hurricane glass, fi...   \n",
       "1      Pour the Jack Daniel's Tennessee whiskey, Jim ...   \n",
       "2                      Serve on ice in a highball glass.   \n",
       "3      All right start with 1/2 cup of ice mix the vo...   \n",
       "4      Mix all ingredients together over ice in a hig...   \n",
       "...                                                  ...   \n",
       "16983  Pour rum and curacao into a highball glass. Fi...   \n",
       "16984                                         Mix, stir.   \n",
       "16985  Combine all ingredients in equal parts in a co...   \n",
       "16986  Mix 1 part Scotch with 1 part Bailey's (approx...   \n",
       "16987  Pour all ingredients into an irish coffee cup....   \n",
       "\n",
       "                                               Link                Glass Type  \\\n",
       "0         http://www.drinksmixer.com/drink8428.html      Hurricane Glass  NaN   \n",
       "1         http://www.drinksmixer.com/drink9993.html       Highball Glass  NaN   \n",
       "2        http://www.drinksmixer.com/drink11090.html       Highball Glass  NaN   \n",
       "3      http://www.drinksmixer.com/drinkuv17048.html                  Cup  NaN   \n",
       "4        http://www.drinksmixer.com/drink10390.html       Highball Glass  NaN   \n",
       "...                                             ...                  ...  ...   \n",
       "16983     http://www.drinksmixer.com/drink6586.html       Highball Glass  NaN   \n",
       "16984  http://www.drinksmixer.com/drinkvw15078.html  Old-Fashioned Glass  NaN   \n",
       "16985     http://www.drinksmixer.com/drink8113.html         Beer Pilsner  NaN   \n",
       "16986  http://www.drinksmixer.com/drinkrq15073.html           Coffee Mug  NaN   \n",
       "16987     http://www.drinksmixer.com/drink6609.html     Irish Coffee Cup  NaN   \n",
       "\n",
       "             Base  \n",
       "0             NaN  \n",
       "1             NaN  \n",
       "2             NaN  \n",
       "3             NaN  \n",
       "4             NaN  \n",
       "...           ...  \n",
       "16983  Coffee&Tee  \n",
       "16984  Coffee&Tee  \n",
       "16985  Coffee&Tee  \n",
       "16986  Coffee&Tee  \n",
       "16987  Coffee&Tee  \n",
       "\n",
       "[16988 rows x 7 columns]"
      ]
     },
     "execution_count": 694,
     "metadata": {},
     "output_type": "execute_result"
    }
   ],
   "source": [
    "dricopy"
   ]
  },
  {
   "cell_type": "markdown",
   "id": "4a908ee0",
   "metadata": {},
   "source": [
    "2. 링크 중복 레시피들의 유니크 링크 별로 glass, type, base를 합친 후 하나씩만 남기고 drop하기"
   ]
  },
  {
   "cell_type": "code",
   "execution_count": 695,
   "id": "2bba2f97",
   "metadata": {},
   "outputs": [
    {
     "data": {
      "text/plain": [
       "340"
      ]
     },
     "execution_count": 695,
     "metadata": {},
     "output_type": "execute_result"
    }
   ],
   "source": [
    "dri_link_dup = dricopy.duplicated(subset=[\"Link\"], keep=False)\n",
    "len(dri_link_dup[dri_link_dup==True])"
   ]
  },
  {
   "cell_type": "code",
   "execution_count": 696,
   "id": "055da30d",
   "metadata": {},
   "outputs": [
    {
     "name": "stdout",
     "output_type": "stream",
     "text": [
      "340\n"
     ]
    }
   ],
   "source": [
    "dri_link_dup_ind = []\n",
    "for i in range(len(dricopy)):\n",
    "    if dri_link_dup[i]==True:\n",
    "        dri_link_dup_ind.append(i)\n",
    "print(len(dri_link_dup_ind))"
   ]
  },
  {
   "cell_type": "code",
   "execution_count": 697,
   "id": "d2f51c06",
   "metadata": {},
   "outputs": [
    {
     "name": "stdout",
     "output_type": "stream",
     "text": [
      "170\n"
     ]
    }
   ],
   "source": [
    "link_unique = []\n",
    "for i in dri_link_dup_ind:\n",
    "    if dricopy[\"Link\"][i] not in link_unique:\n",
    "        link_unique.append(dricopy[\"Link\"][i])\n",
    "print(len(link_unique))"
   ]
  },
  {
   "cell_type": "code",
   "execution_count": 698,
   "id": "20a9cb67",
   "metadata": {},
   "outputs": [
    {
     "name": "stdout",
     "output_type": "stream",
     "text": [
      "{'http://www.drinksmixer.com/drink3402.html': {'Glass': ['Shot Glass'], 'Type': ['Shooter'], 'Base': []}, 'http://www.drinksmixer.com/drink792.html': {'Glass': ['Shot Glass'], 'Type': ['Shooter'], 'Base': []}, 'http://www.drinksmixer.com/drink12u5t74.html': {'Glass': ['Irish Coffee Cup'], 'Type': [], 'Base': ['Coffee&Tee']}, 'http://www.drinksmixer.com/drink8452.html': {'Glass': ['Punch Bowl'], 'Type': ['Punch'], 'Base': []}, 'http://www.drinksmixer.com/drink11169.html': {'Glass': ['Shot Glass'], 'Type': ['Shooter'], 'Base': []}, 'http://www.drinksmixer.com/drink4140.html': {'Glass': ['Shot Glass'], 'Type': ['Shooter'], 'Base': []}, 'http://www.drinksmixer.com/drink7538.html': {'Glass': ['Beer Mug'], 'Type': [], 'Base': ['Beer&Ale']}, 'http://www.drinksmixer.com/drinkb1c2698.html': {'Glass': ['Collins Glass'], 'Type': ['Nonalcoholic'], 'Base': []}, 'http://www.drinksmixer.com/drinkvw12765.html': {'Glass': ['Cocktail Glass'], 'Type': [], 'Base': ['Coffee&Tee']}, 'http://www.drinksmixer.com/drink8576.html': {'Glass': ['Beer Mug'], 'Type': [], 'Base': ['Beer&Ale']}, 'http://www.drinksmixer.com/drink8580.html': {'Glass': ['Old-Fashioned Glass'], 'Type': ['Shooter'], 'Base': []}, 'http://www.drinksmixer.com/drink1209.html': {'Glass': ['Shot Glass'], 'Type': ['Shooter'], 'Base': []}, 'http://www.drinksmixer.com/drink1229.html': {'Glass': ['Shot Glass'], 'Type': ['Shooter'], 'Base': []}, 'http://www.drinksmixer.com/drink8607.html': {'Glass': ['Highball Glass'], 'Type': [], 'Base': ['Beer&Ale']}, 'http://www.drinksmixer.com/drink1257.html': {'Glass': ['Shot Glass'], 'Type': ['Shooter'], 'Base': []}, 'http://www.drinksmixer.com/drink1301.html': {'Glass': ['Shot Glass'], 'Type': ['Shooter'], 'Base': []}, 'http://www.drinksmixer.com/drink1315.html': {'Glass': ['Champagne Flute'], 'Type': [], 'Base': ['Beer&Ale']}, 'http://www.drinksmixer.com/drinkvw12855.html': {'Glass': ['Beer Mug'], 'Type': [], 'Base': ['Beer&Ale']}, 'http://www.drinksmixer.com/drink8689.html': {'Glass': ['Shot Glass'], 'Type': ['Shooter'], 'Base': []}, 'http://www.drinksmixer.com/drink1476.html': {'Glass': ['Highball Glass'], 'Type': ['Nonalcoholic'], 'Base': []}, 'http://www.drinksmixer.com/drinkvw12963.html': {'Glass': ['Beer Mug'], 'Type': [], 'Base': ['Beer&Ale']}, 'http://www.drinksmixer.com/drink8455.html': {'Glass': ['Beer Mug'], 'Type': [], 'Base': ['Beer&Ale']}, 'http://www.drinksmixer.com/drink1wx2973.html': {'Glass': ['Highball Glass'], 'Type': ['Nonalcoholic'], 'Base': []}, 'http://www.drinksmixer.com/drink11303.html': {'Glass': ['Highball Glass'], 'Type': [], 'Base': ['Beer&Ale']}, 'http://www.drinksmixer.com/drinkz129y84.html': {'Glass': ['Beer Mug'], 'Type': [], 'Base': ['Beer&Ale']}, 'http://www.drinksmixer.com/drink10971.html': {'Glass': ['Beer Mug'], 'Type': [], 'Base': ['Coffee&Tee']}, 'http://www.drinksmixer.com/drink1h3i012.html': {'Glass': ['Irish Coffee Cup'], 'Type': [], 'Base': ['Coffee&Tee']}, 'http://www.drinksmixer.com/drinkl13m007.html': {'Glass': ['Irish Coffee Cup'], 'Type': [], 'Base': ['Coffee&Tee']}, 'http://www.drinksmixer.com/drinkj13i013.html': {'Glass': ['Irish Coffee Cup'], 'Type': [], 'Base': ['Coffee&Tee']}, 'http://www.drinksmixer.com/drinkn1m3008.html': {'Glass': ['Irish Coffee Cup'], 'Type': [], 'Base': ['Coffee&Tee']}, 'http://www.drinksmixer.com/drinkk130j14.html': {'Glass': ['Coffee Mug'], 'Type': [], 'Base': ['Coffee&Tee']}, 'http://www.drinksmixer.com/drinko13n009.html': {'Glass': ['Irish Coffee Cup'], 'Type': [], 'Base': ['Coffee&Tee']}, 'http://www.drinksmixer.com/drinkfg13010.html': {'Glass': ['Irish Coffee Cup'], 'Type': [], 'Base': ['Coffee&Tee']}, 'http://www.drinksmixer.com/drink125.html': {'Glass': ['Punch Bowl'], 'Type': ['Punch'], 'Base': []}, 'http://www.drinksmixer.com/drink8798.html': {'Glass': ['Irish Coffee Cup'], 'Type': [], 'Base': ['Beer&Ale']}, 'http://www.drinksmixer.com/drinko13n036.html': {'Glass': ['Irish Coffee Cup'], 'Type': [], 'Base': ['Coffee&Tee']}, 'http://www.drinksmixer.com/drinkrq13075.html': {'Glass': ['Collins Glass'], 'Type': ['Nonalcoholic'], 'Base': []}, 'http://www.drinksmixer.com/drink2732.html': {'Glass': ['Shot Glass'], 'Type': ['Shooter'], 'Base': []}, 'http://www.drinksmixer.com/drink2742.html': {'Glass': ['Coffee Mug'], 'Type': ['Nonalcoholic'], 'Base': []}, 'http://www.drinksmixer.com/drink8453.html': {'Glass': ['Punch Bowl'], 'Type': ['Punch'], 'Base': []}, 'http://www.drinksmixer.com/drink1h3i102.html': {'Glass': ['Old-Fashioned Glass'], 'Type': [], 'Base': ['Coffee&Tee']}, 'http://www.drinksmixer.com/drink10987.html': {'Glass': ['Bottle'], 'Type': [], 'Base': ['Beer&Ale']}, 'http://www.drinksmixer.com/drink8858.html': {'Glass': ['Collins Glass'], 'Type': ['Nonalcoholic'], 'Base': []}, 'http://www.drinksmixer.com/drinkj13i130.html': {'Glass': ['Irish Coffee Cup'], 'Type': [], 'Base': ['Coffee&Tee']}, 'http://www.drinksmixer.com/drink10500.html': {'Glass': ['Sour Glass'], 'Type': [], 'Base': ['Coffee&Tee']}, 'http://www.drinksmixer.com/drink13u1t77.html': {'Glass': ['Irish Coffee Cup'], 'Type': [], 'Base': ['Coffee&Tee']}, 'http://www.drinksmixer.com/drink8456.html': {'Glass': ['Punch Bowl'], 'Type': ['Punch'], 'Base': []}, 'http://www.drinksmixer.com/drink8912.html': {'Glass': ['Shot Glass'], 'Type': ['Shooter'], 'Base': []}, 'http://www.drinksmixer.com/drink2930.html': {'Glass': ['Shot Glass'], 'Type': ['Shooter'], 'Base': []}, 'http://www.drinksmixer.com/drinkk1l3213.html': {'Glass': ['Irish Coffee Cup'], 'Type': [], 'Base': ['Coffee&Tee']}, 'http://www.drinksmixer.com/drinkl13m214.html': {'Glass': ['Irish Coffee Cup'], 'Type': [], 'Base': ['Coffee&Tee']}, 'http://www.drinksmixer.com/drinko13n243.html': {'Glass': ['Irish Coffee Cup'], 'Type': [], 'Base': ['Coffee&Tee']}, 'http://www.drinksmixer.com/drinkrq13264.html': {'Glass': ['Beer Mug'], 'Type': [], 'Base': ['Beer&Ale']}, 'http://www.drinksmixer.com/drink237.html': {'Glass': ['Red Wine Glass'], 'Type': ['Nonalcoholic'], 'Base': []}, 'http://www.drinksmixer.com/drink7664.html': {'Glass': ['Old-Fashioned Glass'], 'Type': ['Shooter'], 'Base': []}, 'http://www.drinksmixer.com/drinks1r3292.html': {'Glass': ['Beer Pilsner'], 'Type': [], 'Base': ['Beer&Ale']}, 'http://www.drinksmixer.com/drink3128.html': {'Glass': ['Shot Glass'], 'Type': ['Shooter'], 'Base': []}, 'http://www.drinksmixer.com/drink10319.html': {'Glass': ['Collins Glass'], 'Type': [], 'Base': ['Beer&Ale']}, 'http://www.drinksmixer.com/drink3175.html': {'Glass': ['Shot Glass'], 'Type': ['Shooter'], 'Base': []}, 'http://www.drinksmixer.com/drink4309.html': {'Glass': ['Shot Glass'], 'Type': ['Shooter'], 'Base': []}, 'http://www.drinksmixer.com/drink6674.html': {'Glass': ['Cup'], 'Type': ['Nonalcoholic'], 'Base': []}, 'http://www.drinksmixer.com/drinko13n450.html': {'Glass': ['Beer Mug'], 'Type': [], 'Base': ['Beer&Ale']}, 'http://www.drinksmixer.com/drink10540.html': {'Glass': ['Coffee Mug'], 'Type': [], 'Base': ['Coffee&Tee']}, 'http://www.drinksmixer.com/drink1t3s473.html': {'Glass': ['Old-Fashioned Glass'], 'Type': [], 'Base': ['Beer&Ale']}, 'http://www.drinksmixer.com/drinkl13m502.html': {'Glass': ['Collins Glass'], 'Type': [], 'Base': ['Coffee&Tee']}, 'http://www.drinksmixer.com/drink159.html': {'Glass': ['Highball Glass'], 'Type': ['Nonalcoholic'], 'Base': []}, 'http://www.drinksmixer.com/drink9119.html': {'Glass': ['Shot Glass'], 'Type': ['Shooter'], 'Base': []}, 'http://www.drinksmixer.com/drink3343.html': {'Glass': ['Collins Glass'], 'Type': ['Nonalcoholic'], 'Base': []}, 'http://www.drinksmixer.com/drink9143.html': {'Glass': ['Highball Glass'], 'Type': [], 'Base': ['Beer&Ale']}, 'http://www.drinksmixer.com/drink8043.html': {'Glass': ['Shot Glass'], 'Type': ['Shooter'], 'Base': []}, 'http://www.drinksmixer.com/drink13u5t73.html': {'Glass': ['Coffee Mug'], 'Type': [], 'Base': ['Coffee&Tee']}, 'http://www.drinksmixer.com/drink9156.html': {'Glass': ['Collins Glass'], 'Type': [], 'Base': ['Beer&Ale']}, 'http://www.drinksmixer.com/drink3536.html': {'Glass': ['Shot Glass'], 'Type': ['Shooter'], 'Base': []}, 'http://www.drinksmixer.com/drink279.html': {'Glass': ['Shot Glass'], 'Type': ['Shooter'], 'Base': []}, 'http://www.drinksmixer.com/drink8457.html': {'Glass': ['Punch Bowl'], 'Type': ['Punch'], 'Base': []}, 'http://www.drinksmixer.com/drink9216.html': {'Glass': ['Highball Glass'], 'Type': ['Nonalcoholic'], 'Base': []}, 'http://www.drinksmixer.com/drink7724.html': {'Glass': ['Shot Glass'], 'Type': ['Shooter'], 'Base': []}, 'http://www.drinksmixer.com/drink1wx3729.html': {'Glass': ['Beer Mug'], 'Type': [], 'Base': ['Beer&Ale']}, 'http://www.drinksmixer.com/drinkb1c3769.html': {'Glass': ['Irish Coffee Cup'], 'Type': [], 'Base': ['Coffee&Tee']}, 'http://www.drinksmixer.com/drink7737.html': {'Glass': ['Shot Glass'], 'Type': ['Shooter'], 'Base': []}, 'http://www.drinksmixer.com/drink6838.html': {'Glass': ['Highball Glass'], 'Type': ['Nonalcoholic'], 'Base': []}, 'http://www.drinksmixer.com/drink6839.html': {'Glass': ['Collins Glass'], 'Type': ['Nonalcoholic'], 'Base': []}, 'http://www.drinksmixer.com/drink3944.html': {'Glass': ['Collins Glass'], 'Type': ['Nonalcoholic'], 'Base': []}, 'http://www.drinksmixer.com/drink11655.html': {'Glass': ['Jug'], 'Type': ['Nonalcoholic'], 'Base': []}, 'http://www.drinksmixer.com/drink7745.html': {'Glass': ['Highball Glass'], 'Type': ['Nonalcoholic'], 'Base': []}, 'http://www.drinksmixer.com/drink11664.html': {'Glass': ['Old-Fashioned Glass'], 'Type': [], 'Base': ['Coffee&Tee']}, 'http://www.drinksmixer.com/drinkab13849.html': {'Glass': ['Beer Mug'], 'Type': [], 'Base': ['Beer&Ale']}, 'http://www.drinksmixer.com/drink9259.html': {'Glass': ['Shot Glass'], 'Type': ['Shooter'], 'Base': []}, 'http://www.drinksmixer.com/drink7766.html': {'Glass': ['Shot Glass'], 'Type': ['Shooter'], 'Base': []}, 'http://www.drinksmixer.com/drink6775.html': {'Glass': ['Shot Glass'], 'Type': ['Shooter'], 'Base': []}, 'http://www.drinksmixer.com/drink4310.html': {'Glass': ['Shot Glass'], 'Type': ['Shooter'], 'Base': []}, 'http://www.drinksmixer.com/drinkvw13962.html': {'Glass': ['Coffee Mug'], 'Type': [], 'Base': ['Coffee&Tee']}, 'http://www.drinksmixer.com/drink7771.html': {'Glass': ['Shot Glass'], 'Type': ['Shooter'], 'Base': []}, 'http://www.drinksmixer.com/drinke13d969.html': {'Glass': ['Coffee Mug'], 'Type': [], 'Base': ['Coffee&Tee']}, 'http://www.drinksmixer.com/drink13xy973.html': {'Glass': ['Irish Coffee Cup'], 'Type': [], 'Base': ['Coffee&Tee']}, 'http://www.drinksmixer.com/drinkf1g3989.html': {'Glass': ['Irish Coffee Cup'], 'Type': [], 'Base': ['Coffee&Tee']}, 'http://www.drinksmixer.com/drink17.html': {'Glass': ['Collins Glass'], 'Type': ['Nonalcoholic'], 'Base': []}, 'http://www.drinksmixer.com/drink7776.html': {'Glass': ['Beer Mug'], 'Type': [], 'Base': ['Beer&Ale']}, 'http://www.drinksmixer.com/drink1p40o54.html': {'Glass': ['Beer Mug'], 'Type': [], 'Base': ['Beer&Ale']}, 'http://www.drinksmixer.com/drinkn1m4061.html': {'Glass': ['Coffee Mug'], 'Type': [], 'Base': ['Coffee&Tee']}, 'http://www.drinksmixer.com/drink1p40o63.html': {'Glass': ['Coffee Mug'], 'Type': [], 'Base': ['Coffee&Tee']}, 'http://www.drinksmixer.com/drinkn1m4160.html': {'Glass': ['Irish Coffee Cup'], 'Type': [], 'Base': ['Coffee&Tee']}, 'http://www.drinksmixer.com/drinkvw14169.html': {'Glass': ['Beer Mug'], 'Type': [], 'Base': ['Beer&Ale']}, 'http://www.drinksmixer.com/drinkvw14187.html': {'Glass': ['Irish Coffee Cup'], 'Type': [], 'Base': ['Coffee&Tee']}, 'http://www.drinksmixer.com/drinkp14q190.html': {'Glass': ['Irish Coffee Cup'], 'Type': [], 'Base': ['Coffee&Tee']}, 'http://www.drinksmixer.com/drinkrq14191.html': {'Glass': ['Irish Coffee Cup'], 'Type': [], 'Base': ['Coffee&Tee']}, 'http://www.drinksmixer.com/drink14u1t94.html': {'Glass': ['Irish Coffee Cup'], 'Type': [], 'Base': ['Coffee&Tee']}, 'http://www.drinksmixer.com/drinkz141y99.html': {'Glass': ['Irish Coffee Cup'], 'Type': [], 'Base': ['Coffee&Tee']}, 'http://www.drinksmixer.com/drink7361.html': {'Glass': ['White Wine Glass'], 'Type': ['Nonalcoholic'], 'Base': []}, 'http://www.drinksmixer.com/drink4800.html': {'Glass': ['Shot Glass'], 'Type': ['Shooter'], 'Base': []}, 'http://www.drinksmixer.com/drink136.html': {'Glass': ['Shot Glass'], 'Type': ['Shooter'], 'Base': []}, 'http://www.drinksmixer.com/drink4855.html': {'Glass': ['Shot Glass'], 'Type': ['Shooter'], 'Base': []}, 'http://www.drinksmixer.com/drink9574.html': {'Glass': ['Shot Glass'], 'Type': ['Shooter'], 'Base': []}, 'http://www.drinksmixer.com/drink1p43o42.html': {'Glass': ['Irish Coffee Cup'], 'Type': [], 'Base': ['Coffee&Tee']}, 'http://www.drinksmixer.com/drinkrq14353.html': {'Glass': ['Beer Mug'], 'Type': ['Nonalcoholic'], 'Base': []}, 'http://www.drinksmixer.com/drink4905.html': {'Glass': ['Shot Glass'], 'Type': ['Shooter'], 'Base': []}, 'http://www.drinksmixer.com/drink7818.html': {'Glass': ['Shot Glass'], 'Type': ['Shooter'], 'Base': []}, 'http://www.drinksmixer.com/drink7820.html': {'Glass': ['Highball Glass'], 'Type': [], 'Base': ['Beer&Ale']}, 'http://www.drinksmixer.com/drink1p44o05.html': {'Glass': ['Coffee Mug'], 'Type': [], 'Base': ['Coffee&Tee']}, 'http://www.drinksmixer.com/drink10330.html': {'Glass': ['Punch Bowl'], 'Type': ['Punch'], 'Base': []}, 'http://www.drinksmixer.com/drink7827.html': {'Glass': ['Beer Mug'], 'Type': [], 'Base': ['Beer&Ale']}, 'http://www.drinksmixer.com/drinkn1m4430.html': {'Glass': ['Irish Coffee Cup'], 'Type': [], 'Base': ['Coffee&Tee']}, 'http://www.drinksmixer.com/drink9682.html': {'Glass': ['Old-Fashioned Glass'], 'Type': [], 'Base': ['Beer&Ale']}, 'http://www.drinksmixer.com/drinkvw14466.html': {'Glass': ['Beer Mug'], 'Type': [], 'Base': ['Beer&Ale']}, 'http://www.drinksmixer.com/drink5370.html': {'Glass': ['Highball Glass'], 'Type': ['Nonalcoholic'], 'Base': []}, 'http://www.drinksmixer.com/drink1c4d499.html': {'Glass': ['Highball Glass'], 'Type': [], 'Base': ['Coffee&Tee']}, 'http://www.drinksmixer.com/drink1p45o04.html': {'Glass': ['Irish Coffee Cup'], 'Type': [], 'Base': ['Coffee&Tee']}, 'http://www.drinksmixer.com/drink395.html': {'Glass': ['Punch Bowl'], 'Type': ['Punch'], 'Base': []}, 'http://www.drinksmixer.com/drink12072.html': {'Glass': ['Beer Mug'], 'Type': [], 'Base': ['Coffee&Tee']}, 'http://www.drinksmixer.com/drink9743.html': {'Glass': ['Highball Glass'], 'Type': [], 'Base': ['Beer&Ale']}, 'http://www.drinksmixer.com/drink7854.html': {'Glass': ['Pitcher'], 'Type': [], 'Base': ['Beer&Ale']}, 'http://www.drinksmixer.com/drinkp14q604.html': {'Glass': ['Coffee Mug'], 'Type': [], 'Base': ['Coffee&Tee']}, 'http://www.drinksmixer.com/drink12153.html': {'Glass': ['Cocktail Glass'], 'Type': [], 'Base': ['Coffee&Tee']}, 'http://www.drinksmixer.com/drink5692.html': {'Glass': ['Highball Glass'], 'Type': ['Nonalcoholic'], 'Base': []}, 'http://www.drinksmixer.com/drink12165.html': {'Glass': ['Highball Glass'], 'Type': ['Nonalcoholic'], 'Base': []}, 'http://www.drinksmixer.com/drink5704.html': {'Glass': ['Cocktail Glass'], 'Type': ['Nonalcoholic'], 'Base': []}, 'http://www.drinksmixer.com/drink8459.html': {'Glass': ['Punch Bowl'], 'Type': ['Punch'], 'Base': []}, 'http://www.drinksmixer.com/drink5728.html': {'Glass': ['Old-Fashioned Glass'], 'Type': [], 'Base': ['Beer&Ale']}, 'http://www.drinksmixer.com/drink5742.html': {'Glass': ['Beer Mug'], 'Type': [], 'Base': ['Beer&Ale']}, 'http://www.drinksmixer.com/drinke14d779.html': {'Glass': ['Irish Coffee Cup'], 'Type': [], 'Base': ['Coffee&Tee']}, 'http://www.drinksmixer.com/drinko12n352.html': {'Glass': ['Old-Fashioned Glass'], 'Type': [], 'Base': ['Beer&Ale']}, 'http://www.drinksmixer.com/drink1p23o62.html': {'Glass': ['White Wine Glass'], 'Type': ['Nonalcoholic'], 'Base': []}, 'http://www.drinksmixer.com/drink6036.html': {'Glass': ['Shot Glass'], 'Type': ['Shooter'], 'Base': []}, 'http://www.drinksmixer.com/drink6337.html': {'Glass': ['Shot Glass'], 'Type': ['Shooter'], 'Base': []}, 'http://www.drinksmixer.com/drink6486.html': {'Glass': ['Shot Glass'], 'Type': ['Shooter'], 'Base': []}, 'http://www.drinksmixer.com/drink7944.html': {'Glass': ['Shot Glass'], 'Type': ['Shooter'], 'Base': []}, 'http://www.drinksmixer.com/drink7962.html': {'Glass': ['Punch Bowl'], 'Type': ['Punch'], 'Base': []}, 'http://www.drinksmixer.com/drink1147.html': {'Glass': ['Shot Glass'], 'Type': ['Shooter'], 'Base': []}, 'http://www.drinksmixer.com/drink2095.html': {'Glass': ['Shot Glass'], 'Type': ['Shooter'], 'Base': []}, 'http://www.drinksmixer.com/drinkk1l5022.html': {'Glass': ['Red Wine Glass'], 'Type': [], 'Base': ['Coffee&Tee']}, 'http://www.drinksmixer.com/drink8265.html': {'Glass': ['Shot Glass'], 'Type': ['Shooter'], 'Base': []}, 'http://www.drinksmixer.com/drink8460.html': {'Glass': ['Punch Bowl'], 'Type': ['Punch'], 'Base': []}, 'http://www.drinksmixer.com/drink8461.html': {'Glass': ['Punch Bowl'], 'Type': ['Punch'], 'Base': []}, 'http://www.drinksmixer.com/drink7097.html': {'Glass': ['Shot Glass'], 'Type': ['Shooter'], 'Base': []}, 'http://www.drinksmixer.com/drink8463.html': {'Glass': ['Punch Bowl'], 'Type': ['Punch'], 'Base': []}, 'http://www.drinksmixer.com/drink858.html': {'Glass': ['Shot Glass'], 'Type': ['Shooter'], 'Base': []}, 'http://www.drinksmixer.com/drink2537.html': {'Glass': ['Shot Glass'], 'Type': ['Shooter'], 'Base': []}, 'http://www.drinksmixer.com/drink8072.html': {'Glass': ['Shot Glass'], 'Type': ['Shooter'], 'Base': []}, 'http://www.drinksmixer.com/drink8464.html': {'Glass': ['Punch Bowl'], 'Type': ['Punch'], 'Base': []}, 'http://www.drinksmixer.com/drink8465.html': {'Glass': ['Punch Bowl'], 'Type': ['Punch'], 'Base': []}, 'http://www.drinksmixer.com/drink4968.html': {'Glass': ['Shot Glass'], 'Type': ['Shooter'], 'Base': []}, 'http://www.drinksmixer.com/drink5012.html': {'Glass': ['Shot Glass'], 'Type': ['Shooter'], 'Base': []}, 'http://www.drinksmixer.com/drink8114.html': {'Glass': ['Shot Glass'], 'Type': ['Shooter'], 'Base': []}, 'http://www.drinksmixer.com/drink2580.html': {'Glass': ['Shot Glass'], 'Type': ['Shooter'], 'Base': []}, 'http://www.drinksmixer.com/drink1508.html': {'Glass': ['Shot Glass'], 'Type': ['Shooter'], 'Base': ['Beer&Ale']}, 'http://www.drinksmixer.com/drink13.html': {'Glass': ['Shot Glass'], 'Type': ['Shooter'], 'Base': ['Beer&Ale']}, 'http://www.drinksmixer.com/drink3524.html': {'Glass': ['Shot Glass'], 'Type': ['Shooter'], 'Base': ['Beer&Ale']}, 'http://www.drinksmixer.com/drink5827.html': {'Glass': ['Beer Mug'], 'Type': ['Shooter'], 'Base': ['Beer&Ale']}, 'http://www.drinksmixer.com/drink538.html': {'Glass': ['Shot Glass'], 'Type': ['Shooter'], 'Base': ['Beer&Ale']}, 'http://www.drinksmixer.com/drink510.html': {'Glass': ['Old-Fashioned Glass'], 'Type': ['Shooter'], 'Base': ['Beer&Ale']}}\n"
     ]
    }
   ],
   "source": [
    "link_other_collection = {}\n",
    "for i in range(len(dricopy)):\n",
    "    if dricopy[\"Link\"][i] in link_unique:\n",
    "        if dricopy[\"Link\"][i] not in list(link_other_collection.keys()):\n",
    "            link_other_collection[dricopy[\"Link\"][i]] = {}\n",
    "            if str(dricopy[\"Glass\"][i])!='nan':\n",
    "                link_other_collection[dricopy[\"Link\"][i]][\"Glass\"] = [dricopy[\"Glass\"][i]]\n",
    "            else:\n",
    "                link_other_collection[dricopy[\"Link\"][i]][\"Glass\"] = []\n",
    "            if str(dricopy[\"Type\"][i])!='nan':\n",
    "                link_other_collection[dricopy[\"Link\"][i]][\"Type\"] = [dricopy[\"Type\"][i]]\n",
    "            else:\n",
    "                link_other_collection[dricopy[\"Link\"][i]][\"Type\"] = []\n",
    "            if str(dricopy[\"Base\"][i])!='nan':\n",
    "                link_other_collection[dricopy[\"Link\"][i]][\"Base\"] = [dricopy[\"Base\"][i]]\n",
    "            else:\n",
    "                link_other_collection[dricopy[\"Link\"][i]][\"Base\"] = []\n",
    "        else:\n",
    "            if dricopy[\"Glass\"][i] not in link_other_collection[dricopy[\"Link\"][i]][\"Glass\"] and str(dricopy[\"Glass\"][i])!='nan':\n",
    "                link_other_collection[dricopy[\"Link\"][i]][\"Glass\"].append(dricopy[\"Glass\"][i])\n",
    "            if dricopy[\"Type\"][i] not in link_other_collection[dricopy[\"Link\"][i]][\"Type\"] and str(dricopy[\"Type\"][i])!='nan':\n",
    "                link_other_collection[dricopy[\"Link\"][i]][\"Type\"].append(dricopy[\"Type\"][i])\n",
    "            if dricopy[\"Base\"][i] not in link_other_collection[dricopy[\"Link\"][i]][\"Base\"] and str(dricopy[\"Base\"][i])!='nan':\n",
    "                link_other_collection[dricopy[\"Link\"][i]][\"Base\"].append(dricopy[\"Base\"][i])\n",
    "print(link_other_collection)"
   ]
  },
  {
   "cell_type": "code",
   "execution_count": 699,
   "id": "0efac37f",
   "metadata": {},
   "outputs": [
    {
     "data": {
      "text/plain": [
       "170"
      ]
     },
     "execution_count": 699,
     "metadata": {},
     "output_type": "execute_result"
    }
   ],
   "source": [
    "len(link_other_collection)"
   ]
  },
  {
   "cell_type": "code",
   "execution_count": 700,
   "id": "52df0158",
   "metadata": {},
   "outputs": [],
   "source": [
    "link_other_collection_key = list(link_other_collection.keys())\n",
    "for i in range(len(link_other_collection_key)):\n",
    "    gathered_glasses = link_other_collection[link_other_collection_key[i]][\"Glass\"]\n",
    "    if len(gathered_glasses)>=2:\n",
    "        count = 0\n",
    "        glass_glass_ind = []\n",
    "        for j in len(gathered_glasses):\n",
    "            if 'Glass' in gathered_glasses[j]:\n",
    "                count += 1\n",
    "                glass_glass_ind.append(j)\n",
    "        if count>=2:\n",
    "            replace_count = 0\n",
    "            while replace_count<glass_glass_ind[-1]:\n",
    "                gathered_glasses[replace_count] = gathered_glasses[replace_count].replace(' Glass', \"\")\n",
    "                replace_count += 1\n",
    "for j in dri_link_dup_ind:\n",
    "    dricopy[\"Glass\"][j] = \" or \".join(link_other_collection[dricopy[\"Link\"][j]][\"Glass\"])\n",
    "    dricopy[\"Type\"][j] = \", \".join(link_other_collection[dricopy[\"Link\"][j]][\"Type\"])\n",
    "    dricopy[\"Base\"][j] = \", \".join(link_other_collection[dricopy[\"Link\"][j]][\"Base\"])"
   ]
  },
  {
   "cell_type": "code",
   "execution_count": 701,
   "id": "433ba092",
   "metadata": {},
   "outputs": [],
   "source": [
    "dricopy.drop_duplicates(subset=[\"Link\"], keep='first', inplace=True, ignore_index=True)"
   ]
  },
  {
   "cell_type": "code",
   "execution_count": 702,
   "id": "5d0a009f",
   "metadata": {},
   "outputs": [
    {
     "data": {
      "text/plain": [
       "0"
      ]
     },
     "execution_count": 702,
     "metadata": {},
     "output_type": "execute_result"
    }
   ],
   "source": [
    "dri_link_dup = dricopy.duplicated(subset=[\"Link\"], keep=False)\n",
    "len(dri_link_dup[dri_link_dup==True])"
   ]
  },
  {
   "cell_type": "code",
   "execution_count": 703,
   "id": "f3c826e0",
   "metadata": {},
   "outputs": [
    {
     "data": {
      "text/html": [
       "<div>\n",
       "<style scoped>\n",
       "    .dataframe tbody tr th:only-of-type {\n",
       "        vertical-align: middle;\n",
       "    }\n",
       "\n",
       "    .dataframe tbody tr th {\n",
       "        vertical-align: top;\n",
       "    }\n",
       "\n",
       "    .dataframe thead th {\n",
       "        text-align: right;\n",
       "    }\n",
       "</style>\n",
       "<table border=\"1\" class=\"dataframe\">\n",
       "  <thead>\n",
       "    <tr style=\"text-align: right;\">\n",
       "      <th></th>\n",
       "      <th>Name</th>\n",
       "      <th>Ingredients</th>\n",
       "      <th>Making</th>\n",
       "      <th>Link</th>\n",
       "      <th>Glass</th>\n",
       "      <th>Type</th>\n",
       "      <th>Base</th>\n",
       "    </tr>\n",
       "  </thead>\n",
       "  <tbody>\n",
       "    <tr>\n",
       "      <th>0</th>\n",
       "      <td>'61 Imperial</td>\n",
       "      <td>['1/2 oz white rum', '1/2 oz vodka', '1/2 oz 1...</td>\n",
       "      <td>In a tall chimney glass or hurricane glass, fi...</td>\n",
       "      <td>http://www.drinksmixer.com/drink8428.html</td>\n",
       "      <td>Hurricane Glass</td>\n",
       "      <td>NaN</td>\n",
       "      <td>NaN</td>\n",
       "    </tr>\n",
       "    <tr>\n",
       "      <th>1</th>\n",
       "      <td>.50 Caliber</td>\n",
       "      <td>[\"2 oz Jack Daniel's® Tennessee whiskey\", '2 o...</td>\n",
       "      <td>Pour the Jack Daniel's Tennessee whiskey, Jim ...</td>\n",
       "      <td>http://www.drinksmixer.com/drink9993.html</td>\n",
       "      <td>Highball Glass</td>\n",
       "      <td>NaN</td>\n",
       "      <td>NaN</td>\n",
       "    </tr>\n",
       "    <tr>\n",
       "      <th>2</th>\n",
       "      <td>007</td>\n",
       "      <td>['3 oz Stoli® Ohranj vodka', '1 1/2 ozfreshly ...</td>\n",
       "      <td>Serve on ice in a highball glass.</td>\n",
       "      <td>http://www.drinksmixer.com/drink11090.html</td>\n",
       "      <td>Highball Glass</td>\n",
       "      <td>NaN</td>\n",
       "      <td>NaN</td>\n",
       "    </tr>\n",
       "    <tr>\n",
       "      <th>3</th>\n",
       "      <td>10 Deep</td>\n",
       "      <td>['1.5 oz vodka', '1 oz Malibu® coconut rum', '...</td>\n",
       "      <td>All right start with 1/2 cup of ice mix the vo...</td>\n",
       "      <td>http://www.drinksmixer.com/drinkuv17048.html</td>\n",
       "      <td>Cup</td>\n",
       "      <td>NaN</td>\n",
       "      <td>NaN</td>\n",
       "    </tr>\n",
       "    <tr>\n",
       "      <th>4</th>\n",
       "      <td>100 Miles per Hour</td>\n",
       "      <td>['1/2 oz Wild Turkey® bourbon whiskey', '1/2 o...</td>\n",
       "      <td>Mix all ingredients together over ice in a hig...</td>\n",
       "      <td>http://www.drinksmixer.com/drink10390.html</td>\n",
       "      <td>Highball Glass</td>\n",
       "      <td>NaN</td>\n",
       "      <td>NaN</td>\n",
       "    </tr>\n",
       "    <tr>\n",
       "      <th>...</th>\n",
       "      <td>...</td>\n",
       "      <td>...</td>\n",
       "      <td>...</td>\n",
       "      <td>...</td>\n",
       "      <td>...</td>\n",
       "      <td>...</td>\n",
       "      <td>...</td>\n",
       "    </tr>\n",
       "    <tr>\n",
       "      <th>16813</th>\n",
       "      <td>Voodoo Tea</td>\n",
       "      <td>['1 shot white rum', '1/2 shot Blue Curacao li...</td>\n",
       "      <td>Pour rum and curacao into a highball glass. Fi...</td>\n",
       "      <td>http://www.drinksmixer.com/drink6586.html</td>\n",
       "      <td>Highball Glass</td>\n",
       "      <td>NaN</td>\n",
       "      <td>Coffee&amp;Tee</td>\n",
       "    </tr>\n",
       "    <tr>\n",
       "      <th>16814</th>\n",
       "      <td>Whiskey Punjabi</td>\n",
       "      <td>['2 - 3 ozpremium whiskey', '8 - 12 ozunsweete...</td>\n",
       "      <td>Mix, stir.</td>\n",
       "      <td>http://www.drinksmixer.com/drinkvw15078.html</td>\n",
       "      <td>Old-Fashioned Glass</td>\n",
       "      <td>NaN</td>\n",
       "      <td>Coffee&amp;Tee</td>\n",
       "    </tr>\n",
       "    <tr>\n",
       "      <th>16815</th>\n",
       "      <td>Wild Beaver</td>\n",
       "      <td>[\"3 oz Jack Daniel's® Tennessee whiskey\", '3 o...</td>\n",
       "      <td>Combine all ingredients in equal parts in a co...</td>\n",
       "      <td>http://www.drinksmixer.com/drink8113.html</td>\n",
       "      <td>Beer Pilsner</td>\n",
       "      <td>NaN</td>\n",
       "      <td>Coffee&amp;Tee</td>\n",
       "    </tr>\n",
       "    <tr>\n",
       "      <th>16816</th>\n",
       "      <td>Xanthor's Pants</td>\n",
       "      <td>['2 oz Jameson® Irish whiskey', \"2 oz Bailey's...</td>\n",
       "      <td>Mix 1 part Scotch with 1 part Bailey's (approx...</td>\n",
       "      <td>http://www.drinksmixer.com/drinkrq15073.html</td>\n",
       "      <td>Coffee Mug</td>\n",
       "      <td>NaN</td>\n",
       "      <td>Coffee&amp;Tee</td>\n",
       "    </tr>\n",
       "    <tr>\n",
       "      <th>16817</th>\n",
       "      <td>Zorro</td>\n",
       "      <td>['2 cl sambuca', \"2 cl Bailey's® Irish cream\",...</td>\n",
       "      <td>Pour all ingredients into an irish coffee cup....</td>\n",
       "      <td>http://www.drinksmixer.com/drink6609.html</td>\n",
       "      <td>Irish Coffee Cup</td>\n",
       "      <td>NaN</td>\n",
       "      <td>Coffee&amp;Tee</td>\n",
       "    </tr>\n",
       "  </tbody>\n",
       "</table>\n",
       "<p>16818 rows × 7 columns</p>\n",
       "</div>"
      ],
      "text/plain": [
       "                     Name                                        Ingredients  \\\n",
       "0            '61 Imperial  ['1/2 oz white rum', '1/2 oz vodka', '1/2 oz 1...   \n",
       "1             .50 Caliber  [\"2 oz Jack Daniel's® Tennessee whiskey\", '2 o...   \n",
       "2                     007  ['3 oz Stoli® Ohranj vodka', '1 1/2 ozfreshly ...   \n",
       "3                 10 Deep  ['1.5 oz vodka', '1 oz Malibu® coconut rum', '...   \n",
       "4      100 Miles per Hour  ['1/2 oz Wild Turkey® bourbon whiskey', '1/2 o...   \n",
       "...                   ...                                                ...   \n",
       "16813          Voodoo Tea  ['1 shot white rum', '1/2 shot Blue Curacao li...   \n",
       "16814     Whiskey Punjabi  ['2 - 3 ozpremium whiskey', '8 - 12 ozunsweete...   \n",
       "16815         Wild Beaver  [\"3 oz Jack Daniel's® Tennessee whiskey\", '3 o...   \n",
       "16816     Xanthor's Pants  ['2 oz Jameson® Irish whiskey', \"2 oz Bailey's...   \n",
       "16817               Zorro  ['2 cl sambuca', \"2 cl Bailey's® Irish cream\",...   \n",
       "\n",
       "                                                  Making  \\\n",
       "0      In a tall chimney glass or hurricane glass, fi...   \n",
       "1      Pour the Jack Daniel's Tennessee whiskey, Jim ...   \n",
       "2                      Serve on ice in a highball glass.   \n",
       "3      All right start with 1/2 cup of ice mix the vo...   \n",
       "4      Mix all ingredients together over ice in a hig...   \n",
       "...                                                  ...   \n",
       "16813  Pour rum and curacao into a highball glass. Fi...   \n",
       "16814                                         Mix, stir.   \n",
       "16815  Combine all ingredients in equal parts in a co...   \n",
       "16816  Mix 1 part Scotch with 1 part Bailey's (approx...   \n",
       "16817  Pour all ingredients into an irish coffee cup....   \n",
       "\n",
       "                                               Link                Glass Type  \\\n",
       "0         http://www.drinksmixer.com/drink8428.html      Hurricane Glass  NaN   \n",
       "1         http://www.drinksmixer.com/drink9993.html       Highball Glass  NaN   \n",
       "2        http://www.drinksmixer.com/drink11090.html       Highball Glass  NaN   \n",
       "3      http://www.drinksmixer.com/drinkuv17048.html                  Cup  NaN   \n",
       "4        http://www.drinksmixer.com/drink10390.html       Highball Glass  NaN   \n",
       "...                                             ...                  ...  ...   \n",
       "16813     http://www.drinksmixer.com/drink6586.html       Highball Glass  NaN   \n",
       "16814  http://www.drinksmixer.com/drinkvw15078.html  Old-Fashioned Glass  NaN   \n",
       "16815     http://www.drinksmixer.com/drink8113.html         Beer Pilsner  NaN   \n",
       "16816  http://www.drinksmixer.com/drinkrq15073.html           Coffee Mug  NaN   \n",
       "16817     http://www.drinksmixer.com/drink6609.html     Irish Coffee Cup  NaN   \n",
       "\n",
       "             Base  \n",
       "0             NaN  \n",
       "1             NaN  \n",
       "2             NaN  \n",
       "3             NaN  \n",
       "4             NaN  \n",
       "...           ...  \n",
       "16813  Coffee&Tee  \n",
       "16814  Coffee&Tee  \n",
       "16815  Coffee&Tee  \n",
       "16816  Coffee&Tee  \n",
       "16817  Coffee&Tee  \n",
       "\n",
       "[16818 rows x 7 columns]"
      ]
     },
     "execution_count": 703,
     "metadata": {},
     "output_type": "execute_result"
    }
   ],
   "source": [
    "dricopy"
   ]
  },
  {
   "cell_type": "markdown",
   "id": "ac111189",
   "metadata": {},
   "source": [
    "3. 이름+재료 중복 레시피들의 유니크 이름+재료 별로 Making, Glass, Base를 출력. 이걸 보고 바리에이션 넘버 부여 혹은 drop하기"
   ]
  },
  {
   "cell_type": "code",
   "execution_count": 704,
   "id": "b151b8b3",
   "metadata": {},
   "outputs": [
    {
     "data": {
      "text/plain": [
       "40"
      ]
     },
     "execution_count": 704,
     "metadata": {},
     "output_type": "execute_result"
    }
   ],
   "source": [
    "dri_2_dup = dricopy.duplicated(subset=[\"Name\", \"Ingredients\"], keep=False)\n",
    "len(dri_2_dup[dri_2_dup==True])"
   ]
  },
  {
   "cell_type": "code",
   "execution_count": 705,
   "id": "7a953667",
   "metadata": {},
   "outputs": [
    {
     "name": "stdout",
     "output_type": "stream",
     "text": [
      "40\n"
     ]
    }
   ],
   "source": [
    "dri_2_dup_ind = []\n",
    "for i in range(len(dricopy)):\n",
    "    if dri_2_dup[i]==True:\n",
    "        dri_2_dup_ind.append(i)\n",
    "print(len(dri_2_dup_ind))"
   ]
  },
  {
   "cell_type": "code",
   "execution_count": 706,
   "id": "89e819c8",
   "metadata": {},
   "outputs": [
    {
     "name": "stdout",
     "output_type": "stream",
     "text": [
      "{\"Caribbean Martini['1 1/2 oz Stoli® Vanil vodka', '3/4 oz Malibu® coconut rum', '1 splash pineapple juice']\": [2527, 2528], \"Christmas in a Cup['1 oz spiced rum', '1 oz Aftershock® Hot & Cool cinnamon schnapps', '2 oz Dr. Pepper® soda']\": [2972, 2973], \"Crimson Sunset['2 oz gin', '2 tsp lemon juice', '1/2 tsp grenadine syrup', '1/2 oz tawny port']\": [3549, 3550], \"Gin Lollipop['1 oz gin', '1 oz Southern Comfort® peach liqueur', '5 oz orange juice', '1 ozsparkling mineral water']\": [5311, 5312], \"Italian Margarita['1 oz amaretto almond liqueur', '2 oz sweet and sour mix', '1/2 oz Jose Cuervo® Especial gold tequila', '1/2 oz triple sec']\": [6549, 6550], \"Ma Wee Hen['1 1/2 oz Scotch whisky', '1/2 oz dry sherry', '1/2 oz orange juice', '1/2 oz lemon juice', '1 tsp grenadine syrup']\": [7783, 7784], \"Merete['2 cl Galliano® herbal liqueur', '2 cl Passoa® liqueur', '2 cl cranberry juice']\": [8183, 8184], \"Mozart Cocktail['1 1/2 oz anejo rum', '1/2 oz sweet vermouth', '1 tsp triple sec', '2 dashes orange bitters']\": [8602, 8603], \"Pellston Hottie['1 oz extra dry gin', '1 oz DeKuyper® Hot Damn cinnamon schnapps']\": [9473, 9474], \"Peregrine's Peril['1 oz dark rum', '1 tsp lime juice', '1/2 oz creme de bananes', '1/2 oz Southern Comfort® peach liqueur', '1 tsp lemon juice']\": [9509, 9510], \"Prince's Smile['1/2 oz apple brandy', '1/2 oz apricot brandy', '1 oz gin', '1/4 tsp lemon juice']\": [9921, 9922], \"Purple People Drinker['2 oz Three Olives® vodka', '1 oz DeKuyper® Island Blue Pucker schnapps', '1 oz DeKuyper® Raspberry Pucker schnapps', '3 oz cranberry juice']\": [10025, 10026], 'Purple Purple Popsicle[\\'2 oz Skyy® vodka\\', \"2 oz Welch\\'s® grape juice\", \\'8 oz ginger ale\\']': [10034, 10035], \"Round-Up['1 oz brandy', '3/4 oz creme de bananes', '1 oz white creme de cacao', '1/2 oz white creme de menthe', '1 oz 7-Up® soda']\": [10408, 10409], \"Swedish Polar Bear['4 cl Absolut® vodka', '2 cl Blue Curacao liqueur', ' Sprite® soda']\": [11337, 11338], \"The Naked Lady['1/4 oz light rum', '1/4 oz dark rum', '1/2 oz amaretto almond liqueur', '1/2 oz peach schnapps', '2 oz orange juice', '1 splash Sprite® soda']\": [11613, 11614], \"The Perfect Ten['4 cl Bacardi® Limon rum', '2 cl Pisang Ambon® liqueur', ' lemon juice', ' Sprite® soda']\": [11624, 11625], \"Banana Cantaloupe Smoothie['1/2 sliced cantaloupe melon', '1 peeled banana']\": [15607, 15608], \"Mango Pineapple Smoothie['1 cupvanilla yoghurt', '1 cupunsweetened pineapple juice', '1/2 banana', '1 peeled mango', '1/2 cupnonfat milk', '2 tbsp cream of coconut']\": [16047, 16048], \"Pineapple Delight Smoothie['2 cups milk', '2 frozen banana', '6 pineapple', '1 tbsp honey']\": [16123, 16124]}\n"
     ]
    }
   ],
   "source": [
    "name_ing_unique = []\n",
    "name_ing_ind_col = {}\n",
    "for i in dri_2_dup_ind:\n",
    "    if dricopy[\"Name\"][i]+dricopy[\"Ingredients\"][i] not in name_ing_unique:\n",
    "        name_ing_unique.append(dricopy[\"Name\"][i]+dricopy[\"Ingredients\"][i])\n",
    "        name_ing_ind_col[dricopy[\"Name\"][i]+dricopy[\"Ingredients\"][i]] = [i]\n",
    "    else:\n",
    "        name_ing_ind_col[dricopy[\"Name\"][i]+dricopy[\"Ingredients\"][i]].append(i)\n",
    "print(name_ing_ind_col)"
   ]
  },
  {
   "cell_type": "code",
   "execution_count": 707,
   "id": "108d74d9",
   "metadata": {},
   "outputs": [
    {
     "name": "stdout",
     "output_type": "stream",
     "text": [
      "[2527, 2528]\n",
      "Shake ingredients over ice. Pour into glass.\n",
      "Cocktail Glass\n",
      "nan\n",
      "Shake ingredients over ice. Pour into glass.\n",
      "Cocktail Glass\n",
      "nan\n",
      "[2972, 2973]\n",
      "Add Dr. Pepper and spiced rum, stir, then put Aftershock in and let it mix by itself.\n",
      "Cup\n",
      "nan\n",
      "Add Dr. Pepper and spiced rum, stir, then put Aftershock in and let it mix by itself.\n",
      "Cup\n",
      "nan\n",
      "[3549, 3550]\n",
      "In a shaker half-filled with ice cubes, combine the gin and lemon juice. Shake well. Strain into a cocktail glass. Drop the grenadine into the center of the drink and float the port on the top.\n",
      "Cocktail Glass\n",
      "nan\n",
      "Pour the gin and lemon juice into a cocktail shaker half-filled with ice cubes. Shake well. Strain into a cocktail glass. Drop the grenadine into the center of the drink and float port on top. Garnish with a maraschino cherry, and serve.\n",
      "Cocktail Glass\n",
      "nan\n",
      "[5311, 5312]\n",
      "Shake and strain into an ice-filled collins glass, and add water. Garnish with a slice of orange and a cherry, and serve.\n",
      "Collins Glass\n",
      "nan\n",
      "Shake all ingredients (except water) and strain into an ice-filled collins glass. Add water, garnish with an orange slice and a cherry, and serve.\n",
      "Collins Glass\n",
      "nan\n",
      "[6549, 6550]\n",
      "Pour into a margarita/coupette glass and stir. Add ice cubes.\n",
      "Margarita Glass\n",
      "nan\n",
      "Pour into a margarita glass, stir, and add ice cubes.\n",
      "Margarita Glass\n",
      "nan\n",
      "[7783, 7784]\n",
      "Combine ingredients in a shaker half-filled with ice cubes. Shake well and strain into a cocktail glass.\n",
      "Cocktail Glass\n",
      "nan\n",
      "Shake all ingredients with ice cubes, strain into a cocktail glass, and serve.\n",
      "Cocktail Glass\n",
      "nan\n",
      "[8183, 8184]\n",
      "Combine ingredients with ice in a mixing glass. Stir, and strain into a cocktail glass. Add a cherry, and serve.\n",
      "Cocktail Glass\n",
      "nan\n",
      "Stir ingredients with ice in a mixing glass. Strain into a cocktail glass, add the cherry, and serve.\n",
      "Cocktail Glass\n",
      "nan\n",
      "[8602, 8603]\n",
      "Combine the rum, vermouth, triple sec and orange bitters in a mixing glass half-filled with ice cubes. Stir well, strain into a cocktail glass, and serve with a lemon twist.\n",
      "Cocktail Glass\n",
      "nan\n",
      "Pour the anejo rum, sweet vermouth, triple sec and orange bitters into a mixing glass half-filled with cracked ice. Stir well. Strain into a cocktail glass, garnish with a twist of lemon, and serve.\n",
      "Cocktail Glass\n",
      "nan\n",
      "[9473, 9474]\n",
      "Mix the gin and DeKuyper Hot Damn! together in an old-fashioned glass, and serve.\n",
      "Old-Fashioned Glass\n",
      "nan\n",
      "Mix one ounce of the Gin with one ounce of Hot Damn into a cocktail glass. Add ice for a great chilled drink. Enjoy!\n",
      "Cocktail Glass\n",
      "nan\n",
      "[9509, 9510]\n",
      "Pour the dark rum, lime juice, creme de bananes, southern comfort and lemon juice into a cocktail shaker half-filled with ice cubes. Shake well, strain into a cocktail glass, and serve.\n",
      "Cocktail Glass\n",
      "nan\n",
      "combine ingredients in a shaker half-filled with ice cubes. Shake well, and strain into a cocktail glass.\n",
      "Cocktail Glass\n",
      "nan\n",
      "[9921, 9922]\n",
      "Shake all ingredients with ice, strain into a cocktail glass, and serve.\n",
      "Cocktail Glass\n",
      "nan\n",
      "Shake with ice and strain into a cocktail glass.\n",
      "Cocktail Glass\n",
      "nan\n",
      "[10025, 10026]\n",
      "Shake ingredients in a cocktail shaker with ice. Strain into glass.\n",
      "Cocktail Glass\n",
      "nan\n",
      "Shake ingredients in a cocktail shaker with ice. Strain into glass.\n",
      "Cocktail Glass\n",
      "nan\n",
      "[10034, 10035]\n",
      "Pour in 2 shots of chilled vodka. Add 2 shots chilled grape juice. Fill the rest of the glass with ginger ale. Shake or stir (stirring preferred), and serve.\n",
      "Highball Glass\n",
      "nan\n",
      "Pour in 2 shots of chilled vodka. Add 2 shots chilled grape juice. Fill the rest of the glass with ginger ale. Shake or stir (stirring preferred), and serve.\n",
      "Highball Glass\n",
      "nan\n",
      "[10408, 10409]\n",
      "Shake, strain into a cocktail glass, and serve.\n",
      "Cocktail Glass\n",
      "nan\n",
      "Shake all ingredients (except 7-up) and strain into a cocktail glass. Fill with 7-up, and serve.\n",
      "Cocktail Glass\n",
      "nan\n",
      "[11337, 11338]\n",
      "Mix absolut vodka and blue curacao in a glass with ice cubes. Fill with sprite, and serve.\n",
      "Cocktail Glass\n",
      "nan\n",
      "Combine and mix absolut vodka and blue curacao over ice cubes in a collins glass. Fill with sprite, and serve.\n",
      "Collins Glass\n",
      "nan\n",
      "[11613, 11614]\n",
      "Mix in a tall glass and serve over ice.\n",
      "Collins Glass\n",
      "nan\n",
      "Mix in a tall glass and serve over ice.\n",
      "Collins Glass\n",
      "nan\n",
      "[11624, 11625]\n",
      "Pour the liquors into an old-fashioned glass. Fill with equal parts of lemon juice and sprite.\n",
      "Old-Fashioned Glass\n",
      "nan\n",
      "First add the alcohol, then the rest is 50/50 of the lemon juice and the sprite. Don't put any ice in it!!!\n",
      "Old-Fashioned Glass\n",
      "nan\n",
      "[15607, 15608]\n",
      "Combine all ingredients in a blender and blend until fairly smooth. Serve in a sour glass.\n",
      "\n",
      "Best kind of glass for this drink: Sour.\n",
      "Sour Glass\n",
      "Nonalcoholic\n",
      "Juice cantaloupe, pour juice into blender, add banana, and liquify.\n",
      "Hurricane Glass\n",
      "Nonalcoholic\n",
      "[16047, 16048]\n",
      "In a blender, blend the vanilla yogurt, pineapple juice, banana, mango, milk, and cream of coconut until smooth.\n",
      "Hurricane Glass\n",
      "Nonalcoholic\n",
      "In a blender, blend the vanilla yogurt, pineapple juice, banana, mango, milk, and cream of coconut until smooth.\n",
      "Hurricane Glass\n",
      "Nonalcoholic\n",
      "[16123, 16124]\n",
      "In a blender combine milk, frozen bananas, pineapple and honey. Blend until smooth.\n",
      "nan\n",
      "Nonalcoholic\n",
      "In a blender combine milk, frozen bananas, pineapple and honey. Blend until smooth.\n",
      "Hurricane Glass\n",
      "Nonalcoholic\n"
     ]
    }
   ],
   "source": [
    "name_ing_ind_col_key = list(name_ing_ind_col.keys())\n",
    "for i in range(len(name_ing_ind_col_key)):\n",
    "    print(name_ing_ind_col[name_ing_ind_col_key[i]])\n",
    "    for j in name_ing_ind_col[name_ing_ind_col_key[i]]:\n",
    "        print(dricopy[\"Making\"][j])\n",
    "        print(dricopy[\"Glass\"][j])\n",
    "        print(dricopy[\"Type\"][j])"
   ]
  },
  {
   "cell_type": "markdown",
   "id": "b1e0d863",
   "metadata": {},
   "source": [
    "같은 칵테일이 아닌 것: [9473, 9474], [15607, 15608]<br>\n",
    "같은 칵테일이지만 설명 차이가 유의미한 수준이라서 하나를 선택해서 남겨야 하는 것: <br>\n",
    "[3549, 3550]중 3550, [5311, 5312]중 5312, [6549, 6550]중 6549, [7783, 7784]중 7783, [8602, 8603]중 8603, [10408, 10409]중 10409, [11624, 11625]중 11625, [16123, 16124]중 16124<br>\n",
    "중복이 아닌 것은 바리에이션 넘버 부여하기, 선택적으로 남겨야 하는 것 남기고 나머지 드랍하기"
   ]
  },
  {
   "cell_type": "code",
   "execution_count": 708,
   "id": "cf496389",
   "metadata": {},
   "outputs": [
    {
     "name": "stdout",
     "output_type": "stream",
     "text": [
      "Pellston Hottie\n",
      "Pellston Hottie\n",
      "Banana Cantaloupe Smoothie\n",
      "Banana Cantaloupe Smoothie\n"
     ]
    }
   ],
   "source": [
    "print(dricopy[\"Name\"][9473])\n",
    "print(dricopy[\"Name\"][9474])\n",
    "print(dricopy[\"Name\"][15607])\n",
    "print(dricopy[\"Name\"][15608])"
   ]
  },
  {
   "cell_type": "code",
   "execution_count": 709,
   "id": "b53f549f",
   "metadata": {},
   "outputs": [],
   "source": [
    "dricopy[\"Name\"][9473] = \"Pellston Hottie #1\"\n",
    "dricopy[\"Name\"][9474] = \"Pellston Hottie #2\"\n",
    "dricopy[\"Name\"][15607] = \"Banana Cantaloupe Smoothie #1\"\n",
    "dricopy[\"Name\"][15608] = \"Banana Cantaloupe Smoothie #2\""
   ]
  },
  {
   "cell_type": "code",
   "execution_count": 710,
   "id": "6b23c9a5",
   "metadata": {},
   "outputs": [],
   "source": [
    "dricopy.drop(3549, inplace=True)\n",
    "dricopy.drop(5311, inplace=True)\n",
    "dricopy.drop(6550, inplace=True)\n",
    "dricopy.drop(7784, inplace=True)\n",
    "dricopy.drop(8602, inplace=True)\n",
    "dricopy.drop(10408, inplace=True)\n",
    "dricopy.drop(11624, inplace=True)\n",
    "dricopy.drop(16123, inplace=True)"
   ]
  },
  {
   "cell_type": "code",
   "execution_count": 711,
   "id": "c1ed49c2",
   "metadata": {},
   "outputs": [],
   "source": [
    "dricopy.reset_index(drop=True, inplace=True)"
   ]
  },
  {
   "cell_type": "code",
   "execution_count": 712,
   "id": "cd93c3fd",
   "metadata": {},
   "outputs": [],
   "source": [
    "dricopy.drop_duplicates(subset=[\"Name\", \"Ingredients\"], keep='first', inplace=True, ignore_index=True)"
   ]
  },
  {
   "cell_type": "code",
   "execution_count": 713,
   "id": "f6f5c9fb",
   "metadata": {},
   "outputs": [
    {
     "data": {
      "text/plain": [
       "0"
      ]
     },
     "execution_count": 713,
     "metadata": {},
     "output_type": "execute_result"
    }
   ],
   "source": [
    "dri_2_dup = dricopy.duplicated(subset=[\"Name\", \"Ingredients\"], keep=False)\n",
    "len(dri_2_dup[dri_2_dup==True])"
   ]
  },
  {
   "cell_type": "code",
   "execution_count": 714,
   "id": "edde79c0",
   "metadata": {},
   "outputs": [
    {
     "data": {
      "text/html": [
       "<div>\n",
       "<style scoped>\n",
       "    .dataframe tbody tr th:only-of-type {\n",
       "        vertical-align: middle;\n",
       "    }\n",
       "\n",
       "    .dataframe tbody tr th {\n",
       "        vertical-align: top;\n",
       "    }\n",
       "\n",
       "    .dataframe thead th {\n",
       "        text-align: right;\n",
       "    }\n",
       "</style>\n",
       "<table border=\"1\" class=\"dataframe\">\n",
       "  <thead>\n",
       "    <tr style=\"text-align: right;\">\n",
       "      <th></th>\n",
       "      <th>Name</th>\n",
       "      <th>Ingredients</th>\n",
       "      <th>Making</th>\n",
       "      <th>Link</th>\n",
       "      <th>Glass</th>\n",
       "      <th>Type</th>\n",
       "      <th>Base</th>\n",
       "    </tr>\n",
       "  </thead>\n",
       "  <tbody>\n",
       "    <tr>\n",
       "      <th>0</th>\n",
       "      <td>'61 Imperial</td>\n",
       "      <td>['1/2 oz white rum', '1/2 oz vodka', '1/2 oz 1...</td>\n",
       "      <td>In a tall chimney glass or hurricane glass, fi...</td>\n",
       "      <td>http://www.drinksmixer.com/drink8428.html</td>\n",
       "      <td>Hurricane Glass</td>\n",
       "      <td>NaN</td>\n",
       "      <td>NaN</td>\n",
       "    </tr>\n",
       "    <tr>\n",
       "      <th>1</th>\n",
       "      <td>.50 Caliber</td>\n",
       "      <td>[\"2 oz Jack Daniel's® Tennessee whiskey\", '2 o...</td>\n",
       "      <td>Pour the Jack Daniel's Tennessee whiskey, Jim ...</td>\n",
       "      <td>http://www.drinksmixer.com/drink9993.html</td>\n",
       "      <td>Highball Glass</td>\n",
       "      <td>NaN</td>\n",
       "      <td>NaN</td>\n",
       "    </tr>\n",
       "    <tr>\n",
       "      <th>2</th>\n",
       "      <td>007</td>\n",
       "      <td>['3 oz Stoli® Ohranj vodka', '1 1/2 ozfreshly ...</td>\n",
       "      <td>Serve on ice in a highball glass.</td>\n",
       "      <td>http://www.drinksmixer.com/drink11090.html</td>\n",
       "      <td>Highball Glass</td>\n",
       "      <td>NaN</td>\n",
       "      <td>NaN</td>\n",
       "    </tr>\n",
       "    <tr>\n",
       "      <th>3</th>\n",
       "      <td>10 Deep</td>\n",
       "      <td>['1.5 oz vodka', '1 oz Malibu® coconut rum', '...</td>\n",
       "      <td>All right start with 1/2 cup of ice mix the vo...</td>\n",
       "      <td>http://www.drinksmixer.com/drinkuv17048.html</td>\n",
       "      <td>Cup</td>\n",
       "      <td>NaN</td>\n",
       "      <td>NaN</td>\n",
       "    </tr>\n",
       "    <tr>\n",
       "      <th>4</th>\n",
       "      <td>100 Miles per Hour</td>\n",
       "      <td>['1/2 oz Wild Turkey® bourbon whiskey', '1/2 o...</td>\n",
       "      <td>Mix all ingredients together over ice in a hig...</td>\n",
       "      <td>http://www.drinksmixer.com/drink10390.html</td>\n",
       "      <td>Highball Glass</td>\n",
       "      <td>NaN</td>\n",
       "      <td>NaN</td>\n",
       "    </tr>\n",
       "    <tr>\n",
       "      <th>...</th>\n",
       "      <td>...</td>\n",
       "      <td>...</td>\n",
       "      <td>...</td>\n",
       "      <td>...</td>\n",
       "      <td>...</td>\n",
       "      <td>...</td>\n",
       "      <td>...</td>\n",
       "    </tr>\n",
       "    <tr>\n",
       "      <th>16795</th>\n",
       "      <td>Voodoo Tea</td>\n",
       "      <td>['1 shot white rum', '1/2 shot Blue Curacao li...</td>\n",
       "      <td>Pour rum and curacao into a highball glass. Fi...</td>\n",
       "      <td>http://www.drinksmixer.com/drink6586.html</td>\n",
       "      <td>Highball Glass</td>\n",
       "      <td>NaN</td>\n",
       "      <td>Coffee&amp;Tee</td>\n",
       "    </tr>\n",
       "    <tr>\n",
       "      <th>16796</th>\n",
       "      <td>Whiskey Punjabi</td>\n",
       "      <td>['2 - 3 ozpremium whiskey', '8 - 12 ozunsweete...</td>\n",
       "      <td>Mix, stir.</td>\n",
       "      <td>http://www.drinksmixer.com/drinkvw15078.html</td>\n",
       "      <td>Old-Fashioned Glass</td>\n",
       "      <td>NaN</td>\n",
       "      <td>Coffee&amp;Tee</td>\n",
       "    </tr>\n",
       "    <tr>\n",
       "      <th>16797</th>\n",
       "      <td>Wild Beaver</td>\n",
       "      <td>[\"3 oz Jack Daniel's® Tennessee whiskey\", '3 o...</td>\n",
       "      <td>Combine all ingredients in equal parts in a co...</td>\n",
       "      <td>http://www.drinksmixer.com/drink8113.html</td>\n",
       "      <td>Beer Pilsner</td>\n",
       "      <td>NaN</td>\n",
       "      <td>Coffee&amp;Tee</td>\n",
       "    </tr>\n",
       "    <tr>\n",
       "      <th>16798</th>\n",
       "      <td>Xanthor's Pants</td>\n",
       "      <td>['2 oz Jameson® Irish whiskey', \"2 oz Bailey's...</td>\n",
       "      <td>Mix 1 part Scotch with 1 part Bailey's (approx...</td>\n",
       "      <td>http://www.drinksmixer.com/drinkrq15073.html</td>\n",
       "      <td>Coffee Mug</td>\n",
       "      <td>NaN</td>\n",
       "      <td>Coffee&amp;Tee</td>\n",
       "    </tr>\n",
       "    <tr>\n",
       "      <th>16799</th>\n",
       "      <td>Zorro</td>\n",
       "      <td>['2 cl sambuca', \"2 cl Bailey's® Irish cream\",...</td>\n",
       "      <td>Pour all ingredients into an irish coffee cup....</td>\n",
       "      <td>http://www.drinksmixer.com/drink6609.html</td>\n",
       "      <td>Irish Coffee Cup</td>\n",
       "      <td>NaN</td>\n",
       "      <td>Coffee&amp;Tee</td>\n",
       "    </tr>\n",
       "  </tbody>\n",
       "</table>\n",
       "<p>16800 rows × 7 columns</p>\n",
       "</div>"
      ],
      "text/plain": [
       "                     Name                                        Ingredients  \\\n",
       "0            '61 Imperial  ['1/2 oz white rum', '1/2 oz vodka', '1/2 oz 1...   \n",
       "1             .50 Caliber  [\"2 oz Jack Daniel's® Tennessee whiskey\", '2 o...   \n",
       "2                     007  ['3 oz Stoli® Ohranj vodka', '1 1/2 ozfreshly ...   \n",
       "3                 10 Deep  ['1.5 oz vodka', '1 oz Malibu® coconut rum', '...   \n",
       "4      100 Miles per Hour  ['1/2 oz Wild Turkey® bourbon whiskey', '1/2 o...   \n",
       "...                   ...                                                ...   \n",
       "16795          Voodoo Tea  ['1 shot white rum', '1/2 shot Blue Curacao li...   \n",
       "16796     Whiskey Punjabi  ['2 - 3 ozpremium whiskey', '8 - 12 ozunsweete...   \n",
       "16797         Wild Beaver  [\"3 oz Jack Daniel's® Tennessee whiskey\", '3 o...   \n",
       "16798     Xanthor's Pants  ['2 oz Jameson® Irish whiskey', \"2 oz Bailey's...   \n",
       "16799               Zorro  ['2 cl sambuca', \"2 cl Bailey's® Irish cream\",...   \n",
       "\n",
       "                                                  Making  \\\n",
       "0      In a tall chimney glass or hurricane glass, fi...   \n",
       "1      Pour the Jack Daniel's Tennessee whiskey, Jim ...   \n",
       "2                      Serve on ice in a highball glass.   \n",
       "3      All right start with 1/2 cup of ice mix the vo...   \n",
       "4      Mix all ingredients together over ice in a hig...   \n",
       "...                                                  ...   \n",
       "16795  Pour rum and curacao into a highball glass. Fi...   \n",
       "16796                                         Mix, stir.   \n",
       "16797  Combine all ingredients in equal parts in a co...   \n",
       "16798  Mix 1 part Scotch with 1 part Bailey's (approx...   \n",
       "16799  Pour all ingredients into an irish coffee cup....   \n",
       "\n",
       "                                               Link                Glass Type  \\\n",
       "0         http://www.drinksmixer.com/drink8428.html      Hurricane Glass  NaN   \n",
       "1         http://www.drinksmixer.com/drink9993.html       Highball Glass  NaN   \n",
       "2        http://www.drinksmixer.com/drink11090.html       Highball Glass  NaN   \n",
       "3      http://www.drinksmixer.com/drinkuv17048.html                  Cup  NaN   \n",
       "4        http://www.drinksmixer.com/drink10390.html       Highball Glass  NaN   \n",
       "...                                             ...                  ...  ...   \n",
       "16795     http://www.drinksmixer.com/drink6586.html       Highball Glass  NaN   \n",
       "16796  http://www.drinksmixer.com/drinkvw15078.html  Old-Fashioned Glass  NaN   \n",
       "16797     http://www.drinksmixer.com/drink8113.html         Beer Pilsner  NaN   \n",
       "16798  http://www.drinksmixer.com/drinkrq15073.html           Coffee Mug  NaN   \n",
       "16799     http://www.drinksmixer.com/drink6609.html     Irish Coffee Cup  NaN   \n",
       "\n",
       "             Base  \n",
       "0             NaN  \n",
       "1             NaN  \n",
       "2             NaN  \n",
       "3             NaN  \n",
       "4             NaN  \n",
       "...           ...  \n",
       "16795  Coffee&Tee  \n",
       "16796  Coffee&Tee  \n",
       "16797  Coffee&Tee  \n",
       "16798  Coffee&Tee  \n",
       "16799  Coffee&Tee  \n",
       "\n",
       "[16800 rows x 7 columns]"
      ]
     },
     "execution_count": 714,
     "metadata": {},
     "output_type": "execute_result"
    }
   ],
   "source": [
    "dricopy"
   ]
  },
  {
   "cell_type": "markdown",
   "id": "c9e3eaf4",
   "metadata": {},
   "source": [
    "4. 이름에서 중복 체크 후 바리에이션 넘버 부여하기"
   ]
  },
  {
   "cell_type": "code",
   "execution_count": 715,
   "id": "c925814c",
   "metadata": {},
   "outputs": [
    {
     "data": {
      "text/plain": [
       "295"
      ]
     },
     "execution_count": 715,
     "metadata": {},
     "output_type": "execute_result"
    }
   ],
   "source": [
    "dri_name_dup = dricopy.duplicated(subset=[\"Name\"], keep=False)\n",
    "len(dri_name_dup[dri_name_dup==True])"
   ]
  },
  {
   "cell_type": "code",
   "execution_count": 716,
   "id": "12f59a15",
   "metadata": {},
   "outputs": [],
   "source": [
    "dri_name_dup_ind = []\n",
    "for i in range(len(dricopy)):\n",
    "    if dri_name_dup[i]==True:\n",
    "        dri_name_dup_ind.append(i)"
   ]
  },
  {
   "cell_type": "code",
   "execution_count": 717,
   "id": "208b2b9e",
   "metadata": {},
   "outputs": [
    {
     "name": "stdout",
     "output_type": "stream",
     "text": [
      "146\n"
     ]
    }
   ],
   "source": [
    "name_unique = []\n",
    "for i in dri_name_dup_ind:\n",
    "    if dricopy[\"Name\"][i] not in name_unique:\n",
    "        name_unique.append(dricopy[\"Name\"][i])\n",
    "print(len(name_unique))"
   ]
  },
  {
   "cell_type": "markdown",
   "id": "bf798789",
   "metadata": {},
   "source": [
    "바리에이션 넘버 부여"
   ]
  },
  {
   "cell_type": "markdown",
   "id": "5aaf2e40",
   "metadata": {},
   "source": [
    "바리에이션 넘버가 이미 부여된 상태에서 이름이 같은 칵테일이 있는지 확인"
   ]
  },
  {
   "cell_type": "code",
   "execution_count": 718,
   "id": "1deea991",
   "metadata": {},
   "outputs": [
    {
     "name": "stdout",
     "output_type": "stream",
     "text": [
      "here\n",
      "Almond Joy #2\n",
      "here\n",
      "Banana Colada #2\n",
      "here\n",
      "Irish Cream #2\n",
      "here\n",
      "Irish Cream #2\n",
      "here\n",
      "Red Devil #2\n",
      "here\n",
      "Spanish Coffee #2\n",
      "here\n",
      "Almond Joy #2\n",
      "here\n",
      "Apple Pie Shot #3\n",
      "here\n",
      "Apple Pie Shot #3\n",
      "here\n",
      "Red Devil #2\n",
      "here\n",
      "Banana Colada #2\n",
      "here\n",
      "Spanish Coffee #2\n"
     ]
    }
   ],
   "source": [
    "variation_dup_ind = []\n",
    "for i in dri_name_dup_ind:\n",
    "    if '#' in dricopy[\"Name\"][i]:\n",
    "        print(\"here\")\n",
    "        print(dricopy[\"Name\"][i])\n",
    "        variation_dup_ind.append(i)"
   ]
  },
  {
   "cell_type": "markdown",
   "id": "c750cc17",
   "metadata": {},
   "source": [
    "해당 칵테일들은 일단 제외하고 바리에이션 넘버 부여하기"
   ]
  },
  {
   "cell_type": "code",
   "execution_count": 719,
   "id": "1918db7e",
   "metadata": {},
   "outputs": [],
   "source": [
    "name_dup_sub_vari_ind = [x for x in dri_name_dup_ind if x not in variation_dup_ind]"
   ]
  },
  {
   "cell_type": "code",
   "execution_count": 720,
   "id": "f80f1245",
   "metadata": {},
   "outputs": [
    {
     "name": "stdout",
     "output_type": "stream",
     "text": [
      "140\n"
     ]
    }
   ],
   "source": [
    "not_vari_name_unique = []\n",
    "for i in name_dup_sub_vari_ind:\n",
    "    if dricopy[\"Name\"][i] not in not_vari_name_unique:\n",
    "        not_vari_name_unique.append(dricopy[\"Name\"][i])\n",
    "print(len(not_vari_name_unique))"
   ]
  },
  {
   "cell_type": "code",
   "execution_count": 721,
   "id": "62c638fe",
   "metadata": {},
   "outputs": [],
   "source": [
    "for name in not_vari_name_unique:\n",
    "    dri_same_names_ind = []\n",
    "    for j in range(len(dricopy)):\n",
    "        if dricopy[\"Name\"][j]==name:\n",
    "            dri_same_names_ind.append(j)\n",
    "    for k in range(len(dri_same_names_ind)):\n",
    "         dricopy[\"Name\"][dri_same_names_ind[k]] = \"{} #{}\".format(name, k+1)"
   ]
  },
  {
   "cell_type": "markdown",
   "id": "e57f4c0d",
   "metadata": {},
   "source": [
    "다시 이름 중복 확인"
   ]
  },
  {
   "cell_type": "code",
   "execution_count": 722,
   "id": "0bf3ec06",
   "metadata": {},
   "outputs": [
    {
     "data": {
      "text/plain": [
       "61"
      ]
     },
     "execution_count": 722,
     "metadata": {},
     "output_type": "execute_result"
    }
   ],
   "source": [
    "vari_name_dup = dricopy.duplicated(subset=[\"Name\"], keep=False)\n",
    "len(vari_name_dup[vari_name_dup==True])"
   ]
  },
  {
   "cell_type": "code",
   "execution_count": 723,
   "id": "825685f4",
   "metadata": {},
   "outputs": [],
   "source": [
    "vari_name_dup_ind = []\n",
    "for i in range(len(dricopy)):\n",
    "    if vari_name_dup[i]==True:\n",
    "        vari_name_dup_ind.append(i)"
   ]
  },
  {
   "cell_type": "code",
   "execution_count": 724,
   "id": "e7041ee3",
   "metadata": {},
   "outputs": [
    {
     "name": "stdout",
     "output_type": "stream",
     "text": [
      "30\n"
     ]
    }
   ],
   "source": [
    "vari_name_unique = []\n",
    "for i in vari_name_dup_ind:\n",
    "    if dricopy[\"Name\"][i] not in vari_name_unique:\n",
    "        vari_name_unique.append(dricopy[\"Name\"][i])\n",
    "print(len(vari_name_unique))"
   ]
  },
  {
   "cell_type": "code",
   "execution_count": 725,
   "id": "2cb7daef",
   "metadata": {},
   "outputs": [
    {
     "name": "stdout",
     "output_type": "stream",
     "text": [
      "['Almond Joy #2', 'Banana Colada #2', 'Cherry Blossom #2', 'Cherry Bomb #2', 'Cotton Candy #2', 'Cranberry Kiss #2', 'Espresso Martini #2', 'Fallen Angel #2', 'Gingerbread Man #2', 'Golden Shower #2', 'Irish Cream #2', 'Lava Lamp #2', 'Mango Tango #2', 'Metropolitan #2', 'Panty Dropper #2', 'Red Devil #2', 'Spanish Coffee #2', 'Strawberry Dream #2', 'Velvet Hammer #2', 'Apple Pie Shot #2', 'Apple Pie Shot #3', 'Black Death #2', 'Black Tooth #2', 'Blackjack #2', 'Cherry Coke #2', 'Purple Haze #2', 'Spiced Apple #2', 'Watermelon #2', 'Banana Punch #2', 'Irish Cream Liqueur #2']\n"
     ]
    }
   ],
   "source": [
    "print(vari_name_unique)"
   ]
  },
  {
   "cell_type": "code",
   "execution_count": 726,
   "id": "d3043c89",
   "metadata": {},
   "outputs": [
    {
     "name": "stdout",
     "output_type": "stream",
     "text": [
      "['Irish Cream Liqueur', 'Espresso Martini', 'Black Death', 'Almond Joy', 'Cherry Blossom', 'Panty Dropper', 'Purple Haze', 'Banana Colada', 'Banana Punch', 'Blackjack', 'Black Tooth', 'Lava Lamp', 'Fallen Angel', 'Gingerbread Man', 'Cherry Bomb', 'Spanish Coffee', 'Spiced Apple', 'Cherry Coke', 'Golden Shower', 'Red Devil', 'Watermelon', 'Velvet Hammer', 'Cotton Candy', 'Strawberry Dream', 'Cranberry Kiss', 'Mango Tango', 'Apple Pie Shot', 'Metropolitan', 'Irish Cream']\n"
     ]
    }
   ],
   "source": [
    "root_name_unique = []\n",
    "for i in range(len(vari_name_unique)):\n",
    "    root_name_unique.append(vari_name_unique[i].split(\"#\")[0].strip())\n",
    "root_name_unique = list(set(root_name_unique))\n",
    "print(root_name_unique)"
   ]
  },
  {
   "cell_type": "code",
   "execution_count": 727,
   "id": "e32b3b71",
   "metadata": {},
   "outputs": [],
   "source": [
    "dricopycopy = dricopy.copy()"
   ]
  },
  {
   "cell_type": "markdown",
   "id": "1f05a30c",
   "metadata": {},
   "source": [
    "겹치지 않는 새로운 바리에이션 넘버 부여해주기"
   ]
  },
  {
   "cell_type": "code",
   "execution_count": 728,
   "id": "1b010ea6",
   "metadata": {},
   "outputs": [],
   "source": [
    "for name in root_name_unique:\n",
    "    vari_counts = []\n",
    "    vari_ind = []\n",
    "    for i in range(len(dricopycopy)):\n",
    "        if \"#\" in dricopycopy[\"Name\"][i]:\n",
    "            if dricopycopy[\"Name\"][i].split(\"#\")[0].strip()==name:\n",
    "                vari_counts.append(int(dricopycopy[\"Name\"][i].split(\"#\")[1].strip()))\n",
    "                vari_ind.append(i)\n",
    "    vari_counts = list(range(len(vari_counts)))\n",
    "    for j in vari_ind:\n",
    "        dricopycopy[\"Name\"][j] = \"{} #{}\".format(name, j+1)"
   ]
  },
  {
   "cell_type": "markdown",
   "id": "833bf033",
   "metadata": {},
   "source": [
    "다시 중복 확인"
   ]
  },
  {
   "cell_type": "code",
   "execution_count": 729,
   "id": "e0a6ad06",
   "metadata": {},
   "outputs": [
    {
     "data": {
      "text/plain": [
       "0"
      ]
     },
     "execution_count": 729,
     "metadata": {},
     "output_type": "execute_result"
    }
   ],
   "source": [
    "name_dup = dricopycopy.duplicated(subset=[\"Name\"], keep=False)\n",
    "len(name_dup[name_dup==True])"
   ]
  },
  {
   "cell_type": "code",
   "execution_count": 730,
   "id": "2287ea2b",
   "metadata": {},
   "outputs": [
    {
     "data": {
      "text/html": [
       "<div>\n",
       "<style scoped>\n",
       "    .dataframe tbody tr th:only-of-type {\n",
       "        vertical-align: middle;\n",
       "    }\n",
       "\n",
       "    .dataframe tbody tr th {\n",
       "        vertical-align: top;\n",
       "    }\n",
       "\n",
       "    .dataframe thead th {\n",
       "        text-align: right;\n",
       "    }\n",
       "</style>\n",
       "<table border=\"1\" class=\"dataframe\">\n",
       "  <thead>\n",
       "    <tr style=\"text-align: right;\">\n",
       "      <th></th>\n",
       "      <th>Name</th>\n",
       "      <th>Ingredients</th>\n",
       "      <th>Making</th>\n",
       "      <th>Link</th>\n",
       "      <th>Glass</th>\n",
       "      <th>Type</th>\n",
       "      <th>Base</th>\n",
       "    </tr>\n",
       "  </thead>\n",
       "  <tbody>\n",
       "    <tr>\n",
       "      <th>0</th>\n",
       "      <td>'61 Imperial</td>\n",
       "      <td>['1/2 oz white rum', '1/2 oz vodka', '1/2 oz 1...</td>\n",
       "      <td>In a tall chimney glass or hurricane glass, fi...</td>\n",
       "      <td>http://www.drinksmixer.com/drink8428.html</td>\n",
       "      <td>Hurricane Glass</td>\n",
       "      <td>NaN</td>\n",
       "      <td>NaN</td>\n",
       "    </tr>\n",
       "    <tr>\n",
       "      <th>1</th>\n",
       "      <td>.50 Caliber</td>\n",
       "      <td>[\"2 oz Jack Daniel's® Tennessee whiskey\", '2 o...</td>\n",
       "      <td>Pour the Jack Daniel's Tennessee whiskey, Jim ...</td>\n",
       "      <td>http://www.drinksmixer.com/drink9993.html</td>\n",
       "      <td>Highball Glass</td>\n",
       "      <td>NaN</td>\n",
       "      <td>NaN</td>\n",
       "    </tr>\n",
       "    <tr>\n",
       "      <th>2</th>\n",
       "      <td>007</td>\n",
       "      <td>['3 oz Stoli® Ohranj vodka', '1 1/2 ozfreshly ...</td>\n",
       "      <td>Serve on ice in a highball glass.</td>\n",
       "      <td>http://www.drinksmixer.com/drink11090.html</td>\n",
       "      <td>Highball Glass</td>\n",
       "      <td>NaN</td>\n",
       "      <td>NaN</td>\n",
       "    </tr>\n",
       "    <tr>\n",
       "      <th>3</th>\n",
       "      <td>10 Deep</td>\n",
       "      <td>['1.5 oz vodka', '1 oz Malibu® coconut rum', '...</td>\n",
       "      <td>All right start with 1/2 cup of ice mix the vo...</td>\n",
       "      <td>http://www.drinksmixer.com/drinkuv17048.html</td>\n",
       "      <td>Cup</td>\n",
       "      <td>NaN</td>\n",
       "      <td>NaN</td>\n",
       "    </tr>\n",
       "    <tr>\n",
       "      <th>4</th>\n",
       "      <td>100 Miles per Hour</td>\n",
       "      <td>['1/2 oz Wild Turkey® bourbon whiskey', '1/2 o...</td>\n",
       "      <td>Mix all ingredients together over ice in a hig...</td>\n",
       "      <td>http://www.drinksmixer.com/drink10390.html</td>\n",
       "      <td>Highball Glass</td>\n",
       "      <td>NaN</td>\n",
       "      <td>NaN</td>\n",
       "    </tr>\n",
       "    <tr>\n",
       "      <th>...</th>\n",
       "      <td>...</td>\n",
       "      <td>...</td>\n",
       "      <td>...</td>\n",
       "      <td>...</td>\n",
       "      <td>...</td>\n",
       "      <td>...</td>\n",
       "      <td>...</td>\n",
       "    </tr>\n",
       "    <tr>\n",
       "      <th>16795</th>\n",
       "      <td>Voodoo Tea</td>\n",
       "      <td>['1 shot white rum', '1/2 shot Blue Curacao li...</td>\n",
       "      <td>Pour rum and curacao into a highball glass. Fi...</td>\n",
       "      <td>http://www.drinksmixer.com/drink6586.html</td>\n",
       "      <td>Highball Glass</td>\n",
       "      <td>NaN</td>\n",
       "      <td>Coffee&amp;Tee</td>\n",
       "    </tr>\n",
       "    <tr>\n",
       "      <th>16796</th>\n",
       "      <td>Whiskey Punjabi</td>\n",
       "      <td>['2 - 3 ozpremium whiskey', '8 - 12 ozunsweete...</td>\n",
       "      <td>Mix, stir.</td>\n",
       "      <td>http://www.drinksmixer.com/drinkvw15078.html</td>\n",
       "      <td>Old-Fashioned Glass</td>\n",
       "      <td>NaN</td>\n",
       "      <td>Coffee&amp;Tee</td>\n",
       "    </tr>\n",
       "    <tr>\n",
       "      <th>16797</th>\n",
       "      <td>Wild Beaver</td>\n",
       "      <td>[\"3 oz Jack Daniel's® Tennessee whiskey\", '3 o...</td>\n",
       "      <td>Combine all ingredients in equal parts in a co...</td>\n",
       "      <td>http://www.drinksmixer.com/drink8113.html</td>\n",
       "      <td>Beer Pilsner</td>\n",
       "      <td>NaN</td>\n",
       "      <td>Coffee&amp;Tee</td>\n",
       "    </tr>\n",
       "    <tr>\n",
       "      <th>16798</th>\n",
       "      <td>Xanthor's Pants</td>\n",
       "      <td>['2 oz Jameson® Irish whiskey', \"2 oz Bailey's...</td>\n",
       "      <td>Mix 1 part Scotch with 1 part Bailey's (approx...</td>\n",
       "      <td>http://www.drinksmixer.com/drinkrq15073.html</td>\n",
       "      <td>Coffee Mug</td>\n",
       "      <td>NaN</td>\n",
       "      <td>Coffee&amp;Tee</td>\n",
       "    </tr>\n",
       "    <tr>\n",
       "      <th>16799</th>\n",
       "      <td>Zorro</td>\n",
       "      <td>['2 cl sambuca', \"2 cl Bailey's® Irish cream\",...</td>\n",
       "      <td>Pour all ingredients into an irish coffee cup....</td>\n",
       "      <td>http://www.drinksmixer.com/drink6609.html</td>\n",
       "      <td>Irish Coffee Cup</td>\n",
       "      <td>NaN</td>\n",
       "      <td>Coffee&amp;Tee</td>\n",
       "    </tr>\n",
       "  </tbody>\n",
       "</table>\n",
       "<p>16800 rows × 7 columns</p>\n",
       "</div>"
      ],
      "text/plain": [
       "                     Name                                        Ingredients  \\\n",
       "0            '61 Imperial  ['1/2 oz white rum', '1/2 oz vodka', '1/2 oz 1...   \n",
       "1             .50 Caliber  [\"2 oz Jack Daniel's® Tennessee whiskey\", '2 o...   \n",
       "2                     007  ['3 oz Stoli® Ohranj vodka', '1 1/2 ozfreshly ...   \n",
       "3                 10 Deep  ['1.5 oz vodka', '1 oz Malibu® coconut rum', '...   \n",
       "4      100 Miles per Hour  ['1/2 oz Wild Turkey® bourbon whiskey', '1/2 o...   \n",
       "...                   ...                                                ...   \n",
       "16795          Voodoo Tea  ['1 shot white rum', '1/2 shot Blue Curacao li...   \n",
       "16796     Whiskey Punjabi  ['2 - 3 ozpremium whiskey', '8 - 12 ozunsweete...   \n",
       "16797         Wild Beaver  [\"3 oz Jack Daniel's® Tennessee whiskey\", '3 o...   \n",
       "16798     Xanthor's Pants  ['2 oz Jameson® Irish whiskey', \"2 oz Bailey's...   \n",
       "16799               Zorro  ['2 cl sambuca', \"2 cl Bailey's® Irish cream\",...   \n",
       "\n",
       "                                                  Making  \\\n",
       "0      In a tall chimney glass or hurricane glass, fi...   \n",
       "1      Pour the Jack Daniel's Tennessee whiskey, Jim ...   \n",
       "2                      Serve on ice in a highball glass.   \n",
       "3      All right start with 1/2 cup of ice mix the vo...   \n",
       "4      Mix all ingredients together over ice in a hig...   \n",
       "...                                                  ...   \n",
       "16795  Pour rum and curacao into a highball glass. Fi...   \n",
       "16796                                         Mix, stir.   \n",
       "16797  Combine all ingredients in equal parts in a co...   \n",
       "16798  Mix 1 part Scotch with 1 part Bailey's (approx...   \n",
       "16799  Pour all ingredients into an irish coffee cup....   \n",
       "\n",
       "                                               Link                Glass Type  \\\n",
       "0         http://www.drinksmixer.com/drink8428.html      Hurricane Glass  NaN   \n",
       "1         http://www.drinksmixer.com/drink9993.html       Highball Glass  NaN   \n",
       "2        http://www.drinksmixer.com/drink11090.html       Highball Glass  NaN   \n",
       "3      http://www.drinksmixer.com/drinkuv17048.html                  Cup  NaN   \n",
       "4        http://www.drinksmixer.com/drink10390.html       Highball Glass  NaN   \n",
       "...                                             ...                  ...  ...   \n",
       "16795     http://www.drinksmixer.com/drink6586.html       Highball Glass  NaN   \n",
       "16796  http://www.drinksmixer.com/drinkvw15078.html  Old-Fashioned Glass  NaN   \n",
       "16797     http://www.drinksmixer.com/drink8113.html         Beer Pilsner  NaN   \n",
       "16798  http://www.drinksmixer.com/drinkrq15073.html           Coffee Mug  NaN   \n",
       "16799     http://www.drinksmixer.com/drink6609.html     Irish Coffee Cup  NaN   \n",
       "\n",
       "             Base  \n",
       "0             NaN  \n",
       "1             NaN  \n",
       "2             NaN  \n",
       "3             NaN  \n",
       "4             NaN  \n",
       "...           ...  \n",
       "16795  Coffee&Tee  \n",
       "16796  Coffee&Tee  \n",
       "16797  Coffee&Tee  \n",
       "16798  Coffee&Tee  \n",
       "16799  Coffee&Tee  \n",
       "\n",
       "[16800 rows x 7 columns]"
      ]
     },
     "execution_count": 730,
     "metadata": {},
     "output_type": "execute_result"
    }
   ],
   "source": [
    "dricopycopy"
   ]
  },
  {
   "cell_type": "markdown",
   "id": "b5616744",
   "metadata": {},
   "source": [
    "### Ingredients 형식 맞추기"
   ]
  },
  {
   "cell_type": "markdown",
   "id": "ed7c76ec",
   "metadata": {},
   "source": [
    "양 끝의 '['와 ']' 떼주기"
   ]
  },
  {
   "cell_type": "code",
   "execution_count": 731,
   "id": "e67ed88b",
   "metadata": {},
   "outputs": [],
   "source": [
    "for i in range(len(dricopycopy)):\n",
    "    ingredients = dricopycopy[\"Ingredients\"][i][1:-1]\n",
    "    dricopycopy[\"Ingredients\"][i] = ingredients"
   ]
  },
  {
   "cell_type": "code",
   "execution_count": 732,
   "id": "c4f09427",
   "metadata": {},
   "outputs": [
    {
     "name": "stdout",
     "output_type": "stream",
     "text": [
      "\"2 oz Jack Daniel's® Tennessee whiskey\", '2 oz Jim Beam® bourbon whiskey', '2 oz dry gin', '2 oz Absolut® vodka', '1 oz Squirt® citrus soda'\n"
     ]
    }
   ],
   "source": [
    "# 확인\n",
    "print(dricopycopy[\"Ingredients\"][1])"
   ]
  },
  {
   "cell_type": "markdown",
   "id": "396de044",
   "metadata": {},
   "source": [
    "\"를 '로 바꾸기"
   ]
  },
  {
   "cell_type": "code",
   "execution_count": 733,
   "id": "4f0411da",
   "metadata": {},
   "outputs": [],
   "source": [
    "for i in range(len(dricopycopy[\"Ingredients\"])):\n",
    "    dricopycopy[\"Ingredients\"][i] = dricopycopy[\"Ingredients\"][i].replace('\"', \"'\")"
   ]
  },
  {
   "cell_type": "code",
   "execution_count": 734,
   "id": "a68d57c6",
   "metadata": {},
   "outputs": [
    {
     "name": "stdout",
     "output_type": "stream",
     "text": [
      "'2 oz Jack Daniel's® Tennessee whiskey', '2 oz Jim Beam® bourbon whiskey', '2 oz dry gin', '2 oz Absolut® vodka', '1 oz Squirt® citrus soda'\n"
     ]
    }
   ],
   "source": [
    "# 확인\n",
    "print(dricopycopy[\"Ingredients\"][1])"
   ]
  },
  {
   "cell_type": "markdown",
   "id": "5020652c",
   "metadata": {},
   "source": [
    "양 끝의 ' 떼주기"
   ]
  },
  {
   "cell_type": "code",
   "execution_count": 735,
   "id": "0209878f",
   "metadata": {},
   "outputs": [],
   "source": [
    "for i in range(len(dricopycopy)):\n",
    "    ingredients = dricopycopy[\"Ingredients\"][i][1:-1]\n",
    "    dricopycopy[\"Ingredients\"][i] = ingredients"
   ]
  },
  {
   "cell_type": "code",
   "execution_count": 736,
   "id": "40db7d71",
   "metadata": {},
   "outputs": [
    {
     "name": "stdout",
     "output_type": "stream",
     "text": [
      "2 oz Jack Daniel's® Tennessee whiskey', '2 oz Jim Beam® bourbon whiskey', '2 oz dry gin', '2 oz Absolut® vodka', '1 oz Squirt® citrus soda\n"
     ]
    }
   ],
   "source": [
    "# 확인\n",
    "print(dricopycopy[\"Ingredients\"][1])"
   ]
  },
  {
   "cell_type": "markdown",
   "id": "d18dd129",
   "metadata": {},
   "source": [
    "단위를 'shot', 'shots', 'ml', 'cl'에서 'oz'로 바꾸기"
   ]
  },
  {
   "cell_type": "code",
   "execution_count": 737,
   "id": "a6221e7c",
   "metadata": {},
   "outputs": [],
   "source": [
    "from fractions import Fraction"
   ]
  },
  {
   "cell_type": "code",
   "execution_count": 738,
   "id": "0e3aa762",
   "metadata": {},
   "outputs": [],
   "source": [
    "def is_num(n):\n",
    "    try:\n",
    "        float(n)\n",
    "    except:\n",
    "        return False\n",
    "    return True"
   ]
  },
  {
   "cell_type": "code",
   "execution_count": 739,
   "id": "43e55576",
   "metadata": {},
   "outputs": [],
   "source": [
    "for i in range(len(dricopycopy[\"Ingredients\"])):\n",
    "    ingredients = dricopycopy[\"Ingredients\"][i].lower().split(\"', '\")\n",
    "    for j in range(len(ingredients)):\n",
    "        detail = ingredients[j].strip().split(\" \")\n",
    "        if len(detail)>=3:\n",
    "            if is_num(detail[0]) and is_num(detail[1]):\n",
    "                frac1 = Fraction(detail[0]).limit_denominator(100)\n",
    "                frac2 = Fraction(detail[1]).limit_denominator(100)\n",
    "                if detail[2]==\"shot\":\n",
    "                    detail[2] = \"oz\"\n",
    "                elif detail[2]==\"shots\":\n",
    "                    detail[2] = \"oz\"\n",
    "                elif detail[2]==\"ml\":\n",
    "                    if frac1+frac2>=9:\n",
    "                        oz = Fraction(Fraction(frac1+frac2), 30).limit_denominator(100)\n",
    "                        rest = detail[3:]\n",
    "                        new_volume = [str(oz), \"oz\"]\n",
    "                        new_volume.extend(rest)\n",
    "                        detail = new_volume\n",
    "                elif detail[2]==\"cl\":\n",
    "                    if frac1+frac2>=0.9:\n",
    "                        oz = Fraction(Fraction(frac1+frac2), 3).limit_denominator(100)\n",
    "                        rest = detail[3:]\n",
    "                        new_volume = [str(oz), \"oz\"]\n",
    "                        new_volume.extend(rest)\n",
    "                        detail = new_volume\n",
    "                else:\n",
    "                    pass\n",
    "            else:\n",
    "                if is_num(detail[0]):\n",
    "                    frac = Fraction(detail[0]).limit_denominator(100)\n",
    "                    if detail[1]==\"shot\":\n",
    "                        detail[1] = \"oz\"\n",
    "                    elif detail[1]==\"shots\":\n",
    "                        detail[1] = \"oz\"\n",
    "                    elif detail[1]==\"ml\":\n",
    "                        if frac>=9:\n",
    "                            oz = Fraction(Fraction(frac), 30).limit_denominator(100)\n",
    "                            rest = detail[2:]\n",
    "                            new_volume = [str(oz), \"oz\"]\n",
    "                            new_volume.extend(rest)\n",
    "                            detail = new_volume\n",
    "                    elif detail[1]==\"cl\":\n",
    "                        if frac>=0.9:\n",
    "                            oz = Fraction(Fraction(frac), 3).limit_denominator(100)\n",
    "                            rest = detail[2:]\n",
    "                            new_volume = [str(oz), \"oz\"]\n",
    "                            new_volume.extend(rest)\n",
    "                            detail = new_volume\n",
    "                    else:\n",
    "                        pass\n",
    "                else:\n",
    "                    pass\n",
    "        ingredients[j] = \" \".join(detail)\n",
    "    new_ing = \", \".join(ingredients)\n",
    "    dricopycopy[\"Ingredients\"][i] = new_ing"
   ]
  },
  {
   "cell_type": "code",
   "execution_count": 740,
   "id": "ee20e718",
   "metadata": {},
   "outputs": [
    {
     "data": {
      "text/html": [
       "<div>\n",
       "<style scoped>\n",
       "    .dataframe tbody tr th:only-of-type {\n",
       "        vertical-align: middle;\n",
       "    }\n",
       "\n",
       "    .dataframe tbody tr th {\n",
       "        vertical-align: top;\n",
       "    }\n",
       "\n",
       "    .dataframe thead th {\n",
       "        text-align: right;\n",
       "    }\n",
       "</style>\n",
       "<table border=\"1\" class=\"dataframe\">\n",
       "  <thead>\n",
       "    <tr style=\"text-align: right;\">\n",
       "      <th></th>\n",
       "      <th>Name</th>\n",
       "      <th>Ingredients</th>\n",
       "      <th>Making</th>\n",
       "      <th>Link</th>\n",
       "      <th>Glass</th>\n",
       "      <th>Type</th>\n",
       "      <th>Base</th>\n",
       "    </tr>\n",
       "  </thead>\n",
       "  <tbody>\n",
       "    <tr>\n",
       "      <th>0</th>\n",
       "      <td>'61 Imperial</td>\n",
       "      <td>1/2 oz white rum, 1/2 oz vodka, 1/2 oz 151 pro...</td>\n",
       "      <td>In a tall chimney glass or hurricane glass, fi...</td>\n",
       "      <td>http://www.drinksmixer.com/drink8428.html</td>\n",
       "      <td>Hurricane Glass</td>\n",
       "      <td>NaN</td>\n",
       "      <td>NaN</td>\n",
       "    </tr>\n",
       "    <tr>\n",
       "      <th>1</th>\n",
       "      <td>.50 Caliber</td>\n",
       "      <td>2 oz jack daniel's® tennessee whiskey, 2 oz ji...</td>\n",
       "      <td>Pour the Jack Daniel's Tennessee whiskey, Jim ...</td>\n",
       "      <td>http://www.drinksmixer.com/drink9993.html</td>\n",
       "      <td>Highball Glass</td>\n",
       "      <td>NaN</td>\n",
       "      <td>NaN</td>\n",
       "    </tr>\n",
       "    <tr>\n",
       "      <th>2</th>\n",
       "      <td>007</td>\n",
       "      <td>3 oz stoli® ohranj vodka, 1 1/2 ozfreshly sque...</td>\n",
       "      <td>Serve on ice in a highball glass.</td>\n",
       "      <td>http://www.drinksmixer.com/drink11090.html</td>\n",
       "      <td>Highball Glass</td>\n",
       "      <td>NaN</td>\n",
       "      <td>NaN</td>\n",
       "    </tr>\n",
       "    <tr>\n",
       "      <th>3</th>\n",
       "      <td>10 Deep</td>\n",
       "      <td>1.5 oz vodka, 1 oz malibu® coconut rum, 1/2 cu...</td>\n",
       "      <td>All right start with 1/2 cup of ice mix the vo...</td>\n",
       "      <td>http://www.drinksmixer.com/drinkuv17048.html</td>\n",
       "      <td>Cup</td>\n",
       "      <td>NaN</td>\n",
       "      <td>NaN</td>\n",
       "    </tr>\n",
       "    <tr>\n",
       "      <th>4</th>\n",
       "      <td>100 Miles per Hour</td>\n",
       "      <td>1/2 oz wild turkey® bourbon whiskey, 1/2 oz ba...</td>\n",
       "      <td>Mix all ingredients together over ice in a hig...</td>\n",
       "      <td>http://www.drinksmixer.com/drink10390.html</td>\n",
       "      <td>Highball Glass</td>\n",
       "      <td>NaN</td>\n",
       "      <td>NaN</td>\n",
       "    </tr>\n",
       "    <tr>\n",
       "      <th>...</th>\n",
       "      <td>...</td>\n",
       "      <td>...</td>\n",
       "      <td>...</td>\n",
       "      <td>...</td>\n",
       "      <td>...</td>\n",
       "      <td>...</td>\n",
       "      <td>...</td>\n",
       "    </tr>\n",
       "    <tr>\n",
       "      <th>16795</th>\n",
       "      <td>Voodoo Tea</td>\n",
       "      <td>1 oz white rum, 1/2 shot blue curacao liqueur,...</td>\n",
       "      <td>Pour rum and curacao into a highball glass. Fi...</td>\n",
       "      <td>http://www.drinksmixer.com/drink6586.html</td>\n",
       "      <td>Highball Glass</td>\n",
       "      <td>NaN</td>\n",
       "      <td>Coffee&amp;Tee</td>\n",
       "    </tr>\n",
       "    <tr>\n",
       "      <th>16796</th>\n",
       "      <td>Whiskey Punjabi</td>\n",
       "      <td>2 - 3 ozpremium whiskey, 8 - 12 ozunsweetened ...</td>\n",
       "      <td>Mix, stir.</td>\n",
       "      <td>http://www.drinksmixer.com/drinkvw15078.html</td>\n",
       "      <td>Old-Fashioned Glass</td>\n",
       "      <td>NaN</td>\n",
       "      <td>Coffee&amp;Tee</td>\n",
       "    </tr>\n",
       "    <tr>\n",
       "      <th>16797</th>\n",
       "      <td>Wild Beaver</td>\n",
       "      <td>3 oz jack daniel's® tennessee whiskey, 3 oz am...</td>\n",
       "      <td>Combine all ingredients in equal parts in a co...</td>\n",
       "      <td>http://www.drinksmixer.com/drink8113.html</td>\n",
       "      <td>Beer Pilsner</td>\n",
       "      <td>NaN</td>\n",
       "      <td>Coffee&amp;Tee</td>\n",
       "    </tr>\n",
       "    <tr>\n",
       "      <th>16798</th>\n",
       "      <td>Xanthor's Pants</td>\n",
       "      <td>2 oz jameson® irish whiskey, 2 oz bailey's® ir...</td>\n",
       "      <td>Mix 1 part Scotch with 1 part Bailey's (approx...</td>\n",
       "      <td>http://www.drinksmixer.com/drinkrq15073.html</td>\n",
       "      <td>Coffee Mug</td>\n",
       "      <td>NaN</td>\n",
       "      <td>Coffee&amp;Tee</td>\n",
       "    </tr>\n",
       "    <tr>\n",
       "      <th>16799</th>\n",
       "      <td>Zorro</td>\n",
       "      <td>2/3 oz sambuca, 2/3 oz bailey's® irish cream, ...</td>\n",
       "      <td>Pour all ingredients into an irish coffee cup....</td>\n",
       "      <td>http://www.drinksmixer.com/drink6609.html</td>\n",
       "      <td>Irish Coffee Cup</td>\n",
       "      <td>NaN</td>\n",
       "      <td>Coffee&amp;Tee</td>\n",
       "    </tr>\n",
       "  </tbody>\n",
       "</table>\n",
       "<p>16800 rows × 7 columns</p>\n",
       "</div>"
      ],
      "text/plain": [
       "                     Name                                        Ingredients  \\\n",
       "0            '61 Imperial  1/2 oz white rum, 1/2 oz vodka, 1/2 oz 151 pro...   \n",
       "1             .50 Caliber  2 oz jack daniel's® tennessee whiskey, 2 oz ji...   \n",
       "2                     007  3 oz stoli® ohranj vodka, 1 1/2 ozfreshly sque...   \n",
       "3                 10 Deep  1.5 oz vodka, 1 oz malibu® coconut rum, 1/2 cu...   \n",
       "4      100 Miles per Hour  1/2 oz wild turkey® bourbon whiskey, 1/2 oz ba...   \n",
       "...                   ...                                                ...   \n",
       "16795          Voodoo Tea  1 oz white rum, 1/2 shot blue curacao liqueur,...   \n",
       "16796     Whiskey Punjabi  2 - 3 ozpremium whiskey, 8 - 12 ozunsweetened ...   \n",
       "16797         Wild Beaver  3 oz jack daniel's® tennessee whiskey, 3 oz am...   \n",
       "16798     Xanthor's Pants  2 oz jameson® irish whiskey, 2 oz bailey's® ir...   \n",
       "16799               Zorro  2/3 oz sambuca, 2/3 oz bailey's® irish cream, ...   \n",
       "\n",
       "                                                  Making  \\\n",
       "0      In a tall chimney glass or hurricane glass, fi...   \n",
       "1      Pour the Jack Daniel's Tennessee whiskey, Jim ...   \n",
       "2                      Serve on ice in a highball glass.   \n",
       "3      All right start with 1/2 cup of ice mix the vo...   \n",
       "4      Mix all ingredients together over ice in a hig...   \n",
       "...                                                  ...   \n",
       "16795  Pour rum and curacao into a highball glass. Fi...   \n",
       "16796                                         Mix, stir.   \n",
       "16797  Combine all ingredients in equal parts in a co...   \n",
       "16798  Mix 1 part Scotch with 1 part Bailey's (approx...   \n",
       "16799  Pour all ingredients into an irish coffee cup....   \n",
       "\n",
       "                                               Link                Glass Type  \\\n",
       "0         http://www.drinksmixer.com/drink8428.html      Hurricane Glass  NaN   \n",
       "1         http://www.drinksmixer.com/drink9993.html       Highball Glass  NaN   \n",
       "2        http://www.drinksmixer.com/drink11090.html       Highball Glass  NaN   \n",
       "3      http://www.drinksmixer.com/drinkuv17048.html                  Cup  NaN   \n",
       "4        http://www.drinksmixer.com/drink10390.html       Highball Glass  NaN   \n",
       "...                                             ...                  ...  ...   \n",
       "16795     http://www.drinksmixer.com/drink6586.html       Highball Glass  NaN   \n",
       "16796  http://www.drinksmixer.com/drinkvw15078.html  Old-Fashioned Glass  NaN   \n",
       "16797     http://www.drinksmixer.com/drink8113.html         Beer Pilsner  NaN   \n",
       "16798  http://www.drinksmixer.com/drinkrq15073.html           Coffee Mug  NaN   \n",
       "16799     http://www.drinksmixer.com/drink6609.html     Irish Coffee Cup  NaN   \n",
       "\n",
       "             Base  \n",
       "0             NaN  \n",
       "1             NaN  \n",
       "2             NaN  \n",
       "3             NaN  \n",
       "4             NaN  \n",
       "...           ...  \n",
       "16795  Coffee&Tee  \n",
       "16796  Coffee&Tee  \n",
       "16797  Coffee&Tee  \n",
       "16798  Coffee&Tee  \n",
       "16799  Coffee&Tee  \n",
       "\n",
       "[16800 rows x 7 columns]"
      ]
     },
     "execution_count": 740,
     "metadata": {},
     "output_type": "execute_result"
    }
   ],
   "source": [
    "# 확인\n",
    "dricopycopy"
   ]
  },
  {
   "cell_type": "markdown",
   "id": "28b6e8d7",
   "metadata": {},
   "source": [
    "### Making 형식 맞추기"
   ]
  },
  {
   "cell_type": "code",
   "execution_count": 741,
   "id": "0179b0c3",
   "metadata": {},
   "outputs": [],
   "source": [
    "for i in range(len(dricopycopy)):\n",
    "    making = dricopycopy[\"Making\"][i].replace(\"\\n\", \" \")\n",
    "    making.replace(\"  \", \" \")\n",
    "    dricopycopy[\"Making\"][i] = making"
   ]
  },
  {
   "cell_type": "markdown",
   "id": "f3f1b725",
   "metadata": {},
   "source": [
    "### Glass 형식 맞추기"
   ]
  },
  {
   "cell_type": "code",
   "execution_count": 742,
   "id": "92a5199b",
   "metadata": {},
   "outputs": [
    {
     "data": {
      "text/plain": [
       "array(['Hurricane Glass', 'Highball Glass', 'Cup', 'Collins Glass',\n",
       "       'Cocktail Glass', 'Old-Fashioned Glass', 'Margarita Glass', nan,\n",
       "       'Beer Mug', 'Sour Glass', 'White Wine Glass', 'Beer Pilsner',\n",
       "       'Champagne Flute', 'Pina Colada Glass', 'Wine Goblet', 'Mason Jar',\n",
       "       'Cordial Glass', 'Coffee Mug', 'Shot Glass', 'Champagne Saucer',\n",
       "       'Bottle', 'Pitcher', 'Irish Coffee Cup', 'Cooler',\n",
       "       'Brandy Snifter', 'Red Wine Glass', 'Mug', 'Pousse Cafe Glass',\n",
       "       'Punch Bowl', 'Parfait Glass', 'Pint glass', 'Sherry Glass',\n",
       "       'Champagne Tulip', 'Coupe glass', 'Jug', 'Test tube',\n",
       "       'Aperitif Glass', 'Bucket', 'Saucepan'], dtype=object)"
      ]
     },
     "execution_count": 742,
     "metadata": {},
     "output_type": "execute_result"
    }
   ],
   "source": [
    "dricopycopy[\"Glass\"].unique()"
   ]
  },
  {
   "cell_type": "code",
   "execution_count": 743,
   "id": "0f1f18db",
   "metadata": {},
   "outputs": [],
   "source": [
    "for i in range(len(dricopycopy)):\n",
    "    if str(dricopycopy[\"Glass\"][i])=='nan':\n",
    "        dricopycopy[\"Glass\"][i] = None"
   ]
  },
  {
   "cell_type": "code",
   "execution_count": 744,
   "id": "08e6f934",
   "metadata": {},
   "outputs": [],
   "source": [
    "for i in range(len(dricopycopy)):\n",
    "    if dricopycopy[\"Glass\"][i]=='Old-Fashioned Glass':\n",
    "        dricopycopy[\"Glass\"][i] = \"Old Fashioned Glass\"\n",
    "    if dricopycopy[\"Glass\"][i]=='Beer Pilsner':\n",
    "        dricopycopy[\"Glass\"][i] = \"Pilsner Glass\"\n",
    "    if dricopycopy[\"Glass\"][i]=='Champagne Flute':\n",
    "        dricopycopy[\"Glass\"][i] = \"Flute Glass\"\n",
    "    if dricopycopy[\"Glass\"][i]=='Champagne Saucer':\n",
    "        dricopycopy[\"Glass\"][i] = \"Saucer Glass\"\n",
    "    if dricopycopy[\"Glass\"][i]=='Pitcher':\n",
    "        dricopycopy[\"Glass\"][i] = \"Pitcher Glass\"\n",
    "    if dricopycopy[\"Glass\"][i]=='Cooler':\n",
    "        dricopycopy[\"Glass\"][i] = \"Cooler Glass\"\n",
    "    if dricopycopy[\"Glass\"][i]=='Brandy Snifter':\n",
    "        dricopycopy[\"Glass\"][i] = \"Snifter Glass\"\n",
    "    if dricopycopy[\"Glass\"][i]=='Pint glass':\n",
    "        dricopycopy[\"Glass\"][i] = \"Pint Glass\"\n",
    "    if dricopycopy[\"Glass\"][i]=='Champagne Tulip':\n",
    "        dricopycopy[\"Glass\"][i] = \"Tulip Glass\"\n",
    "    if dricopycopy[\"Glass\"][i]=='Coupe glass':\n",
    "        dricopycopy[\"Glass\"][i] = \"Coupe Glass\"\n",
    "    if dricopycopy[\"Glass\"][i]=='Test tube':\n",
    "        dricopycopy[\"Glass\"][i] = \"Test Tube\"\n",
    "    if dricopycopy[\"Glass\"][i]=='Saucepan':\n",
    "        dricopycopy[\"Glass\"][i] = None"
   ]
  },
  {
   "cell_type": "code",
   "execution_count": 745,
   "id": "9f553710",
   "metadata": {},
   "outputs": [
    {
     "data": {
      "text/plain": [
       "array(['Hurricane Glass', 'Highball Glass', 'Cup', 'Collins Glass',\n",
       "       'Cocktail Glass', 'Old Fashioned Glass', 'Margarita Glass', None,\n",
       "       'Beer Mug', 'Sour Glass', 'White Wine Glass', 'Pilsner Glass',\n",
       "       'Flute Glass', 'Pina Colada Glass', 'Wine Goblet', 'Mason Jar',\n",
       "       'Cordial Glass', 'Coffee Mug', 'Shot Glass', 'Saucer Glass',\n",
       "       'Bottle', 'Pitcher Glass', 'Irish Coffee Cup', 'Cooler Glass',\n",
       "       'Snifter Glass', 'Red Wine Glass', 'Mug', 'Pousse Cafe Glass',\n",
       "       'Punch Bowl', 'Parfait Glass', 'Pint Glass', 'Sherry Glass',\n",
       "       'Tulip Glass', 'Coupe Glass', 'Jug', 'Test Tube', 'Aperitif Glass',\n",
       "       'Bucket'], dtype=object)"
      ]
     },
     "execution_count": 745,
     "metadata": {},
     "output_type": "execute_result"
    }
   ],
   "source": [
    "dricopycopy[\"Glass\"].unique()"
   ]
  },
  {
   "cell_type": "markdown",
   "id": "1f654729",
   "metadata": {},
   "source": [
    "### Garnish 추출"
   ]
  },
  {
   "cell_type": "code",
   "execution_count": 746,
   "id": "1e14704c",
   "metadata": {},
   "outputs": [
    {
     "name": "stdout",
     "output_type": "stream",
     "text": [
      "many garnish:  9738\n",
      "many garnish:  15842\n"
     ]
    }
   ],
   "source": [
    "garnish_list = [None]*16800\n",
    "for i in range(len(dricopycopy)):\n",
    "    making = dricopycopy[\"Making\"][i].lower()\n",
    "    if \"garnish with\" in making:\n",
    "        if making.count(\"garnish with\")>1:\n",
    "            print(\"many garnish: \", i)\n",
    "        else:\n",
    "            start = making.index(\"garnish with\")+12\n",
    "            try:\n",
    "                try:\n",
    "                    end = making.index(\".\", start)\n",
    "                except:\n",
    "                    end = making.index(\",\", start)\n",
    "            except:\n",
    "                end = None\n",
    "            if end != None:\n",
    "                garnish = making[start:end]\n",
    "                garnish_list[i] = garnish\n",
    "            else:\n",
    "                garnish = making[start:]\n",
    "                garnish_list[i] = garnish"
   ]
  },
  {
   "cell_type": "code",
   "execution_count": 747,
   "id": "8f3ce6ef",
   "metadata": {},
   "outputs": [
    {
     "name": "stdout",
     "output_type": "stream",
     "text": [
      "Blend together egg whites and white sugar in blender for 15 seconds. Add Pisco and lime juice and blend for 15 seconds.  Put crushed ice into shaker and add Pisco sour mix to about 2/3 full. Shake and strain into small glasses. Garnish with a sprinkle of brown sugar. You can also garnish with a drizzle of browned, melted butter.  Repeat shaker process with rest of mix, only adding more crushed ice as needed.  Makes about 16 servings - enough for 8 people, 2 servings each.\n",
      "Combine all ingredients, except ice cubes & mint, in a blender container and blend on high speed until frothy. Pour into 6 tall glasses filled with ice cubes. Garnish with mint sprigs, if desired. Thicker Variation: Omit ice cubes. Freeze the pineapple juice in ice-cube trays, blend these cubes with the other ingredients and garnish with mint.\n"
     ]
    }
   ],
   "source": [
    "print(dricopycopy[\"Making\"][9738])\n",
    "print(dricopycopy[\"Making\"][15842])"
   ]
  },
  {
   "cell_type": "code",
   "execution_count": 748,
   "id": "7c866e75",
   "metadata": {},
   "outputs": [],
   "source": [
    "garnish_list[9738] = \"a sprinkle of brown sugar or a drizzle of browned, melted butter\"\n",
    "garnish_list[15842] = \"mint sprigs\""
   ]
  },
  {
   "cell_type": "code",
   "execution_count": 749,
   "id": "ce3d8594",
   "metadata": {},
   "outputs": [
    {
     "data": {
      "text/html": [
       "<div>\n",
       "<style scoped>\n",
       "    .dataframe tbody tr th:only-of-type {\n",
       "        vertical-align: middle;\n",
       "    }\n",
       "\n",
       "    .dataframe tbody tr th {\n",
       "        vertical-align: top;\n",
       "    }\n",
       "\n",
       "    .dataframe thead th {\n",
       "        text-align: right;\n",
       "    }\n",
       "</style>\n",
       "<table border=\"1\" class=\"dataframe\">\n",
       "  <thead>\n",
       "    <tr style=\"text-align: right;\">\n",
       "      <th></th>\n",
       "      <th>Name</th>\n",
       "      <th>Ingredients</th>\n",
       "      <th>Making</th>\n",
       "      <th>Link</th>\n",
       "      <th>Glass</th>\n",
       "      <th>Type</th>\n",
       "      <th>Base</th>\n",
       "      <th>Garnish</th>\n",
       "    </tr>\n",
       "  </thead>\n",
       "  <tbody>\n",
       "    <tr>\n",
       "      <th>0</th>\n",
       "      <td>'61 Imperial</td>\n",
       "      <td>1/2 oz white rum, 1/2 oz vodka, 1/2 oz 151 pro...</td>\n",
       "      <td>In a tall chimney glass or hurricane glass, fi...</td>\n",
       "      <td>http://www.drinksmixer.com/drink8428.html</td>\n",
       "      <td>Hurricane Glass</td>\n",
       "      <td>NaN</td>\n",
       "      <td>NaN</td>\n",
       "      <td>a pineapple slice and a maraschino cherry, an...</td>\n",
       "    </tr>\n",
       "    <tr>\n",
       "      <th>1</th>\n",
       "      <td>.50 Caliber</td>\n",
       "      <td>2 oz jack daniel's® tennessee whiskey, 2 oz ji...</td>\n",
       "      <td>Pour the Jack Daniel's Tennessee whiskey, Jim ...</td>\n",
       "      <td>http://www.drinksmixer.com/drink9993.html</td>\n",
       "      <td>Highball Glass</td>\n",
       "      <td>NaN</td>\n",
       "      <td>NaN</td>\n",
       "      <td>None</td>\n",
       "    </tr>\n",
       "    <tr>\n",
       "      <th>2</th>\n",
       "      <td>007</td>\n",
       "      <td>3 oz stoli® ohranj vodka, 1 1/2 ozfreshly sque...</td>\n",
       "      <td>Serve on ice in a highball glass.</td>\n",
       "      <td>http://www.drinksmixer.com/drink11090.html</td>\n",
       "      <td>Highball Glass</td>\n",
       "      <td>NaN</td>\n",
       "      <td>NaN</td>\n",
       "      <td>None</td>\n",
       "    </tr>\n",
       "    <tr>\n",
       "      <th>3</th>\n",
       "      <td>10 Deep</td>\n",
       "      <td>1.5 oz vodka, 1 oz malibu® coconut rum, 1/2 cu...</td>\n",
       "      <td>All right start with 1/2 cup of ice mix the vo...</td>\n",
       "      <td>http://www.drinksmixer.com/drinkuv17048.html</td>\n",
       "      <td>Cup</td>\n",
       "      <td>NaN</td>\n",
       "      <td>NaN</td>\n",
       "      <td>None</td>\n",
       "    </tr>\n",
       "    <tr>\n",
       "      <th>4</th>\n",
       "      <td>100 Miles per Hour</td>\n",
       "      <td>1/2 oz wild turkey® bourbon whiskey, 1/2 oz ba...</td>\n",
       "      <td>Mix all ingredients together over ice in a hig...</td>\n",
       "      <td>http://www.drinksmixer.com/drink10390.html</td>\n",
       "      <td>Highball Glass</td>\n",
       "      <td>NaN</td>\n",
       "      <td>NaN</td>\n",
       "      <td>None</td>\n",
       "    </tr>\n",
       "  </tbody>\n",
       "</table>\n",
       "</div>"
      ],
      "text/plain": [
       "                 Name                                        Ingredients  \\\n",
       "0        '61 Imperial  1/2 oz white rum, 1/2 oz vodka, 1/2 oz 151 pro...   \n",
       "1         .50 Caliber  2 oz jack daniel's® tennessee whiskey, 2 oz ji...   \n",
       "2                 007  3 oz stoli® ohranj vodka, 1 1/2 ozfreshly sque...   \n",
       "3             10 Deep  1.5 oz vodka, 1 oz malibu® coconut rum, 1/2 cu...   \n",
       "4  100 Miles per Hour  1/2 oz wild turkey® bourbon whiskey, 1/2 oz ba...   \n",
       "\n",
       "                                              Making  \\\n",
       "0  In a tall chimney glass or hurricane glass, fi...   \n",
       "1  Pour the Jack Daniel's Tennessee whiskey, Jim ...   \n",
       "2                  Serve on ice in a highball glass.   \n",
       "3  All right start with 1/2 cup of ice mix the vo...   \n",
       "4  Mix all ingredients together over ice in a hig...   \n",
       "\n",
       "                                           Link            Glass Type Base  \\\n",
       "0     http://www.drinksmixer.com/drink8428.html  Hurricane Glass  NaN  NaN   \n",
       "1     http://www.drinksmixer.com/drink9993.html   Highball Glass  NaN  NaN   \n",
       "2    http://www.drinksmixer.com/drink11090.html   Highball Glass  NaN  NaN   \n",
       "3  http://www.drinksmixer.com/drinkuv17048.html              Cup  NaN  NaN   \n",
       "4    http://www.drinksmixer.com/drink10390.html   Highball Glass  NaN  NaN   \n",
       "\n",
       "                                             Garnish  \n",
       "0   a pineapple slice and a maraschino cherry, an...  \n",
       "1                                               None  \n",
       "2                                               None  \n",
       "3                                               None  \n",
       "4                                               None  "
      ]
     },
     "execution_count": 749,
     "metadata": {},
     "output_type": "execute_result"
    }
   ],
   "source": [
    "dricopycopy[\"Garnish\"] = garnish_list\n",
    "dricopycopy.head()"
   ]
  },
  {
   "cell_type": "markdown",
   "id": "7cc2f216",
   "metadata": {},
   "source": [
    "### 추가로 스크랩해놓은 Base, Type 데이터 부여하기"
   ]
  },
  {
   "cell_type": "code",
   "execution_count": 750,
   "id": "2d67592d",
   "metadata": {},
   "outputs": [
    {
     "data": {
      "text/plain": [
       "array([nan, '', 'Coffee&Tee', 'Beer&Ale'], dtype=object)"
      ]
     },
     "execution_count": 750,
     "metadata": {},
     "output_type": "execute_result"
    }
   ],
   "source": [
    "dricopycopy[\"Base\"].unique()"
   ]
  },
  {
   "cell_type": "code",
   "execution_count": 751,
   "id": "916bd44a",
   "metadata": {},
   "outputs": [
    {
     "data": {
      "text/plain": [
       "array([nan, 'Shooter', '', 'Punch', 'Nonalcoholic'], dtype=object)"
      ]
     },
     "execution_count": 751,
     "metadata": {},
     "output_type": "execute_result"
    }
   ],
   "source": [
    "dricopycopy[\"Type\"].unique()"
   ]
  },
  {
   "cell_type": "code",
   "execution_count": 752,
   "id": "4c53bec2",
   "metadata": {},
   "outputs": [],
   "source": [
    "dri_base_brandy = pd.read_csv(\"//Drink_base_brandy.csv\")\n",
    "brandy_list = list(dri_base_brandy[\"Name\"])\n",
    "dri_base_champagne = pd.read_csv(\"//Drink_base_champagne.csv\")\n",
    "champagne_list = list(dri_base_champagne[\"Name\"])\n",
    "dri_base_cognac = pd.read_csv(\"//Drink_base_cognac.csv\")\n",
    "cognac_list = list(dri_base_cognac[\"Name\"])\n",
    "dri_base_gin = pd.read_csv(\"//Drink_base_gin.csv\")\n",
    "gin_list = list(dri_base_gin[\"Name\"])\n",
    "dri_base_liquor = pd.read_csv(\"//Drink_base_liqueur.csv\")\n",
    "liquor_list = list(dri_base_liquor[\"Name\"])\n",
    "dri_base_rum = pd.read_csv(\"//Drink_base_rum.csv\")\n",
    "rum_list = list(dri_base_rum[\"Name\"])\n",
    "dri_base_tequila = pd.read_csv(\"//Drink_base_tequila.csv\")\n",
    "tequila_list = list(dri_base_tequila[\"Name\"])\n",
    "dri_base_vodka = pd.read_csv(\"//Drink_base_vodka.csv\")\n",
    "vodka_list = list(dri_base_vodka[\"Name\"])\n",
    "dri_base_whisky = pd.read_csv(\"//Drink_base_whisky.csv\")\n",
    "whisky_list = list(dri_base_whisky[\"Name\"])\n",
    "dri_base_wine = pd.read_csv(\"//Drink_base_wine.csv\")\n",
    "wine_list = list(dri_base_wine[\"Name\"])\n",
    "\n",
    "dri_type_creamy = pd.read_csv(\"//Drink_type_creamy.csv\")\n",
    "creamy_list = list(dri_type_creamy[\"Name\"])\n",
    "dri_type_frozen = pd.read_csv(\"//Drink_type_frozen.csv\")\n",
    "frozen_list = list(dri_type_frozen[\"Name\"])\n",
    "dri_type_hot = pd.read_csv(\"//Drink_type_hot.csv\")\n",
    "hot_list = list(dri_type_hot[\"Name\"])\n",
    "dri_type_long = pd.read_csv(\"//Drink_type_long.csv\")\n",
    "long_list = list(dri_type_long[\"Name\"])\n",
    "dri_type_short = pd.read_csv(\"//Drink_type_short.csv\")\n",
    "short_list = list(dri_type_short[\"Name\"])\n",
    "dri_type_tropical = pd.read_csv(\"//Drink_type_tropical.csv\")\n",
    "tropical_list = list(dri_type_tropical[\"Name\"])"
   ]
  },
  {
   "cell_type": "code",
   "execution_count": 767,
   "id": "fa47f323",
   "metadata": {},
   "outputs": [],
   "source": [
    "base_list = [None]*16800\n",
    "type_list = [None]*16800\n",
    "for i in range(len(dricopy)):\n",
    "    bases = []\n",
    "    types = []\n",
    "    if dricopycopy[\"Base\"][i]=='Beer&Ale':\n",
    "        if 'beer'in dricopycopy[\"Ingredients\"][i].lower():\n",
    "            bases.append(\"Beer\")\n",
    "        elif ' ale ' in dricopycopy[\"Ingredients\"][i].lower():\n",
    "            bases.append(\"Ale\")\n",
    "        else:\n",
    "            bases.append(\"Beer & Ale\")\n",
    "    if dricopycopy[\"Base\"][i]=='Coffee&Tee':\n",
    "        bases.append(\"Coffee & Tee\")\n",
    "        \n",
    "    if dricopycopy[\"Name\"][i] in brandy_list:\n",
    "        bases.append(\"Brandy\")\n",
    "    if dricopycopy[\"Name\"][i] in champagne_list:\n",
    "        bases.append(\"Champagne\")\n",
    "    if dricopycopy[\"Name\"][i] in cognac_list:\n",
    "        bases.append(\"Cognac\")\n",
    "    if dricopycopy[\"Name\"][i] in gin_list:\n",
    "        bases.append(\"Gin\")\n",
    "    if dricopycopy[\"Name\"][i] in liquor_list:\n",
    "        bases.append(\"Liquor\")\n",
    "    if dricopycopy[\"Name\"][i] in rum_list:\n",
    "        bases.append(\"Rum\")\n",
    "    if dricopycopy[\"Name\"][i] in tequila_list:\n",
    "        bases.append(\"Tequila\")\n",
    "    if dricopycopy[\"Name\"][i] in vodka_list:\n",
    "        bases.append(\"Vodka\")\n",
    "    if dricopycopy[\"Name\"][i] in whisky_list:\n",
    "        bases.append(\"Whisky\")\n",
    "    if dricopycopy[\"Name\"][i] in wine_list:\n",
    "        bases.append(\"Wine\")\n",
    "        \n",
    "    if \"vodka\" in dricopycopy[\"Ingredients\"][i].lower():\n",
    "        bases.append(\"Vodka\")\n",
    "    if \"rum\" in dricopycopy[\"Ingredients\"][i].lower():\n",
    "        bases.append(\"Rum\")\n",
    "    if \"whisky\" in dricopycopy[\"Ingredients\"][i].lower() or \"whiskey\" in dricopycopy[\"Ingredients\"][i].lower():\n",
    "        bases.append(\"Whisky\")\n",
    "    if \"tequila\" in dricopycopy[\"Ingredients\"][i].lower() or \"tekila\" in dricopycopy[\"Ingredients\"][i].lower() or \"teqila\" in dricopycopy[\"Ingredients\"][i].lower():\n",
    "        bases.append(\"Tequila\")\n",
    "    if \"mezcal\" in dricopycopy[\"Ingredients\"][i].lower():\n",
    "        bases.append(\"Mezcal\")\n",
    "    if \"gin\" in dricopycopy[\"Ingredients\"][i].lower():\n",
    "        bases.append(\"Gin\")\n",
    "    if \"cognac\" in dricopycopy[\"Ingredients\"][i].lower():\n",
    "        bases.append(\"Cognac\")\n",
    "    if \"brandy\" in dricopycopy[\"Ingredients\"][i].lower():\n",
    "        bases.append(\"Brandy\")\n",
    "    if \"wine\" in dricopycopy[\"Ingredients\"][i].lower():\n",
    "        bases.append(\"Wine\")\n",
    "    if \"liquor\" in dricopycopy[\"Ingredients\"][i].lower() or \"liqueur\" in dricopycopy[\"Ingredients\"][i].lower() or \"liqour\" in dricopycopy[\"Ingredients\"][i].lower() or \"liquour\" in dricopycopy[\"Ingredients\"][i].lower():\n",
    "        bases.append(\"Liquor\")\n",
    "    if \"champagne\" in dricopycopy[\"Ingredients\"][i].lower():\n",
    "        bases.append(\"Champagne\")\n",
    "        \n",
    "    if dricopycopy[\"Type\"][i]=='Nonalcoholic':\n",
    "        types.append(\"Non-Alcoholic\")\n",
    "    if dricopycopy[\"Name\"][i] in creamy_list:\n",
    "        types.append(\"Creamy\")\n",
    "    if dricopycopy[\"Name\"][i] in frozen_list:\n",
    "        types.append(\"Frozen\")\n",
    "    if dricopycopy[\"Name\"][i] in hot_list:\n",
    "        types.append(\"Hot\")\n",
    "    if dricopycopy[\"Name\"][i] in long_list:\n",
    "        types.append(\"Long\")\n",
    "    if dricopycopy[\"Name\"][i] in short_list:\n",
    "        types.append(\"Short\")\n",
    "    if dricopycopy[\"Name\"][i] in tropical_list:\n",
    "        types.append(\"Tropical\")\n",
    "    \n",
    "    bases = list(set(bases))\n",
    "    if \"Mezcal\" in bases and \"Tequila\" in bases:\n",
    "        bases.remove(\"Mezcal\")\n",
    "    if \"Brandy\" in bases and \"Cognac\" in bases:\n",
    "        bases.remove(\"Brandy\")\n",
    "    if \"Beer\" in bases and \"Ale\" in bases:\n",
    "        print(i)\n",
    "#        bases.remove(\"Beer\")\n",
    "#        bases.remove(\"Ale\")\n",
    "#        bases.append(\"\")\n",
    "    \n",
    "    base_list[i] = \", \".join(bases)\n",
    "    type_list[i] = \", \".join(types)"
   ]
  },
  {
   "cell_type": "code",
   "execution_count": 768,
   "id": "8d692975",
   "metadata": {},
   "outputs": [
    {
     "data": {
      "text/html": [
       "<div>\n",
       "<style scoped>\n",
       "    .dataframe tbody tr th:only-of-type {\n",
       "        vertical-align: middle;\n",
       "    }\n",
       "\n",
       "    .dataframe tbody tr th {\n",
       "        vertical-align: top;\n",
       "    }\n",
       "\n",
       "    .dataframe thead th {\n",
       "        text-align: right;\n",
       "    }\n",
       "</style>\n",
       "<table border=\"1\" class=\"dataframe\">\n",
       "  <thead>\n",
       "    <tr style=\"text-align: right;\">\n",
       "      <th></th>\n",
       "      <th>Name</th>\n",
       "      <th>Ingredients</th>\n",
       "      <th>Making</th>\n",
       "      <th>Link</th>\n",
       "      <th>Glass</th>\n",
       "      <th>Type</th>\n",
       "      <th>Base</th>\n",
       "      <th>Garnish</th>\n",
       "      <th>Method</th>\n",
       "    </tr>\n",
       "  </thead>\n",
       "  <tbody>\n",
       "    <tr>\n",
       "      <th>0</th>\n",
       "      <td>'61 Imperial</td>\n",
       "      <td>1/2 oz white rum, 1/2 oz vodka, 1/2 oz 151 pro...</td>\n",
       "      <td>In a tall chimney glass or hurricane glass, fi...</td>\n",
       "      <td>http://www.drinksmixer.com/drink8428.html</td>\n",
       "      <td>Hurricane Glass</td>\n",
       "      <td>Long</td>\n",
       "      <td>Rum, Vodka, Liquor</td>\n",
       "      <td>a pineapple slice and a maraschino cherry, an...</td>\n",
       "      <td>Stir, Float</td>\n",
       "    </tr>\n",
       "    <tr>\n",
       "      <th>1</th>\n",
       "      <td>.50 Caliber</td>\n",
       "      <td>2 oz jack daniel's® tennessee whiskey, 2 oz ji...</td>\n",
       "      <td>Pour the Jack Daniel's Tennessee whiskey, Jim ...</td>\n",
       "      <td>http://www.drinksmixer.com/drink9993.html</td>\n",
       "      <td>Highball Glass</td>\n",
       "      <td>Long</td>\n",
       "      <td>Vodka, Whisky, Gin</td>\n",
       "      <td>None</td>\n",
       "      <td>None</td>\n",
       "    </tr>\n",
       "    <tr>\n",
       "      <th>2</th>\n",
       "      <td>007</td>\n",
       "      <td>3 oz stoli® ohranj vodka, 1 1/2 ozfreshly sque...</td>\n",
       "      <td>Serve on ice in a highball glass.</td>\n",
       "      <td>http://www.drinksmixer.com/drink11090.html</td>\n",
       "      <td>Highball Glass</td>\n",
       "      <td>Long</td>\n",
       "      <td>Vodka</td>\n",
       "      <td>None</td>\n",
       "      <td>None</td>\n",
       "    </tr>\n",
       "    <tr>\n",
       "      <th>3</th>\n",
       "      <td>10 Deep</td>\n",
       "      <td>1.5 oz vodka, 1 oz malibu® coconut rum, 1/2 cu...</td>\n",
       "      <td>All right start with 1/2 cup of ice mix the vo...</td>\n",
       "      <td>http://www.drinksmixer.com/drinkuv17048.html</td>\n",
       "      <td>Cup</td>\n",
       "      <td></td>\n",
       "      <td>Rum, Vodka</td>\n",
       "      <td>None</td>\n",
       "      <td>None</td>\n",
       "    </tr>\n",
       "    <tr>\n",
       "      <th>4</th>\n",
       "      <td>100 Miles per Hour</td>\n",
       "      <td>1/2 oz wild turkey® bourbon whiskey, 1/2 oz ba...</td>\n",
       "      <td>Mix all ingredients together over ice in a hig...</td>\n",
       "      <td>http://www.drinksmixer.com/drink10390.html</td>\n",
       "      <td>Highball Glass</td>\n",
       "      <td>Long</td>\n",
       "      <td>Rum, Whisky, Liquor</td>\n",
       "      <td>None</td>\n",
       "      <td>Shake</td>\n",
       "    </tr>\n",
       "  </tbody>\n",
       "</table>\n",
       "</div>"
      ],
      "text/plain": [
       "                 Name                                        Ingredients  \\\n",
       "0        '61 Imperial  1/2 oz white rum, 1/2 oz vodka, 1/2 oz 151 pro...   \n",
       "1         .50 Caliber  2 oz jack daniel's® tennessee whiskey, 2 oz ji...   \n",
       "2                 007  3 oz stoli® ohranj vodka, 1 1/2 ozfreshly sque...   \n",
       "3             10 Deep  1.5 oz vodka, 1 oz malibu® coconut rum, 1/2 cu...   \n",
       "4  100 Miles per Hour  1/2 oz wild turkey® bourbon whiskey, 1/2 oz ba...   \n",
       "\n",
       "                                              Making  \\\n",
       "0  In a tall chimney glass or hurricane glass, fi...   \n",
       "1  Pour the Jack Daniel's Tennessee whiskey, Jim ...   \n",
       "2                  Serve on ice in a highball glass.   \n",
       "3  All right start with 1/2 cup of ice mix the vo...   \n",
       "4  Mix all ingredients together over ice in a hig...   \n",
       "\n",
       "                                           Link            Glass  Type  \\\n",
       "0     http://www.drinksmixer.com/drink8428.html  Hurricane Glass  Long   \n",
       "1     http://www.drinksmixer.com/drink9993.html   Highball Glass  Long   \n",
       "2    http://www.drinksmixer.com/drink11090.html   Highball Glass  Long   \n",
       "3  http://www.drinksmixer.com/drinkuv17048.html              Cup         \n",
       "4    http://www.drinksmixer.com/drink10390.html   Highball Glass  Long   \n",
       "\n",
       "                  Base                                            Garnish  \\\n",
       "0   Rum, Vodka, Liquor   a pineapple slice and a maraschino cherry, an...   \n",
       "1   Vodka, Whisky, Gin                                               None   \n",
       "2                Vodka                                               None   \n",
       "3           Rum, Vodka                                               None   \n",
       "4  Rum, Whisky, Liquor                                               None   \n",
       "\n",
       "        Method  \n",
       "0  Stir, Float  \n",
       "1         None  \n",
       "2         None  \n",
       "3         None  \n",
       "4        Shake  "
      ]
     },
     "execution_count": 768,
     "metadata": {},
     "output_type": "execute_result"
    }
   ],
   "source": [
    "# 확인\n",
    "dricopycopy[\"Base\"] = base_list\n",
    "dricopycopy[\"Type\"] = type_list\n",
    "dricopycopy.head()"
   ]
  },
  {
   "cell_type": "markdown",
   "id": "17db38a4",
   "metadata": {},
   "source": [
    "비정상 Type 제거"
   ]
  },
  {
   "cell_type": "code",
   "execution_count": 770,
   "id": "796b6390",
   "metadata": {},
   "outputs": [
    {
     "data": {
      "text/plain": [
       "array(['Long', '', 'Long, Short', 'Short', 'Creamy, Short',\n",
       "       'Long, Tropical', 'Creamy, Long', 'Frozen, Long',\n",
       "       'Frozen, Long, Short', 'Hot, Short', 'Frozen, Short', 'Frozen',\n",
       "       'Hot', 'Creamy, Long, Short', 'Creamy, Frozen, Long, Short',\n",
       "       'Creamy, Frozen, Long', 'Short, Tropical', 'Creamy, Frozen, Short',\n",
       "       'Frozen, Short, Tropical', 'Tropical', 'Hot, Long',\n",
       "       'Frozen, Long, Tropical', 'Frozen, Long, Short, Tropical',\n",
       "       'Hot, Long, Short'], dtype=object)"
      ]
     },
     "execution_count": 770,
     "metadata": {},
     "output_type": "execute_result"
    }
   ],
   "source": [
    "dricopycopy[\"Type\"].unique()"
   ]
  },
  {
   "cell_type": "code",
   "execution_count": 771,
   "id": "9beb1274",
   "metadata": {},
   "outputs": [],
   "source": [
    "for i in range(len(dricopy)):\n",
    "    if dricopycopy[\"Type\"][i]=='Long, Short':\n",
    "        dricopycopy[\"Type\"][i] = None\n",
    "    if dricopycopy[\"Type\"][i]=='Frozen, Long, Short':\n",
    "        dricopycopy[\"Type\"][i] = None\n",
    "    if dricopycopy[\"Type\"][i]=='Creamy, Long, Short':\n",
    "        dricopycopy[\"Type\"][i] = None\n",
    "    if dricopycopy[\"Type\"][i]=='Creamy, Frozen, Long, Short':\n",
    "        dricopycopy[\"Type\"][i] = None\n",
    "    if dricopycopy[\"Type\"][i]=='Frozen, Long, Short, Tropical':\n",
    "        dricopycopy[\"Type\"][i] = None\n",
    "    if dricopycopy[\"Type\"][i]=='Hot, Long, Short':\n",
    "        dricopycopy[\"Type\"][i] = None"
   ]
  },
  {
   "cell_type": "code",
   "execution_count": 772,
   "id": "b472ab13",
   "metadata": {},
   "outputs": [
    {
     "data": {
      "text/html": [
       "<div>\n",
       "<style scoped>\n",
       "    .dataframe tbody tr th:only-of-type {\n",
       "        vertical-align: middle;\n",
       "    }\n",
       "\n",
       "    .dataframe tbody tr th {\n",
       "        vertical-align: top;\n",
       "    }\n",
       "\n",
       "    .dataframe thead th {\n",
       "        text-align: right;\n",
       "    }\n",
       "</style>\n",
       "<table border=\"1\" class=\"dataframe\">\n",
       "  <thead>\n",
       "    <tr style=\"text-align: right;\">\n",
       "      <th></th>\n",
       "      <th>Name</th>\n",
       "      <th>Ingredients</th>\n",
       "      <th>Making</th>\n",
       "      <th>Link</th>\n",
       "      <th>Glass</th>\n",
       "      <th>Type</th>\n",
       "      <th>Base</th>\n",
       "      <th>Garnish</th>\n",
       "      <th>Method</th>\n",
       "    </tr>\n",
       "  </thead>\n",
       "  <tbody>\n",
       "    <tr>\n",
       "      <th>0</th>\n",
       "      <td>'61 Imperial</td>\n",
       "      <td>1/2 oz white rum, 1/2 oz vodka, 1/2 oz 151 pro...</td>\n",
       "      <td>In a tall chimney glass or hurricane glass, fi...</td>\n",
       "      <td>http://www.drinksmixer.com/drink8428.html</td>\n",
       "      <td>Hurricane Glass</td>\n",
       "      <td>Long</td>\n",
       "      <td>Rum, Vodka, Liquor</td>\n",
       "      <td>a pineapple slice and a maraschino cherry, an...</td>\n",
       "      <td>Stir, Float</td>\n",
       "    </tr>\n",
       "    <tr>\n",
       "      <th>1</th>\n",
       "      <td>.50 Caliber</td>\n",
       "      <td>2 oz jack daniel's® tennessee whiskey, 2 oz ji...</td>\n",
       "      <td>Pour the Jack Daniel's Tennessee whiskey, Jim ...</td>\n",
       "      <td>http://www.drinksmixer.com/drink9993.html</td>\n",
       "      <td>Highball Glass</td>\n",
       "      <td>Long</td>\n",
       "      <td>Vodka, Whisky, Gin</td>\n",
       "      <td>None</td>\n",
       "      <td>None</td>\n",
       "    </tr>\n",
       "    <tr>\n",
       "      <th>2</th>\n",
       "      <td>007</td>\n",
       "      <td>3 oz stoli® ohranj vodka, 1 1/2 ozfreshly sque...</td>\n",
       "      <td>Serve on ice in a highball glass.</td>\n",
       "      <td>http://www.drinksmixer.com/drink11090.html</td>\n",
       "      <td>Highball Glass</td>\n",
       "      <td>Long</td>\n",
       "      <td>Vodka</td>\n",
       "      <td>None</td>\n",
       "      <td>None</td>\n",
       "    </tr>\n",
       "    <tr>\n",
       "      <th>3</th>\n",
       "      <td>10 Deep</td>\n",
       "      <td>1.5 oz vodka, 1 oz malibu® coconut rum, 1/2 cu...</td>\n",
       "      <td>All right start with 1/2 cup of ice mix the vo...</td>\n",
       "      <td>http://www.drinksmixer.com/drinkuv17048.html</td>\n",
       "      <td>Cup</td>\n",
       "      <td></td>\n",
       "      <td>Rum, Vodka</td>\n",
       "      <td>None</td>\n",
       "      <td>None</td>\n",
       "    </tr>\n",
       "    <tr>\n",
       "      <th>4</th>\n",
       "      <td>100 Miles per Hour</td>\n",
       "      <td>1/2 oz wild turkey® bourbon whiskey, 1/2 oz ba...</td>\n",
       "      <td>Mix all ingredients together over ice in a hig...</td>\n",
       "      <td>http://www.drinksmixer.com/drink10390.html</td>\n",
       "      <td>Highball Glass</td>\n",
       "      <td>Long</td>\n",
       "      <td>Rum, Whisky, Liquor</td>\n",
       "      <td>None</td>\n",
       "      <td>Shake</td>\n",
       "    </tr>\n",
       "  </tbody>\n",
       "</table>\n",
       "</div>"
      ],
      "text/plain": [
       "                 Name                                        Ingredients  \\\n",
       "0        '61 Imperial  1/2 oz white rum, 1/2 oz vodka, 1/2 oz 151 pro...   \n",
       "1         .50 Caliber  2 oz jack daniel's® tennessee whiskey, 2 oz ji...   \n",
       "2                 007  3 oz stoli® ohranj vodka, 1 1/2 ozfreshly sque...   \n",
       "3             10 Deep  1.5 oz vodka, 1 oz malibu® coconut rum, 1/2 cu...   \n",
       "4  100 Miles per Hour  1/2 oz wild turkey® bourbon whiskey, 1/2 oz ba...   \n",
       "\n",
       "                                              Making  \\\n",
       "0  In a tall chimney glass or hurricane glass, fi...   \n",
       "1  Pour the Jack Daniel's Tennessee whiskey, Jim ...   \n",
       "2                  Serve on ice in a highball glass.   \n",
       "3  All right start with 1/2 cup of ice mix the vo...   \n",
       "4  Mix all ingredients together over ice in a hig...   \n",
       "\n",
       "                                           Link            Glass  Type  \\\n",
       "0     http://www.drinksmixer.com/drink8428.html  Hurricane Glass  Long   \n",
       "1     http://www.drinksmixer.com/drink9993.html   Highball Glass  Long   \n",
       "2    http://www.drinksmixer.com/drink11090.html   Highball Glass  Long   \n",
       "3  http://www.drinksmixer.com/drinkuv17048.html              Cup         \n",
       "4    http://www.drinksmixer.com/drink10390.html   Highball Glass  Long   \n",
       "\n",
       "                  Base                                            Garnish  \\\n",
       "0   Rum, Vodka, Liquor   a pineapple slice and a maraschino cherry, an...   \n",
       "1   Vodka, Whisky, Gin                                               None   \n",
       "2                Vodka                                               None   \n",
       "3           Rum, Vodka                                               None   \n",
       "4  Rum, Whisky, Liquor                                               None   \n",
       "\n",
       "        Method  \n",
       "0  Stir, Float  \n",
       "1         None  \n",
       "2         None  \n",
       "3         None  \n",
       "4        Shake  "
      ]
     },
     "execution_count": 772,
     "metadata": {},
     "output_type": "execute_result"
    }
   ],
   "source": [
    "dricopycopy.head()"
   ]
  },
  {
   "cell_type": "markdown",
   "id": "3191ffbf",
   "metadata": {},
   "source": [
    "### Method 추출"
   ]
  },
  {
   "cell_type": "code",
   "execution_count": 773,
   "id": "938206f3",
   "metadata": {},
   "outputs": [],
   "source": [
    "method_list = [None]*16800\n",
    "for i in range(len(dricopycopy)):\n",
    "    methods = []\n",
    "    if \"shake\" in dricopycopy[\"Making\"][i].lower() or \"shkae\" in dricopycopy[\"Making\"][i].lower():\n",
    "        methods.append(\"Shake\")\n",
    "    if \"stir\" in dricopycopy[\"Making\"][i].lower():\n",
    "            methods.append(\"Stir\")\n",
    "    elif \"mixing glass\" in dricopycopy[\"Making\"][i].lower():\n",
    "        methods.append(\"Stir\")\n",
    "    elif \"mix over\" in dricopycopy[\"Making\"][i].lower():\n",
    "        methods.append(\"Stir\")\n",
    "    elif \"mix well\" in dricopycopy[\"Making\"][i].lower():\n",
    "        methods.append(\"Stir\")\n",
    "    if \"build\" in dricopycopy[\"Making\"][i].lower():\n",
    "        methods.append(\"Build\")\n",
    "    if \"combine\" in dricopycopy[\"Making\"][i].lower():\n",
    "        methods.append(\"Build\")\n",
    "    if \"float\" in dricopycopy[\"Making\"][i].lower() or \"layer\" in dricopycopy[\"Making\"][i].lower():\n",
    "        methods.append(\"Float\")\n",
    "    if \"blend\" in dricopycopy[\"Making\"][i].lower():\n",
    "        methods.append(\"Blend\")\n",
    "    if \"strain\" in dricopycopy[\"Making\"][i].lower():\n",
    "        methods.append(\"Strain\")\n",
    "    methods = list(set(methods))\n",
    "    if methods==[]:\n",
    "        pass\n",
    "    else:\n",
    "        method_list[i]=\", \".join(methods)"
   ]
  },
  {
   "cell_type": "markdown",
   "id": "5312bf97",
   "metadata": {},
   "source": [
    "Method 속성 부여하고 확인하기"
   ]
  },
  {
   "cell_type": "code",
   "execution_count": 774,
   "id": "0be4a22f",
   "metadata": {},
   "outputs": [
    {
     "data": {
      "text/html": [
       "<div>\n",
       "<style scoped>\n",
       "    .dataframe tbody tr th:only-of-type {\n",
       "        vertical-align: middle;\n",
       "    }\n",
       "\n",
       "    .dataframe tbody tr th {\n",
       "        vertical-align: top;\n",
       "    }\n",
       "\n",
       "    .dataframe thead th {\n",
       "        text-align: right;\n",
       "    }\n",
       "</style>\n",
       "<table border=\"1\" class=\"dataframe\">\n",
       "  <thead>\n",
       "    <tr style=\"text-align: right;\">\n",
       "      <th></th>\n",
       "      <th>Name</th>\n",
       "      <th>Ingredients</th>\n",
       "      <th>Making</th>\n",
       "      <th>Link</th>\n",
       "      <th>Glass</th>\n",
       "      <th>Type</th>\n",
       "      <th>Base</th>\n",
       "      <th>Garnish</th>\n",
       "      <th>Method</th>\n",
       "    </tr>\n",
       "  </thead>\n",
       "  <tbody>\n",
       "    <tr>\n",
       "      <th>0</th>\n",
       "      <td>'61 Imperial</td>\n",
       "      <td>1/2 oz white rum, 1/2 oz vodka, 1/2 oz 151 pro...</td>\n",
       "      <td>In a tall chimney glass or hurricane glass, fi...</td>\n",
       "      <td>http://www.drinksmixer.com/drink8428.html</td>\n",
       "      <td>Hurricane Glass</td>\n",
       "      <td>Long</td>\n",
       "      <td>Rum, Vodka, Liquor</td>\n",
       "      <td>a pineapple slice and a maraschino cherry, an...</td>\n",
       "      <td>Stir, Float</td>\n",
       "    </tr>\n",
       "    <tr>\n",
       "      <th>1</th>\n",
       "      <td>.50 Caliber</td>\n",
       "      <td>2 oz jack daniel's® tennessee whiskey, 2 oz ji...</td>\n",
       "      <td>Pour the Jack Daniel's Tennessee whiskey, Jim ...</td>\n",
       "      <td>http://www.drinksmixer.com/drink9993.html</td>\n",
       "      <td>Highball Glass</td>\n",
       "      <td>Long</td>\n",
       "      <td>Vodka, Whisky, Gin</td>\n",
       "      <td>None</td>\n",
       "      <td>None</td>\n",
       "    </tr>\n",
       "    <tr>\n",
       "      <th>2</th>\n",
       "      <td>007</td>\n",
       "      <td>3 oz stoli® ohranj vodka, 1 1/2 ozfreshly sque...</td>\n",
       "      <td>Serve on ice in a highball glass.</td>\n",
       "      <td>http://www.drinksmixer.com/drink11090.html</td>\n",
       "      <td>Highball Glass</td>\n",
       "      <td>Long</td>\n",
       "      <td>Vodka</td>\n",
       "      <td>None</td>\n",
       "      <td>None</td>\n",
       "    </tr>\n",
       "    <tr>\n",
       "      <th>3</th>\n",
       "      <td>10 Deep</td>\n",
       "      <td>1.5 oz vodka, 1 oz malibu® coconut rum, 1/2 cu...</td>\n",
       "      <td>All right start with 1/2 cup of ice mix the vo...</td>\n",
       "      <td>http://www.drinksmixer.com/drinkuv17048.html</td>\n",
       "      <td>Cup</td>\n",
       "      <td></td>\n",
       "      <td>Rum, Vodka</td>\n",
       "      <td>None</td>\n",
       "      <td>None</td>\n",
       "    </tr>\n",
       "    <tr>\n",
       "      <th>4</th>\n",
       "      <td>100 Miles per Hour</td>\n",
       "      <td>1/2 oz wild turkey® bourbon whiskey, 1/2 oz ba...</td>\n",
       "      <td>Mix all ingredients together over ice in a hig...</td>\n",
       "      <td>http://www.drinksmixer.com/drink10390.html</td>\n",
       "      <td>Highball Glass</td>\n",
       "      <td>Long</td>\n",
       "      <td>Rum, Whisky, Liquor</td>\n",
       "      <td>None</td>\n",
       "      <td>Shake</td>\n",
       "    </tr>\n",
       "  </tbody>\n",
       "</table>\n",
       "</div>"
      ],
      "text/plain": [
       "                 Name                                        Ingredients  \\\n",
       "0        '61 Imperial  1/2 oz white rum, 1/2 oz vodka, 1/2 oz 151 pro...   \n",
       "1         .50 Caliber  2 oz jack daniel's® tennessee whiskey, 2 oz ji...   \n",
       "2                 007  3 oz stoli® ohranj vodka, 1 1/2 ozfreshly sque...   \n",
       "3             10 Deep  1.5 oz vodka, 1 oz malibu® coconut rum, 1/2 cu...   \n",
       "4  100 Miles per Hour  1/2 oz wild turkey® bourbon whiskey, 1/2 oz ba...   \n",
       "\n",
       "                                              Making  \\\n",
       "0  In a tall chimney glass or hurricane glass, fi...   \n",
       "1  Pour the Jack Daniel's Tennessee whiskey, Jim ...   \n",
       "2                  Serve on ice in a highball glass.   \n",
       "3  All right start with 1/2 cup of ice mix the vo...   \n",
       "4  Mix all ingredients together over ice in a hig...   \n",
       "\n",
       "                                           Link            Glass  Type  \\\n",
       "0     http://www.drinksmixer.com/drink8428.html  Hurricane Glass  Long   \n",
       "1     http://www.drinksmixer.com/drink9993.html   Highball Glass  Long   \n",
       "2    http://www.drinksmixer.com/drink11090.html   Highball Glass  Long   \n",
       "3  http://www.drinksmixer.com/drinkuv17048.html              Cup         \n",
       "4    http://www.drinksmixer.com/drink10390.html   Highball Glass  Long   \n",
       "\n",
       "                  Base                                            Garnish  \\\n",
       "0   Rum, Vodka, Liquor   a pineapple slice and a maraschino cherry, an...   \n",
       "1   Vodka, Whisky, Gin                                               None   \n",
       "2                Vodka                                               None   \n",
       "3           Rum, Vodka                                               None   \n",
       "4  Rum, Whisky, Liquor                                               None   \n",
       "\n",
       "        Method  \n",
       "0  Stir, Float  \n",
       "1         None  \n",
       "2         None  \n",
       "3         None  \n",
       "4        Shake  "
      ]
     },
     "execution_count": 774,
     "metadata": {},
     "output_type": "execute_result"
    }
   ],
   "source": [
    "dricopycopy[\"Method\"] = method_list\n",
    "dricopycopy.head()"
   ]
  },
  {
   "cell_type": "markdown",
   "id": "b4c62f3d",
   "metadata": {},
   "source": [
    "빈 Flavor 열 추가하기"
   ]
  },
  {
   "cell_type": "code",
   "execution_count": 775,
   "id": "9c6ba7b9",
   "metadata": {},
   "outputs": [
    {
     "data": {
      "text/html": [
       "<div>\n",
       "<style scoped>\n",
       "    .dataframe tbody tr th:only-of-type {\n",
       "        vertical-align: middle;\n",
       "    }\n",
       "\n",
       "    .dataframe tbody tr th {\n",
       "        vertical-align: top;\n",
       "    }\n",
       "\n",
       "    .dataframe thead th {\n",
       "        text-align: right;\n",
       "    }\n",
       "</style>\n",
       "<table border=\"1\" class=\"dataframe\">\n",
       "  <thead>\n",
       "    <tr style=\"text-align: right;\">\n",
       "      <th></th>\n",
       "      <th>Name</th>\n",
       "      <th>Ingredients</th>\n",
       "      <th>Making</th>\n",
       "      <th>Link</th>\n",
       "      <th>Glass</th>\n",
       "      <th>Type</th>\n",
       "      <th>Base</th>\n",
       "      <th>Garnish</th>\n",
       "      <th>Method</th>\n",
       "      <th>Flavor</th>\n",
       "    </tr>\n",
       "  </thead>\n",
       "  <tbody>\n",
       "    <tr>\n",
       "      <th>0</th>\n",
       "      <td>'61 Imperial</td>\n",
       "      <td>1/2 oz white rum, 1/2 oz vodka, 1/2 oz 151 pro...</td>\n",
       "      <td>In a tall chimney glass or hurricane glass, fi...</td>\n",
       "      <td>http://www.drinksmixer.com/drink8428.html</td>\n",
       "      <td>Hurricane Glass</td>\n",
       "      <td>Long</td>\n",
       "      <td>Rum, Vodka, Liquor</td>\n",
       "      <td>a pineapple slice and a maraschino cherry, an...</td>\n",
       "      <td>Stir, Float</td>\n",
       "      <td>None</td>\n",
       "    </tr>\n",
       "    <tr>\n",
       "      <th>1</th>\n",
       "      <td>.50 Caliber</td>\n",
       "      <td>2 oz jack daniel's® tennessee whiskey, 2 oz ji...</td>\n",
       "      <td>Pour the Jack Daniel's Tennessee whiskey, Jim ...</td>\n",
       "      <td>http://www.drinksmixer.com/drink9993.html</td>\n",
       "      <td>Highball Glass</td>\n",
       "      <td>Long</td>\n",
       "      <td>Vodka, Whisky, Gin</td>\n",
       "      <td>None</td>\n",
       "      <td>None</td>\n",
       "      <td>None</td>\n",
       "    </tr>\n",
       "    <tr>\n",
       "      <th>2</th>\n",
       "      <td>007</td>\n",
       "      <td>3 oz stoli® ohranj vodka, 1 1/2 ozfreshly sque...</td>\n",
       "      <td>Serve on ice in a highball glass.</td>\n",
       "      <td>http://www.drinksmixer.com/drink11090.html</td>\n",
       "      <td>Highball Glass</td>\n",
       "      <td>Long</td>\n",
       "      <td>Vodka</td>\n",
       "      <td>None</td>\n",
       "      <td>None</td>\n",
       "      <td>None</td>\n",
       "    </tr>\n",
       "    <tr>\n",
       "      <th>3</th>\n",
       "      <td>10 Deep</td>\n",
       "      <td>1.5 oz vodka, 1 oz malibu® coconut rum, 1/2 cu...</td>\n",
       "      <td>All right start with 1/2 cup of ice mix the vo...</td>\n",
       "      <td>http://www.drinksmixer.com/drinkuv17048.html</td>\n",
       "      <td>Cup</td>\n",
       "      <td></td>\n",
       "      <td>Rum, Vodka</td>\n",
       "      <td>None</td>\n",
       "      <td>None</td>\n",
       "      <td>None</td>\n",
       "    </tr>\n",
       "    <tr>\n",
       "      <th>4</th>\n",
       "      <td>100 Miles per Hour</td>\n",
       "      <td>1/2 oz wild turkey® bourbon whiskey, 1/2 oz ba...</td>\n",
       "      <td>Mix all ingredients together over ice in a hig...</td>\n",
       "      <td>http://www.drinksmixer.com/drink10390.html</td>\n",
       "      <td>Highball Glass</td>\n",
       "      <td>Long</td>\n",
       "      <td>Rum, Whisky, Liquor</td>\n",
       "      <td>None</td>\n",
       "      <td>Shake</td>\n",
       "      <td>None</td>\n",
       "    </tr>\n",
       "  </tbody>\n",
       "</table>\n",
       "</div>"
      ],
      "text/plain": [
       "                 Name                                        Ingredients  \\\n",
       "0        '61 Imperial  1/2 oz white rum, 1/2 oz vodka, 1/2 oz 151 pro...   \n",
       "1         .50 Caliber  2 oz jack daniel's® tennessee whiskey, 2 oz ji...   \n",
       "2                 007  3 oz stoli® ohranj vodka, 1 1/2 ozfreshly sque...   \n",
       "3             10 Deep  1.5 oz vodka, 1 oz malibu® coconut rum, 1/2 cu...   \n",
       "4  100 Miles per Hour  1/2 oz wild turkey® bourbon whiskey, 1/2 oz ba...   \n",
       "\n",
       "                                              Making  \\\n",
       "0  In a tall chimney glass or hurricane glass, fi...   \n",
       "1  Pour the Jack Daniel's Tennessee whiskey, Jim ...   \n",
       "2                  Serve on ice in a highball glass.   \n",
       "3  All right start with 1/2 cup of ice mix the vo...   \n",
       "4  Mix all ingredients together over ice in a hig...   \n",
       "\n",
       "                                           Link            Glass  Type  \\\n",
       "0     http://www.drinksmixer.com/drink8428.html  Hurricane Glass  Long   \n",
       "1     http://www.drinksmixer.com/drink9993.html   Highball Glass  Long   \n",
       "2    http://www.drinksmixer.com/drink11090.html   Highball Glass  Long   \n",
       "3  http://www.drinksmixer.com/drinkuv17048.html              Cup         \n",
       "4    http://www.drinksmixer.com/drink10390.html   Highball Glass  Long   \n",
       "\n",
       "                  Base                                            Garnish  \\\n",
       "0   Rum, Vodka, Liquor   a pineapple slice and a maraschino cherry, an...   \n",
       "1   Vodka, Whisky, Gin                                               None   \n",
       "2                Vodka                                               None   \n",
       "3           Rum, Vodka                                               None   \n",
       "4  Rum, Whisky, Liquor                                               None   \n",
       "\n",
       "        Method Flavor  \n",
       "0  Stir, Float   None  \n",
       "1         None   None  \n",
       "2         None   None  \n",
       "3         None   None  \n",
       "4        Shake   None  "
      ]
     },
     "execution_count": 775,
     "metadata": {},
     "output_type": "execute_result"
    }
   ],
   "source": [
    "dricopycopy[\"Flavor\"]=None\n",
    "dricopycopy.head()"
   ]
  },
  {
   "cell_type": "markdown",
   "id": "31f9bad6",
   "metadata": {},
   "source": [
    "카테고리 순서 형식에 맞게 정렬하고 확인하기"
   ]
  },
  {
   "cell_type": "code",
   "execution_count": 776,
   "id": "97a8186a",
   "metadata": {},
   "outputs": [
    {
     "data": {
      "text/html": [
       "<div>\n",
       "<style scoped>\n",
       "    .dataframe tbody tr th:only-of-type {\n",
       "        vertical-align: middle;\n",
       "    }\n",
       "\n",
       "    .dataframe tbody tr th {\n",
       "        vertical-align: top;\n",
       "    }\n",
       "\n",
       "    .dataframe thead th {\n",
       "        text-align: right;\n",
       "    }\n",
       "</style>\n",
       "<table border=\"1\" class=\"dataframe\">\n",
       "  <thead>\n",
       "    <tr style=\"text-align: right;\">\n",
       "      <th></th>\n",
       "      <th>Name</th>\n",
       "      <th>Ingredients</th>\n",
       "      <th>Making</th>\n",
       "      <th>Link</th>\n",
       "      <th>Glass</th>\n",
       "      <th>Garnish</th>\n",
       "      <th>Base</th>\n",
       "      <th>Method</th>\n",
       "      <th>Type</th>\n",
       "      <th>Flavor</th>\n",
       "    </tr>\n",
       "  </thead>\n",
       "  <tbody>\n",
       "    <tr>\n",
       "      <th>0</th>\n",
       "      <td>'61 Imperial</td>\n",
       "      <td>1/2 oz white rum, 1/2 oz vodka, 1/2 oz 151 pro...</td>\n",
       "      <td>In a tall chimney glass or hurricane glass, fi...</td>\n",
       "      <td>http://www.drinksmixer.com/drink8428.html</td>\n",
       "      <td>Hurricane Glass</td>\n",
       "      <td>a pineapple slice and a maraschino cherry, an...</td>\n",
       "      <td>Rum, Vodka, Liquor</td>\n",
       "      <td>Stir, Float</td>\n",
       "      <td>Long</td>\n",
       "      <td>None</td>\n",
       "    </tr>\n",
       "    <tr>\n",
       "      <th>1</th>\n",
       "      <td>.50 Caliber</td>\n",
       "      <td>2 oz jack daniel's® tennessee whiskey, 2 oz ji...</td>\n",
       "      <td>Pour the Jack Daniel's Tennessee whiskey, Jim ...</td>\n",
       "      <td>http://www.drinksmixer.com/drink9993.html</td>\n",
       "      <td>Highball Glass</td>\n",
       "      <td>None</td>\n",
       "      <td>Vodka, Whisky, Gin</td>\n",
       "      <td>None</td>\n",
       "      <td>Long</td>\n",
       "      <td>None</td>\n",
       "    </tr>\n",
       "    <tr>\n",
       "      <th>2</th>\n",
       "      <td>007</td>\n",
       "      <td>3 oz stoli® ohranj vodka, 1 1/2 ozfreshly sque...</td>\n",
       "      <td>Serve on ice in a highball glass.</td>\n",
       "      <td>http://www.drinksmixer.com/drink11090.html</td>\n",
       "      <td>Highball Glass</td>\n",
       "      <td>None</td>\n",
       "      <td>Vodka</td>\n",
       "      <td>None</td>\n",
       "      <td>Long</td>\n",
       "      <td>None</td>\n",
       "    </tr>\n",
       "    <tr>\n",
       "      <th>3</th>\n",
       "      <td>10 Deep</td>\n",
       "      <td>1.5 oz vodka, 1 oz malibu® coconut rum, 1/2 cu...</td>\n",
       "      <td>All right start with 1/2 cup of ice mix the vo...</td>\n",
       "      <td>http://www.drinksmixer.com/drinkuv17048.html</td>\n",
       "      <td>Cup</td>\n",
       "      <td>None</td>\n",
       "      <td>Rum, Vodka</td>\n",
       "      <td>None</td>\n",
       "      <td></td>\n",
       "      <td>None</td>\n",
       "    </tr>\n",
       "    <tr>\n",
       "      <th>4</th>\n",
       "      <td>100 Miles per Hour</td>\n",
       "      <td>1/2 oz wild turkey® bourbon whiskey, 1/2 oz ba...</td>\n",
       "      <td>Mix all ingredients together over ice in a hig...</td>\n",
       "      <td>http://www.drinksmixer.com/drink10390.html</td>\n",
       "      <td>Highball Glass</td>\n",
       "      <td>None</td>\n",
       "      <td>Rum, Whisky, Liquor</td>\n",
       "      <td>Shake</td>\n",
       "      <td>Long</td>\n",
       "      <td>None</td>\n",
       "    </tr>\n",
       "  </tbody>\n",
       "</table>\n",
       "</div>"
      ],
      "text/plain": [
       "                 Name                                        Ingredients  \\\n",
       "0        '61 Imperial  1/2 oz white rum, 1/2 oz vodka, 1/2 oz 151 pro...   \n",
       "1         .50 Caliber  2 oz jack daniel's® tennessee whiskey, 2 oz ji...   \n",
       "2                 007  3 oz stoli® ohranj vodka, 1 1/2 ozfreshly sque...   \n",
       "3             10 Deep  1.5 oz vodka, 1 oz malibu® coconut rum, 1/2 cu...   \n",
       "4  100 Miles per Hour  1/2 oz wild turkey® bourbon whiskey, 1/2 oz ba...   \n",
       "\n",
       "                                              Making  \\\n",
       "0  In a tall chimney glass or hurricane glass, fi...   \n",
       "1  Pour the Jack Daniel's Tennessee whiskey, Jim ...   \n",
       "2                  Serve on ice in a highball glass.   \n",
       "3  All right start with 1/2 cup of ice mix the vo...   \n",
       "4  Mix all ingredients together over ice in a hig...   \n",
       "\n",
       "                                           Link            Glass  \\\n",
       "0     http://www.drinksmixer.com/drink8428.html  Hurricane Glass   \n",
       "1     http://www.drinksmixer.com/drink9993.html   Highball Glass   \n",
       "2    http://www.drinksmixer.com/drink11090.html   Highball Glass   \n",
       "3  http://www.drinksmixer.com/drinkuv17048.html              Cup   \n",
       "4    http://www.drinksmixer.com/drink10390.html   Highball Glass   \n",
       "\n",
       "                                             Garnish                 Base  \\\n",
       "0   a pineapple slice and a maraschino cherry, an...   Rum, Vodka, Liquor   \n",
       "1                                               None   Vodka, Whisky, Gin   \n",
       "2                                               None                Vodka   \n",
       "3                                               None           Rum, Vodka   \n",
       "4                                               None  Rum, Whisky, Liquor   \n",
       "\n",
       "        Method  Type Flavor  \n",
       "0  Stir, Float  Long   None  \n",
       "1         None  Long   None  \n",
       "2         None  Long   None  \n",
       "3         None         None  \n",
       "4        Shake  Long   None  "
      ]
     },
     "execution_count": 776,
     "metadata": {},
     "output_type": "execute_result"
    }
   ],
   "source": [
    "dricopycopy = dricopycopy[[\"Name\", \"Ingredients\", \"Making\", \"Link\", \"Glass\", \"Garnish\", \"Base\", \"Method\", \"Type\", \"Flavor\"]]\n",
    "dricopycopy.head()"
   ]
  },
  {
   "cell_type": "markdown",
   "id": "bea37e8e",
   "metadata": {},
   "source": [
    "데이터 저장하기"
   ]
  },
  {
   "cell_type": "code",
   "execution_count": 777,
   "id": "82f328c7",
   "metadata": {},
   "outputs": [],
   "source": [
    "dricopycopy.to_csv(\"//Drinkmixer_ready.csv\", encoding=\"utf-8-sig\", index=False)"
   ]
  },
  {
   "cell_type": "markdown",
   "id": "9fdf9ada",
   "metadata": {},
   "source": [
    "Drink Mixer 데이터 전처리 완료"
   ]
  }
 ],
 "metadata": {
  "kernelspec": {
   "display_name": "Python 3 (ipykernel)",
   "language": "python",
   "name": "python3"
  },
  "language_info": {
   "codemirror_mode": {
    "name": "ipython",
    "version": 3
   },
   "file_extension": ".py",
   "mimetype": "text/x-python",
   "name": "python",
   "nbconvert_exporter": "python",
   "pygments_lexer": "ipython3",
   "version": "3.8.13"
  }
 },
 "nbformat": 4,
 "nbformat_minor": 5
}
