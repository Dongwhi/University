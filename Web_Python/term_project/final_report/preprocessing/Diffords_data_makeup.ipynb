{
 "cells": [
  {
   "cell_type": "code",
   "execution_count": 354,
   "id": "04c882fc",
   "metadata": {},
   "outputs": [],
   "source": [
    "import pandas as pd"
   ]
  },
  {
   "cell_type": "code",
   "execution_count": 355,
   "id": "0db61e13",
   "metadata": {},
   "outputs": [],
   "source": [
    "dif = pd.read_csv(\"//Difford's_Guide.csv\")"
   ]
  },
  {
   "cell_type": "code",
   "execution_count": 356,
   "id": "c75acb18",
   "metadata": {},
   "outputs": [
    {
     "data": {
      "text/html": [
       "<div>\n",
       "<style scoped>\n",
       "    .dataframe tbody tr th:only-of-type {\n",
       "        vertical-align: middle;\n",
       "    }\n",
       "\n",
       "    .dataframe tbody tr th {\n",
       "        vertical-align: top;\n",
       "    }\n",
       "\n",
       "    .dataframe thead th {\n",
       "        text-align: right;\n",
       "    }\n",
       "</style>\n",
       "<table border=\"1\" class=\"dataframe\">\n",
       "  <thead>\n",
       "    <tr style=\"text-align: right;\">\n",
       "      <th></th>\n",
       "      <th>Name</th>\n",
       "      <th>Ingredients</th>\n",
       "      <th>Making</th>\n",
       "      <th>Link</th>\n",
       "      <th>Glass</th>\n",
       "      <th>Garnish</th>\n",
       "      <th>Type</th>\n",
       "      <th>Flavor</th>\n",
       "    </tr>\n",
       "  </thead>\n",
       "  <tbody>\n",
       "    <tr>\n",
       "      <th>0</th>\n",
       "      <td>April Fool</td>\n",
       "      <td>['3 shot Chilled water']</td>\n",
       "      <td>STIR with ice and strain into chilled glass.</td>\n",
       "      <td>https://www.diffordsguide.com/cocktails/recipe...</td>\n",
       "      <td>Martini glass</td>\n",
       "      <td>Lemon zest twist (discarded) &amp; olive</td>\n",
       "      <td>Nonalcoholic</td>\n",
       "      <td>NaN</td>\n",
       "    </tr>\n",
       "    <tr>\n",
       "      <th>1</th>\n",
       "      <td>Brooklyn (perfect)</td>\n",
       "      <td>['1 1⁄2 shot Straight rye whiskey (100 proof /...</td>\n",
       "      <td>STIR all ingredients with ice and strain into ...</td>\n",
       "      <td>https://www.diffordsguide.com/cocktails/recipe...</td>\n",
       "      <td>Coupe glass</td>\n",
       "      <td>Luxardo maraschino cherry</td>\n",
       "      <td>NaN</td>\n",
       "      <td>['Gentle 0 - Boozy 10: 8', 'Sweet 0 - Dry/Sour...</td>\n",
       "    </tr>\n",
       "    <tr>\n",
       "      <th>2</th>\n",
       "      <td>Californian Margarita</td>\n",
       "      <td>['1 1⁄2 shot Patrón Silver blanco tequila', '3...</td>\n",
       "      <td>SHAKE all ingredients with ice and strain into...</td>\n",
       "      <td>https://www.diffordsguide.com/cocktails/recipe...</td>\n",
       "      <td>Old-fashioned glass</td>\n",
       "      <td>Salt rim (optional) &amp; lime wedge</td>\n",
       "      <td>NaN</td>\n",
       "      <td>['Gentle 0 - Boozy 10: 7', 'Sweet 0 - Dry/Sour...</td>\n",
       "    </tr>\n",
       "    <tr>\n",
       "      <th>3</th>\n",
       "      <td>Calvados Fruit Cup (Difford's Cup No.13)</td>\n",
       "      <td>['5⁄6 shot Avallen Calvados', '5⁄6 shot Orange...</td>\n",
       "      <td>POUR all ingredients into glass. Half fill gla...</td>\n",
       "      <td>https://www.diffordsguide.com/cocktails/recipe...</td>\n",
       "      <td>Collins glass</td>\n",
       "      <td>Lemon, orange &amp; strawberry slices, mint sprig ...</td>\n",
       "      <td>NaN</td>\n",
       "      <td>['Gentle 0 - Boozy 10: 6', 'Sweet 0 - Dry/Sour...</td>\n",
       "    </tr>\n",
       "    <tr>\n",
       "      <th>4</th>\n",
       "      <td>Clover Club (House-Made)</td>\n",
       "      <td>['1 1⁄2 shot Rutte Dry Gin', '1 1⁄2 spoon Rasp...</td>\n",
       "      <td>STIR jam with gin in base of shaker until diss...</td>\n",
       "      <td>https://www.diffordsguide.com/cocktails/recipe...</td>\n",
       "      <td>Coupe glass</td>\n",
       "      <td>Lemon zest twist (expressed and discarded) &amp; s...</td>\n",
       "      <td>NaN</td>\n",
       "      <td>['Gentle 0 - Boozy 10: 6', 'Sweet 0 - Dry/Sour...</td>\n",
       "    </tr>\n",
       "  </tbody>\n",
       "</table>\n",
       "</div>"
      ],
      "text/plain": [
       "                                       Name  \\\n",
       "0                                April Fool   \n",
       "1                        Brooklyn (perfect)   \n",
       "2                     Californian Margarita   \n",
       "3  Calvados Fruit Cup (Difford's Cup No.13)   \n",
       "4                  Clover Club (House-Made)   \n",
       "\n",
       "                                         Ingredients  \\\n",
       "0                           ['3 shot Chilled water']   \n",
       "1  ['1 1⁄2 shot Straight rye whiskey (100 proof /...   \n",
       "2  ['1 1⁄2 shot Patrón Silver blanco tequila', '3...   \n",
       "3  ['5⁄6 shot Avallen Calvados', '5⁄6 shot Orange...   \n",
       "4  ['1 1⁄2 shot Rutte Dry Gin', '1 1⁄2 spoon Rasp...   \n",
       "\n",
       "                                              Making  \\\n",
       "0       STIR with ice and strain into chilled glass.   \n",
       "1  STIR all ingredients with ice and strain into ...   \n",
       "2  SHAKE all ingredients with ice and strain into...   \n",
       "3  POUR all ingredients into glass. Half fill gla...   \n",
       "4  STIR jam with gin in base of shaker until diss...   \n",
       "\n",
       "                                                Link                Glass  \\\n",
       "0  https://www.diffordsguide.com/cocktails/recipe...        Martini glass   \n",
       "1  https://www.diffordsguide.com/cocktails/recipe...          Coupe glass   \n",
       "2  https://www.diffordsguide.com/cocktails/recipe...  Old-fashioned glass   \n",
       "3  https://www.diffordsguide.com/cocktails/recipe...        Collins glass   \n",
       "4  https://www.diffordsguide.com/cocktails/recipe...          Coupe glass   \n",
       "\n",
       "                                             Garnish          Type  \\\n",
       "0               Lemon zest twist (discarded) & olive  Nonalcoholic   \n",
       "1                          Luxardo maraschino cherry           NaN   \n",
       "2                   Salt rim (optional) & lime wedge           NaN   \n",
       "3  Lemon, orange & strawberry slices, mint sprig ...           NaN   \n",
       "4  Lemon zest twist (expressed and discarded) & s...           NaN   \n",
       "\n",
       "                                              Flavor  \n",
       "0                                                NaN  \n",
       "1  ['Gentle 0 - Boozy 10: 8', 'Sweet 0 - Dry/Sour...  \n",
       "2  ['Gentle 0 - Boozy 10: 7', 'Sweet 0 - Dry/Sour...  \n",
       "3  ['Gentle 0 - Boozy 10: 6', 'Sweet 0 - Dry/Sour...  \n",
       "4  ['Gentle 0 - Boozy 10: 6', 'Sweet 0 - Dry/Sour...  "
      ]
     },
     "execution_count": 356,
     "metadata": {},
     "output_type": "execute_result"
    }
   ],
   "source": [
    "dif.head()"
   ]
  },
  {
   "cell_type": "code",
   "execution_count": 357,
   "id": "daf4ec46",
   "metadata": {},
   "outputs": [
    {
     "data": {
      "text/html": [
       "<div>\n",
       "<style scoped>\n",
       "    .dataframe tbody tr th:only-of-type {\n",
       "        vertical-align: middle;\n",
       "    }\n",
       "\n",
       "    .dataframe tbody tr th {\n",
       "        vertical-align: top;\n",
       "    }\n",
       "\n",
       "    .dataframe thead th {\n",
       "        text-align: right;\n",
       "    }\n",
       "</style>\n",
       "<table border=\"1\" class=\"dataframe\">\n",
       "  <thead>\n",
       "    <tr style=\"text-align: right;\">\n",
       "      <th></th>\n",
       "      <th>Name</th>\n",
       "      <th>Ingredients</th>\n",
       "      <th>Making</th>\n",
       "      <th>Link</th>\n",
       "      <th>Glass</th>\n",
       "      <th>Garnish</th>\n",
       "      <th>Type</th>\n",
       "      <th>Flavor</th>\n",
       "    </tr>\n",
       "  </thead>\n",
       "  <tbody>\n",
       "    <tr>\n",
       "      <th>count</th>\n",
       "      <td>5339</td>\n",
       "      <td>5339</td>\n",
       "      <td>5337</td>\n",
       "      <td>5339</td>\n",
       "      <td>5339</td>\n",
       "      <td>5339</td>\n",
       "      <td>34</td>\n",
       "      <td>3064</td>\n",
       "    </tr>\n",
       "    <tr>\n",
       "      <th>unique</th>\n",
       "      <td>5339</td>\n",
       "      <td>5333</td>\n",
       "      <td>1774</td>\n",
       "      <td>5339</td>\n",
       "      <td>47</td>\n",
       "      <td>1624</td>\n",
       "      <td>1</td>\n",
       "      <td>79</td>\n",
       "    </tr>\n",
       "    <tr>\n",
       "      <th>top</th>\n",
       "      <td>April Fool</td>\n",
       "      <td>['2 1⁄2 shot Rutte Dry Gin', '1⁄2 shot Martini...</td>\n",
       "      <td>SHAKE all ingredients with ice and fine strain...</td>\n",
       "      <td>https://www.diffordsguide.com/cocktails/recipe...</td>\n",
       "      <td>Coupe glass</td>\n",
       "      <td>Orange zest twist</td>\n",
       "      <td>Nonalcoholic</td>\n",
       "      <td>['Gentle 0 - Boozy 10: 7', 'Sweet 0 - Dry/Sour...</td>\n",
       "    </tr>\n",
       "    <tr>\n",
       "      <th>freq</th>\n",
       "      <td>1</td>\n",
       "      <td>3</td>\n",
       "      <td>1342</td>\n",
       "      <td>1</td>\n",
       "      <td>1843</td>\n",
       "      <td>644</td>\n",
       "      <td>34</td>\n",
       "      <td>449</td>\n",
       "    </tr>\n",
       "  </tbody>\n",
       "</table>\n",
       "</div>"
      ],
      "text/plain": [
       "              Name                                        Ingredients  \\\n",
       "count         5339                                               5339   \n",
       "unique        5339                                               5333   \n",
       "top     April Fool  ['2 1⁄2 shot Rutte Dry Gin', '1⁄2 shot Martini...   \n",
       "freq             1                                                  3   \n",
       "\n",
       "                                                   Making  \\\n",
       "count                                                5337   \n",
       "unique                                               1774   \n",
       "top     SHAKE all ingredients with ice and fine strain...   \n",
       "freq                                                 1342   \n",
       "\n",
       "                                                     Link        Glass  \\\n",
       "count                                                5339         5339   \n",
       "unique                                               5339           47   \n",
       "top     https://www.diffordsguide.com/cocktails/recipe...  Coupe glass   \n",
       "freq                                                    1         1843   \n",
       "\n",
       "                  Garnish          Type  \\\n",
       "count                5339            34   \n",
       "unique               1624             1   \n",
       "top     Orange zest twist  Nonalcoholic   \n",
       "freq                  644            34   \n",
       "\n",
       "                                                   Flavor  \n",
       "count                                                3064  \n",
       "unique                                                 79  \n",
       "top     ['Gentle 0 - Boozy 10: 7', 'Sweet 0 - Dry/Sour...  \n",
       "freq                                                  449  "
      ]
     },
     "execution_count": 357,
     "metadata": {},
     "output_type": "execute_result"
    }
   ],
   "source": [
    "dif.describe()\n",
    "# 이름이 다른데 재료가 같은 칵테일 발견. 나중에 자세히 확인할 것."
   ]
  },
  {
   "cell_type": "code",
   "execution_count": 358,
   "id": "4da33336",
   "metadata": {},
   "outputs": [],
   "source": [
    "difcopy = dif.copy()"
   ]
  },
  {
   "cell_type": "markdown",
   "id": "af3b1e93",
   "metadata": {},
   "source": [
    "### 중복 확인 및 제거"
   ]
  },
  {
   "cell_type": "markdown",
   "id": "1c7a59bc",
   "metadata": {},
   "source": [
    "전체 중복 확인"
   ]
  },
  {
   "cell_type": "code",
   "execution_count": 359,
   "id": "238ae96a",
   "metadata": {},
   "outputs": [
    {
     "data": {
      "text/plain": [
       "0"
      ]
     },
     "execution_count": 359,
     "metadata": {},
     "output_type": "execute_result"
    }
   ],
   "source": [
    "difcopy_ent_dup = difcopy.duplicated(subset=None, keep=False)\n",
    "len(difcopy_ent_dup[difcopy_ent_dup==True])"
   ]
  },
  {
   "cell_type": "markdown",
   "id": "84631e28",
   "metadata": {},
   "source": [
    "이름+재료만 중복 확인"
   ]
  },
  {
   "cell_type": "code",
   "execution_count": 360,
   "id": "ed0441d0",
   "metadata": {},
   "outputs": [
    {
     "data": {
      "text/plain": [
       "0"
      ]
     },
     "execution_count": 360,
     "metadata": {},
     "output_type": "execute_result"
    }
   ],
   "source": [
    "difcopy_2_dup = difcopy.duplicated([\"Name\", \"Ingredients\"], keep=False)\n",
    "len(difcopy_2_dup[difcopy_2_dup==True])"
   ]
  },
  {
   "cell_type": "markdown",
   "id": "f298c087",
   "metadata": {},
   "source": [
    "### Ingredients 형식 맞추기"
   ]
  },
  {
   "cell_type": "code",
   "execution_count": 361,
   "id": "248192f0",
   "metadata": {},
   "outputs": [
    {
     "name": "stdout",
     "output_type": "stream",
     "text": [
      "['1 1⁄2 shot Straight rye whiskey (100 proof / 50% alc./vol.)', '1⁄2 shot Martini Extra Dry vermouth', '1⁄2 shot Martini Rosso sweet vermouth', '1⁄3 shot Amer Picon', '1⁄3 shot Luxardo Maraschino liqueur', '1⁄3 shot Chilled water (omit if using wet ice)']\n"
     ]
    }
   ],
   "source": [
    "print(difcopy[\"Ingredients\"][1])"
   ]
  },
  {
   "cell_type": "markdown",
   "id": "2968ddf2",
   "metadata": {},
   "source": [
    "양 끝의 '['와 ']' 없애기, ' 없애기, shot을 oz로 바꾸기"
   ]
  },
  {
   "cell_type": "code",
   "execution_count": 362,
   "id": "7e74339d",
   "metadata": {},
   "outputs": [],
   "source": [
    "for i in range(len(difcopy)):\n",
    "    ingredients = difcopy[\"Ingredients\"][i][1:-1]\n",
    "    difcopy[\"Ingredients\"][i] = ingredients"
   ]
  },
  {
   "cell_type": "code",
   "execution_count": 363,
   "id": "fe1267fb",
   "metadata": {},
   "outputs": [
    {
     "name": "stdout",
     "output_type": "stream",
     "text": [
      "'1 1⁄2 shot Straight rye whiskey (100 proof / 50% alc./vol.)', '1⁄2 shot Martini Extra Dry vermouth', '1⁄2 shot Martini Rosso sweet vermouth', '1⁄3 shot Amer Picon', '1⁄3 shot Luxardo Maraschino liqueur', '1⁄3 shot Chilled water (omit if using wet ice)'\n"
     ]
    }
   ],
   "source": [
    "# 확인\n",
    "print(difcopy[\"Ingredients\"][1])"
   ]
  },
  {
   "cell_type": "code",
   "execution_count": 364,
   "id": "0989bdfd",
   "metadata": {},
   "outputs": [],
   "source": [
    "for i in range(len(difcopy)):\n",
    "    ingredient_list = difcopy[\"Ingredients\"][i].split(\", \")\n",
    "    for j in range(len(ingredient_list)):\n",
    "        if 'shot' in ingredient_list[j].lower():\n",
    "            if ingredient_list[j].lower().split(\" \")[1]!='shot' and ingredient_list[j].lower().split(\" \")[2]!='shot':\n",
    "                print(i)"
   ]
  },
  {
   "cell_type": "code",
   "execution_count": 365,
   "id": "3783f570",
   "metadata": {},
   "outputs": [],
   "source": [
    "for i in range(len(difcopy)):\n",
    "    ingredient_list = difcopy[\"Ingredients\"][i].split(\", \")\n",
    "    for j in range(len(ingredient_list)):\n",
    "        if 'shot' in ingredient_list[j].lower():\n",
    "            ingredient_list[j] = ingredient_list[j].replace(\"shot\", \"oz\")\n",
    "        if ingredient_list[j][0]==\"'\":\n",
    "            ingredient_list[j] = ingredient_list[j][1:]\n",
    "        if ingredient_list[j][-1]==\"'\":\n",
    "            ingredient_list[j] = ingredient_list[j][:-1]\n",
    "    difcopy[\"Ingredients\"][i] = \", \".join(ingredient_list)"
   ]
  },
  {
   "cell_type": "code",
   "execution_count": 366,
   "id": "561a234a",
   "metadata": {},
   "outputs": [
    {
     "name": "stdout",
     "output_type": "stream",
     "text": [
      "1 1⁄2 oz Straight rye whiskey (100 proof / 50% alc./vol.), 1⁄2 oz Martini Extra Dry vermouth, 1⁄2 oz Martini Rosso sweet vermouth, 1⁄3 oz Amer Picon, 1⁄3 oz Luxardo Maraschino liqueur, 1⁄3 oz Chilled water (omit if using wet ice)\n"
     ]
    }
   ],
   "source": [
    "# 확인\n",
    "print(difcopy[\"Ingredients\"][1])"
   ]
  },
  {
   "cell_type": "markdown",
   "id": "0d096d5c",
   "metadata": {},
   "source": [
    "### Making 형식 맞추기"
   ]
  },
  {
   "cell_type": "code",
   "execution_count": 367,
   "id": "58afc888",
   "metadata": {},
   "outputs": [
    {
     "data": {
      "text/plain": [
       "2"
      ]
     },
     "execution_count": 367,
     "metadata": {},
     "output_type": "execute_result"
    }
   ],
   "source": [
    "difcopy[\"Making\"].isnull().sum()\n",
    "# Making이 공백인 데이터 발견."
   ]
  },
  {
   "cell_type": "code",
   "execution_count": 368,
   "id": "6a98fe9c",
   "metadata": {},
   "outputs": [
    {
     "data": {
      "text/html": [
       "<div>\n",
       "<style scoped>\n",
       "    .dataframe tbody tr th:only-of-type {\n",
       "        vertical-align: middle;\n",
       "    }\n",
       "\n",
       "    .dataframe tbody tr th {\n",
       "        vertical-align: top;\n",
       "    }\n",
       "\n",
       "    .dataframe thead th {\n",
       "        text-align: right;\n",
       "    }\n",
       "</style>\n",
       "<table border=\"1\" class=\"dataframe\">\n",
       "  <thead>\n",
       "    <tr style=\"text-align: right;\">\n",
       "      <th></th>\n",
       "      <th>Name</th>\n",
       "      <th>Ingredients</th>\n",
       "      <th>Making</th>\n",
       "      <th>Link</th>\n",
       "      <th>Glass</th>\n",
       "      <th>Garnish</th>\n",
       "      <th>Type</th>\n",
       "      <th>Flavor</th>\n",
       "    </tr>\n",
       "  </thead>\n",
       "  <tbody>\n",
       "    <tr>\n",
       "      <th>1940</th>\n",
       "      <td>Vodka &amp; Tonic (VAT)</td>\n",
       "      <td>1 2⁄3 oz Ketel One Vodka, 4 oz Thomas Henry To...</td>\n",
       "      <td>NaN</td>\n",
       "      <td>https://www.diffordsguide.com/cocktails/recipe...</td>\n",
       "      <td>Collins glass</td>\n",
       "      <td>Lime wedge</td>\n",
       "      <td>NaN</td>\n",
       "      <td>['Gentle 0 - Boozy 10: 6', 'Sweet 0 - Dry/Sour...</td>\n",
       "    </tr>\n",
       "    <tr>\n",
       "      <th>5227</th>\n",
       "      <td>Green Tea Punch</td>\n",
       "      <td>1 2⁄3 oz Drambuie liqueur, 2 oz Green tea (col...</td>\n",
       "      <td>NaN</td>\n",
       "      <td>https://www.diffordsguide.com/cocktails/recipe...</td>\n",
       "      <td>Cup</td>\n",
       "      <td>Lemon &amp; cucumber slices</td>\n",
       "      <td>NaN</td>\n",
       "      <td>NaN</td>\n",
       "    </tr>\n",
       "  </tbody>\n",
       "</table>\n",
       "</div>"
      ],
      "text/plain": [
       "                     Name                                        Ingredients  \\\n",
       "1940  Vodka & Tonic (VAT)  1 2⁄3 oz Ketel One Vodka, 4 oz Thomas Henry To...   \n",
       "5227      Green Tea Punch  1 2⁄3 oz Drambuie liqueur, 2 oz Green tea (col...   \n",
       "\n",
       "     Making                                               Link          Glass  \\\n",
       "1940    NaN  https://www.diffordsguide.com/cocktails/recipe...  Collins glass   \n",
       "5227    NaN  https://www.diffordsguide.com/cocktails/recipe...            Cup   \n",
       "\n",
       "                      Garnish Type  \\\n",
       "1940               Lime wedge  NaN   \n",
       "5227  Lemon & cucumber slices  NaN   \n",
       "\n",
       "                                                 Flavor  \n",
       "1940  ['Gentle 0 - Boozy 10: 6', 'Sweet 0 - Dry/Sour...  \n",
       "5227                                                NaN  "
      ]
     },
     "execution_count": 368,
     "metadata": {},
     "output_type": "execute_result"
    }
   ],
   "source": [
    "difcopy[difcopy[\"Making\"].isnull()]\n",
    "# 원래 사이트를 찾아봤지만 조리법이 없으므로 공백으로 놔두겠음."
   ]
  },
  {
   "cell_type": "code",
   "execution_count": 369,
   "id": "ecf67636",
   "metadata": {},
   "outputs": [
    {
     "data": {
      "text/plain": [
       "'Cut zest from your lime for garnish prior to squeezing for juice. SHAKE all ingredients with ice and fine strain into chilled glass.\\n\\nFor an even better Daiquiri use 2 x 5ml measuring spoons of powdered sugar (finely ground caster sugar) in place of 10ml sugar syrup. Stir sugar with other ingredients in base of shaker prior to adding ice and shaking to ensure fully dissolved.'"
      ]
     },
     "execution_count": 369,
     "metadata": {},
     "output_type": "execute_result"
    }
   ],
   "source": [
    "difcopy[\"Making\"][6]"
   ]
  },
  {
   "cell_type": "code",
   "execution_count": 370,
   "id": "70a01392",
   "metadata": {},
   "outputs": [],
   "source": [
    "for i in range(len(difcopy)):\n",
    "    if i!=1940 and i!=5227:\n",
    "        making = difcopy[\"Making\"][i].replace(\"\\n\", \" \")\n",
    "        making = making.replace(\"  \", \" \")\n",
    "        difcopy[\"Making\"][i] = making"
   ]
  },
  {
   "cell_type": "code",
   "execution_count": 371,
   "id": "36c4b829",
   "metadata": {},
   "outputs": [
    {
     "data": {
      "text/plain": [
       "'Cut zest from your lime for garnish prior to squeezing for juice. SHAKE all ingredients with ice and fine strain into chilled glass. For an even better Daiquiri use 2 x 5ml measuring spoons of powdered sugar (finely ground caster sugar) in place of 10ml sugar syrup. Stir sugar with other ingredients in base of shaker prior to adding ice and shaking to ensure fully dissolved.'"
      ]
     },
     "execution_count": 371,
     "metadata": {},
     "output_type": "execute_result"
    }
   ],
   "source": [
    "difcopy[\"Making\"][6]"
   ]
  },
  {
   "cell_type": "code",
   "execution_count": 372,
   "id": "cf3994bf",
   "metadata": {},
   "outputs": [],
   "source": [
    "for i in range(len(difcopy)):\n",
    "    if str(difcopy[\"Making\"][i])=='nan':\n",
    "        difcopy[\"Making\"][i]=None"
   ]
  },
  {
   "cell_type": "markdown",
   "id": "fcd596d7",
   "metadata": {},
   "source": [
    "### 이름이 다른데 재료가 같은 칵테일의 다른 속성들을 보고 중복인지 아닌지 판단하기"
   ]
  },
  {
   "cell_type": "code",
   "execution_count": 373,
   "id": "695795f1",
   "metadata": {},
   "outputs": [
    {
     "data": {
      "text/plain": [
       "10"
      ]
     },
     "execution_count": 373,
     "metadata": {},
     "output_type": "execute_result"
    }
   ],
   "source": [
    "difcopy_dup = difcopy.duplicated([\"Ingredients\"], keep=False)\n",
    "len(difcopy_dup[difcopy_dup==True])"
   ]
  },
  {
   "cell_type": "code",
   "execution_count": 374,
   "id": "18d0cdd7",
   "metadata": {},
   "outputs": [
    {
     "name": "stdout",
     "output_type": "stream",
     "text": [
      "[484, 525, 1566, 2625, 4114, 4193, 4276, 4277, 4922, 4973]\n"
     ]
    }
   ],
   "source": [
    "difcopy_dup_ind = []\n",
    "for i in range(len(difcopy)):\n",
    "    if difcopy_dup[i]==True:\n",
    "        difcopy_dup_ind.append(i)\n",
    "print(difcopy_dup_ind)"
   ]
  },
  {
   "cell_type": "code",
   "execution_count": 375,
   "id": "58950721",
   "metadata": {},
   "outputs": [
    {
     "name": "stdout",
     "output_type": "stream",
     "text": [
      "484\n",
      "Bohemian Martini\n",
      "STIR all ingredients with ice and strain into chilled glass.\n",
      "2 1⁄2 oz Rutte Dry Gin, 1⁄2 oz Martini Extra Dry vermouth\n",
      "Martini glass\n",
      "Caperberry\n",
      "ㅡㅡㅡㅡㅡ\n",
      "525\n",
      "Buckeye\n",
      "STIR all ingredients with ice and strain into chilled glass.\n",
      "2 1⁄2 oz Rutte Dry Gin, 1⁄2 oz Martini Extra Dry vermouth\n",
      "Martini glass\n",
      "Black olive\n",
      "ㅡㅡㅡㅡㅡ\n",
      "1566\n",
      "Roosevelt Martini\n",
      "STIR all ingredients with ice and strain into chilled glass.\n",
      "2 1⁄2 oz Rutte Dry Gin, 1⁄2 oz Martini Extra Dry vermouth\n",
      "Martini glass\n",
      "Two olives on stick\n",
      "ㅡㅡㅡㅡㅡ\n",
      "2625\n",
      "Eggnog (hot)\n",
      "POUR ingredients into heatproof glass and STIR thoroughly. HEAT in microwave oven for a minute (adjust time as appropriate to your oven) and STIR again. Alternatively, mix and warm in pan over heat - do not boil.\n",
      "2 1⁄2 oz Rémy Martin 1738 Cognac, \"1⁄2 oz Sugar syrup 'rich' (2 sugar to 1 water, 65.0°brix)\", 1 fresh Egg (white & yolk), 1⁄2 oz Single cream / half-and-half, 2 oz Milk (whole milk/full 3-4% fat)\n",
      "Toddy glass\n",
      "Dust with grated nutmeg\n",
      "ㅡㅡㅡㅡㅡ\n",
      "4114\n",
      "Bartender's Mum\n",
      "Carefully LAYER ingredients in the following order.\n",
      "3⁄4 oz Butterscotch liqueur, 3⁄4 oz Irish cream liqueur\n",
      "Shot glass\n",
      "None\n",
      "ㅡㅡㅡㅡㅡ\n",
      "4193\n",
      "Butterscotch Delight\n",
      "Refrigerate ingredients then LAYER in chilled glass by carefully pouring in the following order.\n",
      "3⁄4 oz Butterscotch liqueur, 3⁄4 oz Irish cream liqueur\n",
      "Shot glass\n",
      "None\n",
      "ㅡㅡㅡㅡㅡ\n",
      "4276\n",
      "Devil\n",
      "SHAKE all ingredients with ice and fine strain into chilled glass.\n",
      "2 oz Tawny port, 1 1⁄2 oz Martini Extra Dry vermouth, 1⁄4 oz Lemon juice (freshly squeezed)\n",
      "Coupe glass\n",
      "Lemon zest twist\n",
      "ㅡㅡㅡㅡㅡ\n",
      "4277\n",
      "Devil's Cocktail\n",
      "SHAKE all ingredients with ice and fine strain into a chilled glass.\n",
      "2 oz Tawny port, 1 1⁄2 oz Martini Extra Dry vermouth, 1⁄4 oz Lemon juice (freshly squeezed)\n",
      "Coupe glass\n",
      "Lemon zest twist\n",
      "ㅡㅡㅡㅡㅡ\n",
      "4922\n",
      "Bit-O-Honey\n",
      "Refrigerate ingredients then LAYER in chilled glass by carefully pouring in the following order.\n",
      "3⁄4 oz Butterscotch liqueur, 3⁄4 oz Irish cream liqueur\n",
      "Shot glass\n",
      "None\n",
      "ㅡㅡㅡㅡㅡ\n",
      "4973\n",
      "Eggnog (cold)\n",
      "SHAKE all ingredients with ice and strain into ice-filled glass.\n",
      "2 1⁄2 oz Rémy Martin 1738 Cognac, \"1⁄2 oz Sugar syrup 'rich' (2 sugar to 1 water, 65.0°brix)\", 1 fresh Egg (white & yolk), 1⁄2 oz Single cream / half-and-half, 2 oz Milk (whole milk/full 3-4% fat)\n",
      "Collins glass\n",
      "Dust with grated nutmeg\n",
      "ㅡㅡㅡㅡㅡ\n"
     ]
    }
   ],
   "source": [
    "for i in difcopy_dup_ind:\n",
    "    print(i)\n",
    "    print(difcopy[\"Name\"][i])\n",
    "    print(difcopy[\"Making\"][i])\n",
    "    print(difcopy[\"Ingredients\"][i])\n",
    "    print(difcopy[\"Glass\"][i])\n",
    "    print(difcopy[\"Garnish\"][i])\n",
    "    print(\"ㅡㅡㅡㅡㅡ\")"
   ]
  },
  {
   "cell_type": "markdown",
   "id": "b5a69a8e",
   "metadata": {},
   "source": [
    "(4114, 4193, 4922), (4276, 4277)는 이름만 다르고 레시피가 같은 칵테일들이다. 하지만 아직 부여하지 않은 속성들이 있고 다른 사이트의 데이터에도 같은 칵테일이 있을지도 모르므로 데이터를 취합한 후에 다시 확인해서 처리할 것."
   ]
  },
  {
   "cell_type": "markdown",
   "id": "f25f2d87",
   "metadata": {},
   "source": [
    "### Glass 형식 맞추기"
   ]
  },
  {
   "cell_type": "code",
   "execution_count": 376,
   "id": "05553f95",
   "metadata": {},
   "outputs": [],
   "source": [
    "for i in range(len(difcopy)):\n",
    "    if str(difcopy[\"Glass\"][i])=='nan':\n",
    "        difcopy[\"Glass\"][i]=None"
   ]
  },
  {
   "cell_type": "code",
   "execution_count": 377,
   "id": "142025c1",
   "metadata": {},
   "outputs": [
    {
     "data": {
      "text/plain": [
       "array(['Martini glass', 'Coupe glass', 'Old-fashioned glass',\n",
       "       'Collins glass', 'Highball (max 10oz/300ml)',\n",
       "       'Martini (small) glass', 'Nick & Nora glass', 'Julep tin',\n",
       "       'Rocks glass', 'Flute glass', 'Sour or Martini/Coupette glass',\n",
       "       'Double old-fashioned', 'Toddy glass', 'Shot glass', 'Poco grande',\n",
       "       'Cup', 'Sling glass', 'Wine glass', 'Tiki mug or collins',\n",
       "       'Copa glass', 'Snifter glass', 'Martini (large 10oz) glass',\n",
       "       'Hurricane glass', 'Cantaritos clay pot or Collins glass',\n",
       "       'Large wine glass', 'Copita sherry glass',\n",
       "       'Cartridge mug or Collins glass', 'Goblet glass',\n",
       "       'Shot and Beer glass', 'Copper mug or Collins glass',\n",
       "       'Pineapple shell (frozen) glass', 'Belgium beer glass',\n",
       "       'Rum barrel mug or pint glass', 'Fizz or Highball (8oz to 10oz)',\n",
       "       'Absinthe glass or old-fashioned glass', 'Jam jar glass',\n",
       "       'Daddy Rack Tennessee Whiskey', 'Coconut shell or Collins glass',\n",
       "       'BarSol Mosto Verde Italia Pisco',\n",
       "       'Medical cup or Old-fashioned glass',\n",
       "       'Collins or Pineapple shell glass', 'Pint glass', 'Boston glass',\n",
       "       'Boston & shot glass', 'Margarita glass', 'Tin', 'Espresso cup'],\n",
       "      dtype=object)"
      ]
     },
     "execution_count": 377,
     "metadata": {},
     "output_type": "execute_result"
    }
   ],
   "source": [
    "difcopy[\"Glass\"].unique()"
   ]
  },
  {
   "cell_type": "code",
   "execution_count": 378,
   "id": "49a936de",
   "metadata": {},
   "outputs": [],
   "source": [
    "for i in range(len(difcopy)):\n",
    "    if difcopy[\"Glass\"][i].split(\" \")[-1]=='glass':\n",
    "        difcopy[\"Glass\"][i] = difcopy[\"Glass\"][i].replace(\"glass\", \"Glass\")"
   ]
  },
  {
   "cell_type": "code",
   "execution_count": 379,
   "id": "ab89308c",
   "metadata": {},
   "outputs": [
    {
     "data": {
      "text/plain": [
       "array(['Martini Glass', 'Coupe Glass', 'Old-fashioned Glass',\n",
       "       'Collins Glass', 'Highball (max 10oz/300ml)',\n",
       "       'Martini (small) Glass', 'Nick & Nora Glass', 'Julep tin',\n",
       "       'Rocks Glass', 'Flute Glass', 'Sour or Martini/Coupette Glass',\n",
       "       'Double old-fashioned', 'Toddy Glass', 'Shot Glass', 'Poco grande',\n",
       "       'Cup', 'Sling Glass', 'Wine Glass', 'Tiki mug or collins',\n",
       "       'Copa Glass', 'Snifter Glass', 'Martini (large 10oz) Glass',\n",
       "       'Hurricane Glass', 'Cantaritos clay pot or Collins Glass',\n",
       "       'Large wine Glass', 'Copita sherry Glass',\n",
       "       'Cartridge mug or Collins Glass', 'Goblet Glass',\n",
       "       'Shot and Beer Glass', 'Copper mug or Collins Glass',\n",
       "       'Pineapple shell (frozen) Glass', 'Belgium beer Glass',\n",
       "       'Rum barrel mug or pint Glass', 'Fizz or Highball (8oz to 10oz)',\n",
       "       'Absinthe Glass or old-fashioned Glass', 'Jam jar Glass',\n",
       "       'Daddy Rack Tennessee Whiskey', 'Coconut shell or Collins Glass',\n",
       "       'BarSol Mosto Verde Italia Pisco',\n",
       "       'Medical cup or Old-fashioned Glass',\n",
       "       'Collins or Pineapple shell Glass', 'Pint Glass', 'Boston Glass',\n",
       "       'Boston & shot Glass', 'Margarita Glass', 'Tin', 'Espresso cup'],\n",
       "      dtype=object)"
      ]
     },
     "execution_count": 379,
     "metadata": {},
     "output_type": "execute_result"
    }
   ],
   "source": [
    "difcopy[\"Glass\"].unique()"
   ]
  },
  {
   "cell_type": "code",
   "execution_count": 380,
   "id": "27aa1f12",
   "metadata": {},
   "outputs": [],
   "source": [
    "for i in range(len(difcopy)):\n",
    "    if difcopy[\"Glass\"][i]=='Old-fashioned Glass' or difcopy[\"Glass\"][i]=='Double old-fashioned':\n",
    "        difcopy[\"Glass\"][i] = 'Old Fashioned Glass'\n",
    "    if difcopy[\"Glass\"][i]=='Highball (max 10oz/300ml)':\n",
    "        difcopy[\"Glass\"][i] = 'Highball Glass'\n",
    "    if difcopy[\"Glass\"][i]=='Martini (small) Glass' or difcopy[\"Glass\"][i]=='Martini (large 10oz) Glass':\n",
    "        difcopy[\"Glass\"][i] = 'Martini Glass'\n",
    "    if difcopy[\"Glass\"][i]=='Julep tin':\n",
    "        difcopy[\"Glass\"][i] = 'Julep Tin'\n",
    "    if difcopy[\"Glass\"][i]=='Sour or Martini/Coupette Glass':\n",
    "        difcopy[\"Glass\"][i] = 'Sour or Martini or Coupette Glass'\n",
    "    if difcopy[\"Glass\"][i]=='Poco grande':\n",
    "        difcopy[\"Glass\"][i] = 'Poco Grande Glass'\n",
    "    if difcopy[\"Glass\"][i]=='Tiki mug or collins':\n",
    "        difcopy[\"Glass\"][i] = 'Tiki Mug or Collins Glass'\n",
    "    if difcopy[\"Glass\"][i]=='Cantaritos clay pot or Collins Glass':\n",
    "        difcopy[\"Glass\"][i] = 'Cantaritos Clay Pot or Collins Glass'\n",
    "    if difcopy[\"Glass\"][i]=='Large wine Glass':\n",
    "        difcopy[\"Glass\"][i] = 'Wine Glass'\n",
    "    if difcopy[\"Glass\"][i]=='Copita sherry Glass':\n",
    "        difcopy[\"Glass\"][i] = 'Copita Sherry Glass'\n",
    "    if difcopy[\"Glass\"][i]=='Cartridge mug or Collins Glass':\n",
    "        difcopy[\"Glass\"][i] = 'Cartridge Mug or Collins Glass'\n",
    "    if difcopy[\"Glass\"][i]=='Shot and Beer Glass':\n",
    "        difcopy[\"Glass\"][i] = 'Shot or Beer Glass'\n",
    "    if difcopy[\"Glass\"][i]=='Copper mug or Collins Glass':\n",
    "        difcopy[\"Glass\"][i] = 'Copper Mug or Collins Glass'\n",
    "    if difcopy[\"Glass\"][i]=='Pineapple shell (frozen) Glass':\n",
    "        difcopy[\"Glass\"][i] = 'Pineapple Shell or Glass'\n",
    "    if difcopy[\"Glass\"][i]=='Belgium beer Glass':\n",
    "        difcopy[\"Glass\"][i] = 'Belgium Beer Glass'\n",
    "    if difcopy[\"Glass\"][i]=='Rum barrel mug or pint Glass':\n",
    "        difcopy[\"Glass\"][i] = 'Rum Barrel Mug or Pint Glass'\n",
    "    if difcopy[\"Glass\"][i]=='Fizz or Highball (8oz to 10oz)':\n",
    "        difcopy[\"Glass\"][i] = 'Fizz or Highball Glass'\n",
    "    if difcopy[\"Glass\"][i]=='Absinthe Glass or old-fashioned Glass':\n",
    "        difcopy[\"Glass\"][i] = 'Absinthe or Old Fashioned Glass'\n",
    "    if difcopy[\"Glass\"][i]=='Jam jar Glass':\n",
    "        difcopy[\"Glass\"][i] = 'Jam Jar Glass'\n",
    "    if difcopy[\"Glass\"][i]=='Daddy Rack Tennessee Whiskey':\n",
    "        difcopy[\"Glass\"][i] = None\n",
    "    if difcopy[\"Glass\"][i]=='Coconut shell or Collins Glass':\n",
    "        difcopy[\"Glass\"][i] = 'Coconut Shell or Collins Glass'\n",
    "    if difcopy[\"Glass\"][i]=='BarSol Mosto Verde Italia Pisco':\n",
    "        difcopy[\"Glass\"][i] = None\n",
    "    if difcopy[\"Glass\"][i]=='Medical cup or Old-fashioned Glass':\n",
    "        difcopy[\"Glass\"][i] = 'Medical Cup or Old Fashioned Glass'\n",
    "    if difcopy[\"Glass\"][i]=='Collins or Pineapple shell Glass':\n",
    "        difcopy[\"Glass\"][i] = 'Pineapple Shell or Collins Glass'\n",
    "    if difcopy[\"Glass\"][i]=='Boston & shot Glass':\n",
    "        difcopy[\"Glass\"][i] = 'Boston or Shot Glass'\n",
    "    if difcopy[\"Glass\"][i]=='Espresso cup':\n",
    "        difcopy[\"Glass\"][i] = 'Espresso Cup'"
   ]
  },
  {
   "cell_type": "code",
   "execution_count": 381,
   "id": "e7e9c336",
   "metadata": {},
   "outputs": [
    {
     "data": {
      "text/plain": [
       "array(['Martini Glass', 'Coupe Glass', 'Old Fashioned Glass',\n",
       "       'Collins Glass', 'Highball Glass', 'Nick & Nora Glass',\n",
       "       'Julep Tin', 'Rocks Glass', 'Flute Glass',\n",
       "       'Sour or Martini or Coupette Glass', 'Toddy Glass', 'Shot Glass',\n",
       "       'Poco Grande Glass', 'Cup', 'Sling Glass', 'Wine Glass',\n",
       "       'Tiki Mug or Collins Glass', 'Copa Glass', 'Snifter Glass',\n",
       "       'Hurricane Glass', 'Cantaritos Clay Pot or Collins Glass',\n",
       "       'Copita Sherry Glass', 'Cartridge Mug or Collins Glass',\n",
       "       'Goblet Glass', 'Shot or Beer Glass',\n",
       "       'Copper Mug or Collins Glass', 'Pineapple Shell or Glass',\n",
       "       'Belgium Beer Glass', 'Rum Barrel Mug or Pint Glass',\n",
       "       'Fizz or Highball Glass', 'Absinthe or Old Fashioned Glass',\n",
       "       'Jam Jar Glass', None, 'Coconut Shell or Collins Glass',\n",
       "       'Medical Cup or Old Fashioned Glass',\n",
       "       'Pineapple Shell or Collins Glass', 'Pint Glass', 'Boston Glass',\n",
       "       'Boston or Shot Glass', 'Margarita Glass', 'Tin', 'Espresso Cup'],\n",
       "      dtype=object)"
      ]
     },
     "execution_count": 381,
     "metadata": {},
     "output_type": "execute_result"
    }
   ],
   "source": [
    "difcopy[\"Glass\"].unique()"
   ]
  },
  {
   "cell_type": "markdown",
   "id": "f9ed46e7",
   "metadata": {},
   "source": [
    "### Garnish 형식 맞추기"
   ]
  },
  {
   "cell_type": "code",
   "execution_count": 382,
   "id": "428c97c6",
   "metadata": {},
   "outputs": [],
   "source": [
    "for i in range(len(difcopy)):\n",
    "    if str(difcopy[\"Glass\"][i])=='nan':\n",
    "        difcopy[\"Glass\"][i]=None"
   ]
  },
  {
   "cell_type": "code",
   "execution_count": 383,
   "id": "b9433e18",
   "metadata": {},
   "outputs": [
    {
     "name": "stdout",
     "output_type": "stream",
     "text": [
      "2207\n",
      "3206\n",
      "5257\n"
     ]
    }
   ],
   "source": [
    "for i in range(len(difcopy)):\n",
    "    if str(difcopy[\"Garnish\"][i])!='None':\n",
    "        if \"\\n\" in difcopy[\"Garnish\"][i]:\n",
    "            print(i)\n",
    "# 출력된 세 개의 레시피를 자세히 살펴보니\n",
    "# Garnish 속성에 Making이 들어가버린 자료였음\n",
    "# 공통점: Making에 'Read about cocktail measures and measuring'이 써있음, 원래 사이트에서 Garnish란이 아예 없음\n",
    "# 처리해주기"
   ]
  },
  {
   "cell_type": "code",
   "execution_count": 384,
   "id": "03a2bd76",
   "metadata": {},
   "outputs": [
    {
     "name": "stdout",
     "output_type": "stream",
     "text": [
      "822\n",
      "2207\n",
      "3206\n",
      "3384\n",
      "4319\n",
      "5257\n"
     ]
    }
   ],
   "source": [
    "for i in range(len(difcopy)):\n",
    "    if str(difcopy[\"Making\"][i])!='None':\n",
    "        if 'Read about cocktail measures and measuring' in difcopy[\"Making\"][i]:\n",
    "            print(i)"
   ]
  },
  {
   "cell_type": "code",
   "execution_count": 385,
   "id": "72735f2a",
   "metadata": {},
   "outputs": [],
   "source": [
    "difcopy[\"Making\"][822]=difcopy[\"Garnish\"][822]\n",
    "difcopy[\"Garnish\"][822]=None\n",
    "difcopy[\"Making\"][2207]=difcopy[\"Garnish\"][2207]\n",
    "difcopy[\"Garnish\"][2207]=None\n",
    "difcopy[\"Making\"][3206]=difcopy[\"Garnish\"][3206]\n",
    "difcopy[\"Garnish\"][3206]=None\n",
    "difcopy[\"Making\"][3384]=difcopy[\"Garnish\"][3384]\n",
    "difcopy[\"Garnish\"][3384]=None\n",
    "difcopy[\"Making\"][4319]=difcopy[\"Garnish\"][4319]\n",
    "difcopy[\"Garnish\"][4319]=None\n",
    "difcopy[\"Making\"][5257]=difcopy[\"Garnish\"][5257]\n",
    "difcopy[\"Garnish\"][5257]=None"
   ]
  },
  {
   "cell_type": "markdown",
   "id": "2329f60b",
   "metadata": {},
   "source": [
    "Making 형식 다시 맞추기"
   ]
  },
  {
   "cell_type": "code",
   "execution_count": 386,
   "id": "ccbf88c0",
   "metadata": {},
   "outputs": [],
   "source": [
    "for i in range(len(difcopy)):\n",
    "    if i!=1940 and i!=5227:\n",
    "        making = difcopy[\"Making\"][i].replace(\"\\n\", \" \")\n",
    "        making = making.replace(\"  \", \" \")\n",
    "        difcopy[\"Making\"][i] = making"
   ]
  },
  {
   "cell_type": "markdown",
   "id": "28366c53",
   "metadata": {},
   "source": [
    "Garnish 형식은 맞출 필요가 없어졌으니 넘어가기"
   ]
  },
  {
   "cell_type": "markdown",
   "id": "c4b6ba0f",
   "metadata": {},
   "source": [
    "### Base 속성 부여하기(이 사이트는 Base 데이터를 따로 스크랩 할 수 있었음)"
   ]
  },
  {
   "cell_type": "code",
   "execution_count": 387,
   "id": "32b80f63",
   "metadata": {},
   "outputs": [],
   "source": [
    "dif_beer = pd.read_csv(\"//Difford's_beer.csv\")\n",
    "beer_list = list(dif_beer[\"Name\"])\n",
    "dif_brandy = pd.read_csv(\"//Difford's_brandy.csv\")\n",
    "brandy_list = list(dif_brandy[\"Name\"])\n",
    "dif_gin = pd.read_csv(\"//Difford's_gin.csv\")\n",
    "gin_list = list(dif_gin[\"Name\"])\n",
    "dif_redwine = pd.read_csv(\"//Difford's_redwine.csv\")\n",
    "redwine_list = list(dif_redwine[\"Name\"])\n",
    "dif_rum = pd.read_csv(\"//Difford's_rum.csv\")\n",
    "rum_list = list(dif_rum[\"Name\"])\n",
    "dif_sherry = pd.read_csv(\"//Difford's_sherry.csv\")\n",
    "sherry_list = list(dif_sherry[\"Name\"])\n",
    "dif_tequila = pd.read_csv(\"//Difford's_tequila.csv\")\n",
    "tequila_list = list(dif_tequila[\"Name\"])\n",
    "dif_vodka = pd.read_csv(\"//Difford's_vodka.csv\")\n",
    "vodka_list = list(dif_vodka[\"Name\"])\n",
    "dif_whisky = pd.read_csv(\"//Difford's_whisky.csv\")\n",
    "whisky_list = list(dif_whisky[\"Name\"])\n",
    "dif_whitewine = pd.read_csv(\"//Difford's_whitewine.csv\")\n",
    "whitewine_list = list(dif_whitewine[\"Name\"])"
   ]
  },
  {
   "cell_type": "code",
   "execution_count": 388,
   "id": "4e027f0b",
   "metadata": {},
   "outputs": [
    {
     "name": "stdout",
     "output_type": "stream",
     "text": [
      "['Beer on-the-rocks', 'De Beauvoir', 'Anything Else', \"Bitches' Brew cocktail\", 'Boilermaker', 'Czechmate', 'Dunkel & Stürmig', 'Flip the Script', 'Hwachae', 'Jack Pot', 'Kopstoot', 'Mantini', 'Reality Check', 'Revolutionary Flip', 'Swedish Ale Punch', 'The Angel Wore Red', 'Weissen Sour', 'Am I Blue?', \"Beggar's Banquet\", 'Black Velvet', 'Drop By Drop', 'El Camello Loco', 'El Tindero', \"Gilbey Vintner's Punch\", 'Huckle my buff', 'IPAlicus', 'Irish Shandy', 'Michelada', 'Pale Charlie', 'Reborn Padre Blanco', 'Seventh Son', 'Shaky Pete’s Ginger Brew', 'Smoky Mocha Spritz', 'South Ireland Sour', 'Stout Fellow', 'Black & Tan', 'Black & Velvet', 'Peroni Negroni', 'Sandygaff', 'Blackbeard', 'Doctor Pepper', 'Shandygaff', 'Snakebite', 'Steel Bottom', 'The Purl', 'Black Japan', 'Depth Charge', 'Flaming Dr Pepper', \"Clever Jasper's Tea\", 'Hug From Mary']\n"
     ]
    }
   ],
   "source": [
    "print(beer_list)"
   ]
  },
  {
   "cell_type": "code",
   "execution_count": 389,
   "id": "ad9e93e8",
   "metadata": {},
   "outputs": [
    {
     "data": {
      "text/plain": [
       "str"
      ]
     },
     "execution_count": 389,
     "metadata": {},
     "output_type": "execute_result"
    }
   ],
   "source": [
    "type(difcopy[\"Name\"][1])"
   ]
  },
  {
   "cell_type": "code",
   "execution_count": 390,
   "id": "09ef116b",
   "metadata": {},
   "outputs": [],
   "source": [
    "base_list = [None]*5339\n",
    "for i in range(len(difcopy)):\n",
    "    bases = []\n",
    "    if difcopy[\"Name\"][i] in beer_list:\n",
    "        bases.append(\"Beer\")\n",
    "    if difcopy[\"Name\"][i] in brandy_list:\n",
    "        bases.append(\"Brandy\")\n",
    "    if difcopy[\"Name\"][i] in gin_list:\n",
    "        bases.append(\"Gin\")\n",
    "    if difcopy[\"Name\"][i] in redwine_list:\n",
    "        bases.append(\"Red Wine\")\n",
    "    if difcopy[\"Name\"][i] in rum_list:\n",
    "        bases.append(\"Rum\")\n",
    "    if difcopy[\"Name\"][i] in sherry_list:\n",
    "        bases.append(\"Sherry\")\n",
    "    if difcopy[\"Name\"][i] in tequila_list:\n",
    "        bases.append(\"Tequila\")\n",
    "    if difcopy[\"Name\"][i] in vodka_list:\n",
    "        bases.append(\"Vodka\")\n",
    "    if difcopy[\"Name\"][i] in whisky_list:\n",
    "        bases.append(\"Whisky\")\n",
    "    if difcopy[\"Name\"][i] in whitewine_list:\n",
    "        bases.append(\"White Wine\")\n",
    "    if \"mezcal\" in difcopy[\"Ingredients\"][i].lower():\n",
    "        bases.append(\"Mezcal\")\n",
    "    if \"cognac\" in difcopy[\"Ingredients\"][i].lower():\n",
    "        bases.append(\"Cognac\")\n",
    "    if \" ale,\" in difcopy[\"Ingredients\"][i].lower() or \" ale.\" in difcopy[\"Ingredients\"][i].lower() or \" ale \" in difcopy[\"Ingredients\"][i].lower():\n",
    "        bases.append(\"Ale\")\n",
    "    if \"champagne\" in difcopy[\"Ingredients\"][i].lower():\n",
    "        bases.append(\"Champagne\")\n",
    "    if bases==[]:\n",
    "        pass\n",
    "    else:\n",
    "        base_list[i] = \", \".join(bases)"
   ]
  },
  {
   "cell_type": "code",
   "execution_count": 391,
   "id": "b90edbf0",
   "metadata": {},
   "outputs": [
    {
     "data": {
      "text/plain": [
       "1028"
      ]
     },
     "execution_count": 391,
     "metadata": {},
     "output_type": "execute_result"
    }
   ],
   "source": [
    "base_list.count(None)"
   ]
  },
  {
   "cell_type": "code",
   "execution_count": 392,
   "id": "3eef36c6",
   "metadata": {},
   "outputs": [],
   "source": [
    "difcopy[\"Base\"]=base_list"
   ]
  },
  {
   "cell_type": "code",
   "execution_count": 393,
   "id": "dbbde5d1",
   "metadata": {},
   "outputs": [
    {
     "data": {
      "text/html": [
       "<div>\n",
       "<style scoped>\n",
       "    .dataframe tbody tr th:only-of-type {\n",
       "        vertical-align: middle;\n",
       "    }\n",
       "\n",
       "    .dataframe tbody tr th {\n",
       "        vertical-align: top;\n",
       "    }\n",
       "\n",
       "    .dataframe thead th {\n",
       "        text-align: right;\n",
       "    }\n",
       "</style>\n",
       "<table border=\"1\" class=\"dataframe\">\n",
       "  <thead>\n",
       "    <tr style=\"text-align: right;\">\n",
       "      <th></th>\n",
       "      <th>Name</th>\n",
       "      <th>Ingredients</th>\n",
       "      <th>Making</th>\n",
       "      <th>Link</th>\n",
       "      <th>Glass</th>\n",
       "      <th>Garnish</th>\n",
       "      <th>Type</th>\n",
       "      <th>Flavor</th>\n",
       "      <th>Base</th>\n",
       "    </tr>\n",
       "  </thead>\n",
       "  <tbody>\n",
       "    <tr>\n",
       "      <th>0</th>\n",
       "      <td>April Fool</td>\n",
       "      <td>3 oz Chilled water</td>\n",
       "      <td>STIR with ice and strain into chilled glass.</td>\n",
       "      <td>https://www.diffordsguide.com/cocktails/recipe...</td>\n",
       "      <td>Martini Glass</td>\n",
       "      <td>Lemon zest twist (discarded) &amp; olive</td>\n",
       "      <td>Nonalcoholic</td>\n",
       "      <td>NaN</td>\n",
       "      <td>None</td>\n",
       "    </tr>\n",
       "    <tr>\n",
       "      <th>1</th>\n",
       "      <td>Brooklyn (perfect)</td>\n",
       "      <td>1 1⁄2 oz Straight rye whiskey (100 proof / 50%...</td>\n",
       "      <td>STIR all ingredients with ice and strain into ...</td>\n",
       "      <td>https://www.diffordsguide.com/cocktails/recipe...</td>\n",
       "      <td>Coupe Glass</td>\n",
       "      <td>Luxardo maraschino cherry</td>\n",
       "      <td>NaN</td>\n",
       "      <td>['Gentle 0 - Boozy 10: 8', 'Sweet 0 - Dry/Sour...</td>\n",
       "      <td>Whisky</td>\n",
       "    </tr>\n",
       "    <tr>\n",
       "      <th>2</th>\n",
       "      <td>Californian Margarita</td>\n",
       "      <td>1 1⁄2 oz Patrón Silver blanco tequila, 3⁄4 oz ...</td>\n",
       "      <td>SHAKE all ingredients with ice and strain into...</td>\n",
       "      <td>https://www.diffordsguide.com/cocktails/recipe...</td>\n",
       "      <td>Old Fashioned Glass</td>\n",
       "      <td>Salt rim (optional) &amp; lime wedge</td>\n",
       "      <td>NaN</td>\n",
       "      <td>['Gentle 0 - Boozy 10: 7', 'Sweet 0 - Dry/Sour...</td>\n",
       "      <td>Tequila</td>\n",
       "    </tr>\n",
       "    <tr>\n",
       "      <th>3</th>\n",
       "      <td>Calvados Fruit Cup (Difford's Cup No.13)</td>\n",
       "      <td>5⁄6 oz Avallen Calvados, 5⁄6 oz Orange Curaçao...</td>\n",
       "      <td>POUR all ingredients into glass. Half fill gla...</td>\n",
       "      <td>https://www.diffordsguide.com/cocktails/recipe...</td>\n",
       "      <td>Collins Glass</td>\n",
       "      <td>Lemon, orange &amp; strawberry slices, mint sprig ...</td>\n",
       "      <td>NaN</td>\n",
       "      <td>['Gentle 0 - Boozy 10: 6', 'Sweet 0 - Dry/Sour...</td>\n",
       "      <td>Brandy, Ale</td>\n",
       "    </tr>\n",
       "    <tr>\n",
       "      <th>4</th>\n",
       "      <td>Clover Club (House-Made)</td>\n",
       "      <td>1 1⁄2 oz Rutte Dry Gin, 1 1⁄2 spoon Raspberry ...</td>\n",
       "      <td>STIR jam with gin in base of shaker until diss...</td>\n",
       "      <td>https://www.diffordsguide.com/cocktails/recipe...</td>\n",
       "      <td>Coupe Glass</td>\n",
       "      <td>Lemon zest twist (expressed and discarded) &amp; s...</td>\n",
       "      <td>NaN</td>\n",
       "      <td>['Gentle 0 - Boozy 10: 6', 'Sweet 0 - Dry/Sour...</td>\n",
       "      <td>Gin</td>\n",
       "    </tr>\n",
       "  </tbody>\n",
       "</table>\n",
       "</div>"
      ],
      "text/plain": [
       "                                       Name  \\\n",
       "0                                April Fool   \n",
       "1                        Brooklyn (perfect)   \n",
       "2                     Californian Margarita   \n",
       "3  Calvados Fruit Cup (Difford's Cup No.13)   \n",
       "4                  Clover Club (House-Made)   \n",
       "\n",
       "                                         Ingredients  \\\n",
       "0                                 3 oz Chilled water   \n",
       "1  1 1⁄2 oz Straight rye whiskey (100 proof / 50%...   \n",
       "2  1 1⁄2 oz Patrón Silver blanco tequila, 3⁄4 oz ...   \n",
       "3  5⁄6 oz Avallen Calvados, 5⁄6 oz Orange Curaçao...   \n",
       "4  1 1⁄2 oz Rutte Dry Gin, 1 1⁄2 spoon Raspberry ...   \n",
       "\n",
       "                                              Making  \\\n",
       "0       STIR with ice and strain into chilled glass.   \n",
       "1  STIR all ingredients with ice and strain into ...   \n",
       "2  SHAKE all ingredients with ice and strain into...   \n",
       "3  POUR all ingredients into glass. Half fill gla...   \n",
       "4  STIR jam with gin in base of shaker until diss...   \n",
       "\n",
       "                                                Link                Glass  \\\n",
       "0  https://www.diffordsguide.com/cocktails/recipe...        Martini Glass   \n",
       "1  https://www.diffordsguide.com/cocktails/recipe...          Coupe Glass   \n",
       "2  https://www.diffordsguide.com/cocktails/recipe...  Old Fashioned Glass   \n",
       "3  https://www.diffordsguide.com/cocktails/recipe...        Collins Glass   \n",
       "4  https://www.diffordsguide.com/cocktails/recipe...          Coupe Glass   \n",
       "\n",
       "                                             Garnish          Type  \\\n",
       "0               Lemon zest twist (discarded) & olive  Nonalcoholic   \n",
       "1                          Luxardo maraschino cherry           NaN   \n",
       "2                   Salt rim (optional) & lime wedge           NaN   \n",
       "3  Lemon, orange & strawberry slices, mint sprig ...           NaN   \n",
       "4  Lemon zest twist (expressed and discarded) & s...           NaN   \n",
       "\n",
       "                                              Flavor         Base  \n",
       "0                                                NaN         None  \n",
       "1  ['Gentle 0 - Boozy 10: 8', 'Sweet 0 - Dry/Sour...       Whisky  \n",
       "2  ['Gentle 0 - Boozy 10: 7', 'Sweet 0 - Dry/Sour...      Tequila  \n",
       "3  ['Gentle 0 - Boozy 10: 6', 'Sweet 0 - Dry/Sour...  Brandy, Ale  \n",
       "4  ['Gentle 0 - Boozy 10: 6', 'Sweet 0 - Dry/Sour...          Gin  "
      ]
     },
     "execution_count": 393,
     "metadata": {},
     "output_type": "execute_result"
    }
   ],
   "source": [
    "# 확인\n",
    "difcopy.head()"
   ]
  },
  {
   "cell_type": "markdown",
   "id": "3e02adb8",
   "metadata": {},
   "source": [
    "### Method 추출하기"
   ]
  },
  {
   "cell_type": "code",
   "execution_count": 394,
   "id": "3f9aca10",
   "metadata": {},
   "outputs": [],
   "source": [
    "method_list = [None]*5339\n",
    "for i in range(len(difcopy[\"Making\"])):\n",
    "    methods = []\n",
    "    if str(difcopy[\"Making\"][i])!='None':\n",
    "        if \"shake\" in difcopy[\"Making\"][i].lower() or \"shkae\" in difcopy[\"Making\"][i].lower():\n",
    "            methods.append(\"Shake\")\n",
    "        if \"stir\" in difcopy[\"Making\"][i].lower():\n",
    "            if \"build\" in difcopy[\"Making\"][i].lower():\n",
    "                methods.append(\"Build\")\n",
    "            elif \"combine\" in difcopy[\"Making\"][i].lower():\n",
    "                methods.append(\"Build\")\n",
    "            else:\n",
    "                methods.append(\"Stir\")\n",
    "        elif \"build\" in difcopy[\"Making\"][i].lower():\n",
    "            methods.append(\"Build\")\n",
    "        elif \"combine\" in difcopy[\"Making\"][i].lower():\n",
    "            methods.append(\"Build\")\n",
    "        elif \"mix over\" in difcopy[\"Making\"][i].lower():\n",
    "            methods.append(\"Stir\")\n",
    "        elif \"mix in\" in difcopy[\"Making\"][i].lower():\n",
    "            methods.append(\"Stir\")\n",
    "        elif \"mix with\" in difcopy[\"Making\"][i].lower():\n",
    "            methods.append(\"Stir\")\n",
    "        elif \"mix well\" in difcopy[\"Making\"][i].lower():\n",
    "            methods.append(\"Stir\")\n",
    "        elif \"mix together\" in difcopy[\"Making\"][i].lower():\n",
    "            methods.append(\"Stir\")\n",
    "        elif \"mix all\" in difcopy[\"Making\"][i].lower():\n",
    "            methods.append(\"Stir\")\n",
    "        elif \"mixing glass\" in difcopy[\"Making\"][i].lower():\n",
    "            methods.append(\"Stir\")\n",
    "        if \"float\" in difcopy[\"Making\"][i].lower() or \"layer\" in difcopy[\"Making\"][i].lower():\n",
    "            methods.append(\"Float\")\n",
    "        if \"blend\" in difcopy[\"Making\"][i].lower():\n",
    "            methods.append(\"Blend\")\n",
    "        if \"strain\" in difcopy[\"Making\"][i].lower():\n",
    "            methods.append(\"Strain\")\n",
    "    methods = list(set(methods))\n",
    "    if methods==[]:\n",
    "        pass\n",
    "    else:\n",
    "        method_list[i]=\", \".join(methods)"
   ]
  },
  {
   "cell_type": "markdown",
   "id": "c994e182",
   "metadata": {},
   "source": [
    "Method 속성 부여하고 확인하기"
   ]
  },
  {
   "cell_type": "code",
   "execution_count": 395,
   "id": "691f0ffd",
   "metadata": {},
   "outputs": [
    {
     "data": {
      "text/html": [
       "<div>\n",
       "<style scoped>\n",
       "    .dataframe tbody tr th:only-of-type {\n",
       "        vertical-align: middle;\n",
       "    }\n",
       "\n",
       "    .dataframe tbody tr th {\n",
       "        vertical-align: top;\n",
       "    }\n",
       "\n",
       "    .dataframe thead th {\n",
       "        text-align: right;\n",
       "    }\n",
       "</style>\n",
       "<table border=\"1\" class=\"dataframe\">\n",
       "  <thead>\n",
       "    <tr style=\"text-align: right;\">\n",
       "      <th></th>\n",
       "      <th>Name</th>\n",
       "      <th>Ingredients</th>\n",
       "      <th>Making</th>\n",
       "      <th>Link</th>\n",
       "      <th>Glass</th>\n",
       "      <th>Garnish</th>\n",
       "      <th>Type</th>\n",
       "      <th>Flavor</th>\n",
       "      <th>Base</th>\n",
       "      <th>Method</th>\n",
       "    </tr>\n",
       "  </thead>\n",
       "  <tbody>\n",
       "    <tr>\n",
       "      <th>0</th>\n",
       "      <td>April Fool</td>\n",
       "      <td>3 oz Chilled water</td>\n",
       "      <td>STIR with ice and strain into chilled glass.</td>\n",
       "      <td>https://www.diffordsguide.com/cocktails/recipe...</td>\n",
       "      <td>Martini Glass</td>\n",
       "      <td>Lemon zest twist (discarded) &amp; olive</td>\n",
       "      <td>Nonalcoholic</td>\n",
       "      <td>NaN</td>\n",
       "      <td>None</td>\n",
       "      <td>Stir, Strain</td>\n",
       "    </tr>\n",
       "    <tr>\n",
       "      <th>1</th>\n",
       "      <td>Brooklyn (perfect)</td>\n",
       "      <td>1 1⁄2 oz Straight rye whiskey (100 proof / 50%...</td>\n",
       "      <td>STIR all ingredients with ice and strain into ...</td>\n",
       "      <td>https://www.diffordsguide.com/cocktails/recipe...</td>\n",
       "      <td>Coupe Glass</td>\n",
       "      <td>Luxardo maraschino cherry</td>\n",
       "      <td>NaN</td>\n",
       "      <td>['Gentle 0 - Boozy 10: 8', 'Sweet 0 - Dry/Sour...</td>\n",
       "      <td>Whisky</td>\n",
       "      <td>Stir, Strain</td>\n",
       "    </tr>\n",
       "    <tr>\n",
       "      <th>2</th>\n",
       "      <td>Californian Margarita</td>\n",
       "      <td>1 1⁄2 oz Patrón Silver blanco tequila, 3⁄4 oz ...</td>\n",
       "      <td>SHAKE all ingredients with ice and strain into...</td>\n",
       "      <td>https://www.diffordsguide.com/cocktails/recipe...</td>\n",
       "      <td>Old Fashioned Glass</td>\n",
       "      <td>Salt rim (optional) &amp; lime wedge</td>\n",
       "      <td>NaN</td>\n",
       "      <td>['Gentle 0 - Boozy 10: 7', 'Sweet 0 - Dry/Sour...</td>\n",
       "      <td>Tequila</td>\n",
       "      <td>Shake, Strain</td>\n",
       "    </tr>\n",
       "    <tr>\n",
       "      <th>3</th>\n",
       "      <td>Calvados Fruit Cup (Difford's Cup No.13)</td>\n",
       "      <td>5⁄6 oz Avallen Calvados, 5⁄6 oz Orange Curaçao...</td>\n",
       "      <td>POUR all ingredients into glass. Half fill gla...</td>\n",
       "      <td>https://www.diffordsguide.com/cocktails/recipe...</td>\n",
       "      <td>Collins Glass</td>\n",
       "      <td>Lemon, orange &amp; strawberry slices, mint sprig ...</td>\n",
       "      <td>NaN</td>\n",
       "      <td>['Gentle 0 - Boozy 10: 6', 'Sweet 0 - Dry/Sour...</td>\n",
       "      <td>Brandy, Ale</td>\n",
       "      <td>None</td>\n",
       "    </tr>\n",
       "    <tr>\n",
       "      <th>4</th>\n",
       "      <td>Clover Club (House-Made)</td>\n",
       "      <td>1 1⁄2 oz Rutte Dry Gin, 1 1⁄2 spoon Raspberry ...</td>\n",
       "      <td>STIR jam with gin in base of shaker until diss...</td>\n",
       "      <td>https://www.diffordsguide.com/cocktails/recipe...</td>\n",
       "      <td>Coupe Glass</td>\n",
       "      <td>Lemon zest twist (expressed and discarded) &amp; s...</td>\n",
       "      <td>NaN</td>\n",
       "      <td>['Gentle 0 - Boozy 10: 6', 'Sweet 0 - Dry/Sour...</td>\n",
       "      <td>Gin</td>\n",
       "      <td>Shake, Strain, Stir</td>\n",
       "    </tr>\n",
       "  </tbody>\n",
       "</table>\n",
       "</div>"
      ],
      "text/plain": [
       "                                       Name  \\\n",
       "0                                April Fool   \n",
       "1                        Brooklyn (perfect)   \n",
       "2                     Californian Margarita   \n",
       "3  Calvados Fruit Cup (Difford's Cup No.13)   \n",
       "4                  Clover Club (House-Made)   \n",
       "\n",
       "                                         Ingredients  \\\n",
       "0                                 3 oz Chilled water   \n",
       "1  1 1⁄2 oz Straight rye whiskey (100 proof / 50%...   \n",
       "2  1 1⁄2 oz Patrón Silver blanco tequila, 3⁄4 oz ...   \n",
       "3  5⁄6 oz Avallen Calvados, 5⁄6 oz Orange Curaçao...   \n",
       "4  1 1⁄2 oz Rutte Dry Gin, 1 1⁄2 spoon Raspberry ...   \n",
       "\n",
       "                                              Making  \\\n",
       "0       STIR with ice and strain into chilled glass.   \n",
       "1  STIR all ingredients with ice and strain into ...   \n",
       "2  SHAKE all ingredients with ice and strain into...   \n",
       "3  POUR all ingredients into glass. Half fill gla...   \n",
       "4  STIR jam with gin in base of shaker until diss...   \n",
       "\n",
       "                                                Link                Glass  \\\n",
       "0  https://www.diffordsguide.com/cocktails/recipe...        Martini Glass   \n",
       "1  https://www.diffordsguide.com/cocktails/recipe...          Coupe Glass   \n",
       "2  https://www.diffordsguide.com/cocktails/recipe...  Old Fashioned Glass   \n",
       "3  https://www.diffordsguide.com/cocktails/recipe...        Collins Glass   \n",
       "4  https://www.diffordsguide.com/cocktails/recipe...          Coupe Glass   \n",
       "\n",
       "                                             Garnish          Type  \\\n",
       "0               Lemon zest twist (discarded) & olive  Nonalcoholic   \n",
       "1                          Luxardo maraschino cherry           NaN   \n",
       "2                   Salt rim (optional) & lime wedge           NaN   \n",
       "3  Lemon, orange & strawberry slices, mint sprig ...           NaN   \n",
       "4  Lemon zest twist (expressed and discarded) & s...           NaN   \n",
       "\n",
       "                                              Flavor         Base  \\\n",
       "0                                                NaN         None   \n",
       "1  ['Gentle 0 - Boozy 10: 8', 'Sweet 0 - Dry/Sour...       Whisky   \n",
       "2  ['Gentle 0 - Boozy 10: 7', 'Sweet 0 - Dry/Sour...      Tequila   \n",
       "3  ['Gentle 0 - Boozy 10: 6', 'Sweet 0 - Dry/Sour...  Brandy, Ale   \n",
       "4  ['Gentle 0 - Boozy 10: 6', 'Sweet 0 - Dry/Sour...          Gin   \n",
       "\n",
       "                Method  \n",
       "0         Stir, Strain  \n",
       "1         Stir, Strain  \n",
       "2        Shake, Strain  \n",
       "3                 None  \n",
       "4  Shake, Strain, Stir  "
      ]
     },
     "execution_count": 395,
     "metadata": {},
     "output_type": "execute_result"
    }
   ],
   "source": [
    "difcopy[\"Method\"]=method_list\n",
    "difcopy.head()"
   ]
  },
  {
   "cell_type": "markdown",
   "id": "15ccd5a6",
   "metadata": {},
   "source": [
    "### Type 추출하기"
   ]
  },
  {
   "cell_type": "code",
   "execution_count": 396,
   "id": "171f955f",
   "metadata": {},
   "outputs": [
    {
     "data": {
      "text/plain": [
       "array(['Martini Glass', 'Coupe Glass', 'Old Fashioned Glass',\n",
       "       'Collins Glass', 'Highball Glass', 'Nick & Nora Glass',\n",
       "       'Julep Tin', 'Rocks Glass', 'Flute Glass',\n",
       "       'Sour or Martini or Coupette Glass', 'Toddy Glass', 'Shot Glass',\n",
       "       'Poco Grande Glass', 'Cup', 'Sling Glass', 'Wine Glass',\n",
       "       'Tiki Mug or Collins Glass', 'Copa Glass', 'Snifter Glass',\n",
       "       'Hurricane Glass', 'Cantaritos Clay Pot or Collins Glass',\n",
       "       'Copita Sherry Glass', 'Cartridge Mug or Collins Glass',\n",
       "       'Goblet Glass', 'Shot or Beer Glass',\n",
       "       'Copper Mug or Collins Glass', 'Pineapple Shell or Glass',\n",
       "       'Belgium Beer Glass', 'Rum Barrel Mug or Pint Glass',\n",
       "       'Fizz or Highball Glass', 'Absinthe or Old Fashioned Glass',\n",
       "       'Jam Jar Glass', None, 'Coconut Shell or Collins Glass',\n",
       "       'Medical Cup or Old Fashioned Glass',\n",
       "       'Pineapple Shell or Collins Glass', 'Pint Glass', 'Boston Glass',\n",
       "       'Boston or Shot Glass', 'Margarita Glass', 'Tin', 'Espresso Cup'],\n",
       "      dtype=object)"
      ]
     },
     "execution_count": 396,
     "metadata": {},
     "output_type": "execute_result"
    }
   ],
   "source": [
    "difcopy[\"Glass\"].unique()"
   ]
  },
  {
   "cell_type": "markdown",
   "id": "5f621ea2",
   "metadata": {},
   "source": [
    "추출할 속성: short, long, shooter<br>\n",
    "바꿔줄 속성: \"Nonalcoholic\" to \"Non-Alcoholic\""
   ]
  },
  {
   "cell_type": "code",
   "execution_count": 397,
   "id": "67c1bf7f",
   "metadata": {},
   "outputs": [],
   "source": [
    "type_list = [None]*5339\n",
    "shooter_glasses = ['Shot Glass']\n",
    "short_glasses = ['Martini Glass', 'Coupe Glass', 'Sour or Martini or Coupette Glass']\n",
    "long_glasses = ['Collins Glass', 'Highball Glass', 'Sling Glass', 'Tiki Mug or Collins Glass', 'Hurricane Glass', 'Cantaritos Clay Pot or Collins Glass', 'Copper Mug or Collins Glass', 'Fizz or Highball Glass']\n",
    "for i in range(len(difcopy)):\n",
    "    count = 0\n",
    "    types = []\n",
    "    if difcopy[\"Type\"][i]==\"Nonalcoholic\":\n",
    "        types.append(\"Non-Alcoholic\")\n",
    "    if difcopy[\"Glass\"][i] in shooter_glasses:\n",
    "        types.append(\"Shooter\")\n",
    "        count += 1\n",
    "    if difcopy[\"Glass\"][i] in short_glasses:\n",
    "        types.append(\"Short\")\n",
    "        count += 1\n",
    "    if difcopy[\"Glass\"][i] in long_glasses:\n",
    "        types.append(\"Long\")\n",
    "        count += 1\n",
    "    if count>=2:\n",
    "        print('here!', i)\n",
    "        if \"Non-Alcoholic\" in types:\n",
    "            types = [\"Non-Alcoholic\"]\n",
    "        else:\n",
    "            types = []\n",
    "    if types==[]:\n",
    "        pass\n",
    "    else:\n",
    "        type_list[i]=\", \".join(types)"
   ]
  },
  {
   "cell_type": "markdown",
   "id": "a82325bf",
   "metadata": {},
   "source": [
    "Type 속성 부여하고 확인하기"
   ]
  },
  {
   "cell_type": "code",
   "execution_count": 398,
   "id": "bce943de",
   "metadata": {},
   "outputs": [
    {
     "data": {
      "text/html": [
       "<div>\n",
       "<style scoped>\n",
       "    .dataframe tbody tr th:only-of-type {\n",
       "        vertical-align: middle;\n",
       "    }\n",
       "\n",
       "    .dataframe tbody tr th {\n",
       "        vertical-align: top;\n",
       "    }\n",
       "\n",
       "    .dataframe thead th {\n",
       "        text-align: right;\n",
       "    }\n",
       "</style>\n",
       "<table border=\"1\" class=\"dataframe\">\n",
       "  <thead>\n",
       "    <tr style=\"text-align: right;\">\n",
       "      <th></th>\n",
       "      <th>Name</th>\n",
       "      <th>Ingredients</th>\n",
       "      <th>Making</th>\n",
       "      <th>Link</th>\n",
       "      <th>Glass</th>\n",
       "      <th>Garnish</th>\n",
       "      <th>Type</th>\n",
       "      <th>Flavor</th>\n",
       "      <th>Base</th>\n",
       "      <th>Method</th>\n",
       "    </tr>\n",
       "  </thead>\n",
       "  <tbody>\n",
       "    <tr>\n",
       "      <th>0</th>\n",
       "      <td>April Fool</td>\n",
       "      <td>3 oz Chilled water</td>\n",
       "      <td>STIR with ice and strain into chilled glass.</td>\n",
       "      <td>https://www.diffordsguide.com/cocktails/recipe...</td>\n",
       "      <td>Martini Glass</td>\n",
       "      <td>Lemon zest twist (discarded) &amp; olive</td>\n",
       "      <td>Non-Alcoholic, Short</td>\n",
       "      <td>NaN</td>\n",
       "      <td>None</td>\n",
       "      <td>Stir, Strain</td>\n",
       "    </tr>\n",
       "    <tr>\n",
       "      <th>1</th>\n",
       "      <td>Brooklyn (perfect)</td>\n",
       "      <td>1 1⁄2 oz Straight rye whiskey (100 proof / 50%...</td>\n",
       "      <td>STIR all ingredients with ice and strain into ...</td>\n",
       "      <td>https://www.diffordsguide.com/cocktails/recipe...</td>\n",
       "      <td>Coupe Glass</td>\n",
       "      <td>Luxardo maraschino cherry</td>\n",
       "      <td>Short</td>\n",
       "      <td>['Gentle 0 - Boozy 10: 8', 'Sweet 0 - Dry/Sour...</td>\n",
       "      <td>Whisky</td>\n",
       "      <td>Stir, Strain</td>\n",
       "    </tr>\n",
       "    <tr>\n",
       "      <th>2</th>\n",
       "      <td>Californian Margarita</td>\n",
       "      <td>1 1⁄2 oz Patrón Silver blanco tequila, 3⁄4 oz ...</td>\n",
       "      <td>SHAKE all ingredients with ice and strain into...</td>\n",
       "      <td>https://www.diffordsguide.com/cocktails/recipe...</td>\n",
       "      <td>Old Fashioned Glass</td>\n",
       "      <td>Salt rim (optional) &amp; lime wedge</td>\n",
       "      <td>None</td>\n",
       "      <td>['Gentle 0 - Boozy 10: 7', 'Sweet 0 - Dry/Sour...</td>\n",
       "      <td>Tequila</td>\n",
       "      <td>Shake, Strain</td>\n",
       "    </tr>\n",
       "    <tr>\n",
       "      <th>3</th>\n",
       "      <td>Calvados Fruit Cup (Difford's Cup No.13)</td>\n",
       "      <td>5⁄6 oz Avallen Calvados, 5⁄6 oz Orange Curaçao...</td>\n",
       "      <td>POUR all ingredients into glass. Half fill gla...</td>\n",
       "      <td>https://www.diffordsguide.com/cocktails/recipe...</td>\n",
       "      <td>Collins Glass</td>\n",
       "      <td>Lemon, orange &amp; strawberry slices, mint sprig ...</td>\n",
       "      <td>Long</td>\n",
       "      <td>['Gentle 0 - Boozy 10: 6', 'Sweet 0 - Dry/Sour...</td>\n",
       "      <td>Brandy, Ale</td>\n",
       "      <td>None</td>\n",
       "    </tr>\n",
       "    <tr>\n",
       "      <th>4</th>\n",
       "      <td>Clover Club (House-Made)</td>\n",
       "      <td>1 1⁄2 oz Rutte Dry Gin, 1 1⁄2 spoon Raspberry ...</td>\n",
       "      <td>STIR jam with gin in base of shaker until diss...</td>\n",
       "      <td>https://www.diffordsguide.com/cocktails/recipe...</td>\n",
       "      <td>Coupe Glass</td>\n",
       "      <td>Lemon zest twist (expressed and discarded) &amp; s...</td>\n",
       "      <td>Short</td>\n",
       "      <td>['Gentle 0 - Boozy 10: 6', 'Sweet 0 - Dry/Sour...</td>\n",
       "      <td>Gin</td>\n",
       "      <td>Shake, Strain, Stir</td>\n",
       "    </tr>\n",
       "  </tbody>\n",
       "</table>\n",
       "</div>"
      ],
      "text/plain": [
       "                                       Name  \\\n",
       "0                                April Fool   \n",
       "1                        Brooklyn (perfect)   \n",
       "2                     Californian Margarita   \n",
       "3  Calvados Fruit Cup (Difford's Cup No.13)   \n",
       "4                  Clover Club (House-Made)   \n",
       "\n",
       "                                         Ingredients  \\\n",
       "0                                 3 oz Chilled water   \n",
       "1  1 1⁄2 oz Straight rye whiskey (100 proof / 50%...   \n",
       "2  1 1⁄2 oz Patrón Silver blanco tequila, 3⁄4 oz ...   \n",
       "3  5⁄6 oz Avallen Calvados, 5⁄6 oz Orange Curaçao...   \n",
       "4  1 1⁄2 oz Rutte Dry Gin, 1 1⁄2 spoon Raspberry ...   \n",
       "\n",
       "                                              Making  \\\n",
       "0       STIR with ice and strain into chilled glass.   \n",
       "1  STIR all ingredients with ice and strain into ...   \n",
       "2  SHAKE all ingredients with ice and strain into...   \n",
       "3  POUR all ingredients into glass. Half fill gla...   \n",
       "4  STIR jam with gin in base of shaker until diss...   \n",
       "\n",
       "                                                Link                Glass  \\\n",
       "0  https://www.diffordsguide.com/cocktails/recipe...        Martini Glass   \n",
       "1  https://www.diffordsguide.com/cocktails/recipe...          Coupe Glass   \n",
       "2  https://www.diffordsguide.com/cocktails/recipe...  Old Fashioned Glass   \n",
       "3  https://www.diffordsguide.com/cocktails/recipe...        Collins Glass   \n",
       "4  https://www.diffordsguide.com/cocktails/recipe...          Coupe Glass   \n",
       "\n",
       "                                             Garnish                  Type  \\\n",
       "0               Lemon zest twist (discarded) & olive  Non-Alcoholic, Short   \n",
       "1                          Luxardo maraschino cherry                 Short   \n",
       "2                   Salt rim (optional) & lime wedge                  None   \n",
       "3  Lemon, orange & strawberry slices, mint sprig ...                  Long   \n",
       "4  Lemon zest twist (expressed and discarded) & s...                 Short   \n",
       "\n",
       "                                              Flavor         Base  \\\n",
       "0                                                NaN         None   \n",
       "1  ['Gentle 0 - Boozy 10: 8', 'Sweet 0 - Dry/Sour...       Whisky   \n",
       "2  ['Gentle 0 - Boozy 10: 7', 'Sweet 0 - Dry/Sour...      Tequila   \n",
       "3  ['Gentle 0 - Boozy 10: 6', 'Sweet 0 - Dry/Sour...  Brandy, Ale   \n",
       "4  ['Gentle 0 - Boozy 10: 6', 'Sweet 0 - Dry/Sour...          Gin   \n",
       "\n",
       "                Method  \n",
       "0         Stir, Strain  \n",
       "1         Stir, Strain  \n",
       "2        Shake, Strain  \n",
       "3                 None  \n",
       "4  Shake, Strain, Stir  "
      ]
     },
     "execution_count": 398,
     "metadata": {},
     "output_type": "execute_result"
    }
   ],
   "source": [
    "difcopy[\"Type\"]=type_list\n",
    "difcopy.head()"
   ]
  },
  {
   "cell_type": "markdown",
   "id": "ac8d8b06",
   "metadata": {},
   "source": [
    "### Flavor 형식 맞추기"
   ]
  },
  {
   "cell_type": "code",
   "execution_count": 399,
   "id": "fd2056db",
   "metadata": {},
   "outputs": [],
   "source": [
    "for i in range(len(difcopy)):\n",
    "    if str(difcopy[\"Flavor\"][i])=='nan':\n",
    "        difcopy[\"Flavor\"][i]=None\n",
    "    else:\n",
    "        flavors = difcopy[\"Flavor\"][i][1:-1].split(\", \")\n",
    "        for j in range(len(flavors)):\n",
    "            if flavors[j][0]==\"'\":\n",
    "                flavors[j] = flavors[j][1:]\n",
    "            if flavors[j][-1]==\"'\":\n",
    "                flavors[j] = flavors[j][:-1]\n",
    "        flavor = \", \".join(flavors)\n",
    "        difcopy[\"Flavor\"][i] = flavor"
   ]
  },
  {
   "cell_type": "code",
   "execution_count": 400,
   "id": "d0f9b216",
   "metadata": {},
   "outputs": [
    {
     "data": {
      "text/html": [
       "<div>\n",
       "<style scoped>\n",
       "    .dataframe tbody tr th:only-of-type {\n",
       "        vertical-align: middle;\n",
       "    }\n",
       "\n",
       "    .dataframe tbody tr th {\n",
       "        vertical-align: top;\n",
       "    }\n",
       "\n",
       "    .dataframe thead th {\n",
       "        text-align: right;\n",
       "    }\n",
       "</style>\n",
       "<table border=\"1\" class=\"dataframe\">\n",
       "  <thead>\n",
       "    <tr style=\"text-align: right;\">\n",
       "      <th></th>\n",
       "      <th>Name</th>\n",
       "      <th>Ingredients</th>\n",
       "      <th>Making</th>\n",
       "      <th>Link</th>\n",
       "      <th>Glass</th>\n",
       "      <th>Garnish</th>\n",
       "      <th>Type</th>\n",
       "      <th>Flavor</th>\n",
       "      <th>Base</th>\n",
       "      <th>Method</th>\n",
       "    </tr>\n",
       "  </thead>\n",
       "  <tbody>\n",
       "    <tr>\n",
       "      <th>0</th>\n",
       "      <td>April Fool</td>\n",
       "      <td>3 oz Chilled water</td>\n",
       "      <td>STIR with ice and strain into chilled glass.</td>\n",
       "      <td>https://www.diffordsguide.com/cocktails/recipe...</td>\n",
       "      <td>Martini Glass</td>\n",
       "      <td>Lemon zest twist (discarded) &amp; olive</td>\n",
       "      <td>Non-Alcoholic, Short</td>\n",
       "      <td>None</td>\n",
       "      <td>None</td>\n",
       "      <td>Stir, Strain</td>\n",
       "    </tr>\n",
       "    <tr>\n",
       "      <th>1</th>\n",
       "      <td>Brooklyn (perfect)</td>\n",
       "      <td>1 1⁄2 oz Straight rye whiskey (100 proof / 50%...</td>\n",
       "      <td>STIR all ingredients with ice and strain into ...</td>\n",
       "      <td>https://www.diffordsguide.com/cocktails/recipe...</td>\n",
       "      <td>Coupe Glass</td>\n",
       "      <td>Luxardo maraschino cherry</td>\n",
       "      <td>Short</td>\n",
       "      <td>Gentle 0 - Boozy 10: 8, Sweet 0 - Dry/Sour 10: 6</td>\n",
       "      <td>Whisky</td>\n",
       "      <td>Stir, Strain</td>\n",
       "    </tr>\n",
       "    <tr>\n",
       "      <th>2</th>\n",
       "      <td>Californian Margarita</td>\n",
       "      <td>1 1⁄2 oz Patrón Silver blanco tequila, 3⁄4 oz ...</td>\n",
       "      <td>SHAKE all ingredients with ice and strain into...</td>\n",
       "      <td>https://www.diffordsguide.com/cocktails/recipe...</td>\n",
       "      <td>Old Fashioned Glass</td>\n",
       "      <td>Salt rim (optional) &amp; lime wedge</td>\n",
       "      <td>None</td>\n",
       "      <td>Gentle 0 - Boozy 10: 7, Sweet 0 - Dry/Sour 10: 7</td>\n",
       "      <td>Tequila</td>\n",
       "      <td>Shake, Strain</td>\n",
       "    </tr>\n",
       "    <tr>\n",
       "      <th>3</th>\n",
       "      <td>Calvados Fruit Cup (Difford's Cup No.13)</td>\n",
       "      <td>5⁄6 oz Avallen Calvados, 5⁄6 oz Orange Curaçao...</td>\n",
       "      <td>POUR all ingredients into glass. Half fill gla...</td>\n",
       "      <td>https://www.diffordsguide.com/cocktails/recipe...</td>\n",
       "      <td>Collins Glass</td>\n",
       "      <td>Lemon, orange &amp; strawberry slices, mint sprig ...</td>\n",
       "      <td>Long</td>\n",
       "      <td>Gentle 0 - Boozy 10: 6, Sweet 0 - Dry/Sour 10: 6</td>\n",
       "      <td>Brandy, Ale</td>\n",
       "      <td>None</td>\n",
       "    </tr>\n",
       "    <tr>\n",
       "      <th>4</th>\n",
       "      <td>Clover Club (House-Made)</td>\n",
       "      <td>1 1⁄2 oz Rutte Dry Gin, 1 1⁄2 spoon Raspberry ...</td>\n",
       "      <td>STIR jam with gin in base of shaker until diss...</td>\n",
       "      <td>https://www.diffordsguide.com/cocktails/recipe...</td>\n",
       "      <td>Coupe Glass</td>\n",
       "      <td>Lemon zest twist (expressed and discarded) &amp; s...</td>\n",
       "      <td>Short</td>\n",
       "      <td>Gentle 0 - Boozy 10: 6, Sweet 0 - Dry/Sour 10: 8</td>\n",
       "      <td>Gin</td>\n",
       "      <td>Shake, Strain, Stir</td>\n",
       "    </tr>\n",
       "  </tbody>\n",
       "</table>\n",
       "</div>"
      ],
      "text/plain": [
       "                                       Name  \\\n",
       "0                                April Fool   \n",
       "1                        Brooklyn (perfect)   \n",
       "2                     Californian Margarita   \n",
       "3  Calvados Fruit Cup (Difford's Cup No.13)   \n",
       "4                  Clover Club (House-Made)   \n",
       "\n",
       "                                         Ingredients  \\\n",
       "0                                 3 oz Chilled water   \n",
       "1  1 1⁄2 oz Straight rye whiskey (100 proof / 50%...   \n",
       "2  1 1⁄2 oz Patrón Silver blanco tequila, 3⁄4 oz ...   \n",
       "3  5⁄6 oz Avallen Calvados, 5⁄6 oz Orange Curaçao...   \n",
       "4  1 1⁄2 oz Rutte Dry Gin, 1 1⁄2 spoon Raspberry ...   \n",
       "\n",
       "                                              Making  \\\n",
       "0       STIR with ice and strain into chilled glass.   \n",
       "1  STIR all ingredients with ice and strain into ...   \n",
       "2  SHAKE all ingredients with ice and strain into...   \n",
       "3  POUR all ingredients into glass. Half fill gla...   \n",
       "4  STIR jam with gin in base of shaker until diss...   \n",
       "\n",
       "                                                Link                Glass  \\\n",
       "0  https://www.diffordsguide.com/cocktails/recipe...        Martini Glass   \n",
       "1  https://www.diffordsguide.com/cocktails/recipe...          Coupe Glass   \n",
       "2  https://www.diffordsguide.com/cocktails/recipe...  Old Fashioned Glass   \n",
       "3  https://www.diffordsguide.com/cocktails/recipe...        Collins Glass   \n",
       "4  https://www.diffordsguide.com/cocktails/recipe...          Coupe Glass   \n",
       "\n",
       "                                             Garnish                  Type  \\\n",
       "0               Lemon zest twist (discarded) & olive  Non-Alcoholic, Short   \n",
       "1                          Luxardo maraschino cherry                 Short   \n",
       "2                   Salt rim (optional) & lime wedge                  None   \n",
       "3  Lemon, orange & strawberry slices, mint sprig ...                  Long   \n",
       "4  Lemon zest twist (expressed and discarded) & s...                 Short   \n",
       "\n",
       "                                             Flavor         Base  \\\n",
       "0                                              None         None   \n",
       "1  Gentle 0 - Boozy 10: 8, Sweet 0 - Dry/Sour 10: 6       Whisky   \n",
       "2  Gentle 0 - Boozy 10: 7, Sweet 0 - Dry/Sour 10: 7      Tequila   \n",
       "3  Gentle 0 - Boozy 10: 6, Sweet 0 - Dry/Sour 10: 6  Brandy, Ale   \n",
       "4  Gentle 0 - Boozy 10: 6, Sweet 0 - Dry/Sour 10: 8          Gin   \n",
       "\n",
       "                Method  \n",
       "0         Stir, Strain  \n",
       "1         Stir, Strain  \n",
       "2        Shake, Strain  \n",
       "3                 None  \n",
       "4  Shake, Strain, Stir  "
      ]
     },
     "execution_count": 400,
     "metadata": {},
     "output_type": "execute_result"
    }
   ],
   "source": [
    "# 확인\n",
    "difcopy.head()"
   ]
  },
  {
   "cell_type": "markdown",
   "id": "b4e0f911",
   "metadata": {},
   "source": [
    "카테고리 순서 형식에 맞게 정렬하고 확인하기"
   ]
  },
  {
   "cell_type": "code",
   "execution_count": 401,
   "id": "41db1b82",
   "metadata": {},
   "outputs": [
    {
     "data": {
      "text/html": [
       "<div>\n",
       "<style scoped>\n",
       "    .dataframe tbody tr th:only-of-type {\n",
       "        vertical-align: middle;\n",
       "    }\n",
       "\n",
       "    .dataframe tbody tr th {\n",
       "        vertical-align: top;\n",
       "    }\n",
       "\n",
       "    .dataframe thead th {\n",
       "        text-align: right;\n",
       "    }\n",
       "</style>\n",
       "<table border=\"1\" class=\"dataframe\">\n",
       "  <thead>\n",
       "    <tr style=\"text-align: right;\">\n",
       "      <th></th>\n",
       "      <th>Name</th>\n",
       "      <th>Ingredients</th>\n",
       "      <th>Making</th>\n",
       "      <th>Link</th>\n",
       "      <th>Glass</th>\n",
       "      <th>Garnish</th>\n",
       "      <th>Base</th>\n",
       "      <th>Method</th>\n",
       "      <th>Type</th>\n",
       "      <th>Flavor</th>\n",
       "    </tr>\n",
       "  </thead>\n",
       "  <tbody>\n",
       "    <tr>\n",
       "      <th>0</th>\n",
       "      <td>April Fool</td>\n",
       "      <td>3 oz Chilled water</td>\n",
       "      <td>STIR with ice and strain into chilled glass.</td>\n",
       "      <td>https://www.diffordsguide.com/cocktails/recipe...</td>\n",
       "      <td>Martini Glass</td>\n",
       "      <td>Lemon zest twist (discarded) &amp; olive</td>\n",
       "      <td>None</td>\n",
       "      <td>Stir, Strain</td>\n",
       "      <td>Non-Alcoholic, Short</td>\n",
       "      <td>None</td>\n",
       "    </tr>\n",
       "    <tr>\n",
       "      <th>1</th>\n",
       "      <td>Brooklyn (perfect)</td>\n",
       "      <td>1 1⁄2 oz Straight rye whiskey (100 proof / 50%...</td>\n",
       "      <td>STIR all ingredients with ice and strain into ...</td>\n",
       "      <td>https://www.diffordsguide.com/cocktails/recipe...</td>\n",
       "      <td>Coupe Glass</td>\n",
       "      <td>Luxardo maraschino cherry</td>\n",
       "      <td>Whisky</td>\n",
       "      <td>Stir, Strain</td>\n",
       "      <td>Short</td>\n",
       "      <td>Gentle 0 - Boozy 10: 8, Sweet 0 - Dry/Sour 10: 6</td>\n",
       "    </tr>\n",
       "    <tr>\n",
       "      <th>2</th>\n",
       "      <td>Californian Margarita</td>\n",
       "      <td>1 1⁄2 oz Patrón Silver blanco tequila, 3⁄4 oz ...</td>\n",
       "      <td>SHAKE all ingredients with ice and strain into...</td>\n",
       "      <td>https://www.diffordsguide.com/cocktails/recipe...</td>\n",
       "      <td>Old Fashioned Glass</td>\n",
       "      <td>Salt rim (optional) &amp; lime wedge</td>\n",
       "      <td>Tequila</td>\n",
       "      <td>Shake, Strain</td>\n",
       "      <td>None</td>\n",
       "      <td>Gentle 0 - Boozy 10: 7, Sweet 0 - Dry/Sour 10: 7</td>\n",
       "    </tr>\n",
       "    <tr>\n",
       "      <th>3</th>\n",
       "      <td>Calvados Fruit Cup (Difford's Cup No.13)</td>\n",
       "      <td>5⁄6 oz Avallen Calvados, 5⁄6 oz Orange Curaçao...</td>\n",
       "      <td>POUR all ingredients into glass. Half fill gla...</td>\n",
       "      <td>https://www.diffordsguide.com/cocktails/recipe...</td>\n",
       "      <td>Collins Glass</td>\n",
       "      <td>Lemon, orange &amp; strawberry slices, mint sprig ...</td>\n",
       "      <td>Brandy, Ale</td>\n",
       "      <td>None</td>\n",
       "      <td>Long</td>\n",
       "      <td>Gentle 0 - Boozy 10: 6, Sweet 0 - Dry/Sour 10: 6</td>\n",
       "    </tr>\n",
       "    <tr>\n",
       "      <th>4</th>\n",
       "      <td>Clover Club (House-Made)</td>\n",
       "      <td>1 1⁄2 oz Rutte Dry Gin, 1 1⁄2 spoon Raspberry ...</td>\n",
       "      <td>STIR jam with gin in base of shaker until diss...</td>\n",
       "      <td>https://www.diffordsguide.com/cocktails/recipe...</td>\n",
       "      <td>Coupe Glass</td>\n",
       "      <td>Lemon zest twist (expressed and discarded) &amp; s...</td>\n",
       "      <td>Gin</td>\n",
       "      <td>Shake, Strain, Stir</td>\n",
       "      <td>Short</td>\n",
       "      <td>Gentle 0 - Boozy 10: 6, Sweet 0 - Dry/Sour 10: 8</td>\n",
       "    </tr>\n",
       "  </tbody>\n",
       "</table>\n",
       "</div>"
      ],
      "text/plain": [
       "                                       Name  \\\n",
       "0                                April Fool   \n",
       "1                        Brooklyn (perfect)   \n",
       "2                     Californian Margarita   \n",
       "3  Calvados Fruit Cup (Difford's Cup No.13)   \n",
       "4                  Clover Club (House-Made)   \n",
       "\n",
       "                                         Ingredients  \\\n",
       "0                                 3 oz Chilled water   \n",
       "1  1 1⁄2 oz Straight rye whiskey (100 proof / 50%...   \n",
       "2  1 1⁄2 oz Patrón Silver blanco tequila, 3⁄4 oz ...   \n",
       "3  5⁄6 oz Avallen Calvados, 5⁄6 oz Orange Curaçao...   \n",
       "4  1 1⁄2 oz Rutte Dry Gin, 1 1⁄2 spoon Raspberry ...   \n",
       "\n",
       "                                              Making  \\\n",
       "0       STIR with ice and strain into chilled glass.   \n",
       "1  STIR all ingredients with ice and strain into ...   \n",
       "2  SHAKE all ingredients with ice and strain into...   \n",
       "3  POUR all ingredients into glass. Half fill gla...   \n",
       "4  STIR jam with gin in base of shaker until diss...   \n",
       "\n",
       "                                                Link                Glass  \\\n",
       "0  https://www.diffordsguide.com/cocktails/recipe...        Martini Glass   \n",
       "1  https://www.diffordsguide.com/cocktails/recipe...          Coupe Glass   \n",
       "2  https://www.diffordsguide.com/cocktails/recipe...  Old Fashioned Glass   \n",
       "3  https://www.diffordsguide.com/cocktails/recipe...        Collins Glass   \n",
       "4  https://www.diffordsguide.com/cocktails/recipe...          Coupe Glass   \n",
       "\n",
       "                                             Garnish         Base  \\\n",
       "0               Lemon zest twist (discarded) & olive         None   \n",
       "1                          Luxardo maraschino cherry       Whisky   \n",
       "2                   Salt rim (optional) & lime wedge      Tequila   \n",
       "3  Lemon, orange & strawberry slices, mint sprig ...  Brandy, Ale   \n",
       "4  Lemon zest twist (expressed and discarded) & s...          Gin   \n",
       "\n",
       "                Method                  Type  \\\n",
       "0         Stir, Strain  Non-Alcoholic, Short   \n",
       "1         Stir, Strain                 Short   \n",
       "2        Shake, Strain                  None   \n",
       "3                 None                  Long   \n",
       "4  Shake, Strain, Stir                 Short   \n",
       "\n",
       "                                             Flavor  \n",
       "0                                              None  \n",
       "1  Gentle 0 - Boozy 10: 8, Sweet 0 - Dry/Sour 10: 6  \n",
       "2  Gentle 0 - Boozy 10: 7, Sweet 0 - Dry/Sour 10: 7  \n",
       "3  Gentle 0 - Boozy 10: 6, Sweet 0 - Dry/Sour 10: 6  \n",
       "4  Gentle 0 - Boozy 10: 6, Sweet 0 - Dry/Sour 10: 8  "
      ]
     },
     "execution_count": 401,
     "metadata": {},
     "output_type": "execute_result"
    }
   ],
   "source": [
    "difcopy = difcopy[[\"Name\", \"Ingredients\", \"Making\", \"Link\", \"Glass\", \"Garnish\", \"Base\", \"Method\", \"Type\", \"Flavor\"]]\n",
    "difcopy.head()"
   ]
  },
  {
   "cell_type": "markdown",
   "id": "86e689e7",
   "metadata": {},
   "source": [
    "데이터 저장하기"
   ]
  },
  {
   "cell_type": "code",
   "execution_count": 402,
   "id": "9ab59b0b",
   "metadata": {},
   "outputs": [],
   "source": [
    "difcopy.to_csv(\"//Diffords_ready.csv\", encoding=\"utf-8-sig\", index=False)"
   ]
  },
  {
   "cell_type": "markdown",
   "id": "f418fbf9",
   "metadata": {},
   "source": [
    "Difford's Guide 데이터 전처리 완료"
   ]
  }
 ],
 "metadata": {
  "kernelspec": {
   "display_name": "Python 3 (ipykernel)",
   "language": "python",
   "name": "python3"
  },
  "language_info": {
   "codemirror_mode": {
    "name": "ipython",
    "version": 3
   },
   "file_extension": ".py",
   "mimetype": "text/x-python",
   "name": "python",
   "nbconvert_exporter": "python",
   "pygments_lexer": "ipython3",
   "version": "3.8.13"
  }
 },
 "nbformat": 4,
 "nbformat_minor": 5
}
