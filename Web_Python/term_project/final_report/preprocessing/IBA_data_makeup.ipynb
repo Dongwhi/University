{
 "cells": [
  {
   "cell_type": "code",
   "execution_count": 237,
   "id": "9c7f5d86",
   "metadata": {},
   "outputs": [],
   "source": [
    "import pandas as pd"
   ]
  },
  {
   "cell_type": "code",
   "execution_count": 238,
   "id": "432b6e94",
   "metadata": {},
   "outputs": [],
   "source": [
    "iba = pd.read_csv(\"//IBA.csv\")"
   ]
  },
  {
   "cell_type": "code",
   "execution_count": 239,
   "id": "c0f7a047",
   "metadata": {},
   "outputs": [
    {
     "data": {
      "text/html": [
       "<div>\n",
       "<style scoped>\n",
       "    .dataframe tbody tr th:only-of-type {\n",
       "        vertical-align: middle;\n",
       "    }\n",
       "\n",
       "    .dataframe tbody tr th {\n",
       "        vertical-align: top;\n",
       "    }\n",
       "\n",
       "    .dataframe thead th {\n",
       "        text-align: right;\n",
       "    }\n",
       "</style>\n",
       "<table border=\"1\" class=\"dataframe\">\n",
       "  <thead>\n",
       "    <tr style=\"text-align: right;\">\n",
       "      <th></th>\n",
       "      <th>Name</th>\n",
       "      <th>Ingredients</th>\n",
       "      <th>Making</th>\n",
       "      <th>Link</th>\n",
       "      <th>Garnish</th>\n",
       "      <th>Type</th>\n",
       "    </tr>\n",
       "  </thead>\n",
       "  <tbody>\n",
       "    <tr>\n",
       "      <th>0</th>\n",
       "      <td>Trinidad Sour</td>\n",
       "      <td>45 ml Angostura Bitters\\n30 ml Orgeat Syrup\\n2...</td>\n",
       "      <td>Pour all ingredients into a cocktail shaker, s...</td>\n",
       "      <td>https://iba-world.com/trinidad-sour/</td>\n",
       "      <td>NaN</td>\n",
       "      <td>IBA Official Cocktail list: IBA Cocktail</td>\n",
       "    </tr>\n",
       "    <tr>\n",
       "      <th>1</th>\n",
       "      <td>Barracuda</td>\n",
       "      <td>45 ml Gold Rum\\n15 ml Galliano\\n60 ml Fresh Pi...</td>\n",
       "      <td>Pour all ingredients into cocktail shaker exce...</td>\n",
       "      <td>https://iba-world.com/barracuda/</td>\n",
       "      <td>Pineapple and Cherry, optional mint sprig for ...</td>\n",
       "      <td>IBA Official Cocktail list: IBA Cocktail</td>\n",
       "    </tr>\n",
       "    <tr>\n",
       "      <th>2</th>\n",
       "      <td>Bloody Mary</td>\n",
       "      <td>45 ml Vodka\\n90 ml Tomato Juice\\n15 ml Fresh L...</td>\n",
       "      <td>Stir gently all the ingredients in a mixing gl...</td>\n",
       "      <td>https://iba-world.com/bloody-mary/</td>\n",
       "      <td>Celery, Lemon Wedge (Optional)</td>\n",
       "      <td>IBA Official Cocktail list: IBA Cocktail</td>\n",
       "    </tr>\n",
       "    <tr>\n",
       "      <th>3</th>\n",
       "      <td>Caipirinha</td>\n",
       "      <td>60 ml Cachaça\\n1 Lime cut into small wedges\\n4...</td>\n",
       "      <td>Place lime and sugar into a double old fashion...</td>\n",
       "      <td>https://iba-world.com/caipirinha/</td>\n",
       "      <td>NaN</td>\n",
       "      <td>IBA Official Cocktail list: IBA Cocktail</td>\n",
       "    </tr>\n",
       "    <tr>\n",
       "      <th>4</th>\n",
       "      <td>Cosmopolitan</td>\n",
       "      <td>40 ml Vodka Citron\\n15 ml Cointreau\\n15 ml Fre...</td>\n",
       "      <td>Add all ingredients into a cocktail shaker fil...</td>\n",
       "      <td>https://iba-world.com/cosmopolitan/</td>\n",
       "      <td>Garnish with a lemon twist.</td>\n",
       "      <td>IBA Official Cocktail list: IBA Cocktail</td>\n",
       "    </tr>\n",
       "  </tbody>\n",
       "</table>\n",
       "</div>"
      ],
      "text/plain": [
       "            Name                                        Ingredients  \\\n",
       "0  Trinidad Sour  45 ml Angostura Bitters\\n30 ml Orgeat Syrup\\n2...   \n",
       "1      Barracuda  45 ml Gold Rum\\n15 ml Galliano\\n60 ml Fresh Pi...   \n",
       "2    Bloody Mary  45 ml Vodka\\n90 ml Tomato Juice\\n15 ml Fresh L...   \n",
       "3     Caipirinha  60 ml Cachaça\\n1 Lime cut into small wedges\\n4...   \n",
       "4   Cosmopolitan  40 ml Vodka Citron\\n15 ml Cointreau\\n15 ml Fre...   \n",
       "\n",
       "                                              Making  \\\n",
       "0  Pour all ingredients into a cocktail shaker, s...   \n",
       "1  Pour all ingredients into cocktail shaker exce...   \n",
       "2  Stir gently all the ingredients in a mixing gl...   \n",
       "3  Place lime and sugar into a double old fashion...   \n",
       "4  Add all ingredients into a cocktail shaker fil...   \n",
       "\n",
       "                                   Link  \\\n",
       "0  https://iba-world.com/trinidad-sour/   \n",
       "1      https://iba-world.com/barracuda/   \n",
       "2    https://iba-world.com/bloody-mary/   \n",
       "3     https://iba-world.com/caipirinha/   \n",
       "4   https://iba-world.com/cosmopolitan/   \n",
       "\n",
       "                                             Garnish  \\\n",
       "0                                                NaN   \n",
       "1  Pineapple and Cherry, optional mint sprig for ...   \n",
       "2                     Celery, Lemon Wedge (Optional)   \n",
       "3                                                NaN   \n",
       "4                        Garnish with a lemon twist.   \n",
       "\n",
       "                                       Type  \n",
       "0  IBA Official Cocktail list: IBA Cocktail  \n",
       "1  IBA Official Cocktail list: IBA Cocktail  \n",
       "2  IBA Official Cocktail list: IBA Cocktail  \n",
       "3  IBA Official Cocktail list: IBA Cocktail  \n",
       "4  IBA Official Cocktail list: IBA Cocktail  "
      ]
     },
     "execution_count": 239,
     "metadata": {},
     "output_type": "execute_result"
    }
   ],
   "source": [
    "iba.head()"
   ]
  },
  {
   "cell_type": "code",
   "execution_count": 240,
   "id": "6f9c24fb",
   "metadata": {},
   "outputs": [
    {
     "data": {
      "text/html": [
       "<div>\n",
       "<style scoped>\n",
       "    .dataframe tbody tr th:only-of-type {\n",
       "        vertical-align: middle;\n",
       "    }\n",
       "\n",
       "    .dataframe tbody tr th {\n",
       "        vertical-align: top;\n",
       "    }\n",
       "\n",
       "    .dataframe thead th {\n",
       "        text-align: right;\n",
       "    }\n",
       "</style>\n",
       "<table border=\"1\" class=\"dataframe\">\n",
       "  <thead>\n",
       "    <tr style=\"text-align: right;\">\n",
       "      <th></th>\n",
       "      <th>Name</th>\n",
       "      <th>Ingredients</th>\n",
       "      <th>Making</th>\n",
       "      <th>Link</th>\n",
       "      <th>Garnish</th>\n",
       "      <th>Type</th>\n",
       "    </tr>\n",
       "  </thead>\n",
       "  <tbody>\n",
       "    <tr>\n",
       "      <th>count</th>\n",
       "      <td>180</td>\n",
       "      <td>180</td>\n",
       "      <td>180</td>\n",
       "      <td>180</td>\n",
       "      <td>128</td>\n",
       "      <td>180</td>\n",
       "    </tr>\n",
       "    <tr>\n",
       "      <th>unique</th>\n",
       "      <td>90</td>\n",
       "      <td>90</td>\n",
       "      <td>70</td>\n",
       "      <td>90</td>\n",
       "      <td>59</td>\n",
       "      <td>4</td>\n",
       "    </tr>\n",
       "    <tr>\n",
       "      <th>top</th>\n",
       "      <td>Trinidad Sour</td>\n",
       "      <td>45 ml Angostura Bitters\\n30 ml Orgeat Syrup\\n2...</td>\n",
       "      <td>Pour all ingredients into a cocktail shaker, s...</td>\n",
       "      <td>https://iba-world.com/trinidad-sour/</td>\n",
       "      <td>Garnish with lemon zest.</td>\n",
       "      <td>IBA Official Cocktail list: IBA Cocktail</td>\n",
       "    </tr>\n",
       "    <tr>\n",
       "      <th>freq</th>\n",
       "      <td>2</td>\n",
       "      <td>2</td>\n",
       "      <td>12</td>\n",
       "      <td>2</td>\n",
       "      <td>4</td>\n",
       "      <td>90</td>\n",
       "    </tr>\n",
       "  </tbody>\n",
       "</table>\n",
       "</div>"
      ],
      "text/plain": [
       "                 Name                                        Ingredients  \\\n",
       "count             180                                                180   \n",
       "unique             90                                                 90   \n",
       "top     Trinidad Sour  45 ml Angostura Bitters\\n30 ml Orgeat Syrup\\n2...   \n",
       "freq                2                                                  2   \n",
       "\n",
       "                                                   Making  \\\n",
       "count                                                 180   \n",
       "unique                                                 70   \n",
       "top     Pour all ingredients into a cocktail shaker, s...   \n",
       "freq                                                   12   \n",
       "\n",
       "                                        Link                   Garnish  \\\n",
       "count                                    180                       128   \n",
       "unique                                    90                        59   \n",
       "top     https://iba-world.com/trinidad-sour/  Garnish with lemon zest.   \n",
       "freq                                       2                         4   \n",
       "\n",
       "                                            Type  \n",
       "count                                        180  \n",
       "unique                                         4  \n",
       "top     IBA Official Cocktail list: IBA Cocktail  \n",
       "freq                                          90  "
      ]
     },
     "execution_count": 240,
     "metadata": {},
     "output_type": "execute_result"
    }
   ],
   "source": [
    "iba.describe()"
   ]
  },
  {
   "cell_type": "code",
   "execution_count": 241,
   "id": "d7edcc48",
   "metadata": {},
   "outputs": [],
   "source": [
    "ibacopy = iba.copy()"
   ]
  },
  {
   "cell_type": "markdown",
   "id": "a03692cf",
   "metadata": {},
   "source": [
    "### 중복 확인 및 제거"
   ]
  },
  {
   "cell_type": "markdown",
   "id": "f51db529",
   "metadata": {},
   "source": [
    "전체 중복 확인"
   ]
  },
  {
   "cell_type": "code",
   "execution_count": 242,
   "id": "6eaee603",
   "metadata": {},
   "outputs": [
    {
     "data": {
      "text/plain": [
       "0"
      ]
     },
     "execution_count": 242,
     "metadata": {},
     "output_type": "execute_result"
    }
   ],
   "source": [
    "iba_ent_dup = ibacopy.duplicated(subset=None, keep=False)\n",
    "len(iba_ent_dup[iba_ent_dup==True])"
   ]
  },
  {
   "cell_type": "markdown",
   "id": "50913af1",
   "metadata": {},
   "source": [
    "이름+재료만 중복 확인"
   ]
  },
  {
   "cell_type": "code",
   "execution_count": 243,
   "id": "b427142c",
   "metadata": {},
   "outputs": [
    {
     "data": {
      "text/plain": [
       "180"
      ]
     },
     "execution_count": 243,
     "metadata": {},
     "output_type": "execute_result"
    }
   ],
   "source": [
    "iba_2_dup = ibacopy.duplicated([\"Name\", \"Ingredients\"], keep=False)\n",
    "len(iba_2_dup[iba_2_dup==True])"
   ]
  },
  {
   "cell_type": "markdown",
   "id": "ca5269ed",
   "metadata": {},
   "source": [
    "중복 확인됨, 제거하기"
   ]
  },
  {
   "cell_type": "code",
   "execution_count": 244,
   "id": "0805eaf7",
   "metadata": {},
   "outputs": [
    {
     "data": {
      "text/plain": [
       "90"
      ]
     },
     "execution_count": 244,
     "metadata": {},
     "output_type": "execute_result"
    }
   ],
   "source": [
    "iba[\"Name\"].nunique()"
   ]
  },
  {
   "cell_type": "code",
   "execution_count": 245,
   "id": "093b8005",
   "metadata": {},
   "outputs": [
    {
     "data": {
      "text/plain": [
       "array(['IBA Official Cocktail list: IBA Cocktail',\n",
       "       'IBA Official Cocktail list: The Unforgettables',\n",
       "       'IBA Official Cocktail list: Contemporary Classics',\n",
       "       'IBA Official Cocktail list: New Era Drinks'], dtype=object)"
      ]
     },
     "execution_count": 245,
     "metadata": {},
     "output_type": "execute_result"
    }
   ],
   "source": [
    "iba[\"Type\"].unique()"
   ]
  },
  {
   "cell_type": "code",
   "execution_count": 246,
   "id": "e40a464a",
   "metadata": {},
   "outputs": [
    {
     "data": {
      "text/plain": [
       "90"
      ]
     },
     "execution_count": 246,
     "metadata": {},
     "output_type": "execute_result"
    }
   ],
   "source": [
    "len(iba[iba[\"Type\"]==\"IBA Official Cocktail list: IBA Cocktail\"])"
   ]
  },
  {
   "cell_type": "markdown",
   "id": "8a9dad72",
   "metadata": {},
   "source": [
    "확인해보니 Type이 'IBA Official Cocktail list: IBA Cocktail'인 칵테일이 다른 타입의 칵테일들을 모두 포함한다. 따라서 이 타입인 칵테일을 모두 지우기."
   ]
  },
  {
   "cell_type": "code",
   "execution_count": 247,
   "id": "583d4d52",
   "metadata": {},
   "outputs": [],
   "source": [
    "iba_dup = ibacopy[ibacopy[\"Type\"]==\"IBA Official Cocktail list: IBA Cocktail\"].index"
   ]
  },
  {
   "cell_type": "code",
   "execution_count": 248,
   "id": "6d6da750",
   "metadata": {},
   "outputs": [],
   "source": [
    "ibacopy.drop(iba_dup, inplace=True)"
   ]
  },
  {
   "cell_type": "code",
   "execution_count": 249,
   "id": "301d18da",
   "metadata": {},
   "outputs": [
    {
     "data": {
      "text/plain": [
       "array(['IBA Official Cocktail list: The Unforgettables',\n",
       "       'IBA Official Cocktail list: Contemporary Classics',\n",
       "       'IBA Official Cocktail list: New Era Drinks'], dtype=object)"
      ]
     },
     "execution_count": 249,
     "metadata": {},
     "output_type": "execute_result"
    }
   ],
   "source": [
    "ibacopy[\"Type\"].unique()"
   ]
  },
  {
   "cell_type": "code",
   "execution_count": 250,
   "id": "99eeeef9",
   "metadata": {},
   "outputs": [
    {
     "data": {
      "text/html": [
       "<div>\n",
       "<style scoped>\n",
       "    .dataframe tbody tr th:only-of-type {\n",
       "        vertical-align: middle;\n",
       "    }\n",
       "\n",
       "    .dataframe tbody tr th {\n",
       "        vertical-align: top;\n",
       "    }\n",
       "\n",
       "    .dataframe thead th {\n",
       "        text-align: right;\n",
       "    }\n",
       "</style>\n",
       "<table border=\"1\" class=\"dataframe\">\n",
       "  <thead>\n",
       "    <tr style=\"text-align: right;\">\n",
       "      <th></th>\n",
       "      <th>Name</th>\n",
       "      <th>Ingredients</th>\n",
       "      <th>Making</th>\n",
       "      <th>Link</th>\n",
       "      <th>Garnish</th>\n",
       "      <th>Type</th>\n",
       "    </tr>\n",
       "  </thead>\n",
       "  <tbody>\n",
       "    <tr>\n",
       "      <th>90</th>\n",
       "      <td>Alexander</td>\n",
       "      <td>30 ml Cognac\\n30 ml Crème de Cacao (Brown)\\n30...</td>\n",
       "      <td>Pour all ingredients into cocktail shaker fill...</td>\n",
       "      <td>https://iba-world.com/alexander/</td>\n",
       "      <td>Sprinkle fresh ground nutmeg on top.</td>\n",
       "      <td>IBA Official Cocktail list: The Unforgettables</td>\n",
       "    </tr>\n",
       "    <tr>\n",
       "      <th>91</th>\n",
       "      <td>Boulevardier</td>\n",
       "      <td>45 ml Bourbon or Rye Whiskey\\n30 ml Bitter Cam...</td>\n",
       "      <td>Pour all ingredients into mixing glass with ic...</td>\n",
       "      <td>https://iba-world.com/boulevardier/</td>\n",
       "      <td>Garnish with orange zest, optionally a lemon z...</td>\n",
       "      <td>IBA Official Cocktail list: The Unforgettables</td>\n",
       "    </tr>\n",
       "    <tr>\n",
       "      <th>92</th>\n",
       "      <td>Dry Martini</td>\n",
       "      <td>60 ml Gin\\n10 ml Dry Vermouth</td>\n",
       "      <td>Pour all ingredients into mixing glass with ic...</td>\n",
       "      <td>https://iba-world.com/dry-martini/</td>\n",
       "      <td>Squeeze oil from lemon peel onto the drink, or...</td>\n",
       "      <td>IBA Official Cocktail list: The Unforgettables</td>\n",
       "    </tr>\n",
       "    <tr>\n",
       "      <th>93</th>\n",
       "      <td>Manhattan</td>\n",
       "      <td>50 ml Rye Whiskey\\n20 ml Sweet Red Vermouth\\n1...</td>\n",
       "      <td>Pour all ingredients into mixing glass with ic...</td>\n",
       "      <td>https://iba-world.com/manhattan/</td>\n",
       "      <td>Garnish with a cocktail cherry.</td>\n",
       "      <td>IBA Official Cocktail list: The Unforgettables</td>\n",
       "    </tr>\n",
       "    <tr>\n",
       "      <th>94</th>\n",
       "      <td>Old Fashioned</td>\n",
       "      <td>45 ml Bourbon or Rye Whiskey\\n1 Sugar Cube\\nFe...</td>\n",
       "      <td>Place sugar cube in old fashioned glass and sa...</td>\n",
       "      <td>https://iba-world.com/old-fashioned/</td>\n",
       "      <td>Garnish with an orange slice or zest, and a co...</td>\n",
       "      <td>IBA Official Cocktail list: The Unforgettables</td>\n",
       "    </tr>\n",
       "    <tr>\n",
       "      <th>...</th>\n",
       "      <td>...</td>\n",
       "      <td>...</td>\n",
       "      <td>...</td>\n",
       "      <td>...</td>\n",
       "      <td>...</td>\n",
       "      <td>...</td>\n",
       "    </tr>\n",
       "    <tr>\n",
       "      <th>175</th>\n",
       "      <td>Canchanchara</td>\n",
       "      <td>60 ml Cuban Aguardiente\\n15 ml Fresh Lime Juic...</td>\n",
       "      <td>Mix honey with water and lime juice and spread...</td>\n",
       "      <td>https://iba-world.com/cachanchara/</td>\n",
       "      <td>Lime wedge.</td>\n",
       "      <td>IBA Official Cocktail list: New Era Drinks</td>\n",
       "    </tr>\n",
       "    <tr>\n",
       "      <th>176</th>\n",
       "      <td>Illegal</td>\n",
       "      <td>30 ml Espadin Mezcal\\n15 ml Jamaica Overproof ...</td>\n",
       "      <td>Pour all ingredients into the shaker. Shake vi...</td>\n",
       "      <td>https://iba-world.com/illegal/</td>\n",
       "      <td>NaN</td>\n",
       "      <td>IBA Official Cocktail list: New Era Drinks</td>\n",
       "    </tr>\n",
       "    <tr>\n",
       "      <th>177</th>\n",
       "      <td>Paloma</td>\n",
       "      <td>50 ml 100% Agave Tequila\\n5 ml Fresh lime\\nA p...</td>\n",
       "      <td>Poor the tequila into a highball glass, squeez...</td>\n",
       "      <td>https://iba-world.com/paloma/</td>\n",
       "      <td>Garnish with a slice of lime.</td>\n",
       "      <td>IBA Official Cocktail list: New Era Drinks</td>\n",
       "    </tr>\n",
       "    <tr>\n",
       "      <th>178</th>\n",
       "      <td>Spicy Fifty</td>\n",
       "      <td>50 ml Vodka Vanilla\\n15 ml Elderflower Cordial...</td>\n",
       "      <td>Pour all ingredients into a cocktail shaker, s...</td>\n",
       "      <td>https://iba-world.com/spicy-fifty/</td>\n",
       "      <td>Garnish with a red chili pepper</td>\n",
       "      <td>IBA Official Cocktail list: New Era Drinks</td>\n",
       "    </tr>\n",
       "    <tr>\n",
       "      <th>179</th>\n",
       "      <td>VE.N.TO</td>\n",
       "      <td>45 ml White Smooth Grappa\\n22.5 ml Fresh lemon...</td>\n",
       "      <td>Pour all ingredients into the shaker. Shake vi...</td>\n",
       "      <td>https://iba-world.com/ve-n-to/</td>\n",
       "      <td>Garnish with lemon zest and white grapes.</td>\n",
       "      <td>IBA Official Cocktail list: New Era Drinks</td>\n",
       "    </tr>\n",
       "  </tbody>\n",
       "</table>\n",
       "<p>90 rows × 6 columns</p>\n",
       "</div>"
      ],
      "text/plain": [
       "              Name                                        Ingredients  \\\n",
       "90       Alexander  30 ml Cognac\\n30 ml Crème de Cacao (Brown)\\n30...   \n",
       "91    Boulevardier  45 ml Bourbon or Rye Whiskey\\n30 ml Bitter Cam...   \n",
       "92     Dry Martini                      60 ml Gin\\n10 ml Dry Vermouth   \n",
       "93       Manhattan  50 ml Rye Whiskey\\n20 ml Sweet Red Vermouth\\n1...   \n",
       "94   Old Fashioned  45 ml Bourbon or Rye Whiskey\\n1 Sugar Cube\\nFe...   \n",
       "..             ...                                                ...   \n",
       "175   Canchanchara  60 ml Cuban Aguardiente\\n15 ml Fresh Lime Juic...   \n",
       "176        Illegal  30 ml Espadin Mezcal\\n15 ml Jamaica Overproof ...   \n",
       "177         Paloma  50 ml 100% Agave Tequila\\n5 ml Fresh lime\\nA p...   \n",
       "178    Spicy Fifty  50 ml Vodka Vanilla\\n15 ml Elderflower Cordial...   \n",
       "179        VE.N.TO  45 ml White Smooth Grappa\\n22.5 ml Fresh lemon...   \n",
       "\n",
       "                                                Making  \\\n",
       "90   Pour all ingredients into cocktail shaker fill...   \n",
       "91   Pour all ingredients into mixing glass with ic...   \n",
       "92   Pour all ingredients into mixing glass with ic...   \n",
       "93   Pour all ingredients into mixing glass with ic...   \n",
       "94   Place sugar cube in old fashioned glass and sa...   \n",
       "..                                                 ...   \n",
       "175  Mix honey with water and lime juice and spread...   \n",
       "176  Pour all ingredients into the shaker. Shake vi...   \n",
       "177  Poor the tequila into a highball glass, squeez...   \n",
       "178  Pour all ingredients into a cocktail shaker, s...   \n",
       "179  Pour all ingredients into the shaker. Shake vi...   \n",
       "\n",
       "                                     Link  \\\n",
       "90       https://iba-world.com/alexander/   \n",
       "91    https://iba-world.com/boulevardier/   \n",
       "92     https://iba-world.com/dry-martini/   \n",
       "93       https://iba-world.com/manhattan/   \n",
       "94   https://iba-world.com/old-fashioned/   \n",
       "..                                    ...   \n",
       "175    https://iba-world.com/cachanchara/   \n",
       "176        https://iba-world.com/illegal/   \n",
       "177         https://iba-world.com/paloma/   \n",
       "178    https://iba-world.com/spicy-fifty/   \n",
       "179        https://iba-world.com/ve-n-to/   \n",
       "\n",
       "                                               Garnish  \\\n",
       "90                Sprinkle fresh ground nutmeg on top.   \n",
       "91   Garnish with orange zest, optionally a lemon z...   \n",
       "92   Squeeze oil from lemon peel onto the drink, or...   \n",
       "93                     Garnish with a cocktail cherry.   \n",
       "94   Garnish with an orange slice or zest, and a co...   \n",
       "..                                                 ...   \n",
       "175                                        Lime wedge.   \n",
       "176                                                NaN   \n",
       "177                      Garnish with a slice of lime.   \n",
       "178                    Garnish with a red chili pepper   \n",
       "179          Garnish with lemon zest and white grapes.   \n",
       "\n",
       "                                               Type  \n",
       "90   IBA Official Cocktail list: The Unforgettables  \n",
       "91   IBA Official Cocktail list: The Unforgettables  \n",
       "92   IBA Official Cocktail list: The Unforgettables  \n",
       "93   IBA Official Cocktail list: The Unforgettables  \n",
       "94   IBA Official Cocktail list: The Unforgettables  \n",
       "..                                              ...  \n",
       "175      IBA Official Cocktail list: New Era Drinks  \n",
       "176      IBA Official Cocktail list: New Era Drinks  \n",
       "177      IBA Official Cocktail list: New Era Drinks  \n",
       "178      IBA Official Cocktail list: New Era Drinks  \n",
       "179      IBA Official Cocktail list: New Era Drinks  \n",
       "\n",
       "[90 rows x 6 columns]"
      ]
     },
     "execution_count": 250,
     "metadata": {},
     "output_type": "execute_result"
    }
   ],
   "source": [
    "ibacopy"
   ]
  },
  {
   "cell_type": "markdown",
   "id": "f1dae54b",
   "metadata": {},
   "source": [
    "Type 간단히하기"
   ]
  },
  {
   "cell_type": "code",
   "execution_count": 251,
   "id": "42c4d804",
   "metadata": {},
   "outputs": [
    {
     "data": {
      "text/plain": [
       "array(['IBA The Unforgettables', 'IBA Contemporary Classics',\n",
       "       'IBA New Era Drinks'], dtype=object)"
      ]
     },
     "execution_count": 251,
     "metadata": {},
     "output_type": "execute_result"
    }
   ],
   "source": [
    "ibacopy[\"Type\"].replace('IBA Official Cocktail list: The Unforgettables', 'IBA The Unforgettables', inplace=True)\n",
    "ibacopy[\"Type\"].replace('IBA Official Cocktail list: Contemporary Classics', 'IBA Contemporary Classics', inplace=True)\n",
    "ibacopy[\"Type\"].replace('IBA Official Cocktail list: New Era Drinks', 'IBA New Era Drinks', inplace=True)\n",
    "ibacopy[\"Type\"].unique()"
   ]
  },
  {
   "cell_type": "markdown",
   "id": "ad1f2400",
   "metadata": {},
   "source": [
    "인덱스 재정렬"
   ]
  },
  {
   "cell_type": "code",
   "execution_count": 252,
   "id": "20da186e",
   "metadata": {},
   "outputs": [
    {
     "data": {
      "text/html": [
       "<div>\n",
       "<style scoped>\n",
       "    .dataframe tbody tr th:only-of-type {\n",
       "        vertical-align: middle;\n",
       "    }\n",
       "\n",
       "    .dataframe tbody tr th {\n",
       "        vertical-align: top;\n",
       "    }\n",
       "\n",
       "    .dataframe thead th {\n",
       "        text-align: right;\n",
       "    }\n",
       "</style>\n",
       "<table border=\"1\" class=\"dataframe\">\n",
       "  <thead>\n",
       "    <tr style=\"text-align: right;\">\n",
       "      <th></th>\n",
       "      <th>Name</th>\n",
       "      <th>Ingredients</th>\n",
       "      <th>Making</th>\n",
       "      <th>Link</th>\n",
       "      <th>Garnish</th>\n",
       "      <th>Type</th>\n",
       "    </tr>\n",
       "  </thead>\n",
       "  <tbody>\n",
       "    <tr>\n",
       "      <th>0</th>\n",
       "      <td>Alexander</td>\n",
       "      <td>30 ml Cognac\\n30 ml Crème de Cacao (Brown)\\n30...</td>\n",
       "      <td>Pour all ingredients into cocktail shaker fill...</td>\n",
       "      <td>https://iba-world.com/alexander/</td>\n",
       "      <td>Sprinkle fresh ground nutmeg on top.</td>\n",
       "      <td>IBA The Unforgettables</td>\n",
       "    </tr>\n",
       "    <tr>\n",
       "      <th>1</th>\n",
       "      <td>Boulevardier</td>\n",
       "      <td>45 ml Bourbon or Rye Whiskey\\n30 ml Bitter Cam...</td>\n",
       "      <td>Pour all ingredients into mixing glass with ic...</td>\n",
       "      <td>https://iba-world.com/boulevardier/</td>\n",
       "      <td>Garnish with orange zest, optionally a lemon z...</td>\n",
       "      <td>IBA The Unforgettables</td>\n",
       "    </tr>\n",
       "    <tr>\n",
       "      <th>2</th>\n",
       "      <td>Dry Martini</td>\n",
       "      <td>60 ml Gin\\n10 ml Dry Vermouth</td>\n",
       "      <td>Pour all ingredients into mixing glass with ic...</td>\n",
       "      <td>https://iba-world.com/dry-martini/</td>\n",
       "      <td>Squeeze oil from lemon peel onto the drink, or...</td>\n",
       "      <td>IBA The Unforgettables</td>\n",
       "    </tr>\n",
       "    <tr>\n",
       "      <th>3</th>\n",
       "      <td>Manhattan</td>\n",
       "      <td>50 ml Rye Whiskey\\n20 ml Sweet Red Vermouth\\n1...</td>\n",
       "      <td>Pour all ingredients into mixing glass with ic...</td>\n",
       "      <td>https://iba-world.com/manhattan/</td>\n",
       "      <td>Garnish with a cocktail cherry.</td>\n",
       "      <td>IBA The Unforgettables</td>\n",
       "    </tr>\n",
       "    <tr>\n",
       "      <th>4</th>\n",
       "      <td>Old Fashioned</td>\n",
       "      <td>45 ml Bourbon or Rye Whiskey\\n1 Sugar Cube\\nFe...</td>\n",
       "      <td>Place sugar cube in old fashioned glass and sa...</td>\n",
       "      <td>https://iba-world.com/old-fashioned/</td>\n",
       "      <td>Garnish with an orange slice or zest, and a co...</td>\n",
       "      <td>IBA The Unforgettables</td>\n",
       "    </tr>\n",
       "    <tr>\n",
       "      <th>...</th>\n",
       "      <td>...</td>\n",
       "      <td>...</td>\n",
       "      <td>...</td>\n",
       "      <td>...</td>\n",
       "      <td>...</td>\n",
       "      <td>...</td>\n",
       "    </tr>\n",
       "    <tr>\n",
       "      <th>85</th>\n",
       "      <td>Canchanchara</td>\n",
       "      <td>60 ml Cuban Aguardiente\\n15 ml Fresh Lime Juic...</td>\n",
       "      <td>Mix honey with water and lime juice and spread...</td>\n",
       "      <td>https://iba-world.com/cachanchara/</td>\n",
       "      <td>Lime wedge.</td>\n",
       "      <td>IBA New Era Drinks</td>\n",
       "    </tr>\n",
       "    <tr>\n",
       "      <th>86</th>\n",
       "      <td>Illegal</td>\n",
       "      <td>30 ml Espadin Mezcal\\n15 ml Jamaica Overproof ...</td>\n",
       "      <td>Pour all ingredients into the shaker. Shake vi...</td>\n",
       "      <td>https://iba-world.com/illegal/</td>\n",
       "      <td>NaN</td>\n",
       "      <td>IBA New Era Drinks</td>\n",
       "    </tr>\n",
       "    <tr>\n",
       "      <th>87</th>\n",
       "      <td>Paloma</td>\n",
       "      <td>50 ml 100% Agave Tequila\\n5 ml Fresh lime\\nA p...</td>\n",
       "      <td>Poor the tequila into a highball glass, squeez...</td>\n",
       "      <td>https://iba-world.com/paloma/</td>\n",
       "      <td>Garnish with a slice of lime.</td>\n",
       "      <td>IBA New Era Drinks</td>\n",
       "    </tr>\n",
       "    <tr>\n",
       "      <th>88</th>\n",
       "      <td>Spicy Fifty</td>\n",
       "      <td>50 ml Vodka Vanilla\\n15 ml Elderflower Cordial...</td>\n",
       "      <td>Pour all ingredients into a cocktail shaker, s...</td>\n",
       "      <td>https://iba-world.com/spicy-fifty/</td>\n",
       "      <td>Garnish with a red chili pepper</td>\n",
       "      <td>IBA New Era Drinks</td>\n",
       "    </tr>\n",
       "    <tr>\n",
       "      <th>89</th>\n",
       "      <td>VE.N.TO</td>\n",
       "      <td>45 ml White Smooth Grappa\\n22.5 ml Fresh lemon...</td>\n",
       "      <td>Pour all ingredients into the shaker. Shake vi...</td>\n",
       "      <td>https://iba-world.com/ve-n-to/</td>\n",
       "      <td>Garnish with lemon zest and white grapes.</td>\n",
       "      <td>IBA New Era Drinks</td>\n",
       "    </tr>\n",
       "  </tbody>\n",
       "</table>\n",
       "<p>90 rows × 6 columns</p>\n",
       "</div>"
      ],
      "text/plain": [
       "             Name                                        Ingredients  \\\n",
       "0       Alexander  30 ml Cognac\\n30 ml Crème de Cacao (Brown)\\n30...   \n",
       "1    Boulevardier  45 ml Bourbon or Rye Whiskey\\n30 ml Bitter Cam...   \n",
       "2     Dry Martini                      60 ml Gin\\n10 ml Dry Vermouth   \n",
       "3       Manhattan  50 ml Rye Whiskey\\n20 ml Sweet Red Vermouth\\n1...   \n",
       "4   Old Fashioned  45 ml Bourbon or Rye Whiskey\\n1 Sugar Cube\\nFe...   \n",
       "..            ...                                                ...   \n",
       "85   Canchanchara  60 ml Cuban Aguardiente\\n15 ml Fresh Lime Juic...   \n",
       "86        Illegal  30 ml Espadin Mezcal\\n15 ml Jamaica Overproof ...   \n",
       "87         Paloma  50 ml 100% Agave Tequila\\n5 ml Fresh lime\\nA p...   \n",
       "88    Spicy Fifty  50 ml Vodka Vanilla\\n15 ml Elderflower Cordial...   \n",
       "89        VE.N.TO  45 ml White Smooth Grappa\\n22.5 ml Fresh lemon...   \n",
       "\n",
       "                                               Making  \\\n",
       "0   Pour all ingredients into cocktail shaker fill...   \n",
       "1   Pour all ingredients into mixing glass with ic...   \n",
       "2   Pour all ingredients into mixing glass with ic...   \n",
       "3   Pour all ingredients into mixing glass with ic...   \n",
       "4   Place sugar cube in old fashioned glass and sa...   \n",
       "..                                                ...   \n",
       "85  Mix honey with water and lime juice and spread...   \n",
       "86  Pour all ingredients into the shaker. Shake vi...   \n",
       "87  Poor the tequila into a highball glass, squeez...   \n",
       "88  Pour all ingredients into a cocktail shaker, s...   \n",
       "89  Pour all ingredients into the shaker. Shake vi...   \n",
       "\n",
       "                                    Link  \\\n",
       "0       https://iba-world.com/alexander/   \n",
       "1    https://iba-world.com/boulevardier/   \n",
       "2     https://iba-world.com/dry-martini/   \n",
       "3       https://iba-world.com/manhattan/   \n",
       "4   https://iba-world.com/old-fashioned/   \n",
       "..                                   ...   \n",
       "85    https://iba-world.com/cachanchara/   \n",
       "86        https://iba-world.com/illegal/   \n",
       "87         https://iba-world.com/paloma/   \n",
       "88    https://iba-world.com/spicy-fifty/   \n",
       "89        https://iba-world.com/ve-n-to/   \n",
       "\n",
       "                                              Garnish                    Type  \n",
       "0                Sprinkle fresh ground nutmeg on top.  IBA The Unforgettables  \n",
       "1   Garnish with orange zest, optionally a lemon z...  IBA The Unforgettables  \n",
       "2   Squeeze oil from lemon peel onto the drink, or...  IBA The Unforgettables  \n",
       "3                     Garnish with a cocktail cherry.  IBA The Unforgettables  \n",
       "4   Garnish with an orange slice or zest, and a co...  IBA The Unforgettables  \n",
       "..                                                ...                     ...  \n",
       "85                                        Lime wedge.      IBA New Era Drinks  \n",
       "86                                                NaN      IBA New Era Drinks  \n",
       "87                      Garnish with a slice of lime.      IBA New Era Drinks  \n",
       "88                    Garnish with a red chili pepper      IBA New Era Drinks  \n",
       "89          Garnish with lemon zest and white grapes.      IBA New Era Drinks  \n",
       "\n",
       "[90 rows x 6 columns]"
      ]
     },
     "execution_count": 252,
     "metadata": {},
     "output_type": "execute_result"
    }
   ],
   "source": [
    "ibacopy.reset_index(drop=True, inplace=True)\n",
    "ibacopy"
   ]
  },
  {
   "cell_type": "code",
   "execution_count": 253,
   "id": "d39fdb08",
   "metadata": {},
   "outputs": [
    {
     "data": {
      "text/plain": [
       "0"
      ]
     },
     "execution_count": 253,
     "metadata": {},
     "output_type": "execute_result"
    }
   ],
   "source": [
    "# 중복 다시 확인\n",
    "iba_2_dup = ibacopy.duplicated([\"Name\", \"Ingredients\"], keep=False)\n",
    "len(iba_2_dup[iba_2_dup==True])"
   ]
  },
  {
   "cell_type": "markdown",
   "id": "a6b0e83e",
   "metadata": {},
   "source": [
    "### Ingredients 형식 맞추기"
   ]
  },
  {
   "cell_type": "code",
   "execution_count": 254,
   "id": "176e91fd",
   "metadata": {},
   "outputs": [
    {
     "data": {
      "text/plain": [
       "'45 ml Bourbon or Rye Whiskey\\n30 ml Bitter Campari\\n30 ml Sweet Red Vermouth'"
      ]
     },
     "execution_count": 254,
     "metadata": {},
     "output_type": "execute_result"
    }
   ],
   "source": [
    "ibacopy[\"Ingredients\"][1]"
   ]
  },
  {
   "cell_type": "markdown",
   "id": "d36fc1ca",
   "metadata": {},
   "source": [
    "처리해야할 점: '\\n' 없애기, ml에서 oz로 단위 바꾸기(분수 형태)"
   ]
  },
  {
   "cell_type": "code",
   "execution_count": 255,
   "id": "969c3cf0",
   "metadata": {},
   "outputs": [],
   "source": [
    "from fractions import Fraction"
   ]
  },
  {
   "cell_type": "markdown",
   "id": "9fef91d7",
   "metadata": {},
   "source": [
    "'\\n' 없애기"
   ]
  },
  {
   "cell_type": "code",
   "execution_count": 256,
   "id": "00e0272f",
   "metadata": {},
   "outputs": [],
   "source": [
    "for i in range(len(ibacopy[\"Ingredients\"])):\n",
    "    ibacopy[\"Ingredients\"][i] = ibacopy[\"Ingredients\"][i].split(\"\\n\")"
   ]
  },
  {
   "cell_type": "markdown",
   "id": "2b28f40c",
   "metadata": {},
   "source": [
    "ml에서 oz로 바꾸기(분수 형태)"
   ]
  },
  {
   "cell_type": "code",
   "execution_count": 257,
   "id": "b910b115",
   "metadata": {},
   "outputs": [],
   "source": [
    "for i in range(len(ibacopy[\"Ingredients\"])):\n",
    "    for j in range(len(ibacopy[\"Ingredients\"][i])):\n",
    "        detail = ibacopy[\"Ingredients\"][i][j].split(\" \")\n",
    "        if \"ml\" in detail:\n",
    "            oz = Fraction(Fraction(float(detail[0].replace(\",\", \".\"))), 30).limit_denominator(100)\n",
    "            rest = \" \".join(ibacopy[\"Ingredients\"][i][j].split(\" \")[2:])\n",
    "            ibacopy[\"Ingredients\"][i][j] = \"{} oz \".format(oz)+rest"
   ]
  },
  {
   "cell_type": "markdown",
   "id": "3d170b3a",
   "metadata": {},
   "source": [
    "다시 하나의 문자열로 묶어서 저장하기"
   ]
  },
  {
   "cell_type": "code",
   "execution_count": 258,
   "id": "9b6ef5c5",
   "metadata": {},
   "outputs": [],
   "source": [
    "for i in range(len(ibacopy[\"Ingredients\"])):\n",
    "    ibacopy[\"Ingredients\"][i] = \", \".join(ibacopy[\"Ingredients\"][i])"
   ]
  },
  {
   "cell_type": "code",
   "execution_count": 259,
   "id": "c7094c56",
   "metadata": {},
   "outputs": [
    {
     "data": {
      "text/plain": [
       "'1 oz Cognac, 1 oz Crème de Cacao (Brown), 1 oz Fresh Cream'"
      ]
     },
     "execution_count": 259,
     "metadata": {},
     "output_type": "execute_result"
    }
   ],
   "source": [
    "# 확인\n",
    "ibacopy[\"Ingredients\"][0]"
   ]
  },
  {
   "cell_type": "markdown",
   "id": "8b1c0794",
   "metadata": {},
   "source": [
    "### Making 형식 맞추기"
   ]
  },
  {
   "cell_type": "markdown",
   "id": "e695995d",
   "metadata": {},
   "source": [
    "'\\nNOTE:\\n' 가 간혹 들어가버린 부분이 있음. 처리해주기"
   ]
  },
  {
   "cell_type": "code",
   "execution_count": 260,
   "id": "d2ffa0b9",
   "metadata": {},
   "outputs": [
    {
     "name": "stdout",
     "output_type": "stream",
     "text": [
      "[18, 23, 31, 36, 46, 52, 61, 68, 83]\n"
     ]
    }
   ],
   "source": [
    "ind_note = []\n",
    "for i in range(len(ibacopy[\"Making\"])):\n",
    "    if \"note:\" in ibacopy[\"Making\"][i].lower():\n",
    "        ind_note.append(i)\n",
    "print(ind_note)"
   ]
  },
  {
   "cell_type": "code",
   "execution_count": 261,
   "id": "8913a747",
   "metadata": {},
   "outputs": [],
   "source": [
    "for i in ind_note:\n",
    "    ibacopy[\"Making\"][i] = ibacopy[\"Making\"][i].split(\"\\nNOTE:\")[0]\n",
    "    ibacopy[\"Making\"][i] = ibacopy[\"Making\"][i].split(\"\\nNote:\")[0]"
   ]
  },
  {
   "cell_type": "code",
   "execution_count": 262,
   "id": "4a15eb40",
   "metadata": {},
   "outputs": [
    {
     "name": "stdout",
     "output_type": "stream",
     "text": [
      "[]\n"
     ]
    }
   ],
   "source": [
    "# 확인\n",
    "ind_note = []\n",
    "for i in range(len(ibacopy[\"Making\"])):\n",
    "    if \"note:\" in ibacopy[\"Making\"][i].lower():\n",
    "        ind_note.append(i)\n",
    "print(ind_note)"
   ]
  },
  {
   "cell_type": "markdown",
   "id": "e1cf14af",
   "metadata": {},
   "source": [
    "'\\n' 없애기"
   ]
  },
  {
   "cell_type": "code",
   "execution_count": 263,
   "id": "6d6a5e84",
   "metadata": {},
   "outputs": [],
   "source": [
    "for i in range(len(ibacopy)):\n",
    "    making = ibacopy[\"Making\"][i].replace(\"\\n\", \" \")\n",
    "    ibacopy[\"Making\"][i] = making"
   ]
  },
  {
   "cell_type": "markdown",
   "id": "d41e76c2",
   "metadata": {},
   "source": [
    "### Glass 추출하기"
   ]
  },
  {
   "cell_type": "markdown",
   "id": "cb8955f4",
   "metadata": {},
   "source": [
    "Making에 'glass'가 있는 레시피 수와 없는 레시피의 인덱스 출력"
   ]
  },
  {
   "cell_type": "code",
   "execution_count": 264,
   "id": "2fcea64c",
   "metadata": {},
   "outputs": [
    {
     "name": "stdout",
     "output_type": "stream",
     "text": [
      "23\n",
      "53\n",
      "88\n"
     ]
    }
   ],
   "source": [
    "ind_glass = []\n",
    "for i in range(len(ibacopy[\"Making\"])):\n",
    "    if \"glass\" in ibacopy[\"Making\"][i].lower():\n",
    "        ind_glass.append(i)\n",
    "    else:\n",
    "        print(i)\n",
    "print(len(ind_glass))"
   ]
  },
  {
   "cell_type": "markdown",
   "id": "5dc6f2ba",
   "metadata": {},
   "source": [
    "인덱스 23. 53의 Glass는 직접 알아보기"
   ]
  },
  {
   "cell_type": "code",
   "execution_count": 265,
   "id": "007915b0",
   "metadata": {},
   "outputs": [
    {
     "data": {
      "text/plain": [
       "'Pour all ingredients directly into a highball filled with ice. Stir gently.'"
      ]
     },
     "execution_count": 265,
     "metadata": {},
     "output_type": "execute_result"
    }
   ],
   "source": [
    "ibacopy[\"Making\"][23]"
   ]
  },
  {
   "cell_type": "code",
   "execution_count": 266,
   "id": "9262d132",
   "metadata": {},
   "outputs": [
    {
     "data": {
      "text/plain": [
       "'Pour all the ingredients, except Champagne, into a shaker. Shake well and strain into a Champagne flute. Top up with Champagne. Stir gently.'"
      ]
     },
     "execution_count": 266,
     "metadata": {},
     "output_type": "execute_result"
    }
   ],
   "source": [
    "ibacopy[\"Making\"][53]"
   ]
  },
  {
   "cell_type": "markdown",
   "id": "52d38d03",
   "metadata": {},
   "source": [
    "23은 highball, 53은 flute잔. 나중에 처리함."
   ]
  },
  {
   "cell_type": "markdown",
   "id": "9378ebf8",
   "metadata": {},
   "source": [
    "'glass'가 있는 나머지 레시피들에 대해 glass_list 만들기"
   ]
  },
  {
   "cell_type": "code",
   "execution_count": 267,
   "id": "2d2d4de6",
   "metadata": {},
   "outputs": [],
   "source": [
    "glass_list = [None]*90"
   ]
  },
  {
   "cell_type": "code",
   "execution_count": 268,
   "id": "8e6ef09f",
   "metadata": {},
   "outputs": [],
   "source": [
    "for i in ind_glass:\n",
    "    making = ibacopy[\"Making\"][i].lower().replace(\".\", \"\").replace(\",\", \"\").split(\" \")\n",
    "    ind_local_glasses = list(filter(lambda x: making[x]==\"glass\", range(len(making))))\n",
    "    glasses = []\n",
    "    for ind in ind_local_glasses:\n",
    "        glasses.append(making[ind-1])\n",
    "    glass_list[i]=glasses"
   ]
  },
  {
   "cell_type": "code",
   "execution_count": 269,
   "id": "620f477c",
   "metadata": {},
   "outputs": [
    {
     "name": "stdout",
     "output_type": "stream",
     "text": [
      "90\n",
      "[['cocktail'], ['mixing', 'cocktail'], ['mixing', 'cocktail'], ['mixing', 'cocktail'], ['fashioned', 'the'], ['fashioned'], ['mixing', 'cocktail'], ['fashioned'], ['mixing', 'cocktail'], ['tumbler'], ['mixing', 'cocktail'], ['cocktail'], ['old-fashioned', 'mixing', 'prepared', 'the'], ['cobbler', 'fashioned'], ['cocktail'], ['rocks'], ['mixing', 'cocktail'], ['cocktail'], ['terracotta'], ['cocktail'], ['cocktail'], ['cocktail'], ['cocktail'], None, ['cocktail'], ['cocktail'], ['mixing', 'cocktail'], ['cocktail'], ['cocktail'], ['cocktail'], ['fashioned'], ['a', 'highball'], ['mixing', 'cocktail'], ['mixing', 'flute'], ['cocktail'], ['cocktail'], ['into'], ['the'], ['highball'], ['tumbler'], ['fashioned'], ['cocktail'], ['cocktail'], ['highball'], ['the'], ['highball'], ['mixing', 'rocks'], ['highball'], ['cocktail'], ['rocks', 'highball'], ['rocks'], ['hurricane'], ['fashioned', 'the'], None, ['highball'], ['cocktail'], ['large'], ['highball'], ['champagne'], ['fashioned'], ['coffee'], ['flute'], ['goblet'], ['cocktail'], ['cocktail'], ['highball'], ['cocktail'], ['cocktail'], ['wine'], ['cocktail'], ['highball'], ['cocktail'], ['cocktail'], ['fashioned'], ['collins'], ['cocktail'], ['fashioned', 'the'], ['rocks'], ['tumbler'], ['mixing', 'cocktail'], ['fashioned'], ['cocktail'], ['cocktail'], ['cocktail'], ['rocks'], ['the'], ['cocktail'], ['highball'], ['cocktail'], ['tumbler']]\n"
     ]
    }
   ],
   "source": [
    "print(len(glass_list))\n",
    "print(glass_list)"
   ]
  },
  {
   "cell_type": "markdown",
   "id": "fb68d3ec",
   "metadata": {},
   "source": [
    "mixing, a, the, prepared: 필요없음.<br>\n",
    "fashioned: 앞에 old 붙여야함.<br>\n",
    "into, large, coffee, champagne:  각각 자세히 찾아봐야함."
   ]
  },
  {
   "cell_type": "code",
   "execution_count": 270,
   "id": "b42da466",
   "metadata": {},
   "outputs": [],
   "source": [
    "for i in ind_glass:\n",
    "    if \"mixing\" in glass_list[i]:\n",
    "        glass_list[i].remove(\"mixing\")\n",
    "    if \"the\" in glass_list[i]:\n",
    "        glass_list[i].remove(\"the\")\n",
    "    if \"a\" in glass_list[i]:\n",
    "        glass_list[i].remove(\"a\")\n",
    "    if \"prepared\" in glass_list[i]:\n",
    "        glass_list[i].remove(\"prepared\")"
   ]
  },
  {
   "cell_type": "markdown",
   "id": "026df512",
   "metadata": {},
   "source": [
    "'glass'가 없는 레시피, 추가 정보가 필요한 레시피, 'glass'가 두 번 쓰인 레시피, 'glass' 앞에 아무것도 없는 레시피들 모두 수작업으로 Glass 속성 부여하기"
   ]
  },
  {
   "cell_type": "code",
   "execution_count": 271,
   "id": "ecce2429",
   "metadata": {},
   "outputs": [
    {
     "name": "stdout",
     "output_type": "stream",
     "text": [
      "13 ['cobbler', 'fashioned']\n",
      "37 []\n",
      "44 []\n",
      "49 ['rocks', 'highball']\n",
      "85 []\n"
     ]
    }
   ],
   "source": [
    "for i in ind_glass:\n",
    "    if len(glass_list[i])!=1:\n",
    "        print(i, glass_list[i])"
   ]
  },
  {
   "cell_type": "code",
   "execution_count": 272,
   "id": "d7d948c2",
   "metadata": {},
   "outputs": [
    {
     "name": "stdout",
     "output_type": "stream",
     "text": [
      "ㅡㅡintoㅡㅡ\n",
      "36\n",
      "ㅡㅡlargeㅡㅡ\n",
      "56\n",
      "ㅡㅡcoffeeㅡㅡ\n",
      "60\n",
      "ㅡㅡchampagneㅡㅡ\n",
      "58\n"
     ]
    }
   ],
   "source": [
    "print(\"ㅡㅡintoㅡㅡ\")\n",
    "for i in range(len(glass_list)):\n",
    "    if glass_list[i]==[\"into\"]:\n",
    "        print(i)\n",
    "print(\"ㅡㅡlargeㅡㅡ\")\n",
    "for i in range(len(glass_list)):\n",
    "    if glass_list[i]==[\"large\"]:\n",
    "        print(i)\n",
    "print(\"ㅡㅡcoffeeㅡㅡ\")\n",
    "for i in range(len(glass_list)):\n",
    "    if glass_list[i]==[\"coffee\"]:\n",
    "        print(i)\n",
    "print(\"ㅡㅡchampagneㅡㅡ\")\n",
    "for i in range(len(glass_list)):\n",
    "    if glass_list[i]==[\"champagne\"]:\n",
    "        print(i)"
   ]
  },
  {
   "cell_type": "code",
   "execution_count": 273,
   "id": "c3995317",
   "metadata": {},
   "outputs": [],
   "source": [
    "glass_list[13] = ['Cobbler or Old Fashioned Glass']\n",
    "glass_list[23] = ['highball']\n",
    "glass_list[37] = ['Stainless Steel Cup']\n",
    "glass_list[44] = ['collins']\n",
    "glass_list[49] = ['Rocks or Highball Glass']\n",
    "glass_list[53] = ['flute']\n",
    "glass_list[85] = ['Terracotta or Old Fashioned Glass']\n",
    "\n",
    "glass_list[36] = [\"wine\"]\n",
    "glass_list[56] = [\"Hurricane Glass\"]\n",
    "glass_list[58] = [\"Champagne Glass\"]\n",
    "glass_list[60] = [\"irish coffee\"]"
   ]
  },
  {
   "cell_type": "code",
   "execution_count": 274,
   "id": "912e2e78",
   "metadata": {},
   "outputs": [],
   "source": [
    "for i in range(len(glass_list)):\n",
    "    if glass_list[i]==[\"cocktail\"]:\n",
    "        glass_list[i] = \"Cocktail Glass\"\n",
    "    if glass_list[i]==[\"fashioned\"]:\n",
    "        glass_list[i] = \"Old Fashioned Glass\"\n",
    "    if glass_list[i]==[\"tumbler\"]:\n",
    "        glass_list[i] = \"Tumbler Glass\"\n",
    "    if glass_list[i]==[\"old-fashioned\"]:\n",
    "        glass_list[i] = \"Old Fashioned Glass\"\n",
    "    if glass_list[i]==[\"rocks\"]:\n",
    "        glass_list[i] = \"Rocks Glass\"\n",
    "    if glass_list[i]==[\"terracotta\"]:\n",
    "        glass_list[i] = \"Terracotta Mug\"\n",
    "    if glass_list[i]==[\"highball\"]:\n",
    "        glass_list[i] = \"Highball Glass\"\n",
    "    if glass_list[i]==[\"flute\"]:\n",
    "        glass_list[i] = \"Flute Glass\"\n",
    "    if glass_list[i]==[\"wine\"]:\n",
    "        glass_list[i] = \"Wine Glass\"\n",
    "    if glass_list[i]==[\"collins\"]:\n",
    "        glass_list[i] = \"Collins Glass\"\n",
    "    if glass_list[i]==[\"hurricane\"]:\n",
    "        glass_list[i] = \"Hurricane Glass\"\n",
    "    if glass_list[i]==[\"irish coffee\"]:\n",
    "        glass_list[i] = \"Irish Coffee Glass\"\n",
    "    if glass_list[i]==[\"goblet\"]:\n",
    "        glass_list[i] = \"Goblet Glass\"\n",
    "    if glass_list[i]==['Cobbler or Old Fashioned Glass']:\n",
    "        glass_list[i] = 'Cobbler or Old Fashioned Glass'\n",
    "    if glass_list[i]==['Stainless Steel Cup']:\n",
    "        glass_list[i] = 'Stainless Steel Cup'\n",
    "    if glass_list[i]==['Rocks or Highball Glass']:\n",
    "        glass_list[i] = 'Rocks or Highball Glass'\n",
    "    if glass_list[i]==['Champagne Glass']:\n",
    "        glass_list[i] = 'Champagne Glass'\n",
    "    if glass_list[i]==['Terracotta or Old Fashioned Glass']:\n",
    "        glass_list[i] = 'Terracotta or Old Fashioned Glass'\n",
    "    if glass_list[i]==['Hurricane Glass']:\n",
    "        glass_list[i] = 'Hurricane Glass'"
   ]
  },
  {
   "cell_type": "markdown",
   "id": "ef89b07c",
   "metadata": {},
   "source": [
    "martini glass 사용하는 레시피는 Martini Glass로 바꿔주기"
   ]
  },
  {
   "cell_type": "code",
   "execution_count": 275,
   "id": "cf3101fe",
   "metadata": {},
   "outputs": [],
   "source": [
    "glass_list[2] = \"Martini Glass\"\n",
    "glass_list[26] = \"Martini Glass\"\n",
    "glass_list[32] = \"Martini Glass\"\n",
    "glass_list[79] = \"Martini Glass\""
   ]
  },
  {
   "cell_type": "code",
   "execution_count": 276,
   "id": "8471ed5e",
   "metadata": {},
   "outputs": [
    {
     "name": "stdout",
     "output_type": "stream",
     "text": [
      "['Cocktail Glass', 'Martini Glass', 'Old Fashioned Glass', 'Tumbler Glass', 'Cobbler or Old Fashioned Glass', 'Rocks Glass', 'Terracotta Mug', 'Highball Glass', 'Flute Glass', 'Wine Glass', 'Stainless Steel Cup', 'Collins Glass', 'Rocks or Highball Glass', 'Hurricane Glass', 'Champagne Glass', 'Irish Coffee Glass', 'Goblet Glass', 'Terracotta or Old Fashioned Glass']\n"
     ]
    }
   ],
   "source": [
    "glass_unique = []\n",
    "for i in range(len(glass_list)):\n",
    "    if glass_list[i] not in glass_unique:\n",
    "        glass_unique.append(glass_list[i])\n",
    "print(glass_unique)"
   ]
  },
  {
   "cell_type": "markdown",
   "id": "e35278b8",
   "metadata": {},
   "source": [
    "Glass 속성 부여하고 확인하기"
   ]
  },
  {
   "cell_type": "code",
   "execution_count": 277,
   "id": "8baa7e99",
   "metadata": {},
   "outputs": [
    {
     "data": {
      "text/html": [
       "<div>\n",
       "<style scoped>\n",
       "    .dataframe tbody tr th:only-of-type {\n",
       "        vertical-align: middle;\n",
       "    }\n",
       "\n",
       "    .dataframe tbody tr th {\n",
       "        vertical-align: top;\n",
       "    }\n",
       "\n",
       "    .dataframe thead th {\n",
       "        text-align: right;\n",
       "    }\n",
       "</style>\n",
       "<table border=\"1\" class=\"dataframe\">\n",
       "  <thead>\n",
       "    <tr style=\"text-align: right;\">\n",
       "      <th></th>\n",
       "      <th>Name</th>\n",
       "      <th>Ingredients</th>\n",
       "      <th>Making</th>\n",
       "      <th>Link</th>\n",
       "      <th>Garnish</th>\n",
       "      <th>Type</th>\n",
       "      <th>Glass</th>\n",
       "    </tr>\n",
       "  </thead>\n",
       "  <tbody>\n",
       "    <tr>\n",
       "      <th>0</th>\n",
       "      <td>Alexander</td>\n",
       "      <td>1 oz Cognac, 1 oz Crème de Cacao (Brown), 1 oz...</td>\n",
       "      <td>Pour all ingredients into cocktail shaker fill...</td>\n",
       "      <td>https://iba-world.com/alexander/</td>\n",
       "      <td>Sprinkle fresh ground nutmeg on top.</td>\n",
       "      <td>IBA The Unforgettables</td>\n",
       "      <td>Cocktail Glass</td>\n",
       "    </tr>\n",
       "    <tr>\n",
       "      <th>1</th>\n",
       "      <td>Boulevardier</td>\n",
       "      <td>3/2 oz Bourbon or Rye Whiskey, 1 oz Bitter Cam...</td>\n",
       "      <td>Pour all ingredients into mixing glass with ic...</td>\n",
       "      <td>https://iba-world.com/boulevardier/</td>\n",
       "      <td>Garnish with orange zest, optionally a lemon z...</td>\n",
       "      <td>IBA The Unforgettables</td>\n",
       "      <td>Cocktail Glass</td>\n",
       "    </tr>\n",
       "    <tr>\n",
       "      <th>2</th>\n",
       "      <td>Dry Martini</td>\n",
       "      <td>2 oz Gin, 1/3 oz Dry Vermouth</td>\n",
       "      <td>Pour all ingredients into mixing glass with ic...</td>\n",
       "      <td>https://iba-world.com/dry-martini/</td>\n",
       "      <td>Squeeze oil from lemon peel onto the drink, or...</td>\n",
       "      <td>IBA The Unforgettables</td>\n",
       "      <td>Martini Glass</td>\n",
       "    </tr>\n",
       "    <tr>\n",
       "      <th>3</th>\n",
       "      <td>Manhattan</td>\n",
       "      <td>5/3 oz Rye Whiskey, 2/3 oz Sweet Red Vermouth,...</td>\n",
       "      <td>Pour all ingredients into mixing glass with ic...</td>\n",
       "      <td>https://iba-world.com/manhattan/</td>\n",
       "      <td>Garnish with a cocktail cherry.</td>\n",
       "      <td>IBA The Unforgettables</td>\n",
       "      <td>Cocktail Glass</td>\n",
       "    </tr>\n",
       "    <tr>\n",
       "      <th>4</th>\n",
       "      <td>Old Fashioned</td>\n",
       "      <td>3/2 oz Bourbon or Rye Whiskey, 1 Sugar Cube, F...</td>\n",
       "      <td>Place sugar cube in old fashioned glass and sa...</td>\n",
       "      <td>https://iba-world.com/old-fashioned/</td>\n",
       "      <td>Garnish with an orange slice or zest, and a co...</td>\n",
       "      <td>IBA The Unforgettables</td>\n",
       "      <td>Old Fashioned Glass</td>\n",
       "    </tr>\n",
       "  </tbody>\n",
       "</table>\n",
       "</div>"
      ],
      "text/plain": [
       "            Name                                        Ingredients  \\\n",
       "0      Alexander  1 oz Cognac, 1 oz Crème de Cacao (Brown), 1 oz...   \n",
       "1   Boulevardier  3/2 oz Bourbon or Rye Whiskey, 1 oz Bitter Cam...   \n",
       "2    Dry Martini                      2 oz Gin, 1/3 oz Dry Vermouth   \n",
       "3      Manhattan  5/3 oz Rye Whiskey, 2/3 oz Sweet Red Vermouth,...   \n",
       "4  Old Fashioned  3/2 oz Bourbon or Rye Whiskey, 1 Sugar Cube, F...   \n",
       "\n",
       "                                              Making  \\\n",
       "0  Pour all ingredients into cocktail shaker fill...   \n",
       "1  Pour all ingredients into mixing glass with ic...   \n",
       "2  Pour all ingredients into mixing glass with ic...   \n",
       "3  Pour all ingredients into mixing glass with ic...   \n",
       "4  Place sugar cube in old fashioned glass and sa...   \n",
       "\n",
       "                                   Link  \\\n",
       "0      https://iba-world.com/alexander/   \n",
       "1   https://iba-world.com/boulevardier/   \n",
       "2    https://iba-world.com/dry-martini/   \n",
       "3      https://iba-world.com/manhattan/   \n",
       "4  https://iba-world.com/old-fashioned/   \n",
       "\n",
       "                                             Garnish                    Type  \\\n",
       "0               Sprinkle fresh ground nutmeg on top.  IBA The Unforgettables   \n",
       "1  Garnish with orange zest, optionally a lemon z...  IBA The Unforgettables   \n",
       "2  Squeeze oil from lemon peel onto the drink, or...  IBA The Unforgettables   \n",
       "3                    Garnish with a cocktail cherry.  IBA The Unforgettables   \n",
       "4  Garnish with an orange slice or zest, and a co...  IBA The Unforgettables   \n",
       "\n",
       "                 Glass  \n",
       "0       Cocktail Glass  \n",
       "1       Cocktail Glass  \n",
       "2        Martini Glass  \n",
       "3       Cocktail Glass  \n",
       "4  Old Fashioned Glass  "
      ]
     },
     "execution_count": 277,
     "metadata": {},
     "output_type": "execute_result"
    }
   ],
   "source": [
    "ibacopy[\"Glass\"]=glass_list\n",
    "ibacopy.head()"
   ]
  },
  {
   "cell_type": "markdown",
   "id": "9b87a487",
   "metadata": {},
   "source": [
    "### Garnish 형식 맞추기"
   ]
  },
  {
   "cell_type": "code",
   "execution_count": 278,
   "id": "2dbd1f96",
   "metadata": {},
   "outputs": [
    {
     "data": {
      "text/plain": [
       "26"
      ]
     },
     "execution_count": 278,
     "metadata": {},
     "output_type": "execute_result"
    }
   ],
   "source": [
    "ibacopy[\"Garnish\"].isna().sum()"
   ]
  },
  {
   "cell_type": "code",
   "execution_count": 279,
   "id": "1e029fe9",
   "metadata": {},
   "outputs": [],
   "source": [
    "for i in range(len(ibacopy)):\n",
    "    if str(ibacopy[\"Garnish\"][i])=='nan':\n",
    "        ibacopy[\"Garnish\"][i] = None\n",
    "    else:\n",
    "        ibacopy[\"Garnish\"][i] = ibacopy[\"Garnish\"][i].replace(\"\\n\", \"\")"
   ]
  },
  {
   "cell_type": "code",
   "execution_count": 280,
   "id": "8d64dd20",
   "metadata": {},
   "outputs": [
    {
     "data": {
      "text/plain": [
       "'None'"
      ]
     },
     "execution_count": 280,
     "metadata": {},
     "output_type": "execute_result"
    }
   ],
   "source": [
    "str(ibacopy[\"Garnish\"][11])"
   ]
  },
  {
   "cell_type": "code",
   "execution_count": 281,
   "id": "b7437a3b",
   "metadata": {},
   "outputs": [],
   "source": [
    "for i in range(len(ibacopy)):\n",
    "    if str(ibacopy[\"Garnish\"][i]) != 'None':\n",
    "        if \"Garnish with \" in ibacopy[\"Garnish\"][i]:\n",
    "            ibacopy[\"Garnish\"][i] = ibacopy[\"Garnish\"][i].replace(\"Garnish with \", \"\")\n",
    "        if \"GARNISH\" in ibacopy[\"Garnish\"][i]:\n",
    "            ibacopy[\"Garnish\"][i] = ibacopy[\"Garnish\"][i].replace(\"GARNISH\", \"\")"
   ]
  },
  {
   "cell_type": "code",
   "execution_count": 282,
   "id": "6cefb0d7",
   "metadata": {},
   "outputs": [
    {
     "data": {
      "text/plain": [
       "'half orange slice or an orange zest'"
      ]
     },
     "execution_count": 282,
     "metadata": {},
     "output_type": "execute_result"
    }
   ],
   "source": [
    "ibacopy[\"Garnish\"][57]"
   ]
  },
  {
   "cell_type": "markdown",
   "id": "8374ec6d",
   "metadata": {},
   "source": [
    "### Base 추출하기"
   ]
  },
  {
   "cell_type": "code",
   "execution_count": 283,
   "id": "d05b6ecb",
   "metadata": {},
   "outputs": [],
   "source": [
    "base_list = [None]*90\n",
    "for i in range(len(ibacopy)):\n",
    "    base = []\n",
    "    if \"vodka\" in ibacopy[\"Ingredients\"][i].lower():\n",
    "        base.append(\"Vodka\")\n",
    "    if \"rum\" in ibacopy[\"Ingredients\"][i].lower():\n",
    "        base.append(\"Rum\")\n",
    "    if \"whisky\" in ibacopy[\"Ingredients\"][i].lower() or \"whiskey\" in ibacopy[\"Ingredients\"][i].lower():\n",
    "        base.append(\"Whisky\")\n",
    "    if \"tequila\" in ibacopy[\"Ingredients\"][i].lower() or \"tekila\" in ibacopy[\"Ingredients\"][i].lower() or \"teqila\" in ibacopy[\"Ingredients\"][i].lower():\n",
    "        base.append(\"Tequila\")\n",
    "    if \"mezcal\" in ibacopy[\"Ingredients\"][i].lower():\n",
    "        base.append(\"Mezcal\")\n",
    "    if \"gin\" in ibacopy[\"Ingredients\"][i].lower():\n",
    "        base.append(\"Gin\")\n",
    "    if \"cognac\" in ibacopy[\"Ingredients\"][i].lower():\n",
    "        base.append(\"Cognac\")\n",
    "    if \"brandy\" in ibacopy[\"Ingredients\"][i].lower():\n",
    "        base.append(\"Brandy\")\n",
    "    if \"wine\" in ibacopy[\"Ingredients\"][i].lower():\n",
    "        base.append(\"Wine\")\n",
    "    if \"liquor\" in ibacopy[\"Ingredients\"][i].lower() or \"liqueur\" in ibacopy[\"Ingredients\"][i].lower() or \"liqour\" in ibacopy[\"Ingredients\"][i].lower() or \"liquour\" in ibacopy[\"Ingredients\"][i].lower():\n",
    "        base.append(\"Liquor\")\n",
    "    if \"beer\" in ibacopy[\"Ingredients\"][i].lower():\n",
    "        base.append(\"Beer\")\n",
    "    if \" ale,\" in ibacopy[\"Ingredients\"][i].lower() or \" ale.\" in ibacopy[\"Ingredients\"][i].lower() or \" ale \" in ibacopy[\"Ingredients\"][i].lower():\n",
    "        base.append(\"Ale\")\n",
    "    if \"champagne\" in ibacopy[\"Ingredients\"][i].lower():\n",
    "        base.append(\"Champagne\")\n",
    "    if base==[]:\n",
    "        pass\n",
    "    else:\n",
    "        base_list[i] = \", \".join(base)"
   ]
  },
  {
   "cell_type": "markdown",
   "id": "2f6705c8",
   "metadata": {},
   "source": [
    "Base 속성 부여하고 확인하기"
   ]
  },
  {
   "cell_type": "code",
   "execution_count": 284,
   "id": "749f89ad",
   "metadata": {},
   "outputs": [
    {
     "data": {
      "text/html": [
       "<div>\n",
       "<style scoped>\n",
       "    .dataframe tbody tr th:only-of-type {\n",
       "        vertical-align: middle;\n",
       "    }\n",
       "\n",
       "    .dataframe tbody tr th {\n",
       "        vertical-align: top;\n",
       "    }\n",
       "\n",
       "    .dataframe thead th {\n",
       "        text-align: right;\n",
       "    }\n",
       "</style>\n",
       "<table border=\"1\" class=\"dataframe\">\n",
       "  <thead>\n",
       "    <tr style=\"text-align: right;\">\n",
       "      <th></th>\n",
       "      <th>Name</th>\n",
       "      <th>Ingredients</th>\n",
       "      <th>Making</th>\n",
       "      <th>Link</th>\n",
       "      <th>Garnish</th>\n",
       "      <th>Type</th>\n",
       "      <th>Glass</th>\n",
       "      <th>Base</th>\n",
       "    </tr>\n",
       "  </thead>\n",
       "  <tbody>\n",
       "    <tr>\n",
       "      <th>0</th>\n",
       "      <td>Alexander</td>\n",
       "      <td>1 oz Cognac, 1 oz Crème de Cacao (Brown), 1 oz...</td>\n",
       "      <td>Pour all ingredients into cocktail shaker fill...</td>\n",
       "      <td>https://iba-world.com/alexander/</td>\n",
       "      <td>Sprinkle fresh ground nutmeg on top.</td>\n",
       "      <td>IBA The Unforgettables</td>\n",
       "      <td>Cocktail Glass</td>\n",
       "      <td>Cognac</td>\n",
       "    </tr>\n",
       "    <tr>\n",
       "      <th>1</th>\n",
       "      <td>Boulevardier</td>\n",
       "      <td>3/2 oz Bourbon or Rye Whiskey, 1 oz Bitter Cam...</td>\n",
       "      <td>Pour all ingredients into mixing glass with ic...</td>\n",
       "      <td>https://iba-world.com/boulevardier/</td>\n",
       "      <td>orange zest, optionally a lemon zest.</td>\n",
       "      <td>IBA The Unforgettables</td>\n",
       "      <td>Cocktail Glass</td>\n",
       "      <td>Whisky</td>\n",
       "    </tr>\n",
       "    <tr>\n",
       "      <th>2</th>\n",
       "      <td>Dry Martini</td>\n",
       "      <td>2 oz Gin, 1/3 oz Dry Vermouth</td>\n",
       "      <td>Pour all ingredients into mixing glass with ic...</td>\n",
       "      <td>https://iba-world.com/dry-martini/</td>\n",
       "      <td>Squeeze oil from lemon peel onto the drink, or...</td>\n",
       "      <td>IBA The Unforgettables</td>\n",
       "      <td>Martini Glass</td>\n",
       "      <td>Gin</td>\n",
       "    </tr>\n",
       "    <tr>\n",
       "      <th>3</th>\n",
       "      <td>Manhattan</td>\n",
       "      <td>5/3 oz Rye Whiskey, 2/3 oz Sweet Red Vermouth,...</td>\n",
       "      <td>Pour all ingredients into mixing glass with ic...</td>\n",
       "      <td>https://iba-world.com/manhattan/</td>\n",
       "      <td>a cocktail cherry.</td>\n",
       "      <td>IBA The Unforgettables</td>\n",
       "      <td>Cocktail Glass</td>\n",
       "      <td>Whisky</td>\n",
       "    </tr>\n",
       "    <tr>\n",
       "      <th>4</th>\n",
       "      <td>Old Fashioned</td>\n",
       "      <td>3/2 oz Bourbon or Rye Whiskey, 1 Sugar Cube, F...</td>\n",
       "      <td>Place sugar cube in old fashioned glass and sa...</td>\n",
       "      <td>https://iba-world.com/old-fashioned/</td>\n",
       "      <td>an orange slice or zest, and a cocktail cherry.</td>\n",
       "      <td>IBA The Unforgettables</td>\n",
       "      <td>Old Fashioned Glass</td>\n",
       "      <td>Whisky</td>\n",
       "    </tr>\n",
       "  </tbody>\n",
       "</table>\n",
       "</div>"
      ],
      "text/plain": [
       "            Name                                        Ingredients  \\\n",
       "0      Alexander  1 oz Cognac, 1 oz Crème de Cacao (Brown), 1 oz...   \n",
       "1   Boulevardier  3/2 oz Bourbon or Rye Whiskey, 1 oz Bitter Cam...   \n",
       "2    Dry Martini                      2 oz Gin, 1/3 oz Dry Vermouth   \n",
       "3      Manhattan  5/3 oz Rye Whiskey, 2/3 oz Sweet Red Vermouth,...   \n",
       "4  Old Fashioned  3/2 oz Bourbon or Rye Whiskey, 1 Sugar Cube, F...   \n",
       "\n",
       "                                              Making  \\\n",
       "0  Pour all ingredients into cocktail shaker fill...   \n",
       "1  Pour all ingredients into mixing glass with ic...   \n",
       "2  Pour all ingredients into mixing glass with ic...   \n",
       "3  Pour all ingredients into mixing glass with ic...   \n",
       "4  Place sugar cube in old fashioned glass and sa...   \n",
       "\n",
       "                                   Link  \\\n",
       "0      https://iba-world.com/alexander/   \n",
       "1   https://iba-world.com/boulevardier/   \n",
       "2    https://iba-world.com/dry-martini/   \n",
       "3      https://iba-world.com/manhattan/   \n",
       "4  https://iba-world.com/old-fashioned/   \n",
       "\n",
       "                                             Garnish                    Type  \\\n",
       "0               Sprinkle fresh ground nutmeg on top.  IBA The Unforgettables   \n",
       "1              orange zest, optionally a lemon zest.  IBA The Unforgettables   \n",
       "2  Squeeze oil from lemon peel onto the drink, or...  IBA The Unforgettables   \n",
       "3                                 a cocktail cherry.  IBA The Unforgettables   \n",
       "4    an orange slice or zest, and a cocktail cherry.  IBA The Unforgettables   \n",
       "\n",
       "                 Glass    Base  \n",
       "0       Cocktail Glass  Cognac  \n",
       "1       Cocktail Glass  Whisky  \n",
       "2        Martini Glass     Gin  \n",
       "3       Cocktail Glass  Whisky  \n",
       "4  Old Fashioned Glass  Whisky  "
      ]
     },
     "execution_count": 284,
     "metadata": {},
     "output_type": "execute_result"
    }
   ],
   "source": [
    "ibacopy[\"Base\"]=base_list\n",
    "ibacopy.head(5)"
   ]
  },
  {
   "cell_type": "markdown",
   "id": "1fae891e",
   "metadata": {},
   "source": [
    "### Method 추출하기"
   ]
  },
  {
   "cell_type": "code",
   "execution_count": 285,
   "id": "53c0064d",
   "metadata": {},
   "outputs": [],
   "source": [
    "method_list = [None]*90\n",
    "for i in range(len(ibacopy[\"Making\"])):\n",
    "    methods = []\n",
    "    if \"shake\" in ibacopy[\"Making\"][i].lower() or \"shkae\" in ibacopy[\"Making\"][i].lower():\n",
    "        methods.append(\"Shake\")\n",
    "    if \"stir\" in ibacopy[\"Making\"][i].lower():\n",
    "        if \"build\" in ibacopy[\"Making\"][i].lower():\n",
    "            methods.append(\"Build\")\n",
    "        elif \"combine\" in ibacopy[\"Making\"][i].lower():\n",
    "            methods.append(\"Build\")\n",
    "        else:\n",
    "            methods.append(\"Stir\")\n",
    "    elif \"build\" in ibacopy[\"Making\"][i].lower():\n",
    "        methods.append(\"Build\")\n",
    "    elif \"combine\" in ibacopy[\"Making\"][i].lower():\n",
    "        methods.append(\"Build\")\n",
    "    elif \"mix over\" in ibacopy[\"Making\"][i].lower():\n",
    "        methods.append(\"Stir\")\n",
    "    elif \"mix in\" in ibacopy[\"Making\"][i].lower():\n",
    "        methods.append(\"Stir\")\n",
    "    elif \"mix with\" in ibacopy[\"Making\"][i].lower():\n",
    "        methods.append(\"Stir\")\n",
    "    elif \"mix well\" in ibacopy[\"Making\"][i].lower():\n",
    "        methods.append(\"Stir\")\n",
    "    elif \"mix together\" in ibacopy[\"Making\"][i].lower():\n",
    "        methods.append(\"Stir\")\n",
    "    elif \"mix all\" in ibacopy[\"Making\"][i].lower():\n",
    "        methods.append(\"Stir\")\n",
    "    elif \"mixing glass\" in ibacopy[\"Making\"][i].lower():\n",
    "        methods.append(\"Stir\")\n",
    "    if \"float\" in ibacopy[\"Making\"][i].lower() or \"layer\" in ibacopy[\"Making\"][i].lower():\n",
    "        methods.append(\"Float\")\n",
    "    if \"blend\" in ibacopy[\"Making\"][i].lower():\n",
    "        methods.append(\"Blend\")\n",
    "    if \"strain\" in ibacopy[\"Making\"][i].lower():\n",
    "        methods.append(\"Strain\")\n",
    "    methods = list(set(methods))\n",
    "    if methods==[]:\n",
    "        pass\n",
    "    else:\n",
    "        method_list[i]=\", \".join(methods)"
   ]
  },
  {
   "cell_type": "markdown",
   "id": "035056c6",
   "metadata": {},
   "source": [
    "method 추출 못 한 레시피에 수작업으로 넣어주기, strain만 적용된 레시피들 중 다른 method 가 필요한 것들 검사 하기"
   ]
  },
  {
   "cell_type": "code",
   "execution_count": 286,
   "id": "6f1782d9",
   "metadata": {},
   "outputs": [
    {
     "name": "stdout",
     "output_type": "stream",
     "text": [
      "18\n",
      "36\n",
      "58\n"
     ]
    }
   ],
   "source": [
    "for i in range(len(method_list)):\n",
    "    if method_list[i]==None:\n",
    "        print(i)"
   ]
  },
  {
   "cell_type": "code",
   "execution_count": 287,
   "id": "849bf8d5",
   "metadata": {},
   "outputs": [
    {
     "data": {
      "text/plain": [
       "'Pour all ingredients directly in a small tumbler or a typical terracotta glass.'"
      ]
     },
     "execution_count": 287,
     "metadata": {},
     "output_type": "execute_result"
    }
   ],
   "source": [
    "ibacopy[\"Making\"][18]"
   ]
  },
  {
   "cell_type": "code",
   "execution_count": 288,
   "id": "3e021b1d",
   "metadata": {},
   "outputs": [],
   "source": [
    "method_list[18]=\"Build\""
   ]
  },
  {
   "cell_type": "code",
   "execution_count": 289,
   "id": "cc83b424",
   "metadata": {},
   "outputs": [
    {
     "data": {
      "text/plain": [
       "'Pour Crème de Cassis into glass, top up with white wine.'"
      ]
     },
     "execution_count": 289,
     "metadata": {},
     "output_type": "execute_result"
    }
   ],
   "source": [
    "ibacopy[\"Making\"][36]"
   ]
  },
  {
   "cell_type": "code",
   "execution_count": 290,
   "id": "71b8ddcd",
   "metadata": {},
   "outputs": [],
   "source": [
    "method_list[36]=\"Build\""
   ]
  },
  {
   "cell_type": "code",
   "execution_count": 291,
   "id": "2c827013",
   "metadata": {},
   "outputs": [
    {
     "data": {
      "text/plain": [
       "'Place the sugar cube with 2 dashes of bitters in a large Champagne glass, add the cognac. Pour gently chilled Champagne.'"
      ]
     },
     "execution_count": 291,
     "metadata": {},
     "output_type": "execute_result"
    }
   ],
   "source": [
    "ibacopy[\"Making\"][58]"
   ]
  },
  {
   "cell_type": "code",
   "execution_count": 292,
   "id": "b0c30491",
   "metadata": {},
   "outputs": [],
   "source": [
    "method_list[58]=\"Build\""
   ]
  },
  {
   "cell_type": "code",
   "execution_count": 293,
   "id": "48c7a962",
   "metadata": {},
   "outputs": [],
   "source": [
    "for i in range(len(method_list)):\n",
    "    if method_list[i]==[\"Strain\"]:\n",
    "        print(i)\n",
    "# strain만 적용된 레시피 없음"
   ]
  },
  {
   "cell_type": "markdown",
   "id": "ab795a06",
   "metadata": {},
   "source": [
    "Method 속성 부여하고 확인하기"
   ]
  },
  {
   "cell_type": "code",
   "execution_count": 294,
   "id": "30b6072e",
   "metadata": {},
   "outputs": [
    {
     "data": {
      "text/html": [
       "<div>\n",
       "<style scoped>\n",
       "    .dataframe tbody tr th:only-of-type {\n",
       "        vertical-align: middle;\n",
       "    }\n",
       "\n",
       "    .dataframe tbody tr th {\n",
       "        vertical-align: top;\n",
       "    }\n",
       "\n",
       "    .dataframe thead th {\n",
       "        text-align: right;\n",
       "    }\n",
       "</style>\n",
       "<table border=\"1\" class=\"dataframe\">\n",
       "  <thead>\n",
       "    <tr style=\"text-align: right;\">\n",
       "      <th></th>\n",
       "      <th>Name</th>\n",
       "      <th>Ingredients</th>\n",
       "      <th>Making</th>\n",
       "      <th>Link</th>\n",
       "      <th>Garnish</th>\n",
       "      <th>Type</th>\n",
       "      <th>Glass</th>\n",
       "      <th>Base</th>\n",
       "      <th>Method</th>\n",
       "    </tr>\n",
       "  </thead>\n",
       "  <tbody>\n",
       "    <tr>\n",
       "      <th>0</th>\n",
       "      <td>Alexander</td>\n",
       "      <td>1 oz Cognac, 1 oz Crème de Cacao (Brown), 1 oz...</td>\n",
       "      <td>Pour all ingredients into cocktail shaker fill...</td>\n",
       "      <td>https://iba-world.com/alexander/</td>\n",
       "      <td>Sprinkle fresh ground nutmeg on top.</td>\n",
       "      <td>IBA The Unforgettables</td>\n",
       "      <td>Cocktail Glass</td>\n",
       "      <td>Cognac</td>\n",
       "      <td>Strain, Shake</td>\n",
       "    </tr>\n",
       "    <tr>\n",
       "      <th>1</th>\n",
       "      <td>Boulevardier</td>\n",
       "      <td>3/2 oz Bourbon or Rye Whiskey, 1 oz Bitter Cam...</td>\n",
       "      <td>Pour all ingredients into mixing glass with ic...</td>\n",
       "      <td>https://iba-world.com/boulevardier/</td>\n",
       "      <td>orange zest, optionally a lemon zest.</td>\n",
       "      <td>IBA The Unforgettables</td>\n",
       "      <td>Cocktail Glass</td>\n",
       "      <td>Whisky</td>\n",
       "      <td>Strain, Stir</td>\n",
       "    </tr>\n",
       "    <tr>\n",
       "      <th>2</th>\n",
       "      <td>Dry Martini</td>\n",
       "      <td>2 oz Gin, 1/3 oz Dry Vermouth</td>\n",
       "      <td>Pour all ingredients into mixing glass with ic...</td>\n",
       "      <td>https://iba-world.com/dry-martini/</td>\n",
       "      <td>Squeeze oil from lemon peel onto the drink, or...</td>\n",
       "      <td>IBA The Unforgettables</td>\n",
       "      <td>Martini Glass</td>\n",
       "      <td>Gin</td>\n",
       "      <td>Strain, Stir</td>\n",
       "    </tr>\n",
       "    <tr>\n",
       "      <th>3</th>\n",
       "      <td>Manhattan</td>\n",
       "      <td>5/3 oz Rye Whiskey, 2/3 oz Sweet Red Vermouth,...</td>\n",
       "      <td>Pour all ingredients into mixing glass with ic...</td>\n",
       "      <td>https://iba-world.com/manhattan/</td>\n",
       "      <td>a cocktail cherry.</td>\n",
       "      <td>IBA The Unforgettables</td>\n",
       "      <td>Cocktail Glass</td>\n",
       "      <td>Whisky</td>\n",
       "      <td>Strain, Stir</td>\n",
       "    </tr>\n",
       "    <tr>\n",
       "      <th>4</th>\n",
       "      <td>Old Fashioned</td>\n",
       "      <td>3/2 oz Bourbon or Rye Whiskey, 1 Sugar Cube, F...</td>\n",
       "      <td>Place sugar cube in old fashioned glass and sa...</td>\n",
       "      <td>https://iba-world.com/old-fashioned/</td>\n",
       "      <td>an orange slice or zest, and a cocktail cherry.</td>\n",
       "      <td>IBA The Unforgettables</td>\n",
       "      <td>Old Fashioned Glass</td>\n",
       "      <td>Whisky</td>\n",
       "      <td>Stir</td>\n",
       "    </tr>\n",
       "  </tbody>\n",
       "</table>\n",
       "</div>"
      ],
      "text/plain": [
       "            Name                                        Ingredients  \\\n",
       "0      Alexander  1 oz Cognac, 1 oz Crème de Cacao (Brown), 1 oz...   \n",
       "1   Boulevardier  3/2 oz Bourbon or Rye Whiskey, 1 oz Bitter Cam...   \n",
       "2    Dry Martini                      2 oz Gin, 1/3 oz Dry Vermouth   \n",
       "3      Manhattan  5/3 oz Rye Whiskey, 2/3 oz Sweet Red Vermouth,...   \n",
       "4  Old Fashioned  3/2 oz Bourbon or Rye Whiskey, 1 Sugar Cube, F...   \n",
       "\n",
       "                                              Making  \\\n",
       "0  Pour all ingredients into cocktail shaker fill...   \n",
       "1  Pour all ingredients into mixing glass with ic...   \n",
       "2  Pour all ingredients into mixing glass with ic...   \n",
       "3  Pour all ingredients into mixing glass with ic...   \n",
       "4  Place sugar cube in old fashioned glass and sa...   \n",
       "\n",
       "                                   Link  \\\n",
       "0      https://iba-world.com/alexander/   \n",
       "1   https://iba-world.com/boulevardier/   \n",
       "2    https://iba-world.com/dry-martini/   \n",
       "3      https://iba-world.com/manhattan/   \n",
       "4  https://iba-world.com/old-fashioned/   \n",
       "\n",
       "                                             Garnish                    Type  \\\n",
       "0               Sprinkle fresh ground nutmeg on top.  IBA The Unforgettables   \n",
       "1              orange zest, optionally a lemon zest.  IBA The Unforgettables   \n",
       "2  Squeeze oil from lemon peel onto the drink, or...  IBA The Unforgettables   \n",
       "3                                 a cocktail cherry.  IBA The Unforgettables   \n",
       "4    an orange slice or zest, and a cocktail cherry.  IBA The Unforgettables   \n",
       "\n",
       "                 Glass    Base         Method  \n",
       "0       Cocktail Glass  Cognac  Strain, Shake  \n",
       "1       Cocktail Glass  Whisky   Strain, Stir  \n",
       "2        Martini Glass     Gin   Strain, Stir  \n",
       "3       Cocktail Glass  Whisky   Strain, Stir  \n",
       "4  Old Fashioned Glass  Whisky           Stir  "
      ]
     },
     "execution_count": 294,
     "metadata": {},
     "output_type": "execute_result"
    }
   ],
   "source": [
    "ibacopy[\"Method\"]=method_list\n",
    "ibacopy.head()"
   ]
  },
  {
   "cell_type": "markdown",
   "id": "50d78ed2",
   "metadata": {},
   "source": [
    "### Type 속성 추출하기"
   ]
  },
  {
   "cell_type": "code",
   "execution_count": 295,
   "id": "610336f4",
   "metadata": {},
   "outputs": [],
   "source": [
    "type_list = [None]*90"
   ]
  },
  {
   "cell_type": "markdown",
   "id": "d1475bdc",
   "metadata": {},
   "source": [
    "추출할 Type: short, long"
   ]
  },
  {
   "cell_type": "code",
   "execution_count": 296,
   "id": "dd54649d",
   "metadata": {},
   "outputs": [
    {
     "data": {
      "text/plain": [
       "array(['Cocktail Glass', 'Martini Glass', 'Old Fashioned Glass',\n",
       "       'Tumbler Glass', 'Cobbler or Old Fashioned Glass', 'Rocks Glass',\n",
       "       'Terracotta Mug', 'Highball Glass', 'Flute Glass', 'Wine Glass',\n",
       "       'Stainless Steel Cup', 'Collins Glass', 'Rocks or Highball Glass',\n",
       "       'Hurricane Glass', 'Champagne Glass', 'Irish Coffee Glass',\n",
       "       'Goblet Glass', 'Terracotta or Old Fashioned Glass'], dtype=object)"
      ]
     },
     "execution_count": 296,
     "metadata": {},
     "output_type": "execute_result"
    }
   ],
   "source": [
    "ibacopy[\"Glass\"].unique()"
   ]
  },
  {
   "cell_type": "code",
   "execution_count": 297,
   "id": "d2e1112f",
   "metadata": {},
   "outputs": [],
   "source": [
    "short_glasses = ['Cocktail Glass', 'Martini Glass']\n",
    "long_glasses = ['Highball Glass', 'Collins Glass', 'Hurricane Glass']\n",
    "for i in range(len(ibacopy)):\n",
    "    types = []\n",
    "    if ibacopy[\"Glass\"][i] in short_glasses:\n",
    "        types.append(\"Short\")\n",
    "    if ibacopy[\"Glass\"][i] in long_glasses:\n",
    "        types.append(\"Long\")\n",
    "    if \"Short\" in types and \"Long\" in types:\n",
    "        types.remove(\"Short\")\n",
    "        types.remove(\"Long\")\n",
    "    if types==[]:\n",
    "        pass\n",
    "    else:\n",
    "        type_list[i]=\", \".join(types)"
   ]
  },
  {
   "cell_type": "markdown",
   "id": "bc20f81f",
   "metadata": {},
   "source": [
    "Type 속성 부여하고 확인하기"
   ]
  },
  {
   "cell_type": "code",
   "execution_count": 298,
   "id": "bdf297bf",
   "metadata": {},
   "outputs": [],
   "source": [
    "for i in range(len(ibacopy)):\n",
    "    if type_list[i]!=None:\n",
    "        ibacopy[\"Type\"][i] = ibacopy[\"Type\"][i]+\", \"+type_list[i]"
   ]
  },
  {
   "cell_type": "code",
   "execution_count": 299,
   "id": "f0aa36b4",
   "metadata": {},
   "outputs": [
    {
     "data": {
      "text/html": [
       "<div>\n",
       "<style scoped>\n",
       "    .dataframe tbody tr th:only-of-type {\n",
       "        vertical-align: middle;\n",
       "    }\n",
       "\n",
       "    .dataframe tbody tr th {\n",
       "        vertical-align: top;\n",
       "    }\n",
       "\n",
       "    .dataframe thead th {\n",
       "        text-align: right;\n",
       "    }\n",
       "</style>\n",
       "<table border=\"1\" class=\"dataframe\">\n",
       "  <thead>\n",
       "    <tr style=\"text-align: right;\">\n",
       "      <th></th>\n",
       "      <th>Name</th>\n",
       "      <th>Ingredients</th>\n",
       "      <th>Making</th>\n",
       "      <th>Link</th>\n",
       "      <th>Garnish</th>\n",
       "      <th>Type</th>\n",
       "      <th>Glass</th>\n",
       "      <th>Base</th>\n",
       "      <th>Method</th>\n",
       "    </tr>\n",
       "  </thead>\n",
       "  <tbody>\n",
       "    <tr>\n",
       "      <th>0</th>\n",
       "      <td>Alexander</td>\n",
       "      <td>1 oz Cognac, 1 oz Crème de Cacao (Brown), 1 oz...</td>\n",
       "      <td>Pour all ingredients into cocktail shaker fill...</td>\n",
       "      <td>https://iba-world.com/alexander/</td>\n",
       "      <td>Sprinkle fresh ground nutmeg on top.</td>\n",
       "      <td>IBA The Unforgettables, Short</td>\n",
       "      <td>Cocktail Glass</td>\n",
       "      <td>Cognac</td>\n",
       "      <td>Strain, Shake</td>\n",
       "    </tr>\n",
       "    <tr>\n",
       "      <th>1</th>\n",
       "      <td>Boulevardier</td>\n",
       "      <td>3/2 oz Bourbon or Rye Whiskey, 1 oz Bitter Cam...</td>\n",
       "      <td>Pour all ingredients into mixing glass with ic...</td>\n",
       "      <td>https://iba-world.com/boulevardier/</td>\n",
       "      <td>orange zest, optionally a lemon zest.</td>\n",
       "      <td>IBA The Unforgettables, Short</td>\n",
       "      <td>Cocktail Glass</td>\n",
       "      <td>Whisky</td>\n",
       "      <td>Strain, Stir</td>\n",
       "    </tr>\n",
       "    <tr>\n",
       "      <th>2</th>\n",
       "      <td>Dry Martini</td>\n",
       "      <td>2 oz Gin, 1/3 oz Dry Vermouth</td>\n",
       "      <td>Pour all ingredients into mixing glass with ic...</td>\n",
       "      <td>https://iba-world.com/dry-martini/</td>\n",
       "      <td>Squeeze oil from lemon peel onto the drink, or...</td>\n",
       "      <td>IBA The Unforgettables, Short</td>\n",
       "      <td>Martini Glass</td>\n",
       "      <td>Gin</td>\n",
       "      <td>Strain, Stir</td>\n",
       "    </tr>\n",
       "    <tr>\n",
       "      <th>3</th>\n",
       "      <td>Manhattan</td>\n",
       "      <td>5/3 oz Rye Whiskey, 2/3 oz Sweet Red Vermouth,...</td>\n",
       "      <td>Pour all ingredients into mixing glass with ic...</td>\n",
       "      <td>https://iba-world.com/manhattan/</td>\n",
       "      <td>a cocktail cherry.</td>\n",
       "      <td>IBA The Unforgettables, Short</td>\n",
       "      <td>Cocktail Glass</td>\n",
       "      <td>Whisky</td>\n",
       "      <td>Strain, Stir</td>\n",
       "    </tr>\n",
       "    <tr>\n",
       "      <th>4</th>\n",
       "      <td>Old Fashioned</td>\n",
       "      <td>3/2 oz Bourbon or Rye Whiskey, 1 Sugar Cube, F...</td>\n",
       "      <td>Place sugar cube in old fashioned glass and sa...</td>\n",
       "      <td>https://iba-world.com/old-fashioned/</td>\n",
       "      <td>an orange slice or zest, and a cocktail cherry.</td>\n",
       "      <td>IBA The Unforgettables</td>\n",
       "      <td>Old Fashioned Glass</td>\n",
       "      <td>Whisky</td>\n",
       "      <td>Stir</td>\n",
       "    </tr>\n",
       "  </tbody>\n",
       "</table>\n",
       "</div>"
      ],
      "text/plain": [
       "            Name                                        Ingredients  \\\n",
       "0      Alexander  1 oz Cognac, 1 oz Crème de Cacao (Brown), 1 oz...   \n",
       "1   Boulevardier  3/2 oz Bourbon or Rye Whiskey, 1 oz Bitter Cam...   \n",
       "2    Dry Martini                      2 oz Gin, 1/3 oz Dry Vermouth   \n",
       "3      Manhattan  5/3 oz Rye Whiskey, 2/3 oz Sweet Red Vermouth,...   \n",
       "4  Old Fashioned  3/2 oz Bourbon or Rye Whiskey, 1 Sugar Cube, F...   \n",
       "\n",
       "                                              Making  \\\n",
       "0  Pour all ingredients into cocktail shaker fill...   \n",
       "1  Pour all ingredients into mixing glass with ic...   \n",
       "2  Pour all ingredients into mixing glass with ic...   \n",
       "3  Pour all ingredients into mixing glass with ic...   \n",
       "4  Place sugar cube in old fashioned glass and sa...   \n",
       "\n",
       "                                   Link  \\\n",
       "0      https://iba-world.com/alexander/   \n",
       "1   https://iba-world.com/boulevardier/   \n",
       "2    https://iba-world.com/dry-martini/   \n",
       "3      https://iba-world.com/manhattan/   \n",
       "4  https://iba-world.com/old-fashioned/   \n",
       "\n",
       "                                             Garnish  \\\n",
       "0               Sprinkle fresh ground nutmeg on top.   \n",
       "1              orange zest, optionally a lemon zest.   \n",
       "2  Squeeze oil from lemon peel onto the drink, or...   \n",
       "3                                 a cocktail cherry.   \n",
       "4    an orange slice or zest, and a cocktail cherry.   \n",
       "\n",
       "                            Type                Glass    Base         Method  \n",
       "0  IBA The Unforgettables, Short       Cocktail Glass  Cognac  Strain, Shake  \n",
       "1  IBA The Unforgettables, Short       Cocktail Glass  Whisky   Strain, Stir  \n",
       "2  IBA The Unforgettables, Short        Martini Glass     Gin   Strain, Stir  \n",
       "3  IBA The Unforgettables, Short       Cocktail Glass  Whisky   Strain, Stir  \n",
       "4         IBA The Unforgettables  Old Fashioned Glass  Whisky           Stir  "
      ]
     },
     "execution_count": 299,
     "metadata": {},
     "output_type": "execute_result"
    }
   ],
   "source": [
    "ibacopy.head()"
   ]
  },
  {
   "cell_type": "markdown",
   "id": "229c18b0",
   "metadata": {},
   "source": [
    "빈 Flavor 열 추가하기 "
   ]
  },
  {
   "cell_type": "code",
   "execution_count": 300,
   "id": "7ac99cd5",
   "metadata": {},
   "outputs": [
    {
     "data": {
      "text/html": [
       "<div>\n",
       "<style scoped>\n",
       "    .dataframe tbody tr th:only-of-type {\n",
       "        vertical-align: middle;\n",
       "    }\n",
       "\n",
       "    .dataframe tbody tr th {\n",
       "        vertical-align: top;\n",
       "    }\n",
       "\n",
       "    .dataframe thead th {\n",
       "        text-align: right;\n",
       "    }\n",
       "</style>\n",
       "<table border=\"1\" class=\"dataframe\">\n",
       "  <thead>\n",
       "    <tr style=\"text-align: right;\">\n",
       "      <th></th>\n",
       "      <th>Name</th>\n",
       "      <th>Ingredients</th>\n",
       "      <th>Making</th>\n",
       "      <th>Link</th>\n",
       "      <th>Garnish</th>\n",
       "      <th>Type</th>\n",
       "      <th>Glass</th>\n",
       "      <th>Base</th>\n",
       "      <th>Method</th>\n",
       "      <th>Flavor</th>\n",
       "    </tr>\n",
       "  </thead>\n",
       "  <tbody>\n",
       "    <tr>\n",
       "      <th>0</th>\n",
       "      <td>Alexander</td>\n",
       "      <td>1 oz Cognac, 1 oz Crème de Cacao (Brown), 1 oz...</td>\n",
       "      <td>Pour all ingredients into cocktail shaker fill...</td>\n",
       "      <td>https://iba-world.com/alexander/</td>\n",
       "      <td>Sprinkle fresh ground nutmeg on top.</td>\n",
       "      <td>IBA The Unforgettables, Short</td>\n",
       "      <td>Cocktail Glass</td>\n",
       "      <td>Cognac</td>\n",
       "      <td>Strain, Shake</td>\n",
       "      <td>None</td>\n",
       "    </tr>\n",
       "    <tr>\n",
       "      <th>1</th>\n",
       "      <td>Boulevardier</td>\n",
       "      <td>3/2 oz Bourbon or Rye Whiskey, 1 oz Bitter Cam...</td>\n",
       "      <td>Pour all ingredients into mixing glass with ic...</td>\n",
       "      <td>https://iba-world.com/boulevardier/</td>\n",
       "      <td>orange zest, optionally a lemon zest.</td>\n",
       "      <td>IBA The Unforgettables, Short</td>\n",
       "      <td>Cocktail Glass</td>\n",
       "      <td>Whisky</td>\n",
       "      <td>Strain, Stir</td>\n",
       "      <td>None</td>\n",
       "    </tr>\n",
       "    <tr>\n",
       "      <th>2</th>\n",
       "      <td>Dry Martini</td>\n",
       "      <td>2 oz Gin, 1/3 oz Dry Vermouth</td>\n",
       "      <td>Pour all ingredients into mixing glass with ic...</td>\n",
       "      <td>https://iba-world.com/dry-martini/</td>\n",
       "      <td>Squeeze oil from lemon peel onto the drink, or...</td>\n",
       "      <td>IBA The Unforgettables, Short</td>\n",
       "      <td>Martini Glass</td>\n",
       "      <td>Gin</td>\n",
       "      <td>Strain, Stir</td>\n",
       "      <td>None</td>\n",
       "    </tr>\n",
       "    <tr>\n",
       "      <th>3</th>\n",
       "      <td>Manhattan</td>\n",
       "      <td>5/3 oz Rye Whiskey, 2/3 oz Sweet Red Vermouth,...</td>\n",
       "      <td>Pour all ingredients into mixing glass with ic...</td>\n",
       "      <td>https://iba-world.com/manhattan/</td>\n",
       "      <td>a cocktail cherry.</td>\n",
       "      <td>IBA The Unforgettables, Short</td>\n",
       "      <td>Cocktail Glass</td>\n",
       "      <td>Whisky</td>\n",
       "      <td>Strain, Stir</td>\n",
       "      <td>None</td>\n",
       "    </tr>\n",
       "    <tr>\n",
       "      <th>4</th>\n",
       "      <td>Old Fashioned</td>\n",
       "      <td>3/2 oz Bourbon or Rye Whiskey, 1 Sugar Cube, F...</td>\n",
       "      <td>Place sugar cube in old fashioned glass and sa...</td>\n",
       "      <td>https://iba-world.com/old-fashioned/</td>\n",
       "      <td>an orange slice or zest, and a cocktail cherry.</td>\n",
       "      <td>IBA The Unforgettables</td>\n",
       "      <td>Old Fashioned Glass</td>\n",
       "      <td>Whisky</td>\n",
       "      <td>Stir</td>\n",
       "      <td>None</td>\n",
       "    </tr>\n",
       "  </tbody>\n",
       "</table>\n",
       "</div>"
      ],
      "text/plain": [
       "            Name                                        Ingredients  \\\n",
       "0      Alexander  1 oz Cognac, 1 oz Crème de Cacao (Brown), 1 oz...   \n",
       "1   Boulevardier  3/2 oz Bourbon or Rye Whiskey, 1 oz Bitter Cam...   \n",
       "2    Dry Martini                      2 oz Gin, 1/3 oz Dry Vermouth   \n",
       "3      Manhattan  5/3 oz Rye Whiskey, 2/3 oz Sweet Red Vermouth,...   \n",
       "4  Old Fashioned  3/2 oz Bourbon or Rye Whiskey, 1 Sugar Cube, F...   \n",
       "\n",
       "                                              Making  \\\n",
       "0  Pour all ingredients into cocktail shaker fill...   \n",
       "1  Pour all ingredients into mixing glass with ic...   \n",
       "2  Pour all ingredients into mixing glass with ic...   \n",
       "3  Pour all ingredients into mixing glass with ic...   \n",
       "4  Place sugar cube in old fashioned glass and sa...   \n",
       "\n",
       "                                   Link  \\\n",
       "0      https://iba-world.com/alexander/   \n",
       "1   https://iba-world.com/boulevardier/   \n",
       "2    https://iba-world.com/dry-martini/   \n",
       "3      https://iba-world.com/manhattan/   \n",
       "4  https://iba-world.com/old-fashioned/   \n",
       "\n",
       "                                             Garnish  \\\n",
       "0               Sprinkle fresh ground nutmeg on top.   \n",
       "1              orange zest, optionally a lemon zest.   \n",
       "2  Squeeze oil from lemon peel onto the drink, or...   \n",
       "3                                 a cocktail cherry.   \n",
       "4    an orange slice or zest, and a cocktail cherry.   \n",
       "\n",
       "                            Type                Glass    Base         Method  \\\n",
       "0  IBA The Unforgettables, Short       Cocktail Glass  Cognac  Strain, Shake   \n",
       "1  IBA The Unforgettables, Short       Cocktail Glass  Whisky   Strain, Stir   \n",
       "2  IBA The Unforgettables, Short        Martini Glass     Gin   Strain, Stir   \n",
       "3  IBA The Unforgettables, Short       Cocktail Glass  Whisky   Strain, Stir   \n",
       "4         IBA The Unforgettables  Old Fashioned Glass  Whisky           Stir   \n",
       "\n",
       "  Flavor  \n",
       "0   None  \n",
       "1   None  \n",
       "2   None  \n",
       "3   None  \n",
       "4   None  "
      ]
     },
     "execution_count": 300,
     "metadata": {},
     "output_type": "execute_result"
    }
   ],
   "source": [
    "ibacopy[\"Flavor\"]=None\n",
    "ibacopy.head()"
   ]
  },
  {
   "cell_type": "markdown",
   "id": "08f127d5",
   "metadata": {},
   "source": [
    "카테고리 순서 형식에 맞게 정렬하고 확인하기"
   ]
  },
  {
   "cell_type": "code",
   "execution_count": 301,
   "id": "e9d419a4",
   "metadata": {},
   "outputs": [
    {
     "data": {
      "text/html": [
       "<div>\n",
       "<style scoped>\n",
       "    .dataframe tbody tr th:only-of-type {\n",
       "        vertical-align: middle;\n",
       "    }\n",
       "\n",
       "    .dataframe tbody tr th {\n",
       "        vertical-align: top;\n",
       "    }\n",
       "\n",
       "    .dataframe thead th {\n",
       "        text-align: right;\n",
       "    }\n",
       "</style>\n",
       "<table border=\"1\" class=\"dataframe\">\n",
       "  <thead>\n",
       "    <tr style=\"text-align: right;\">\n",
       "      <th></th>\n",
       "      <th>Name</th>\n",
       "      <th>Ingredients</th>\n",
       "      <th>Making</th>\n",
       "      <th>Link</th>\n",
       "      <th>Glass</th>\n",
       "      <th>Garnish</th>\n",
       "      <th>Base</th>\n",
       "      <th>Method</th>\n",
       "      <th>Type</th>\n",
       "      <th>Flavor</th>\n",
       "    </tr>\n",
       "  </thead>\n",
       "  <tbody>\n",
       "    <tr>\n",
       "      <th>0</th>\n",
       "      <td>Alexander</td>\n",
       "      <td>1 oz Cognac, 1 oz Crème de Cacao (Brown), 1 oz...</td>\n",
       "      <td>Pour all ingredients into cocktail shaker fill...</td>\n",
       "      <td>https://iba-world.com/alexander/</td>\n",
       "      <td>Cocktail Glass</td>\n",
       "      <td>Sprinkle fresh ground nutmeg on top.</td>\n",
       "      <td>Cognac</td>\n",
       "      <td>Strain, Shake</td>\n",
       "      <td>IBA The Unforgettables, Short</td>\n",
       "      <td>None</td>\n",
       "    </tr>\n",
       "    <tr>\n",
       "      <th>1</th>\n",
       "      <td>Boulevardier</td>\n",
       "      <td>3/2 oz Bourbon or Rye Whiskey, 1 oz Bitter Cam...</td>\n",
       "      <td>Pour all ingredients into mixing glass with ic...</td>\n",
       "      <td>https://iba-world.com/boulevardier/</td>\n",
       "      <td>Cocktail Glass</td>\n",
       "      <td>orange zest, optionally a lemon zest.</td>\n",
       "      <td>Whisky</td>\n",
       "      <td>Strain, Stir</td>\n",
       "      <td>IBA The Unforgettables, Short</td>\n",
       "      <td>None</td>\n",
       "    </tr>\n",
       "    <tr>\n",
       "      <th>2</th>\n",
       "      <td>Dry Martini</td>\n",
       "      <td>2 oz Gin, 1/3 oz Dry Vermouth</td>\n",
       "      <td>Pour all ingredients into mixing glass with ic...</td>\n",
       "      <td>https://iba-world.com/dry-martini/</td>\n",
       "      <td>Martini Glass</td>\n",
       "      <td>Squeeze oil from lemon peel onto the drink, or...</td>\n",
       "      <td>Gin</td>\n",
       "      <td>Strain, Stir</td>\n",
       "      <td>IBA The Unforgettables, Short</td>\n",
       "      <td>None</td>\n",
       "    </tr>\n",
       "    <tr>\n",
       "      <th>3</th>\n",
       "      <td>Manhattan</td>\n",
       "      <td>5/3 oz Rye Whiskey, 2/3 oz Sweet Red Vermouth,...</td>\n",
       "      <td>Pour all ingredients into mixing glass with ic...</td>\n",
       "      <td>https://iba-world.com/manhattan/</td>\n",
       "      <td>Cocktail Glass</td>\n",
       "      <td>a cocktail cherry.</td>\n",
       "      <td>Whisky</td>\n",
       "      <td>Strain, Stir</td>\n",
       "      <td>IBA The Unforgettables, Short</td>\n",
       "      <td>None</td>\n",
       "    </tr>\n",
       "    <tr>\n",
       "      <th>4</th>\n",
       "      <td>Old Fashioned</td>\n",
       "      <td>3/2 oz Bourbon or Rye Whiskey, 1 Sugar Cube, F...</td>\n",
       "      <td>Place sugar cube in old fashioned glass and sa...</td>\n",
       "      <td>https://iba-world.com/old-fashioned/</td>\n",
       "      <td>Old Fashioned Glass</td>\n",
       "      <td>an orange slice or zest, and a cocktail cherry.</td>\n",
       "      <td>Whisky</td>\n",
       "      <td>Stir</td>\n",
       "      <td>IBA The Unforgettables</td>\n",
       "      <td>None</td>\n",
       "    </tr>\n",
       "  </tbody>\n",
       "</table>\n",
       "</div>"
      ],
      "text/plain": [
       "            Name                                        Ingredients  \\\n",
       "0      Alexander  1 oz Cognac, 1 oz Crème de Cacao (Brown), 1 oz...   \n",
       "1   Boulevardier  3/2 oz Bourbon or Rye Whiskey, 1 oz Bitter Cam...   \n",
       "2    Dry Martini                      2 oz Gin, 1/3 oz Dry Vermouth   \n",
       "3      Manhattan  5/3 oz Rye Whiskey, 2/3 oz Sweet Red Vermouth,...   \n",
       "4  Old Fashioned  3/2 oz Bourbon or Rye Whiskey, 1 Sugar Cube, F...   \n",
       "\n",
       "                                              Making  \\\n",
       "0  Pour all ingredients into cocktail shaker fill...   \n",
       "1  Pour all ingredients into mixing glass with ic...   \n",
       "2  Pour all ingredients into mixing glass with ic...   \n",
       "3  Pour all ingredients into mixing glass with ic...   \n",
       "4  Place sugar cube in old fashioned glass and sa...   \n",
       "\n",
       "                                   Link                Glass  \\\n",
       "0      https://iba-world.com/alexander/       Cocktail Glass   \n",
       "1   https://iba-world.com/boulevardier/       Cocktail Glass   \n",
       "2    https://iba-world.com/dry-martini/        Martini Glass   \n",
       "3      https://iba-world.com/manhattan/       Cocktail Glass   \n",
       "4  https://iba-world.com/old-fashioned/  Old Fashioned Glass   \n",
       "\n",
       "                                             Garnish    Base         Method  \\\n",
       "0               Sprinkle fresh ground nutmeg on top.  Cognac  Strain, Shake   \n",
       "1              orange zest, optionally a lemon zest.  Whisky   Strain, Stir   \n",
       "2  Squeeze oil from lemon peel onto the drink, or...     Gin   Strain, Stir   \n",
       "3                                 a cocktail cherry.  Whisky   Strain, Stir   \n",
       "4    an orange slice or zest, and a cocktail cherry.  Whisky           Stir   \n",
       "\n",
       "                            Type Flavor  \n",
       "0  IBA The Unforgettables, Short   None  \n",
       "1  IBA The Unforgettables, Short   None  \n",
       "2  IBA The Unforgettables, Short   None  \n",
       "3  IBA The Unforgettables, Short   None  \n",
       "4         IBA The Unforgettables   None  "
      ]
     },
     "execution_count": 301,
     "metadata": {},
     "output_type": "execute_result"
    }
   ],
   "source": [
    "ibacopy = ibacopy[[\"Name\", \"Ingredients\", \"Making\", \"Link\", \"Glass\", \"Garnish\", \"Base\", \"Method\", \"Type\", \"Flavor\"]]\n",
    "ibacopy.head()"
   ]
  },
  {
   "cell_type": "markdown",
   "id": "ab758609",
   "metadata": {},
   "source": [
    "데이터 저장하기"
   ]
  },
  {
   "cell_type": "code",
   "execution_count": 302,
   "id": "6050b73c",
   "metadata": {},
   "outputs": [],
   "source": [
    "ibacopy.to_csv(\"//IBA_ready.csv\", encoding=\"utf-8-sig\", index=False)"
   ]
  },
  {
   "cell_type": "markdown",
   "id": "9686d5bb",
   "metadata": {},
   "source": [
    "IBA 데이터 전처리 완료"
   ]
  }
 ],
 "metadata": {
  "kernelspec": {
   "display_name": "Python 3 (ipykernel)",
   "language": "python",
   "name": "python3"
  },
  "language_info": {
   "codemirror_mode": {
    "name": "ipython",
    "version": 3
   },
   "file_extension": ".py",
   "mimetype": "text/x-python",
   "name": "python",
   "nbconvert_exporter": "python",
   "pygments_lexer": "ipython3",
   "version": "3.8.13"
  }
 },
 "nbformat": 4,
 "nbformat_minor": 5
}
