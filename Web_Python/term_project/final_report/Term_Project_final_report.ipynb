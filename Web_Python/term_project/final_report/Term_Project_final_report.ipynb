{
 "cells": [
  {
   "cell_type": "markdown",
   "id": "33876ab7",
   "metadata": {},
   "source": [
    "# Term Project 최종 보고서\n",
    "## : 칵테일 레시피 스크래핑 후 범주화, 분석"
   ]
  },
  {
   "cell_type": "markdown",
   "id": "f73a4f88",
   "metadata": {},
   "source": [
    "**2020104162 김동휘**"
   ]
  },
  {
   "cell_type": "markdown",
   "id": "8a80a4ad",
   "metadata": {},
   "source": [
    "### **주제 선정 이유**"
   ]
  },
  {
   "cell_type": "markdown",
   "id": "7ded26e9",
   "metadata": {},
   "source": [
    "칵테일 서적이나 레시피 사이트 등 칵테일 자료를 찾아다니다 보면, 아무리 방대한 자료여도 새로운 래시피가 다른 자료에 실려있는 것을 볼 수 있습니다.<br>\n",
    "그 때마다 '혹시 내가 놓친 칵테일중에 지금의 나에게 꼭 들어맞는 칵테일이 있지 않을까?'라고 생각하며 통합본의 부재를 아쉬워했습니다.<br>\n",
    "그리고 만약 모든 칵테일을 모아놓은 데이터가 있다면 다방면으로 분석해보고 싶었습니다.<br> \n",
    "이번 기회에 직접 웹상에 흩어진 레시피들을 통합하고 범주화하여 칵테일 마스터피스를 만들고, 분석해 보았습니다.<br>"
   ]
  },
  {
   "cell_type": "markdown",
   "id": "d3cb65a0",
   "metadata": {},
   "source": [
    "### **가설 정의**"
   ]
  },
  {
   "cell_type": "markdown",
   "id": "77671f6e",
   "metadata": {},
   "source": [
    "웹상 여기저기 흩어져있는 칵테일 레시피를 한데 모으고 범주와 양식을 통일시킨 후 추출 가능한 범주들까지 추가시킬 수 있다면<br>\n",
    "그때그때 마시고싶은 최적의 칵테일 레시피를 손쉽게 발견할 수 있을 것입니다.<br>\n",
    "또한 기주(기반이되는 술, ex. vodka, rum, gin), 조주 기법(ex. shaking, stir, layer), 타입(ex. shooter, hot, nonalcoholic) 등의<br>\n",
    "범주별로 데이터를 분석하며 그동안 궁금해했던 가설들<br>\n",
    "1. 보드카 기반 칵테일이 가장 많을 것이다<br>\n",
    "2. float 기법을 사용한 칵테일은 대부분 shooter 타입일 것이다<br>\n",
    "3. hot 타입 칵테일 중에는 상대적으로 유제품이 쓰인 칵테일이 많을 것이다<br>\n",
    "4. shooter, short, long 타입의 총 재료 양(oz)의 경계를 구하기<br>\n",
    "5. lime 혹은 lemon이 가장 자주 쓰이는 기주 구하기<br>\n",
    "을 확인할 수 있을 것입니다."
   ]
  },
  {
   "cell_type": "markdown",
   "id": "9d96296b",
   "metadata": {},
   "source": [
    "### **데이터 획득 과정**"
   ]
  },
  {
   "cell_type": "markdown",
   "id": "733d6025",
   "metadata": {},
   "source": [
    "최고의 칵테일 레시피 사이트 10개를 소개하는 사이트<br>\n",
    "(https://aelieve.com/rankings/websites/category/food-beverage/best-cocktail-recipes-sites/)<br>\n",
    "를 참고하여 스크래핑할 사이트 4개를 선정했으며, 추가로 국제바텐더협회(IBA) 사이트의 레시피도 스크래핑 했습니다.<br>\n",
    "사이트별 스크래핑 코드는 별첨했습니다.<br>\n",
    "사이트별로 스크래핑한 원본 데이터는 별첨했습니다.<br>"
   ]
  },
  {
   "cell_type": "markdown",
   "id": "c6e396e3",
   "metadata": {},
   "source": [
    "#### **- 스크래핑 타겟 사이트**"
   ]
  },
  {
   "cell_type": "markdown",
   "id": "29a2ce27",
   "metadata": {},
   "source": [
    "1. Difford's Guide (https://www.diffordsguide.com/)\n",
    "2. Bar None Drinks (https://www.barnonedrinks.com/)\n",
    "3. Drink Mixer (http://www.drinksmixer.com/)\n",
    "4. Liquor (https://www.liquor.com/)\n",
    "5. IBA (https://iba-world.com/)"
   ]
  },
  {
   "cell_type": "markdown",
   "id": "8ce874fe",
   "metadata": {},
   "source": [
    "#### **- Category 설명**<br>"
   ]
  },
  {
   "cell_type": "markdown",
   "id": "0e74ab64",
   "metadata": {},
   "source": [
    "Name: 칵테일 이름<br>\n",
    "Ingredients: 재료와 용량<br>\n",
    "Making: 구체적인 제조법<br>\n",
    "Link: 원문 링크<br>\n",
    "Glass: 서브 글라스<br>\n",
    "Garnish: 장식<br>\n",
    "Base: 중심 술<br>\n",
    "Method: 사용된 조주 기법<br>\n",
    "Type: 칵테일이 해당하는 속성(다음 중 복수 해당 가능. hot, frozen, long, short, shooter, nonalchol, punch, creamy, tropical, ...)<br>\n",
    "Flavor: 맛과 향(flavor 정보가 있는 사이트에서만 가져옴)<br>"
   ]
  },
  {
   "cell_type": "markdown",
   "id": "2ae527b0",
   "metadata": {},
   "source": [
    "#### **- 사이트별 데이터 특징**"
   ]
  },
  {
   "cell_type": "markdown",
   "id": "39b7185a",
   "metadata": {},
   "source": [
    "**Difford's Guide**\n",
    "처음부터 가져올 수 있는 데이터: [\"Name\", \"Ingredients\", \"Making\", \"Link\", \"Glass\", \"Garnish\", \"Type\"(nonalchole), \"Flavor\"]<br>\n",
    "따로 가져오면 추가할 수 있는 데이터: [\"Base\"(Liqour..., Wine..., Beer...)]<br>\n",
    "추출해야 할 데이터: [\"Method\", \"Type\"]<br>\n",
    "\n",
    "**Bar None**\n",
    "처음부터 가져올 수 있는 데이터: [\"Name\", \"Ingredients\", \"Making\", \"Link\", \"Type\"(cocktails, hot, jello, martitnis, nonalcohole, punches, shooters)]<br>\n",
    "따로 가져오면 추가할 수 있는 데이터: []<br>\n",
    "추출해야 할 데이터: [\"Base\", \"Method\", \"Glass\", \"Garnish\"]<br>\n",
    "\n",
    "**Drink Mixer**\n",
    "처음부터 가져올 수 있는 데이터: [\"Name\", \"Ingredients\", \"Making\", \"Link\", \"Glass\", \"Type\"(Nonealchole, shot, punch), \"Base\"( beer&ale, coffee&tee)]<br>\n",
    "따로 가져오면 추가할 수 있는 데이터: [\"Type\"(creamy, frozen, hot, long, short, tropical), \"Base\"(champagne, brandy, cognac, gin, liqueur, rum, tequila, vodka, whiskey, wine)]<br>\n",
    "추출해야 할 데이터: [\"Garnish\", \"Method\"]<br>\n",
    "\n",
    "**Liquor**\n",
    "처음부터 가져올 수 있는 데이터: [\"Name\", \"Ingredients\", \"Making\", \"Link\", \"Base\"(bournon, vodka, rum, scotch, rye whiskey, other whiskey, tequila&mezcal, cognac&brandy, gin), ]<br>\n",
    "따로 가져오면 추가할 수 있는 데이터: [\"Type\"(classic, modern classic, tiki&tropical, coffee&dessert, shot&shooters, punches, nonalcoholic, (preparation style 메뉴에도 있음)on the rocks, neat, hot, frozen&blended), \"Method\"(shake, only pour, stir), \"Flavor\"(bitter, sweet, savory, sour, spicy, fruity, smoky, herbaceous)]<br>\n",
    "추출해야 할 데이터: [\"Metohd\", \"Glass\", \"Garnish\"]<br>\n",
    "\n",
    "**IBA**\n",
    "처음부터 가져올 수 있는 데이터: [\"Name\", \"Ingredients\", \"Making\", \"Link\", \"Garnish\", \"Type\"(IBA: The Unforgettables, Contemporary Classics, New Era)]<br>\n",
    "따로 가져오면 추가할 수 있는 데이터: []<br>\n",
    "추출해야 할 데이터: [\"Glass\", \"Method\", \"Base\", \"Type\"]<br>"
   ]
  },
  {
   "cell_type": "markdown",
   "id": "757eeefc",
   "metadata": {},
   "source": [
    "### **데이터 가공**"
   ]
  },
  {
   "cell_type": "markdown",
   "id": "56385b48",
   "metadata": {},
   "source": [
    "사이트별 데이터 가공 코드는 별첨했습니다.\n",
    "가공이 완료된 데이터는 별첨했습니다."
   ]
  },
  {
   "cell_type": "markdown",
   "id": "850f2184",
   "metadata": {},
   "source": [
    "**데이터 가공 규칙**"
   ]
  },
  {
   "cell_type": "markdown",
   "id": "735ee3e2",
   "metadata": {},
   "source": [
    "1. 카테고리 순서는 Name, Ingredients, Making, Link, Glass, Garnish, Base, Method, Type, Flavor로 한다.\n",
    "2. 공백은 None로 한다.\n",
    "3. Ingredients 는 ,로 연결된 하나의 스트링으로 한다.\n",
    "4. Making 은 \\n 없는 한 문장으로 한다.\n",
    "5. Glass 는 모든 단어를 대문자로 시작한다.(or 제외)(최대한 세세하게 추출하되 나중에 상하위 범주 관계를 정보 페이지에 설명한다.) 그리고 두 개 이상 가능하다면 or로 연결해서 하나의 스트링으로 한다.\n",
    "6. Base 는 기본 술 내에서 들어가는 모든 기본술(기본 술 범위: wine, beer, ale, gin, vodka, rum, whisky, brandy, cognac, tequila, mezcal, liquor, champagne)을 적는다. ,로 연결된 하나의 스트링으로 한다.\n",
    "7. Method 를 Making에서 추출할 때 어느정도 오류를 감안하고서도 추출해낸다. 여러 기법이 사용된다면 ,로 연결된 하나의 스트링으로 한다.\n",
    "8. Garnish 를 추출할 때는 확실한 garnish 정보만 추출한다. ,로 연결된 하나의 스트링으로 한다.\n",
    "9. Type 은 ,로 연결된 하나의 스트링으로 한다."
   ]
  },
  {
   "cell_type": "markdown",
   "id": "f6a722b3",
   "metadata": {},
   "source": [
    "**데이터 가공 순서(데이터 특성에 따라 순서를 바꿀 수 있음)**"
   ]
  },
  {
   "cell_type": "markdown",
   "id": "fee81804",
   "metadata": {},
   "source": [
    "1. 중복 확인 및 제거\n",
    "2. Ingredients 형식 맞추고 계량 단위 맞추기\n",
    "3. Making 형식 맞추기\n",
    "4. Name이 같은 칵테일들에 바리에이션 넘버 부여\n",
    "5. 추가로 가져온 카테고리들 순서대로 형식 맞추기 \n",
    "6. 추출할 카테고리들 순서대로 추출하고 형식 맞추기"
   ]
  },
  {
   "cell_type": "markdown",
   "id": "4785fa88",
   "metadata": {},
   "source": [
    "**데이터 가공 예**<br>\n",
    "사이트별 세부 사항은 각 데이터 가공 코드에 있음."
   ]
  },
  {
   "cell_type": "markdown",
   "id": "5ca17972",
   "metadata": {},
   "source": [
    "중복 칵테일에 대해 완전히 같은 레시피라면 제거하고 이름만 같은 레시피라면 variation number를 부여한다.<br>\n",
    "<br>\n",
    "계량 단위를 oz로 통일한다.(30ml→1oz, 1shot→1oz 등)<br>\n",
    "<br>\n",
    "빈 카테고리에 대해서, 사이트에서 카테고리 정보가 따로 제공된다면 스크래핑 후 부여하고, 제공하지 않는 카테고리는 이미 제공된 다른 정보에서 추출해내서 부여한다.<br>\n",
    "예) Ingredient에 'vodka'가 있다면 Base에 Vodka 추가, Making에 collins glass가 있다면 Glass에 Collins Glass 추가, Making에 'shake'가 있다면 Method에 Shake 추가<br>"
   ]
  },
  {
   "cell_type": "markdown",
   "id": "5a9545f9",
   "metadata": {},
   "source": [
    "### **분석 결과 도출**"
   ]
  },
  {
   "cell_type": "code",
   "execution_count": 1,
   "id": "0a9dab48",
   "metadata": {},
   "outputs": [],
   "source": [
    "import matplotlib\n",
    "import matplotlib.pyplot as plt\n",
    "import seaborn as sns\n",
    "import pandas as pd\n",
    "import numpy as np"
   ]
  },
  {
   "cell_type": "code",
   "execution_count": 2,
   "id": "8f80471f",
   "metadata": {},
   "outputs": [],
   "source": [
    "data = pd.read_csv(\"//Cocktail_data.csv\")"
   ]
  },
  {
   "cell_type": "markdown",
   "id": "a2ba66eb",
   "metadata": {},
   "source": [
    "**1. 보드카 기반 칵테일이 가장 많을 것이다**"
   ]
  },
  {
   "cell_type": "code",
   "execution_count": 3,
   "id": "dd5b0e4a",
   "metadata": {},
   "outputs": [
    {
     "name": "stdout",
     "output_type": "stream",
     "text": [
      "기주별 레시피 수:  {'Vodka': 9142, 'Rum': 8361, 'Gin': 5256, 'Whisky': 4010, 'Brandy': 2797, 'Tequila': 2739, 'Cognac': 1103, 'Wine': 892, 'Beer': 763, 'Champagne': 738, 'Ale': 358, 'Mezcal': 161}\n"
     ]
    }
   ],
   "source": [
    "base_count = {\"Wine\":0, \"Beer\":0, \"Ale\":0, \"Gin\":0, \"Vodka\":0, \"Rum\":0, \"Whisky\":0, \"Brandy\":0, \"Cognac\":0, \"Tequila\":0, \"Mezcal\":0, \"Champagne\":0}\n",
    "base_key = list(base_count.keys())\n",
    "for i in range(len(data)):\n",
    "    for j in range(len(base_key)):\n",
    "        if base_key[j] in str(data[\"Base\"][i]):\n",
    "            if data[\"Base\"][i]==\"Liquor\":\n",
    "                pass\n",
    "            else:\n",
    "                base_count[base_key[j]] += 1\n",
    "print(\"기주별 레시피 수: \", dict(sorted(base_count.items(), key=lambda x:x[1], reverse=True)))"
   ]
  },
  {
   "cell_type": "markdown",
   "id": "12042dab",
   "metadata": {},
   "source": [
    "**2. float 기법을 사용한 칵테일은 대부분 shooter 타입일 것이다**"
   ]
  },
  {
   "cell_type": "code",
   "execution_count": 4,
   "id": "987d7175",
   "metadata": {},
   "outputs": [
    {
     "name": "stdout",
     "output_type": "stream",
     "text": [
      "35726\n",
      "2974\n",
      "2279\n",
      "821\n",
      "전체 중 Shooter의 비율:  8.324469573979734 %\n",
      "Float 중 Shooter의 비율:  36.02457218078104 %\n"
     ]
    }
   ],
   "source": [
    "shooter_count = 0\n",
    "float_count = 0\n",
    "float_and_shooter_count = 0\n",
    "for i in range(len(data)):\n",
    "    if \"Shooter\" in str(data[\"Type\"][i]):\n",
    "        shooter_count += 1\n",
    "    if \"Float\" in str(data[\"Method\"][i]):\n",
    "        float_count += 1\n",
    "        if \"Shooter\" in str(data[\"Type\"][i]):\n",
    "            float_and_shooter_count += 1\n",
    "print(len(data))\n",
    "print(shooter_count)\n",
    "print(float_count)\n",
    "print(float_and_shooter_count)\n",
    "print(\"전체 중 Shooter의 비율: \", (shooter_count/len(data))*100, \"%\")\n",
    "print(\"Float 중 Shooter의 비율: \", (float_and_shooter_count/float_count)*100, \"%\")"
   ]
  },
  {
   "cell_type": "markdown",
   "id": "b593c43f",
   "metadata": {},
   "source": [
    "**3. hot 타입 칵테일 중에는 상대적으로 유제품(dairy product)이 쓰인 칵테일이 많을 것이다**"
   ]
  },
  {
   "cell_type": "code",
   "execution_count": 5,
   "id": "1eb5a5ee",
   "metadata": {},
   "outputs": [
    {
     "name": "stdout",
     "output_type": "stream",
     "text": [
      "전체 중 dairy의 비율:  20.567653809550468 %\n",
      "Hot 중 dairy의 비율:  49.09090909090909 %\n"
     ]
    }
   ],
   "source": [
    "dairy_count = 0\n",
    "hot_count = 0\n",
    "hot_and_dairy_count = 0\n",
    "for i in range(len(data)):\n",
    "    if \"creme\" in str(data[\"Ingredients\"][i]).lower() or \"créme\" in str(data[\"Ingredients\"][i]).lower() or \"cream\" in str(data[\"Ingredients\"][i]).lower() or \"milk\" in str(data[\"Ingredients\"][i]).lower() or \"butter\" in str(data[\"Ingredients\"][i]).lower():\n",
    "        dairy_count += 1\n",
    "    if \"Hot\" in str(data[\"Type\"][i]):\n",
    "        hot_count += 1\n",
    "        if \"creme\" in str(data[\"Ingredients\"][i]).lower() or \"créme\" in str(data[\"Ingredients\"][i]).lower() or \"cream\" in str(data[\"Ingredients\"][i]).lower() or \"milk\" in str(data[\"Ingredients\"][i]).lower() or \"butter\" in str(data[\"Ingredients\"][i]).lower():\n",
    "            hot_and_dairy_count += 1\n",
    "print(\"전체 중 dairy의 비율: \", (dairy_count/len(data))*100, \"%\")\n",
    "print(\"Hot 중 dairy의 비율: \", (hot_and_dairy_count/hot_count)*100, \"%\")"
   ]
  },
  {
   "cell_type": "markdown",
   "id": "d8d7bb2e",
   "metadata": {},
   "source": [
    "**4. shooter, short, long 타입의 총 재료 양(oz)의 경계를 구하기**"
   ]
  },
  {
   "cell_type": "code",
   "execution_count": 6,
   "id": "a9fa999a",
   "metadata": {},
   "outputs": [],
   "source": [
    "from fractions import Fraction"
   ]
  },
  {
   "cell_type": "code",
   "execution_count": 7,
   "id": "f9753093",
   "metadata": {},
   "outputs": [],
   "source": [
    "def quantity(ingredients):\n",
    "    quant = 0\n",
    "    ingreds = ingredients.replace('\"', '').split(\", \")\n",
    "    for i in range(len(ingreds)):\n",
    "        ing = ingreds[i].split(\" \")\n",
    "        if len(ing)>=3:\n",
    "            if ing[1]==\"oz\":\n",
    "                if \"/\" in ing[0]:\n",
    "                    if \"\" not in ing[0].split(\"/\"):\n",
    "                        quant += Fraction(ing[0])\n",
    "                else:\n",
    "                    if \"-\" in ing[0]:\n",
    "                        quant += Fraction(ing[0].replace(\" \", \"\").split(\"-\")[0])+Fraction(ing[0].replace(\" \", \"\").split(\"-\")[1])\n",
    "                    else:\n",
    "                        quant += Fraction(ing[0])\n",
    "            if ing[2]==\"oz\":\n",
    "                if \"/\" in ing[0]:\n",
    "                    if \"\" not in ing[0].split(\"/\"):\n",
    "                        quant += Fraction(ing[0])\n",
    "                else:\n",
    "                    if \"-\" in ing[0]:\n",
    "                        quant += Fraction(ing[0].replace(\" \", \"\").split(\"-\")[0])+Fraction(ing[0].replace(\" \", \"\").split(\"-\")[1])\n",
    "                    else:\n",
    "                        quant += Fraction(ing[0])\n",
    "                if \"/\" in ing[1]:\n",
    "                    if \"\" not in ing[1].split(\"/\"):\n",
    "                        quant += Fraction(ing[1])\n",
    "                else:\n",
    "                    if \"-\" in ing[1]:\n",
    "                        quant += Fraction(ing[1].replace(\" \", \"\").split(\"-\")[0])+Fraction(ing[1].replace(\" \", \"\").split(\"-\")[1])\n",
    "                    else:\n",
    "                        quant += Fraction(ing[1])\n",
    "    if float(quant)!=0.0:\n",
    "        return quant\n",
    "    else:\n",
    "        return False"
   ]
  },
  {
   "cell_type": "code",
   "execution_count": 8,
   "id": "84abafdd",
   "metadata": {},
   "outputs": [],
   "source": [
    "type_and_quantity = {\"Shooter\":[], \"Short\":[], \"Long\":[]}\n",
    "for i in range(len(data)):\n",
    "    if \"Shooter\" in str(data[\"Type\"][i]):\n",
    "        if quantity(data[\"Ingredients\"][i]):\n",
    "            type_and_quantity[\"Shooter\"].append(float(quantity(data[\"Ingredients\"][i])))\n",
    "    if \"Short\" in str(data[\"Type\"][i]):\n",
    "        if quantity(data[\"Ingredients\"][i]):\n",
    "            if \"top off\" in str(data[\"Making\"][i]).lower() or \"fill up\" in str(data[\"Making\"][i]).lower() or \"fill with\" in str(data[\"Making\"][i]).lower():\n",
    "                type_and_quantity[\"Short\"].append(float(quantity(data[\"Ingredients\"][i])+3))\n",
    "            else:\n",
    "                type_and_quantity[\"Short\"].append(float(quantity(data[\"Ingredients\"][i])))\n",
    "    if \"Long\" in str(data[\"Type\"][i]):\n",
    "        if quantity(data[\"Ingredients\"][i]):\n",
    "            if \"top off\" in str(data[\"Making\"][i]).lower() or \"fill up\" in str(data[\"Making\"][i]).lower() or \"fill with\" in str(data[\"Making\"][i]).lower():\n",
    "                type_and_quantity[\"Long\"].append(float(quantity(data[\"Ingredients\"][i])+3))\n",
    "            else:\n",
    "                type_and_quantity[\"Long\"].append(float(quantity(data[\"Ingredients\"][i])))"
   ]
  },
  {
   "cell_type": "code",
   "execution_count": 9,
   "id": "c532faa3",
   "metadata": {},
   "outputs": [
    {
     "name": "stdout",
     "output_type": "stream",
     "text": [
      "Shooter_quantity:  1.7647896978182243\n",
      "Short_quantity:  3.5558902027027024\n",
      "Long_quantity:  5.800898910411622\n"
     ]
    }
   ],
   "source": [
    "shooter_mean = np.mean(type_and_quantity[\"Shooter\"])\n",
    "print(\"Shooter_quantity: \", shooter_mean)\n",
    "short_mean = np.mean(type_and_quantity[\"Short\"])\n",
    "print(\"Short_quantity: \", short_mean)\n",
    "long_mean = np.mean(type_and_quantity[\"Long\"])\n",
    "print(\"Long_quantity: \", long_mean)"
   ]
  },
  {
   "cell_type": "code",
   "execution_count": 10,
   "id": "fdc1a87b",
   "metadata": {},
   "outputs": [],
   "source": [
    "shooter_outlier_ind = []\n",
    "short_outlier_ind = []\n",
    "long_outlier_ind = []\n",
    "for i in range(len(type_and_quantity[\"Shooter\"])):\n",
    "    if type_and_quantity[\"Shooter\"][i]>shooter_mean*2:\n",
    "        type_and_quantity[\"Shooter\"][i] = 0\n",
    "for j in range(len(type_and_quantity[\"Short\"])):\n",
    "    if type_and_quantity[\"Short\"][j]>short_mean*2:\n",
    "        type_and_quantity[\"Short\"][j] = 0\n",
    "for k in range(len(type_and_quantity[\"Long\"])):\n",
    "    if type_and_quantity[\"Long\"][k]>long_mean*2:\n",
    "        type_and_quantity[\"Long\"][k] = 0\n",
    "type_and_quantity[\"Shooter\"].remove(0)\n",
    "type_and_quantity[\"Short\"].remove(0)\n",
    "type_and_quantity[\"Long\"].remove(0)"
   ]
  },
  {
   "cell_type": "code",
   "execution_count": 11,
   "id": "d503e168",
   "metadata": {},
   "outputs": [
    {
     "name": "stdout",
     "output_type": "stream",
     "text": [
      "Shooter_quantity:  1.337405170401494\n",
      "Short_quantity:  3.071369605369853\n",
      "Long_quantity:  4.91972292852242\n"
     ]
    }
   ],
   "source": [
    "print(\"Shooter_quantity: \", np.mean(type_and_quantity[\"Shooter\"]))\n",
    "print(\"Short_quantity: \", np.mean(type_and_quantity[\"Short\"]))\n",
    "print(\"Long_quantity: \", np.mean(type_and_quantity[\"Long\"]))"
   ]
  },
  {
   "cell_type": "code",
   "execution_count": 23,
   "id": "9c6cd6b1",
   "metadata": {},
   "outputs": [
    {
     "name": "stderr",
     "output_type": "stream",
     "text": [
      "C:\\Users\\82102\\anaconda3\\lib\\site-packages\\seaborn\\distributions.py:2619: FutureWarning: `distplot` is a deprecated function and will be removed in a future version. Please adapt your code to use either `displot` (a figure-level function with similar flexibility) or `histplot` (an axes-level function for histograms).\n",
      "  warnings.warn(msg, FutureWarning)\n",
      "C:\\Users\\82102\\anaconda3\\lib\\site-packages\\seaborn\\distributions.py:2619: FutureWarning: `distplot` is a deprecated function and will be removed in a future version. Please adapt your code to use either `displot` (a figure-level function with similar flexibility) or `histplot` (an axes-level function for histograms).\n",
      "  warnings.warn(msg, FutureWarning)\n",
      "C:\\Users\\82102\\anaconda3\\lib\\site-packages\\seaborn\\distributions.py:2619: FutureWarning: `distplot` is a deprecated function and will be removed in a future version. Please adapt your code to use either `displot` (a figure-level function with similar flexibility) or `histplot` (an axes-level function for histograms).\n",
      "  warnings.warn(msg, FutureWarning)\n"
     ]
    },
    {
     "data": {
      "image/png": "[encoded data removed]",
      "text/plain": [
       "<Figure size 504x504 with 1 Axes>"
      ]
     },
     "metadata": {
      "needs_background": "light"
     },
     "output_type": "display_data"
    }
   ],
   "source": [
    "plt.figure(figsize=(7,7))\n",
    "sns.distplot(type_and_quantity[\"Shooter\"], color=\"blue\", label=\"Shooter\")\n",
    "sns.distplot(type_and_quantity[\"Short\"], color=\"red\", label=\"Short\")\n",
    "sns.distplot(type_and_quantity[\"Long\"], color=\"green\", label=\"Long\")\n",
    "plt.legend(title='Type')\n",
    "plt.title('Quantity')\n",
    "plt.xlabel('fl oz')\n",
    "plt.ylabel('count')\n",
    "plt.show()"
   ]
  },
  {
   "cell_type": "markdown",
   "id": "290b7fb2",
   "metadata": {},
   "source": [
    "**5. lime 혹은 lemon이 가장 자주 쓰이는 기주 구하기**"
   ]
  },
  {
   "cell_type": "code",
   "execution_count": 14,
   "id": "d22e6ad4",
   "metadata": {},
   "outputs": [
    {
     "name": "stdout",
     "output_type": "stream",
     "text": [
      "기주별 lime혹은 lemon이 들어간 레시피 수: \n",
      " {'Vodka': 2700, 'Rum': 2638, 'Gin': 2342, 'Whisky': 1249, 'Tequila': 1188, 'Brandy': 1161, 'Cognac': 441, 'Wine': 323, 'Champagne': 279, 'Beer': 187, 'Ale': 110, 'Mezcal': 93}\n",
      "기주별 레시피 수: \n",
      " {'Vodka': 9142, 'Rum': 8361, 'Gin': 5256, 'Whisky': 4010, 'Brandy': 2797, 'Tequila': 2739, 'Cognac': 1103, 'Wine': 892, 'Beer': 763, 'Champagne': 738, 'Ale': 358, 'Mezcal': 161}\n"
     ]
    }
   ],
   "source": [
    "limelemon_base_count = {\"Wine\":0, \"Beer\":0, \"Ale\":0, \"Gin\":0, \"Vodka\":0, \"Rum\":0, \"Whisky\":0, \"Brandy\":0, \"Cognac\":0, \"Tequila\":0, \"Mezcal\":0, \"Champagne\":0}\n",
    "limelemon_base_key = list(base_count.keys())\n",
    "for i in range(len(data)):\n",
    "    if \"lime\" in str(data[\"Ingredients\"][i]).lower() or \"lemon\" in str(data[\"Ingredients\"][i]).lower() or \"lime\" in str(data[\"Garnish\"][i]).lower() or \"lemon\" in str(data[\"Garnish\"][i]).lower():\n",
    "        for j in range(len(limelemon_base_key)):\n",
    "            if limelemon_base_key[j] in str(data[\"Base\"][i]):\n",
    "                limelemon_base_count[limelemon_base_key[j]] += 1\n",
    "print(\"기주별 lime혹은 lemon이 들어간 레시피 수: \\n\", dict(sorted(limelemon_base_count.items(), key=lambda x:x[1], reverse=True)))\n",
    "print(\"기주별 레시피 수: \\n\", dict(sorted(base_count.items(), key=lambda x:x[1], reverse=True)))"
   ]
  },
  {
   "cell_type": "code",
   "execution_count": 21,
   "id": "49c775b1",
   "metadata": {},
   "outputs": [
    {
     "name": "stdout",
     "output_type": "stream",
     "text": [
      "기주별 lime 혹은 lemon이 들어간 레시피 비율:  {'Mezcal': 57.7639751552795, 'Gin': 44.558599695586, 'Tequila': 43.373493975903614, 'Brandy': 41.50875938505541, 'Cognac': 39.9818676337262, 'Champagne': 37.80487804878049, 'Wine': 36.210762331838566, 'Rum': 31.551249850496355, 'Whisky': 31.147132169576057, 'Ale': 30.726256983240223, 'Vodka': 29.534018814263835, 'Beer': 24.50851900393185}\n"
     ]
    }
   ],
   "source": [
    "base_limelemon_ratio = {\"Wine\":0, \"Beer\":0, \"Ale\":0, \"Gin\":0, \"Vodka\":0, \"Rum\":0, \"Whisky\":0, \"Brandy\":0, \"Cognac\":0, \"Tequila\":0, \"Mezcal\":0, \"Champagne\":0}\n",
    "for i in range(len(base_limelemon_ratio)):\n",
    "    base_limelemon_ratio[base_key[i]] = limelemon_base_count[limelemon_base_key[i]]/base_count[base_key[i]]*100\n",
    "print(\"기주별 lime 혹은 lemon이 들어간 레시피 비율: \", dict(sorted(base_limelemon_ratio.items(), key=lambda x:x[1], reverse=True)))"
   ]
  },
  {
   "cell_type": "markdown",
   "id": "b7859d33",
   "metadata": {},
   "source": [
    "### **결론**"
   ]
  },
  {
   "cell_type": "markdown",
   "id": "eb655e89",
   "metadata": {},
   "source": [
    "**가설 1. 보드카 기반 칵테일이 가장 많을 것이다.**"
   ]
  },
  {
   "cell_type": "markdown",
   "id": "d394bc2a",
   "metadata": {},
   "source": [
    "기주별 레시피 수는 다음과 같습니다.<br>\n",
    "'Vodka': 9142<br>\n",
    "'Rum': 8361<br>\n",
    "'Gin': 5256<br>\n",
    "'Whisky': 4010<br>\n",
    "'Brandy': 2797<br>\n",
    "'Tequila': 2739<br>\n",
    "'Cognac': 1103<br>\n",
    "'Wine': 892<br>\n",
    "'Beer': 763<br>\n",
    "'Champagne': 738<br>\n",
    "'Ale': 358<br>\n",
    "'Mezcal': 161<br>"
   ]
  },
  {
   "cell_type": "markdown",
   "id": "0e8a2da1",
   "metadata": {},
   "source": [
    "보드카 베이스 칵테일이 가장 많고 그 다음으로 럼 베이스 칵테일이 많습니다.<br>\n",
    "이후 수가 큰 폭으로 감소하여 진, 위스키, 데킬라가 뒤따릅니다.<br>\n",
    "따라서 보드카 기반 칵테일이 가장 많을 것이라는 첫 번째 가설이 정답으로 확인되었습니다.<br>"
   ]
  },
  {
   "cell_type": "markdown",
   "id": "779aab42",
   "metadata": {},
   "source": [
    "**가설 2. float 기법을 사용한 칵테일은 대부분 shooter 타입일 것이다.**"
   ]
  },
  {
   "cell_type": "markdown",
   "id": "d2eb69f5",
   "metadata": {},
   "source": [
    "전체 레시피 중 Shooter의 비율:  8.32 %<br>\n",
    "Float 중 Shooter의 비율:  36.02 %<br>"
   ]
  },
  {
   "cell_type": "markdown",
   "id": "8f3311dc",
   "metadata": {},
   "source": [
    "이 가설을 세운 이유는 슈터 칵테일의 특성 때문입니다.<br>\n",
    "슈터 칵테일은 한 번에 털어먹는 방법으로 마시는 칵테일로 다른 여러번 마시는 칵테일들에 비해 맛을 덜 챙기는 대신 외관을 멋지게 만드는 경향이 있습니다.<br>\n",
    "그리고 Float 기법은 술을 층층이 쌓는 기법으로 멋진 외관을 만들기에 적합한 조주 기법입니다.<br>\n",
    "그래서 전체 칵테일들 중 Shooter 칵테일의 비율보다 Float 기법을 사용한 칵테일들 중 Shooter 칵테일의 비율이 더 클 것이라고 예측했습니다.<br>\n",
    "두 비율을 계산한 결과 실제로 Float 중 Shooter의 비율이 전체 중 Shooter의 비율의 약 4.5배로 두 비율 간에 큰 차이가 있었습니다. 따라서 두 번째 가설이 정답으로 확인되었습니다.<br>"
   ]
  },
  {
   "cell_type": "markdown",
   "id": "67f1c648",
   "metadata": {},
   "source": [
    "**가설 3. hot 타입 칵테일 중에는 상대적으로 유제품(dairy product)이 쓰인 칵테일이 많을 것이다.**"
   ]
  },
  {
   "cell_type": "markdown",
   "id": "ebb84904",
   "metadata": {},
   "source": [
    "전체 중 유제품 사용 레시피의 비율:  20.57 %\n",
    "Hot 중 유제품 사용 레시피의 비율:  49.10 %"
   ]
  },
  {
   "cell_type": "markdown",
   "id": "30d0386f",
   "metadata": {},
   "source": [
    "평소 칵테일 레시피를 하나 둘 보다보니, 유제품이 차가운 칵테일보다 뜨거운 칵테일에서 더 빈번히 사용되는 것 같다는 인상을 계속 받았습니다. 이 의문을 실제로 확인해보기 위해 가설 3을 세웠습니다. 결과 Hot 칵테일 중 유제품 사용 레시피 비율이 전체에서의 비율의 약 2.5로 많았으므로 세 번째 가설은 정답으로 확인되었습니다. 다만 저는 전체 중 유제품 사용 레시피의 비율이 20%로 꾀나 자주 사용된다는 것이 놀라운 점이었습니다."
   ]
  },
  {
   "cell_type": "markdown",
   "id": "952dd626",
   "metadata": {},
   "source": [
    "**가설 4. shooter, short, long 타입의 총 재료 양(oz)의 경계를 구하기**"
   ]
  },
  {
   "cell_type": "markdown",
   "id": "2d71636a",
   "metadata": {},
   "source": [
    "Shooter, Short, Long 칵테일은 각각 한 번에 털어먹는 칵테일, 시간에 따른 향미 감소나 높은 도수 등의 이유로 짧게 마시는 칵테일, 그런 것 상관 없이 길게 마시는 칵테일 입니다.<br>\n",
    "보통 Shooter<Short<Long 순으로 칵테일 양이 많습니다.<br>\n",
    "그런데 이 세 타입을 용량을 기준으로 나눈다면 몇 oz가 타입들을 가르는 기준이 될지 궁금했습니다.<br>\n",
    "결과는 다음과 같습니다. X축은 칵테일의 양(oz), Y축은 칵테일 양 별 개수입니다.<br>\n",
    "파란색이 Shooter 칵테일, 빨간색이 Short 칵테일, 초록색이 Long 칵테일입니다.<br>"
   ]
  },
  {
   "cell_type": "code",
   "execution_count": 22,
   "id": "6a697502",
   "metadata": {},
   "outputs": [
    {
     "name": "stderr",
     "output_type": "stream",
     "text": [
      "C:\\Users\\82102\\anaconda3\\lib\\site-packages\\seaborn\\distributions.py:2619: FutureWarning: `distplot` is a deprecated function and will be removed in a future version. Please adapt your code to use either `displot` (a figure-level function with similar flexibility) or `histplot` (an axes-level function for histograms).\n",
      "  warnings.warn(msg, FutureWarning)\n",
      "C:\\Users\\82102\\anaconda3\\lib\\site-packages\\seaborn\\distributions.py:2619: FutureWarning: `distplot` is a deprecated function and will be removed in a future version. Please adapt your code to use either `displot` (a figure-level function with similar flexibility) or `histplot` (an axes-level function for histograms).\n",
      "  warnings.warn(msg, FutureWarning)\n",
      "C:\\Users\\82102\\anaconda3\\lib\\site-packages\\seaborn\\distributions.py:2619: FutureWarning: `distplot` is a deprecated function and will be removed in a future version. Please adapt your code to use either `displot` (a figure-level function with similar flexibility) or `histplot` (an axes-level function for histograms).\n",
      "  warnings.warn(msg, FutureWarning)\n"
     ]
    },
    {
     "data": {
      "image/png": "[encoded data removed]",
      "text/plain": [
       "<Figure size 1080x936 with 1 Axes>"
      ]
     },
     "metadata": {
      "needs_background": "light"
     },
     "output_type": "display_data"
    }
   ],
   "source": [
    "plt.figure(figsize=(15,13))\n",
    "sns.distplot(type_and_quantity[\"Shooter\"], color=\"blue\", label=\"Shooter\")\n",
    "sns.distplot(type_and_quantity[\"Short\"], color=\"red\", label=\"Short\")\n",
    "sns.distplot(type_and_quantity[\"Long\"], color=\"green\", label=\"Long\")\n",
    "plt.legend(title='Type')\n",
    "plt.title('Quantity')\n",
    "plt.xlabel('fl oz')\n",
    "plt.ylabel('count')\n",
    "plt.show()"
   ]
  },
  {
   "cell_type": "markdown",
   "id": "386d2f54",
   "metadata": {},
   "source": [
    "다음은 칵 타입별 평균 양입니다.(oz)"
   ]
  },
  {
   "cell_type": "markdown",
   "id": "0d78e814",
   "metadata": {},
   "source": [
    "Shooter:  1.34<br>\n",
    "Short:  3.07<br>\n",
    "Long:  4.92<br>"
   ]
  },
  {
   "cell_type": "markdown",
   "id": "e8933a14",
   "metadata": {},
   "source": [
    "그래프를 보면 알 수 있듯이 칵 타입의 칵테일들은 많은 용량 범위를 공유하고 있습니다.<br>\n",
    "따라서 세 타입을 나눌 기준이 될만한 용량을 정의하기가 매우 난감합니다.<br>\n",
    "그래서 각 타입들의 평균 용량을 구했고 이 값은 위와 같습니다.<br>\n",
    "칵테일의 용량이 용량이 어떤 타입의 용량 평균에 가까울수록 해당 타입일 확률이 높다고 할 수 있겠습니다.<br>\n",
    "네 번째 가설은 애초에 증명을 시도할 수 없었을 정도로 칵테일 타입별 용량 범위가 겹쳐 있다는 결론으로 마무리 하겠습니다.<br>"
   ]
  },
  {
   "cell_type": "markdown",
   "id": "0f6ea444",
   "metadata": {},
   "source": [
    "**가설 5. lime 혹은 lemon이 가장 자주 쓰이는 기주 구하기**"
   ]
  },
  {
   "cell_type": "markdown",
   "id": "d2ac43ad",
   "metadata": {},
   "source": [
    "기주별 lime 혹은 lemon이 들어간 레시피 비율<br>\n",
    "'Mezcal': 57.76 %<br>\n",
    "'Gin': 44.56 %<br>\n",
    "'Tequila': 43.37 %<br>\n",
    "'Brandy': 41.51 %<br>\n",
    "'Cognac': 39.98 %<br>\n",
    "'Champagne': 37.80 %<br>\n",
    "'Wine': 36.21 %<br>\n",
    "'Rum': 31.55 %<br>\n",
    "'Whisky': 31.15 %<br>\n",
    "'Ale': 30.73 %<br>\n",
    "'Vodka': 29.53 %<br>\n",
    "'Beer': 24.51 %<br>"
   ]
  },
  {
   "cell_type": "markdown",
   "id": "27ffd3c7",
   "metadata": {},
   "source": [
    "진을 기주로 사용하는 레시피들이 보통 레몬을 많이 사용합니다.<br>\n",
    "때문에 진 칵테일을 조주할 때 자주 마트에서 신선한 레몬을 구해와야 하는 번거로움이 있습니다.<br>\n",
    "이를 느낄 때마다 다른 기주들은 레몬을 얼마나 사용할까, 와인이랑 레몬은 안 어울릴 것 같은데 실제로 레몬을 다른 기주보다 적게 사용할까 같은 궁금증이 생겨났습니다.<br>\n",
    "결과 Mezcal이 기주인 칵테일이 매우 높은 확률(57.76%)로 레몬 혹은 라임을 사용하는 것을 알 수 있습니다.<br>\n",
    "Mezcal은 Tequila의 상위 개념으로 Mezcal 중 특정 지역에서 특정 조건을 만족하며 생산된 것에만 Tequila라는 이름이 붙습니다.<br>\n",
    "이 둘은 lemon이나 lime같은 시트러스류와 특히 궁합이 잘 맞는다는 사실을 들어본 적이 있습니다.<br>\n",
    "그것이 바로 Mezcal이 가장 lemon이나 lime을 빈번히 사용하는 기주가 된 이유일 것입니다.<br>\n",
    "그와 반대로 Beer 베이스 칵테일은 제일 적은 빈도로 lemon 혹은 lime을 사용한다는 사실을 알 수 있습니다.<br>\n",
    "Beer을 좋아한다면 칵테일을 만들기 위해 신선한 lemon이나 lime을 구할 수고가 적겠습니다.<br>\n",
    "제 예상과 달리 Wine 베이스 칵테일이 lemon 혹은 lime을 다른 기주들의 중간만큼의 빈도로 사용한다는 사실을 알게 되었습니다.<br>"
   ]
  },
  {
   "cell_type": "markdown",
   "id": "435a75f1",
   "metadata": {},
   "source": [
    "### **참고 문헌**"
   ]
  },
  {
   "cell_type": "markdown",
   "id": "0fdb84a8",
   "metadata": {},
   "source": [
    "유튜브 - \"나도코딩\"[파이썬 코딩 무료 강의 (활용편3) - 웹 크롤링? 웹 스크래핑! 제가 가진 모든 비법을 알려드리겠습니다. [나도코딩]<br>\n",
    "https://www.youtube.com/watch?v=yQ20jZwDjTE&list=WL&index=2&t=13093s&ab_channel=%EB%82%98%EB%8F%84%EC%BD%94%EB%94%A9"
   ]
  }
 ],
 "metadata": {
  "kernelspec": {
   "display_name": "Python 3 (ipykernel)",
   "language": "python",
   "name": "python3"
  },
  "language_info": {
   "codemirror_mode": {
    "name": "ipython",
    "version": 3
   },
   "file_extension": ".py",
   "mimetype": "text/x-python",
   "name": "python",
   "nbconvert_exporter": "python",
   "pygments_lexer": "ipython3",
   "version": "3.8.13"
  }
 },
 "nbformat": 4,
 "nbformat_minor": 5
}
